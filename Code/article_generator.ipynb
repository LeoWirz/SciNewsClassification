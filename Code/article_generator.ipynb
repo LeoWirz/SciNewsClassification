{
 "cells": [
  {
   "cell_type": "code",
   "execution_count": 3,
   "metadata": {},
   "outputs": [
    {
     "name": "stdout",
     "output_type": "stream",
     "text": [
      "The autoreload extension is already loaded. To reload it, use:\n",
      "  %reload_ext autoreload\n"
     ]
    }
   ],
   "source": [
    "%load_ext autoreload\n",
    "%autoreload 2\n",
    "\n",
    "import pandas as pd\n",
    "import numpy as np\n",
    "import progressbar\n",
    "import glob\n",
    "import re\n",
    "from urllib.parse import urlparse\n",
    "import csv\n",
    "\n",
    "import newspaper\n",
    "from newspaper import Article\n",
    "\n",
    "#from web_crawler_spyder import sends_spiders\n",
    "#from web_crawler_spyder import run_spider\n",
    "from DMOZ_helper import *\n",
    "from similarSites_helper import *"
   ]
  },
  {
   "cell_type": "markdown",
   "metadata": {},
   "source": [
    "# get domains with categories"
   ]
  },
  {
   "cell_type": "code",
   "execution_count": 4,
   "metadata": {
    "scrolled": true
   },
   "outputs": [
    {
     "data": {
      "text/plain": [
       "['http://feeds.abcnews.com/abcnews/topstories',\n",
       " 'http://abcnews.go.com/',\n",
       " 'http://www.alarabiya.net/',\n",
       " 'http://www.aljazeera.com/',\n",
       " 'http://www.aol.com/news/',\n",
       " 'http://hosted.ap.org/lineups/TOPHEADS-rss_2.0.xml?SITE=RANDOM&SECTION=HOME',\n",
       " 'http://hosted.ap.org/dynamic/fronts/HOME?SITE=AP&SECTION=HOME',\n",
       " 'http://www.bbc.co.uk/news/',\n",
       " 'http://feeds.bbci.co.uk/news/rss.xml',\n",
       " 'http://feeds.bbci.co.uk/news/rss.xml?edition=int',\n",
       " 'http://www.cbc.ca/news/',\n",
       " 'http://rss.cbc.ca/lineup/topstories.xml',\n",
       " 'http://cbsnews.com/',\n",
       " 'http://feeds.cbsnews.com/CBSNewsMain?format=xml',\n",
       " 'http://www.csmonitor.com/',\n",
       " 'http://www.csmonitor.com/rss/top.rss',\n",
       " 'http://www.cnn.com/',\n",
       " 'http://rss.cnn.com/rss/cnn_latest.rss',\n",
       " 'http://rss.cnn.com/rss/cnn_topstories.rss',\n",
       " 'http://theconversation.com/',\n",
       " 'http://www.ctvnews.ca/',\n",
       " 'http://www.ctvnews.ca/rss/ctvnews-ca-top-stories-public-rss-1.822009',\n",
       " 'http://www.dw.com/',\n",
       " 'http://www.economist.com/',\n",
       " 'http://www.euronews.com/',\n",
       " 'http://www.foxnews.com/xmlfeed/rss/0,4313,0,00.rss',\n",
       " 'http://www.foxnews.com/',\n",
       " 'http://www.france24.com/',\n",
       " 'http://news.google.com/?output=rss',\n",
       " 'http://www.theguardian.com/',\n",
       " 'http://www.theguardian.com/help/feeds',\n",
       " 'http://www.huffingtonpost.com/',\n",
       " 'http://www.mcclatchydc.com/',\n",
       " 'http://www.nbcnews.com/',\n",
       " 'http://www.nytimes.com/',\n",
       " 'http://rss.nytimes.com/services/xml/rss/nyt/HomePage.xml',\n",
       " 'http://www.newsinpictures.com/',\n",
       " 'http://www.news.com.au/',\n",
       " 'http://feeds.feedburner.com/com/newscomautopstoriesndm',\n",
       " 'http://www.npr.org/sections/news/',\n",
       " 'http://www.npr.org/rss/rss.php?id=1001',\n",
       " 'http://www.pbs.org/news/',\n",
       " 'http://www.pbs.org/newshour/feed/',\n",
       " 'http://www.reuters.com/',\n",
       " 'http://www.reuters.com/tools/rss',\n",
       " 'http://www.rte.ie/news',\n",
       " 'http://www.rte.ie/rss/news.xml',\n",
       " 'http://feeds.skynews.com/sky-news/rss/home/rss.xml',\n",
       " 'http://www.spiegel.de/international/',\n",
       " 'http://www.spiegel.de/international/index.rss',\n",
       " 'http://www.thetimes.co.uk/',\n",
       " 'http://www.topix.com/',\n",
       " 'http://www.un.org/News/',\n",
       " 'http://www.un.org/apps/news/rss/rss_top.asp',\n",
       " 'http://www.usatoday.com/',\n",
       " 'http://rssfeeds.usatoday.com/usatoday-NewsTopStories',\n",
       " 'http://www.voanews.com/rss/?count=50',\n",
       " 'http://www.voanews.com/',\n",
       " 'http://www.web62.com/',\n",
       " 'http://en.wikinews.org/wiki/Main_Page',\n",
       " 'http://feeds.feedburner.com/WikinewsLatestNews',\n",
       " 'http://www.wn.com/',\n",
       " 'http://news.yahoo.com/',\n",
       " 'http://rss.news.yahoo.com/rss/topstories']"
      ]
     },
     "execution_count": 4,
     "metadata": {},
     "output_type": "execute_result"
    }
   ],
   "source": [
    "links_news = get_links('http://dmoztools.net/News', False)\n",
    "links_news"
   ]
  },
  {
   "cell_type": "code",
   "execution_count": 5,
   "metadata": {},
   "outputs": [],
   "source": [
    "def get_sec(time_str):\n",
    "    if len(time_str) >= 8:\n",
    "        h, m, s = str(time_str).split(':')\n",
    "        return int(h) * 3600 + int(m) * 60 + int(s)\n",
    "    else:\n",
    "        return ''\n",
    "\n",
    "\n",
    "def get_percentage(perc_str):\n",
    "    if '%' in perc_str:\n",
    "        return (float(str(perc_str).strip('%')) / 100)\n",
    "    else:\n",
    "        return 0\n",
    "\n",
    "\n",
    "def build_webistes_df(domain_list):\n",
    "\n",
    "    # rename columns correctly\n",
    "    frame = pd.DataFrame(columns=[\n",
    "        'website', 'category', 'subcategory', 'rank', 'avg_visit_duration',\n",
    "        'pages_per_visit', 'bounce_rate'\n",
    "    ])\n",
    "    with progressbar.ProgressBar(max_value=len(domain_list)) as bar:\n",
    "        for i, d in enumerate(domain_list):\n",
    "            frame.loc[i] = get_similarsite_features(d)\n",
    "            bar.update(i)\n",
    "\n",
    "    # rank removing -\n",
    "    frame['rank'] = frame['rank'].apply(lambda x: x.replace('-', ''))\n",
    "\n",
    "    # visit duration in sec\n",
    "    frame.avg_visit_duration = frame.avg_visit_duration.map(get_sec)\n",
    "\n",
    "    # page/visit\n",
    "    frame.pages_per_visit = frame.pages_per_visit.apply(\n",
    "        lambda x: x.strip('/visit').strip('-'))\n",
    "\n",
    "    # percentage string to float/100\n",
    "    frame['bounce_rate'] = frame['bounce_rate'].map(get_percentage)\n",
    "\n",
    "    # drop duplicate, for now they have the same categories so it's ok to do so\n",
    "    frame = frame.drop_duplicates(['website'])\n",
    "\n",
    "    return frame"
   ]
  },
  {
   "cell_type": "code",
   "execution_count": 6,
   "metadata": {
    "scrolled": true
   },
   "outputs": [
    {
     "name": "stderr",
     "output_type": "stream",
     "text": [
      " 73% (47 of 64) |##################       | Elapsed Time: 0:00:41 ETA:  0:00:12"
     ]
    },
    {
     "name": "stdout",
     "output_type": "stream",
     "text": [
      "no soup for http://feeds.skynews.com/sky-news/rss/home/rss.xml\n"
     ]
    },
    {
     "name": "stderr",
     "output_type": "stream",
     "text": [
      "100% (64 of 64) |#########################| Elapsed Time: 0:00:55 Time: 0:00:55\n"
     ]
    },
    {
     "data": {
      "text/html": [
       "<div>\n",
       "<style scoped>\n",
       "    .dataframe tbody tr th:only-of-type {\n",
       "        vertical-align: middle;\n",
       "    }\n",
       "\n",
       "    .dataframe tbody tr th {\n",
       "        vertical-align: top;\n",
       "    }\n",
       "\n",
       "    .dataframe thead th {\n",
       "        text-align: right;\n",
       "    }\n",
       "</style>\n",
       "<table border=\"1\" class=\"dataframe\">\n",
       "  <thead>\n",
       "    <tr style=\"text-align: right;\">\n",
       "      <th></th>\n",
       "      <th>website</th>\n",
       "      <th>category</th>\n",
       "      <th>subcategory</th>\n",
       "      <th>rank</th>\n",
       "      <th>avg_visit_duration</th>\n",
       "      <th>pages_per_visit</th>\n",
       "      <th>bounce_rate</th>\n",
       "    </tr>\n",
       "  </thead>\n",
       "  <tbody>\n",
       "    <tr>\n",
       "      <th>0</th>\n",
       "      <td>http://feeds.abcnews.com/abcnews/topstories</td>\n",
       "      <td></td>\n",
       "      <td>rss feeds</td>\n",
       "      <td></td>\n",
       "      <td></td>\n",
       "      <td></td>\n",
       "      <td>0.00</td>\n",
       "    </tr>\n",
       "    <tr>\n",
       "      <th>1</th>\n",
       "      <td>http://abcnews.go.com/</td>\n",
       "      <td>News And Media</td>\n",
       "      <td>news</td>\n",
       "      <td></td>\n",
       "      <td></td>\n",
       "      <td></td>\n",
       "      <td>0.00</td>\n",
       "    </tr>\n",
       "    <tr>\n",
       "      <th>2</th>\n",
       "      <td>http://www.alarabiya.net/</td>\n",
       "      <td>News And Media</td>\n",
       "      <td>صحف</td>\n",
       "      <td>1782</td>\n",
       "      <td>210</td>\n",
       "      <td>3.01</td>\n",
       "      <td>0.43</td>\n",
       "    </tr>\n",
       "    <tr>\n",
       "      <th>3</th>\n",
       "      <td>http://www.aljazeera.com/</td>\n",
       "      <td>News And Media</td>\n",
       "      <td>news</td>\n",
       "      <td>1787</td>\n",
       "      <td>539</td>\n",
       "      <td>2.8</td>\n",
       "      <td>0.59</td>\n",
       "    </tr>\n",
       "    <tr>\n",
       "      <th>4</th>\n",
       "      <td>http://www.aol.com/news/</td>\n",
       "      <td>Internet And Telecom</td>\n",
       "      <td>aol</td>\n",
       "      <td>91</td>\n",
       "      <td>408</td>\n",
       "      <td>5.22</td>\n",
       "      <td>0.35</td>\n",
       "    </tr>\n",
       "  </tbody>\n",
       "</table>\n",
       "</div>"
      ],
      "text/plain": [
       "                                       website              category  \\\n",
       "0  http://feeds.abcnews.com/abcnews/topstories                         \n",
       "1                       http://abcnews.go.com/        News And Media   \n",
       "2                    http://www.alarabiya.net/        News And Media   \n",
       "3                    http://www.aljazeera.com/        News And Media   \n",
       "4                     http://www.aol.com/news/  Internet And Telecom   \n",
       "\n",
       "  subcategory  rank avg_visit_duration pages_per_visit  bounce_rate  \n",
       "0   rss feeds                                                  0.00  \n",
       "1        news                                                  0.00  \n",
       "2         صحف  1782                210            3.01         0.43  \n",
       "3        news  1787                539             2.8         0.59  \n",
       "4         aol    91                408            5.22         0.35  "
      ]
     },
     "execution_count": 6,
     "metadata": {},
     "output_type": "execute_result"
    }
   ],
   "source": [
    "build_webistes_df(links_news).head()"
   ]
  },
  {
   "cell_type": "code",
   "execution_count": null,
   "metadata": {},
   "outputs": [],
   "source": []
  },
  {
   "cell_type": "markdown",
   "metadata": {},
   "source": [
    "# Fetch new fdkl jfélds jfédsa"
   ]
  },
  {
   "cell_type": "code",
   "execution_count": null,
   "metadata": {},
   "outputs": [],
   "source": [
    "MAX_ARTICLES_PER_DOMAIN = 2\n",
    "PATH = '../Datasets/articles/'\n",
    "\n",
    "\n",
    "X = pd.DataFrame(columns=[\n",
    "    'has_author', 'authors', 'has_images', 'num_images', 'keywords', 'lang',\n",
    "    'has_movie', 'publish_date', 'tags', 'text', 'title', 'url', 'meta_data'\n",
    "])\n",
    "\n",
    "    \n",
    "def save_article_feature(article):\n",
    "    try:\n",
    "        article.download()\n",
    "        if article.title or article.html:\n",
    "            article.parse()\n",
    "            article.nlp()\n",
    "            new_row = [\n",
    "                len(article.authors) > 0, article.authors,\n",
    "                len(article.images) > 0,\n",
    "                len(article.images), article.keywords, article.meta_lang,\n",
    "                len(article.movies) > 0, article.publish_date, article.tags,\n",
    "                article.text, article.title, article.url, article.meta_data]\n",
    "            with open(PATH + 'articles_en.csv', 'a+', newline='') as csvfile:\n",
    "                spamwriter = csv.writer(csvfile, delimiter=',')\n",
    "                spamwriter.writerow(new_row)\n",
    "    except:\n",
    "        print('oupsi not a good article')\n",
    "\n",
    "\n",
    "def add_article_feature(df, article):\n",
    "    try:\n",
    "        article.download()\n",
    "        if article.title or article.html:\n",
    "            article.parse()\n",
    "            article.nlp()\n",
    "            new_row = [\n",
    "                len(article.authors) > 0, article.authors,\n",
    "                len(article.images) > 0,\n",
    "                len(article.images), article.keywords, article.meta_lang,\n",
    "                len(article.movies) > 0, article.publish_date, article.tags,\n",
    "                article.text, article.title, article.url, article.meta_data]\n",
    "            df.loc[len(df)] = new_row\n",
    "            print(df)\n",
    "    except:\n",
    "        print('oupsi not a good article')\n",
    "    return df"
   ]
  },
  {
   "cell_type": "code",
   "execution_count": 31,
   "metadata": {},
   "outputs": [
    {
     "name": "stderr",
     "output_type": "stream",
     "text": [
      " 15% (10 of 64) |###                      | Elapsed Time: 0:00:59 ETA:  0:04:26"
     ]
    },
    {
     "name": "stdout",
     "output_type": "stream",
     "text": [
      "oupsi not a good article\n"
     ]
    },
    {
     "name": "stderr",
     "output_type": "stream",
     "text": [
      " 35% (23 of 64) |########                 | Elapsed Time: 0:02:03 ETA:  0:02:52"
     ]
    },
    {
     "name": "stdout",
     "output_type": "stream",
     "text": [
      "oupsi not a good article\n"
     ]
    },
    {
     "name": "stderr",
     "output_type": "stream",
     "text": [
      "\r",
      "                                                                               \r",
      "\r",
      " 37% (24 of 64) |#########                | Elapsed Time: 0:02:13 ETA:  0:03:07"
     ]
    },
    {
     "name": "stdout",
     "output_type": "stream",
     "text": [
      "oupsi not a good article\n"
     ]
    },
    {
     "name": "stderr",
     "output_type": "stream",
     "text": [
      " 42% (27 of 64) |##########               | Elapsed Time: 0:02:23 ETA:  0:02:58"
     ]
    },
    {
     "name": "stdout",
     "output_type": "stream",
     "text": [
      "Article `download()` failed with 403 Client Error: Forbidden for url: http://www.france24.com/en/2017120103-eye-africa-aids-day-virus-senegal-art-kigali on URL http://www.france24.com/en/2017120103-eye-africa-aids-day-virus-senegal-art-kigali\n",
      "oupsi not a good article\n",
      "Article `download()` failed with 403 Client Error: Forbidden for url: http://www.france24.com/en/20171201-media-watch-flynn-flip-trump-over-fbi-lies-about-russia on URL http://www.france24.com/en/20171201-media-watch-flynn-flip-trump-over-fbi-lies-about-russia\n",
      "oupsi not a good article\n"
     ]
    },
    {
     "name": "stderr",
     "output_type": "stream",
     "text": [
      " 54% (35 of 64) |#############            | Elapsed Time: 0:03:06 ETA:  0:02:35"
     ]
    },
    {
     "name": "stdout",
     "output_type": "stream",
     "text": [
      "[Source parse ERR] http://www.newsinpictures.com/\n"
     ]
    },
    {
     "name": "stderr",
     "output_type": "stream",
     "text": [
      "\r",
      "                                                                               \r",
      "\r",
      " 56% (36 of 64) |##############           | Elapsed Time: 0:05:30 ETA:  0:09:41"
     ]
    },
    {
     "name": "stdout",
     "output_type": "stream",
     "text": [
      "oupsi not a good article\n"
     ]
    },
    {
     "name": "stderr",
     "output_type": "stream",
     "text": [
      " 62% (40 of 64) |###############          | Elapsed Time: 0:05:55 ETA:  0:08:21"
     ]
    },
    {
     "name": "stdout",
     "output_type": "stream",
     "text": [
      "[Source parse ERR] http://www.pbs.org/news/\n"
     ]
    },
    {
     "name": "stderr",
     "output_type": "stream",
     "text": [
      "\r",
      "                                                                               \r",
      "\r",
      " 64% (41 of 64) |################         | Elapsed Time: 0:05:57 ETA:  0:08:01"
     ]
    },
    {
     "name": "stdout",
     "output_type": "stream",
     "text": [
      "[Source parse ERR] http://www.pbs.org/newshour/feed/\n"
     ]
    },
    {
     "name": "stderr",
     "output_type": "stream",
     "text": [
      "\r",
      "                                                                               \r",
      "\r",
      " 65% (42 of 64) |################         | Elapsed Time: 0:06:01 ETA:  0:07:26"
     ]
    },
    {
     "name": "stdout",
     "output_type": "stream",
     "text": [
      "oupsi not a good article\n"
     ]
    },
    {
     "name": "stderr",
     "output_type": "stream",
     "text": [
      "\r",
      "                                                                               \r",
      "\r",
      " 67% (43 of 64) |################         | Elapsed Time: 0:06:10 ETA:  0:07:14"
     ]
    },
    {
     "name": "stdout",
     "output_type": "stream",
     "text": [
      "oupsi not a good article\n"
     ]
    },
    {
     "name": "stderr",
     "output_type": "stream",
     "text": [
      " 79% (51 of 64) |###################      | Elapsed Time: 0:06:46 ETA:  0:01:04"
     ]
    },
    {
     "name": "stdout",
     "output_type": "stream",
     "text": [
      "oupsi not a good article\n"
     ]
    },
    {
     "name": "stderr",
     "output_type": "stream",
     "text": [
      "\r",
      "                                                                               \r",
      "\r",
      " 81% (52 of 64) |####################     | Elapsed Time: 0:06:55 ETA:  0:01:00"
     ]
    },
    {
     "name": "stdout",
     "output_type": "stream",
     "text": [
      "oupsi not a good article\n"
     ]
    },
    {
     "name": "stderr",
     "output_type": "stream",
     "text": [
      " 90% (58 of 64) |######################   | Elapsed Time: 0:07:26 ETA:  0:00:33"
     ]
    },
    {
     "name": "stdout",
     "output_type": "stream",
     "text": [
      "oupsi not a good article\n"
     ]
    },
    {
     "name": "stderr",
     "output_type": "stream",
     "text": [
      "100% (64 of 64) |#########################| Elapsed Time: 0:07:52 Time: 0:07:52\n"
     ]
    }
   ],
   "source": [
    "def articles_from_domain(domain, number=100):\n",
    "    papers = newspaper.build(domain, language='en')\n",
    "    #max_art = min(number, len(papers.articles))\n",
    "    return papers.articles[:number]\n",
    "\n",
    "with progressbar.ProgressBar(max_value=len(links_news)) as bar:\n",
    "    for i,domain in enumerate(links_news):\n",
    "\n",
    "        temp_arts = articles_from_domain(domain, MAX_ARTICLES_PER_DOMAIN)\n",
    "\n",
    "        if len(temp_arts) >= 1:\n",
    "            for art in temp_arts:\n",
    "                save_article_feature(art)\n",
    "        else:\n",
    "            run_spider(domain, MAX_ARTICLES_PER_DOMAIN)\n",
    "        bar.update(i)"
   ]
  },
  {
   "cell_type": "markdown",
   "metadata": {},
   "source": [
    "## fetch articles when possible"
   ]
  },
  {
   "cell_type": "code",
   "execution_count": 4,
   "metadata": {
    "collapsed": true
   },
   "outputs": [],
   "source": [
    "def articles_from_domain(domain, number=100):\n",
    "    papers = newspaper.build(domain, language='en')\n",
    "    return papers.articles[:number]"
   ]
  },
  {
   "cell_type": "code",
   "execution_count": 5,
   "metadata": {},
   "outputs": [
    {
     "name": "stderr",
     "output_type": "stream",
     "text": [
      "  2% ( 11 of 435) |#                                                               | Elapsed Time: 0:00:42 ETA: 0:21:02"
     ]
    },
    {
     "name": "stdout",
     "output_type": "stream",
     "text": [
      "[Source parse ERR] http://www.se.com.br\n"
     ]
    },
    {
     "name": "stderr",
     "output_type": "stream",
     "text": [
      "  3% ( 15 of 435) |##                                                              | Elapsed Time: 0:00:54 ETA: 0:23:12"
     ]
    },
    {
     "name": "stdout",
     "output_type": "stream",
     "text": [
      "[Source parse ERR] http://www.vegetarisch.de\n"
     ]
    },
    {
     "name": "stderr",
     "output_type": "stream",
     "text": [
      "  9% ( 41 of 435) |######                                                          | Elapsed Time: 0:02:24 ETA: 0:16:01"
     ]
    },
    {
     "name": "stdout",
     "output_type": "stream",
     "text": [
      "[Source parse ERR] http://www.job.lzu.edu.cn\n"
     ]
    },
    {
     "name": "stderr",
     "output_type": "stream",
     "text": [
      " 11% ( 48 of 435) |#######                                                         | Elapsed Time: 0:02:51 ETA: 0:20:18"
     ]
    },
    {
     "name": "stdout",
     "output_type": "stream",
     "text": [
      "[Source parse ERR] http://www.veg.by\n"
     ]
    },
    {
     "name": "stderr",
     "output_type": "stream",
     "text": [
      " 13% ( 60 of 435) |########                                                        | Elapsed Time: 0:05:01 ETA: 1:02:13"
     ]
    },
    {
     "name": "stdout",
     "output_type": "stream",
     "text": [
      "[Source parse ERR] http://www.tudogostoso.com.br\n"
     ]
    },
    {
     "name": "stderr",
     "output_type": "stream",
     "text": [
      " 14% ( 61 of 435) |########                                                        | Elapsed Time: 0:05:03 ETA: 0:47:02Some characters could not be decoded, and were replaced with REPLACEMENT CHARACTER.\n",
      " 14% ( 62 of 435) |#########                                                       | Elapsed Time: 0:05:26 ETA: 0:58:10"
     ]
    },
    {
     "name": "stdout",
     "output_type": "stream",
     "text": [
      "[Source parse ERR] http://www.marmiton.org\n"
     ]
    },
    {
     "name": "stderr",
     "output_type": "stream",
     "text": [
      " 17% ( 78 of 435) |###########                                                     | Elapsed Time: 0:06:56 ETA: 0:23:49Some characters could not be decoded, and were replaced with REPLACEMENT CHARACTER.\n",
      " 18% ( 81 of 435) |###########                                                     | Elapsed Time: 0:07:07 ETA: 0:24:57"
     ]
    },
    {
     "name": "stdout",
     "output_type": "stream",
     "text": [
      "[Source parse ERR] http://www.retty.me\n"
     ]
    },
    {
     "name": "stderr",
     "output_type": "stream",
     "text": [
      " 24% (106 of 435) |###############                                                 | Elapsed Time: 0:09:46 ETA: 0:27:40"
     ]
    },
    {
     "name": "stdout",
     "output_type": "stream",
     "text": [
      "[Source parse ERR] http://www.bikini.fr\n"
     ]
    },
    {
     "name": "stderr",
     "output_type": "stream",
     "text": [
      " 34% (150 of 435) |######################                                          | Elapsed Time: 0:12:58 ETA: 0:18:27"
     ]
    },
    {
     "name": "stdout",
     "output_type": "stream",
     "text": [
      "[Source parse ERR] http://www.baiducontent.com\n"
     ]
    },
    {
     "name": "stderr",
     "output_type": "stream",
     "text": [
      " 35% (154 of 435) |######################                                          | Elapsed Time: 0:13:32 ETA: 0:25:10Some characters could not be decoded, and were replaced with REPLACEMENT CHARACTER.\n",
      " 36% (159 of 435) |#######################                                         | Elapsed Time: 0:14:38 ETA: 0:50:59Some characters could not be decoded, and were replaced with REPLACEMENT CHARACTER.\n",
      " 42% (185 of 435) |###########################                                     | Elapsed Time: 0:18:31 ETA: 0:27:24"
     ]
    },
    {
     "name": "stdout",
     "output_type": "stream",
     "text": [
      "[Source parse ERR] http://www.healthy.kaiserpermanente.org\n"
     ]
    },
    {
     "name": "stderr",
     "output_type": "stream",
     "text": [
      " 45% (196 of 435) |############################                                    | Elapsed Time: 0:19:09 ETA: 0:15:02Some characters could not be decoded, and were replaced with REPLACEMENT CHARACTER.\n",
      "Some characters could not be decoded, and were replaced with REPLACEMENT CHARACTER.\n",
      "Some characters could not be decoded, and were replaced with REPLACEMENT CHARACTER.\n",
      "Some characters could not be decoded, and were replaced with REPLACEMENT CHARACTER.\n",
      "Some characters could not be decoded, and were replaced with REPLACEMENT CHARACTER.\n",
      " 57% (250 of 435) |####################################                            | Elapsed Time: 0:27:41 ETA: 0:32:00"
     ]
    },
    {
     "name": "stdout",
     "output_type": "stream",
     "text": [
      "[Source parse ERR] http://www.gsmarena.com\n"
     ]
    },
    {
     "name": "stderr",
     "output_type": "stream",
     "text": [
      " 57% (252 of 435) |#####################################                           | Elapsed Time: 0:27:43 ETA: 0:27:47Some characters could not be decoded, and were replaced with REPLACEMENT CHARACTER.\n",
      "Some characters could not be decoded, and were replaced with REPLACEMENT CHARACTER.\n",
      "Some characters could not be decoded, and were replaced with REPLACEMENT CHARACTER.\n",
      "Some characters could not be decoded, and were replaced with REPLACEMENT CHARACTER.\n",
      "Some characters could not be decoded, and were replaced with REPLACEMENT CHARACTER.\n",
      " 60% (261 of 435) |######################################                          | Elapsed Time: 0:30:38 ETA: 0:56:15"
     ]
    },
    {
     "name": "stdout",
     "output_type": "stream",
     "text": [
      "[Source parse ERR] http://www.1.com\n"
     ]
    },
    {
     "name": "stderr",
     "output_type": "stream",
     "text": [
      " 64% (282 of 435) |#########################################                       | Elapsed Time: 0:32:26 ETA: 0:16:33"
     ]
    },
    {
     "name": "stdout",
     "output_type": "stream",
     "text": [
      "[Source parse ERR] http://www.news.mydrivers.com\n",
      "[Source parse ERR] http://www.cnmo.com\n"
     ]
    },
    {
     "name": "stderr",
     "output_type": "stream",
     "text": [
      " 65% (285 of 435) |#########################################                       | Elapsed Time: 0:32:38 ETA: 0:09:30"
     ]
    },
    {
     "name": "stdout",
     "output_type": "stream",
     "text": [
      "[Source parse ERR] http://www.tech.ifeng.com\n"
     ]
    },
    {
     "name": "stderr",
     "output_type": "stream",
     "text": [
      "\r",
      " 65% (286 of 435) |##########################################                      | Elapsed Time: 0:32:40 ETA: 0:08:53"
     ]
    },
    {
     "name": "stdout",
     "output_type": "stream",
     "text": [
      "[Source parse ERR] http://www.news.ycombinator.com\n"
     ]
    },
    {
     "name": "stderr",
     "output_type": "stream",
     "text": [
      " 66% (290 of 435) |##########################################                      | Elapsed Time: 0:32:49 ETA: 0:08:09"
     ]
    },
    {
     "name": "stdout",
     "output_type": "stream",
     "text": [
      "[Source parse ERR] http://www.tech.sina.com.cn\n"
     ]
    },
    {
     "name": "stderr",
     "output_type": "stream",
     "text": [
      " 68% (299 of 435) |###########################################                     | Elapsed Time: 0:33:22 ETA: 0:08:07Some characters could not be decoded, and were replaced with REPLACEMENT CHARACTER.\n",
      " 70% (308 of 435) |#############################################                   | Elapsed Time: 0:36:28 ETA: 0:43:46Some characters could not be decoded, and were replaced with REPLACEMENT CHARACTER.\n",
      " 72% (314 of 435) |##############################################                  | Elapsed Time: 0:39:27 ETA: 0:55:10Some characters could not be decoded, and were replaced with REPLACEMENT CHARACTER.\n",
      " 73% (321 of 435) |###############################################                 | Elapsed Time: 0:42:51 ETA: 0:57:36"
     ]
    },
    {
     "name": "stdout",
     "output_type": "stream",
     "text": [
      "[Source parse ERR] http://www.news.yahoo.co.jp\n"
     ]
    },
    {
     "name": "stderr",
     "output_type": "stream",
     "text": [
      " 74% (325 of 435) |###############################################                 | Elapsed Time: 0:43:36 ETA: 0:23:54"
     ]
    },
    {
     "name": "stdout",
     "output_type": "stream",
     "text": [
      "[Source parse ERR] http://www.bp.blogspot.com\n"
     ]
    },
    {
     "name": "stderr",
     "output_type": "stream",
     "text": [
      " 76% (332 of 435) |################################################                | Elapsed Time: 0:44:47 ETA: 0:18:41"
     ]
    },
    {
     "name": "stdout",
     "output_type": "stream",
     "text": [
      "[Source parse ERR] http://www.news.naver.com\n"
     ]
    },
    {
     "name": "stderr",
     "output_type": "stream",
     "text": [
      " 78% (342 of 435) |##################################################              | Elapsed Time: 0:47:57 ETA: 0:32:41"
     ]
    },
    {
     "name": "stdout",
     "output_type": "stream",
     "text": [
      "[Source parse ERR] http://www.iusacell3g.com\n"
     ]
    },
    {
     "name": "stderr",
     "output_type": "stream",
     "text": [
      " 85% (370 of 435) |######################################################          | Elapsed Time: 0:50:36 ETA: 0:04:57"
     ]
    },
    {
     "name": "stdout",
     "output_type": "stream",
     "text": [
      "[Source parse ERR] http://www.mtnirancell.ir\n"
     ]
    },
    {
     "name": "stderr",
     "output_type": "stream",
     "text": [
      " 86% (375 of 435) |#######################################################         | Elapsed Time: 0:50:43 ETA: 0:02:44"
     ]
    },
    {
     "name": "stdout",
     "output_type": "stream",
     "text": [
      "[Source parse ERR] http://www.zoo.net\n"
     ]
    },
    {
     "name": "stderr",
     "output_type": "stream",
     "text": [
      " 86% (378 of 435) |#######################################################         | Elapsed Time: 0:50:53 ETA: 0:02:16"
     ]
    },
    {
     "name": "stdout",
     "output_type": "stream",
     "text": [
      "[Source parse ERR] http://www.pages.info\n"
     ]
    },
    {
     "name": "stderr",
     "output_type": "stream",
     "text": [
      " 88% (384 of 435) |########################################################        | Elapsed Time: 0:51:48 ETA: 0:06:20"
     ]
    },
    {
     "name": "stdout",
     "output_type": "stream",
     "text": [
      "[Source parse ERR] http://www.zoocdn.com\n"
     ]
    },
    {
     "name": "stderr",
     "output_type": "stream",
     "text": [
      " 92% (403 of 435) |###########################################################     | Elapsed Time: 0:53:27 ETA: 0:02:12"
     ]
    },
    {
     "name": "stdout",
     "output_type": "stream",
     "text": [
      "[Source parse ERR] http://www.mars.jp\n"
     ]
    },
    {
     "name": "stderr",
     "output_type": "stream",
     "text": [
      " 93% (406 of 435) |###########################################################     | Elapsed Time: 0:53:49 ETA: 0:01:59"
     ]
    },
    {
     "name": "stdout",
     "output_type": "stream",
     "text": [
      "[Source parse ERR] http://www.isky.am\n"
     ]
    },
    {
     "name": "stderr",
     "output_type": "stream",
     "text": [
      " 94% (413 of 435) |############################################################    | Elapsed Time: 0:54:37 ETA: 0:02:47"
     ]
    },
    {
     "name": "stdout",
     "output_type": "stream",
     "text": [
      "[Source parse ERR] http://www.redalyc.org\n"
     ]
    },
    {
     "name": "stderr",
     "output_type": "stream",
     "text": [
      "100% (435 of 435) |###############################################################| Elapsed Time: 0:56:12 Time: 0:56:12\n"
     ]
    },
    {
     "ename": "LocationValueError",
     "evalue": "No host specified.",
     "output_type": "error",
     "traceback": [
      "\u001b[1;31m---------------------------------------------------------------------------\u001b[0m",
      "\u001b[1;31mLocationValueError\u001b[0m                        Traceback (most recent call last)",
      "\u001b[1;32m<ipython-input-5-fd6c3a3aec3d>\u001b[0m in \u001b[0;36m<module>\u001b[1;34m()\u001b[0m\n\u001b[0;32m      8\u001b[0m         \u001b[0mbar\u001b[0m\u001b[1;33m.\u001b[0m\u001b[0mupdate\u001b[0m\u001b[1;33m(\u001b[0m\u001b[0mi\u001b[0m\u001b[1;33m)\u001b[0m\u001b[1;33m\u001b[0m\u001b[0m\n\u001b[0;32m      9\u001b[0m         \u001b[0mfull_website_name\u001b[0m \u001b[1;33m=\u001b[0m \u001b[1;34m'http://www.'\u001b[0m\u001b[1;33m+\u001b[0m\u001b[0md\u001b[0m\u001b[1;33m\u001b[0m\u001b[0m\n\u001b[1;32m---> 10\u001b[1;33m         \u001b[0mtemp_arts\u001b[0m \u001b[1;33m=\u001b[0m \u001b[0marticles_from_domain\u001b[0m\u001b[1;33m(\u001b[0m\u001b[0mfull_website_name\u001b[0m\u001b[1;33m,\u001b[0m \u001b[0mMAX_ARTICLES_PER_DOMAIN\u001b[0m\u001b[1;33m)\u001b[0m\u001b[1;33m\u001b[0m\u001b[0m\n\u001b[0m\u001b[0;32m     11\u001b[0m         \u001b[0marts\u001b[0m \u001b[1;33m=\u001b[0m \u001b[0marts\u001b[0m \u001b[1;33m+\u001b[0m \u001b[0mtemp_arts\u001b[0m\u001b[1;33m\u001b[0m\u001b[0m\n\u001b[0;32m     12\u001b[0m         \u001b[1;32mif\u001b[0m \u001b[0mlen\u001b[0m\u001b[1;33m(\u001b[0m\u001b[0mtemp_arts\u001b[0m\u001b[1;33m)\u001b[0m \u001b[1;33m==\u001b[0m \u001b[1;36m0\u001b[0m\u001b[1;33m:\u001b[0m\u001b[1;33m\u001b[0m\u001b[0m\n",
      "\u001b[1;32m<ipython-input-4-eefeec9c2011>\u001b[0m in \u001b[0;36marticles_from_domain\u001b[1;34m(domain, number)\u001b[0m\n\u001b[0;32m      1\u001b[0m \u001b[1;32mdef\u001b[0m \u001b[0marticles_from_domain\u001b[0m\u001b[1;33m(\u001b[0m\u001b[0mdomain\u001b[0m\u001b[1;33m,\u001b[0m \u001b[0mnumber\u001b[0m\u001b[1;33m=\u001b[0m\u001b[1;36m100\u001b[0m\u001b[1;33m)\u001b[0m\u001b[1;33m:\u001b[0m\u001b[1;33m\u001b[0m\u001b[0m\n\u001b[1;32m----> 2\u001b[1;33m     \u001b[0mpapers\u001b[0m \u001b[1;33m=\u001b[0m \u001b[0mnewspaper\u001b[0m\u001b[1;33m.\u001b[0m\u001b[0mbuild\u001b[0m\u001b[1;33m(\u001b[0m\u001b[0mdomain\u001b[0m\u001b[1;33m,\u001b[0m \u001b[0mlanguage\u001b[0m\u001b[1;33m=\u001b[0m\u001b[1;34m'en'\u001b[0m\u001b[1;33m)\u001b[0m\u001b[1;33m\u001b[0m\u001b[0m\n\u001b[0m\u001b[0;32m      3\u001b[0m     \u001b[1;32mreturn\u001b[0m \u001b[0mpapers\u001b[0m\u001b[1;33m.\u001b[0m\u001b[0marticles\u001b[0m\u001b[1;33m[\u001b[0m\u001b[1;33m:\u001b[0m\u001b[0mnumber\u001b[0m\u001b[1;33m]\u001b[0m\u001b[1;33m\u001b[0m\u001b[0m\n",
      "\u001b[1;32mC:\\Users\\Leonovo\\Anaconda3\\lib\\site-packages\\newspaper\\api.py\u001b[0m in \u001b[0;36mbuild\u001b[1;34m(url, dry, config, **kwargs)\u001b[0m\n\u001b[0;32m     28\u001b[0m     \u001b[0ms\u001b[0m \u001b[1;33m=\u001b[0m \u001b[0mSource\u001b[0m\u001b[1;33m(\u001b[0m\u001b[0murl\u001b[0m\u001b[1;33m,\u001b[0m \u001b[0mconfig\u001b[0m\u001b[1;33m=\u001b[0m\u001b[0mconfig\u001b[0m\u001b[1;33m)\u001b[0m\u001b[1;33m\u001b[0m\u001b[0m\n\u001b[0;32m     29\u001b[0m     \u001b[1;32mif\u001b[0m \u001b[1;32mnot\u001b[0m \u001b[0mdry\u001b[0m\u001b[1;33m:\u001b[0m\u001b[1;33m\u001b[0m\u001b[0m\n\u001b[1;32m---> 30\u001b[1;33m         \u001b[0ms\u001b[0m\u001b[1;33m.\u001b[0m\u001b[0mbuild\u001b[0m\u001b[1;33m(\u001b[0m\u001b[1;33m)\u001b[0m\u001b[1;33m\u001b[0m\u001b[0m\n\u001b[0m\u001b[0;32m     31\u001b[0m     \u001b[1;32mreturn\u001b[0m \u001b[0ms\u001b[0m\u001b[1;33m\u001b[0m\u001b[0m\n\u001b[0;32m     32\u001b[0m \u001b[1;33m\u001b[0m\u001b[0m\n",
      "\u001b[1;32mC:\\Users\\Leonovo\\Anaconda3\\lib\\site-packages\\newspaper\\source.py\u001b[0m in \u001b[0;36mbuild\u001b[1;34m(self)\u001b[0m\n\u001b[0;32m     86\u001b[0m         \u001b[0mgood\u001b[0m \u001b[0midea\u001b[0m \u001b[0mto\u001b[0m \u001b[0msplit\u001b[0m \u001b[0mthis\u001b[0m \u001b[0minto\u001b[0m \u001b[0mdownload\u001b[0m\u001b[1;33m(\u001b[0m\u001b[1;33m)\u001b[0m \u001b[1;32mand\u001b[0m \u001b[0mparse\u001b[0m\u001b[1;33m(\u001b[0m\u001b[1;33m)\u001b[0m \u001b[0mmethods\u001b[0m\u001b[1;33m.\u001b[0m\u001b[1;33m\u001b[0m\u001b[0m\n\u001b[0;32m     87\u001b[0m         \"\"\"\n\u001b[1;32m---> 88\u001b[1;33m         \u001b[0mself\u001b[0m\u001b[1;33m.\u001b[0m\u001b[0mdownload\u001b[0m\u001b[1;33m(\u001b[0m\u001b[1;33m)\u001b[0m\u001b[1;33m\u001b[0m\u001b[0m\n\u001b[0m\u001b[0;32m     89\u001b[0m         \u001b[0mself\u001b[0m\u001b[1;33m.\u001b[0m\u001b[0mparse\u001b[0m\u001b[1;33m(\u001b[0m\u001b[1;33m)\u001b[0m\u001b[1;33m\u001b[0m\u001b[0m\n\u001b[0;32m     90\u001b[0m \u001b[1;33m\u001b[0m\u001b[0m\n",
      "\u001b[1;32mC:\\Users\\Leonovo\\Anaconda3\\lib\\site-packages\\newspaper\\source.py\u001b[0m in \u001b[0;36mdownload\u001b[1;34m(self)\u001b[0m\n\u001b[0;32m    175\u001b[0m         \"\"\"Downloads html of source\n\u001b[0;32m    176\u001b[0m         \"\"\"\n\u001b[1;32m--> 177\u001b[1;33m         \u001b[0mself\u001b[0m\u001b[1;33m.\u001b[0m\u001b[0mhtml\u001b[0m \u001b[1;33m=\u001b[0m \u001b[0mnetwork\u001b[0m\u001b[1;33m.\u001b[0m\u001b[0mget_html\u001b[0m\u001b[1;33m(\u001b[0m\u001b[0mself\u001b[0m\u001b[1;33m.\u001b[0m\u001b[0murl\u001b[0m\u001b[1;33m,\u001b[0m \u001b[0mself\u001b[0m\u001b[1;33m.\u001b[0m\u001b[0mconfig\u001b[0m\u001b[1;33m)\u001b[0m\u001b[1;33m\u001b[0m\u001b[0m\n\u001b[0m\u001b[0;32m    178\u001b[0m \u001b[1;33m\u001b[0m\u001b[0m\n\u001b[0;32m    179\u001b[0m     \u001b[1;32mdef\u001b[0m \u001b[0mdownload_categories\u001b[0m\u001b[1;33m(\u001b[0m\u001b[0mself\u001b[0m\u001b[1;33m)\u001b[0m\u001b[1;33m:\u001b[0m\u001b[1;33m\u001b[0m\u001b[0m\n",
      "\u001b[1;32mC:\\Users\\Leonovo\\Anaconda3\\lib\\site-packages\\newspaper\\network.py\u001b[0m in \u001b[0;36mget_html\u001b[1;34m(url, config, response)\u001b[0m\n\u001b[0;32m     39\u001b[0m     \"\"\"\n\u001b[0;32m     40\u001b[0m     \u001b[1;32mtry\u001b[0m\u001b[1;33m:\u001b[0m\u001b[1;33m\u001b[0m\u001b[0m\n\u001b[1;32m---> 41\u001b[1;33m         \u001b[1;32mreturn\u001b[0m \u001b[0mget_html_2XX_only\u001b[0m\u001b[1;33m(\u001b[0m\u001b[0murl\u001b[0m\u001b[1;33m,\u001b[0m \u001b[0mconfig\u001b[0m\u001b[1;33m,\u001b[0m \u001b[0mresponse\u001b[0m\u001b[1;33m)\u001b[0m\u001b[1;33m\u001b[0m\u001b[0m\n\u001b[0m\u001b[0;32m     42\u001b[0m     \u001b[1;32mexcept\u001b[0m \u001b[0mrequests\u001b[0m\u001b[1;33m.\u001b[0m\u001b[0mexceptions\u001b[0m\u001b[1;33m.\u001b[0m\u001b[0mRequestException\u001b[0m \u001b[1;32mas\u001b[0m \u001b[0me\u001b[0m\u001b[1;33m:\u001b[0m\u001b[1;33m\u001b[0m\u001b[0m\n\u001b[0;32m     43\u001b[0m         \u001b[0mlog\u001b[0m\u001b[1;33m.\u001b[0m\u001b[0mdebug\u001b[0m\u001b[1;33m(\u001b[0m\u001b[1;34m'get_html() error. %s on URL: %s'\u001b[0m \u001b[1;33m%\u001b[0m \u001b[1;33m(\u001b[0m\u001b[0me\u001b[0m\u001b[1;33m,\u001b[0m \u001b[0murl\u001b[0m\u001b[1;33m)\u001b[0m\u001b[1;33m)\u001b[0m\u001b[1;33m\u001b[0m\u001b[0m\n",
      "\u001b[1;32mC:\\Users\\Leonovo\\Anaconda3\\lib\\site-packages\\newspaper\\network.py\u001b[0m in \u001b[0;36mget_html_2XX_only\u001b[1;34m(url, config, response)\u001b[0m\n\u001b[0;32m     62\u001b[0m     \u001b[1;32mtry\u001b[0m\u001b[1;33m:\u001b[0m\u001b[1;33m\u001b[0m\u001b[0m\n\u001b[0;32m     63\u001b[0m         response = requests.get(\n\u001b[1;32m---> 64\u001b[1;33m             url=url, **get_request_kwargs(timeout, useragent, proxies, headers))\n\u001b[0m\u001b[0;32m     65\u001b[0m     \u001b[1;32mexcept\u001b[0m \u001b[0mrequests\u001b[0m\u001b[1;33m.\u001b[0m\u001b[0mexceptions\u001b[0m\u001b[1;33m.\u001b[0m\u001b[0mRequestException\u001b[0m \u001b[1;32mas\u001b[0m \u001b[0me\u001b[0m\u001b[1;33m:\u001b[0m\u001b[1;33m\u001b[0m\u001b[0m\n\u001b[0;32m     66\u001b[0m         \u001b[0mlog\u001b[0m\u001b[1;33m.\u001b[0m\u001b[0mdebug\u001b[0m\u001b[1;33m(\u001b[0m\u001b[1;34m'get_html_2XX_only() error. %s on URL: %s'\u001b[0m \u001b[1;33m%\u001b[0m \u001b[1;33m(\u001b[0m\u001b[0me\u001b[0m\u001b[1;33m,\u001b[0m \u001b[0murl\u001b[0m\u001b[1;33m)\u001b[0m\u001b[1;33m)\u001b[0m\u001b[1;33m\u001b[0m\u001b[0m\n",
      "\u001b[1;32mC:\\Users\\Leonovo\\Anaconda3\\lib\\site-packages\\requests\\api.py\u001b[0m in \u001b[0;36mget\u001b[1;34m(url, params, **kwargs)\u001b[0m\n\u001b[0;32m     70\u001b[0m \u001b[1;33m\u001b[0m\u001b[0m\n\u001b[0;32m     71\u001b[0m     \u001b[0mkwargs\u001b[0m\u001b[1;33m.\u001b[0m\u001b[0msetdefault\u001b[0m\u001b[1;33m(\u001b[0m\u001b[1;34m'allow_redirects'\u001b[0m\u001b[1;33m,\u001b[0m \u001b[1;32mTrue\u001b[0m\u001b[1;33m)\u001b[0m\u001b[1;33m\u001b[0m\u001b[0m\n\u001b[1;32m---> 72\u001b[1;33m     \u001b[1;32mreturn\u001b[0m \u001b[0mrequest\u001b[0m\u001b[1;33m(\u001b[0m\u001b[1;34m'get'\u001b[0m\u001b[1;33m,\u001b[0m \u001b[0murl\u001b[0m\u001b[1;33m,\u001b[0m \u001b[0mparams\u001b[0m\u001b[1;33m=\u001b[0m\u001b[0mparams\u001b[0m\u001b[1;33m,\u001b[0m \u001b[1;33m**\u001b[0m\u001b[0mkwargs\u001b[0m\u001b[1;33m)\u001b[0m\u001b[1;33m\u001b[0m\u001b[0m\n\u001b[0m\u001b[0;32m     73\u001b[0m \u001b[1;33m\u001b[0m\u001b[0m\n\u001b[0;32m     74\u001b[0m \u001b[1;33m\u001b[0m\u001b[0m\n",
      "\u001b[1;32mC:\\Users\\Leonovo\\Anaconda3\\lib\\site-packages\\requests\\api.py\u001b[0m in \u001b[0;36mrequest\u001b[1;34m(method, url, **kwargs)\u001b[0m\n\u001b[0;32m     56\u001b[0m     \u001b[1;31m# cases, and look like a memory leak in others.\u001b[0m\u001b[1;33m\u001b[0m\u001b[1;33m\u001b[0m\u001b[0m\n\u001b[0;32m     57\u001b[0m     \u001b[1;32mwith\u001b[0m \u001b[0msessions\u001b[0m\u001b[1;33m.\u001b[0m\u001b[0mSession\u001b[0m\u001b[1;33m(\u001b[0m\u001b[1;33m)\u001b[0m \u001b[1;32mas\u001b[0m \u001b[0msession\u001b[0m\u001b[1;33m:\u001b[0m\u001b[1;33m\u001b[0m\u001b[0m\n\u001b[1;32m---> 58\u001b[1;33m         \u001b[1;32mreturn\u001b[0m \u001b[0msession\u001b[0m\u001b[1;33m.\u001b[0m\u001b[0mrequest\u001b[0m\u001b[1;33m(\u001b[0m\u001b[0mmethod\u001b[0m\u001b[1;33m=\u001b[0m\u001b[0mmethod\u001b[0m\u001b[1;33m,\u001b[0m \u001b[0murl\u001b[0m\u001b[1;33m=\u001b[0m\u001b[0murl\u001b[0m\u001b[1;33m,\u001b[0m \u001b[1;33m**\u001b[0m\u001b[0mkwargs\u001b[0m\u001b[1;33m)\u001b[0m\u001b[1;33m\u001b[0m\u001b[0m\n\u001b[0m\u001b[0;32m     59\u001b[0m \u001b[1;33m\u001b[0m\u001b[0m\n\u001b[0;32m     60\u001b[0m \u001b[1;33m\u001b[0m\u001b[0m\n",
      "\u001b[1;32mC:\\Users\\Leonovo\\Anaconda3\\lib\\site-packages\\requests\\sessions.py\u001b[0m in \u001b[0;36mrequest\u001b[1;34m(self, method, url, params, data, headers, cookies, files, auth, timeout, allow_redirects, proxies, hooks, stream, verify, cert, json)\u001b[0m\n\u001b[0;32m    506\u001b[0m         }\n\u001b[0;32m    507\u001b[0m         \u001b[0msend_kwargs\u001b[0m\u001b[1;33m.\u001b[0m\u001b[0mupdate\u001b[0m\u001b[1;33m(\u001b[0m\u001b[0msettings\u001b[0m\u001b[1;33m)\u001b[0m\u001b[1;33m\u001b[0m\u001b[0m\n\u001b[1;32m--> 508\u001b[1;33m         \u001b[0mresp\u001b[0m \u001b[1;33m=\u001b[0m \u001b[0mself\u001b[0m\u001b[1;33m.\u001b[0m\u001b[0msend\u001b[0m\u001b[1;33m(\u001b[0m\u001b[0mprep\u001b[0m\u001b[1;33m,\u001b[0m \u001b[1;33m**\u001b[0m\u001b[0msend_kwargs\u001b[0m\u001b[1;33m)\u001b[0m\u001b[1;33m\u001b[0m\u001b[0m\n\u001b[0m\u001b[0;32m    509\u001b[0m \u001b[1;33m\u001b[0m\u001b[0m\n\u001b[0;32m    510\u001b[0m         \u001b[1;32mreturn\u001b[0m \u001b[0mresp\u001b[0m\u001b[1;33m\u001b[0m\u001b[0m\n",
      "\u001b[1;32mC:\\Users\\Leonovo\\Anaconda3\\lib\\site-packages\\requests\\sessions.py\u001b[0m in \u001b[0;36msend\u001b[1;34m(self, request, **kwargs)\u001b[0m\n\u001b[0;32m    638\u001b[0m \u001b[1;33m\u001b[0m\u001b[0m\n\u001b[0;32m    639\u001b[0m         \u001b[1;31m# Resolve redirects if allowed.\u001b[0m\u001b[1;33m\u001b[0m\u001b[1;33m\u001b[0m\u001b[0m\n\u001b[1;32m--> 640\u001b[1;33m         \u001b[0mhistory\u001b[0m \u001b[1;33m=\u001b[0m \u001b[1;33m[\u001b[0m\u001b[0mresp\u001b[0m \u001b[1;32mfor\u001b[0m \u001b[0mresp\u001b[0m \u001b[1;32min\u001b[0m \u001b[0mgen\u001b[0m\u001b[1;33m]\u001b[0m \u001b[1;32mif\u001b[0m \u001b[0mallow_redirects\u001b[0m \u001b[1;32melse\u001b[0m \u001b[1;33m[\u001b[0m\u001b[1;33m]\u001b[0m\u001b[1;33m\u001b[0m\u001b[0m\n\u001b[0m\u001b[0;32m    641\u001b[0m \u001b[1;33m\u001b[0m\u001b[0m\n\u001b[0;32m    642\u001b[0m         \u001b[1;31m# Shuffle things around if there's history.\u001b[0m\u001b[1;33m\u001b[0m\u001b[1;33m\u001b[0m\u001b[0m\n",
      "\u001b[1;32mC:\\Users\\Leonovo\\Anaconda3\\lib\\site-packages\\requests\\sessions.py\u001b[0m in \u001b[0;36m<listcomp>\u001b[1;34m(.0)\u001b[0m\n\u001b[0;32m    638\u001b[0m \u001b[1;33m\u001b[0m\u001b[0m\n\u001b[0;32m    639\u001b[0m         \u001b[1;31m# Resolve redirects if allowed.\u001b[0m\u001b[1;33m\u001b[0m\u001b[1;33m\u001b[0m\u001b[0m\n\u001b[1;32m--> 640\u001b[1;33m         \u001b[0mhistory\u001b[0m \u001b[1;33m=\u001b[0m \u001b[1;33m[\u001b[0m\u001b[0mresp\u001b[0m \u001b[1;32mfor\u001b[0m \u001b[0mresp\u001b[0m \u001b[1;32min\u001b[0m \u001b[0mgen\u001b[0m\u001b[1;33m]\u001b[0m \u001b[1;32mif\u001b[0m \u001b[0mallow_redirects\u001b[0m \u001b[1;32melse\u001b[0m \u001b[1;33m[\u001b[0m\u001b[1;33m]\u001b[0m\u001b[1;33m\u001b[0m\u001b[0m\n\u001b[0m\u001b[0;32m    641\u001b[0m \u001b[1;33m\u001b[0m\u001b[0m\n\u001b[0;32m    642\u001b[0m         \u001b[1;31m# Shuffle things around if there's history.\u001b[0m\u001b[1;33m\u001b[0m\u001b[1;33m\u001b[0m\u001b[0m\n",
      "\u001b[1;32mC:\\Users\\Leonovo\\Anaconda3\\lib\\site-packages\\requests\\sessions.py\u001b[0m in \u001b[0;36mresolve_redirects\u001b[1;34m(self, resp, req, stream, timeout, verify, cert, proxies, yield_requests, **adapter_kwargs)\u001b[0m\n\u001b[0;32m    216\u001b[0m                     \u001b[0mproxies\u001b[0m\u001b[1;33m=\u001b[0m\u001b[0mproxies\u001b[0m\u001b[1;33m,\u001b[0m\u001b[1;33m\u001b[0m\u001b[0m\n\u001b[0;32m    217\u001b[0m                     \u001b[0mallow_redirects\u001b[0m\u001b[1;33m=\u001b[0m\u001b[1;32mFalse\u001b[0m\u001b[1;33m,\u001b[0m\u001b[1;33m\u001b[0m\u001b[0m\n\u001b[1;32m--> 218\u001b[1;33m                     \u001b[1;33m**\u001b[0m\u001b[0madapter_kwargs\u001b[0m\u001b[1;33m\u001b[0m\u001b[0m\n\u001b[0m\u001b[0;32m    219\u001b[0m                 )\n\u001b[0;32m    220\u001b[0m \u001b[1;33m\u001b[0m\u001b[0m\n",
      "\u001b[1;32mC:\\Users\\Leonovo\\Anaconda3\\lib\\site-packages\\requests\\sessions.py\u001b[0m in \u001b[0;36msend\u001b[1;34m(self, request, **kwargs)\u001b[0m\n\u001b[0;32m    616\u001b[0m \u001b[1;33m\u001b[0m\u001b[0m\n\u001b[0;32m    617\u001b[0m         \u001b[1;31m# Send the request\u001b[0m\u001b[1;33m\u001b[0m\u001b[1;33m\u001b[0m\u001b[0m\n\u001b[1;32m--> 618\u001b[1;33m         \u001b[0mr\u001b[0m \u001b[1;33m=\u001b[0m \u001b[0madapter\u001b[0m\u001b[1;33m.\u001b[0m\u001b[0msend\u001b[0m\u001b[1;33m(\u001b[0m\u001b[0mrequest\u001b[0m\u001b[1;33m,\u001b[0m \u001b[1;33m**\u001b[0m\u001b[0mkwargs\u001b[0m\u001b[1;33m)\u001b[0m\u001b[1;33m\u001b[0m\u001b[0m\n\u001b[0m\u001b[0;32m    619\u001b[0m \u001b[1;33m\u001b[0m\u001b[0m\n\u001b[0;32m    620\u001b[0m         \u001b[1;31m# Total elapsed time of the request (approximately)\u001b[0m\u001b[1;33m\u001b[0m\u001b[1;33m\u001b[0m\u001b[0m\n",
      "\u001b[1;32mC:\\Users\\Leonovo\\Anaconda3\\lib\\site-packages\\requests\\adapters.py\u001b[0m in \u001b[0;36msend\u001b[1;34m(self, request, stream, timeout, verify, cert, proxies)\u001b[0m\n\u001b[0;32m    403\u001b[0m         \"\"\"\n\u001b[0;32m    404\u001b[0m \u001b[1;33m\u001b[0m\u001b[0m\n\u001b[1;32m--> 405\u001b[1;33m         \u001b[0mconn\u001b[0m \u001b[1;33m=\u001b[0m \u001b[0mself\u001b[0m\u001b[1;33m.\u001b[0m\u001b[0mget_connection\u001b[0m\u001b[1;33m(\u001b[0m\u001b[0mrequest\u001b[0m\u001b[1;33m.\u001b[0m\u001b[0murl\u001b[0m\u001b[1;33m,\u001b[0m \u001b[0mproxies\u001b[0m\u001b[1;33m)\u001b[0m\u001b[1;33m\u001b[0m\u001b[0m\n\u001b[0m\u001b[0;32m    406\u001b[0m \u001b[1;33m\u001b[0m\u001b[0m\n\u001b[0;32m    407\u001b[0m         \u001b[0mself\u001b[0m\u001b[1;33m.\u001b[0m\u001b[0mcert_verify\u001b[0m\u001b[1;33m(\u001b[0m\u001b[0mconn\u001b[0m\u001b[1;33m,\u001b[0m \u001b[0mrequest\u001b[0m\u001b[1;33m.\u001b[0m\u001b[0murl\u001b[0m\u001b[1;33m,\u001b[0m \u001b[0mverify\u001b[0m\u001b[1;33m,\u001b[0m \u001b[0mcert\u001b[0m\u001b[1;33m)\u001b[0m\u001b[1;33m\u001b[0m\u001b[0m\n",
      "\u001b[1;32mC:\\Users\\Leonovo\\Anaconda3\\lib\\site-packages\\requests\\adapters.py\u001b[0m in \u001b[0;36mget_connection\u001b[1;34m(self, url, proxies)\u001b[0m\n\u001b[0;32m    307\u001b[0m             \u001b[0mparsed\u001b[0m \u001b[1;33m=\u001b[0m \u001b[0murlparse\u001b[0m\u001b[1;33m(\u001b[0m\u001b[0murl\u001b[0m\u001b[1;33m)\u001b[0m\u001b[1;33m\u001b[0m\u001b[0m\n\u001b[0;32m    308\u001b[0m             \u001b[0murl\u001b[0m \u001b[1;33m=\u001b[0m \u001b[0mparsed\u001b[0m\u001b[1;33m.\u001b[0m\u001b[0mgeturl\u001b[0m\u001b[1;33m(\u001b[0m\u001b[1;33m)\u001b[0m\u001b[1;33m\u001b[0m\u001b[0m\n\u001b[1;32m--> 309\u001b[1;33m             \u001b[0mconn\u001b[0m \u001b[1;33m=\u001b[0m \u001b[0mself\u001b[0m\u001b[1;33m.\u001b[0m\u001b[0mpoolmanager\u001b[0m\u001b[1;33m.\u001b[0m\u001b[0mconnection_from_url\u001b[0m\u001b[1;33m(\u001b[0m\u001b[0murl\u001b[0m\u001b[1;33m)\u001b[0m\u001b[1;33m\u001b[0m\u001b[0m\n\u001b[0m\u001b[0;32m    310\u001b[0m \u001b[1;33m\u001b[0m\u001b[0m\n\u001b[0;32m    311\u001b[0m         \u001b[1;32mreturn\u001b[0m \u001b[0mconn\u001b[0m\u001b[1;33m\u001b[0m\u001b[0m\n",
      "\u001b[1;32mC:\\Users\\Leonovo\\Anaconda3\\lib\\site-packages\\urllib3\\poolmanager.py\u001b[0m in \u001b[0;36mconnection_from_url\u001b[1;34m(self, url, pool_kwargs)\u001b[0m\n\u001b[0;32m    277\u001b[0m         \u001b[0mu\u001b[0m \u001b[1;33m=\u001b[0m \u001b[0mparse_url\u001b[0m\u001b[1;33m(\u001b[0m\u001b[0murl\u001b[0m\u001b[1;33m)\u001b[0m\u001b[1;33m\u001b[0m\u001b[0m\n\u001b[0;32m    278\u001b[0m         return self.connection_from_host(u.host, port=u.port, scheme=u.scheme,\n\u001b[1;32m--> 279\u001b[1;33m                                          pool_kwargs=pool_kwargs)\n\u001b[0m\u001b[0;32m    280\u001b[0m \u001b[1;33m\u001b[0m\u001b[0m\n\u001b[0;32m    281\u001b[0m     \u001b[1;32mdef\u001b[0m \u001b[0m_merge_pool_kwargs\u001b[0m\u001b[1;33m(\u001b[0m\u001b[0mself\u001b[0m\u001b[1;33m,\u001b[0m \u001b[0moverride\u001b[0m\u001b[1;33m)\u001b[0m\u001b[1;33m:\u001b[0m\u001b[1;33m\u001b[0m\u001b[0m\n",
      "\u001b[1;32mC:\\Users\\Leonovo\\Anaconda3\\lib\\site-packages\\urllib3\\poolmanager.py\u001b[0m in \u001b[0;36mconnection_from_host\u001b[1;34m(self, host, port, scheme, pool_kwargs)\u001b[0m\n\u001b[0;32m    216\u001b[0m \u001b[1;33m\u001b[0m\u001b[0m\n\u001b[0;32m    217\u001b[0m         \u001b[1;32mif\u001b[0m \u001b[1;32mnot\u001b[0m \u001b[0mhost\u001b[0m\u001b[1;33m:\u001b[0m\u001b[1;33m\u001b[0m\u001b[0m\n\u001b[1;32m--> 218\u001b[1;33m             \u001b[1;32mraise\u001b[0m \u001b[0mLocationValueError\u001b[0m\u001b[1;33m(\u001b[0m\u001b[1;34m\"No host specified.\"\u001b[0m\u001b[1;33m)\u001b[0m\u001b[1;33m\u001b[0m\u001b[0m\n\u001b[0m\u001b[0;32m    219\u001b[0m \u001b[1;33m\u001b[0m\u001b[0m\n\u001b[0;32m    220\u001b[0m         \u001b[0mrequest_context\u001b[0m \u001b[1;33m=\u001b[0m \u001b[0mself\u001b[0m\u001b[1;33m.\u001b[0m\u001b[0m_merge_pool_kwargs\u001b[0m\u001b[1;33m(\u001b[0m\u001b[0mpool_kwargs\u001b[0m\u001b[1;33m)\u001b[0m\u001b[1;33m\u001b[0m\u001b[0m\n",
      "\u001b[1;31mLocationValueError\u001b[0m: No host specified."
     ]
    }
   ],
   "source": [
    "MAX_ARTICLES_PER_DOMAIN = 100\n",
    "\n",
    "domain_with_no_articles = []\n",
    "arts = []\n",
    "\n",
    "with progressbar.ProgressBar(max_value=len(frame.website)) as bar:\n",
    "    for i, d in enumerate(frame.website):\n",
    "        bar.update(i)\n",
    "        full_website_name = 'http://www.' + d\n",
    "        temp_arts = articles_from_domain(full_website_name,\n",
    "                                         MAX_ARTICLES_PER_DOMAIN)\n",
    "        arts = arts + temp_arts\n",
    "        if len(temp_arts) == 0:\n",
    "            domain_with_no_articles.append(full_website_name)"
   ]
  },
  {
   "cell_type": "code",
   "execution_count": 6,
   "metadata": {},
   "outputs": [
    {
     "data": {
      "text/plain": [
       "['http://www.happycow.net',\n",
       " 'http://www.irrawaddy.com',\n",
       " 'http://www.veganricha.com',\n",
       " 'http://www.froh.de',\n",
       " 'http://www.veggieboards.com',\n",
       " 'http://www.rawdd.com',\n",
       " 'http://www.stadionowioprawcy.net',\n",
       " 'http://www.vegansociety.com',\n",
       " 'http://www.vebu.de',\n",
       " 'http://www.chooseveg.com',\n",
       " 'http://www.farmfreshtoyou.com',\n",
       " 'http://www.se.com.br',\n",
       " 'http://www.holycowvegan.net',\n",
       " 'http://www.vegnews.com',\n",
       " 'http://www.msrawytop.com',\n",
       " 'http://www.vegetarisch.de',\n",
       " 'http://www.veganuary.com',\n",
       " 'http://www.vegan.com',\n",
       " 'http://www.ilovevegan.com',\n",
       " 'http://www.vegancoach.com',\n",
       " 'http://www.gesund.de',\n",
       " 'http://www.suiis.com',\n",
       " 'http://www.biserawalpindi.edu.pk',\n",
       " 'http://www.vegetarianismo.net',\n",
       " 'http://www.brandnewvegan.com',\n",
       " 'http://www.vegweb.com',\n",
       " 'http://www.veganessentials.com',\n",
       " 'http://www.veggiecommunity.org',\n",
       " 'http://www.followyourheart.com',\n",
       " 'http://www.mania.com',\n",
       " 'http://www.veganbodybuilding.com',\n",
       " 'http://www.raws.org',\n",
       " 'http://www.sunwarrior.com',\n",
       " 'http://www.veganfoodlover.com',\n",
       " 'http://www.veganstart.de',\n",
       " 'http://www.rawan.net',\n",
       " 'http://www.job.lzu.edu.cn',\n",
       " 'http://www.deutschlandistvegan.de',\n",
       " 'http://www.vegancuts.com',\n",
       " 'http://www.vegsoc.org',\n",
       " 'http://www.veganguerilla.de',\n",
       " 'http://www.vegpool.de',\n",
       " 'http://www.vegfest.co.uk',\n",
       " 'http://www.veg.by',\n",
       " 'http://www.cookpad.com',\n",
       " 'http://www.tabelog.com',\n",
       " 'http://www.tesco.com',\n",
       " 'http://www.dianping.com',\n",
       " 'http://www.asda.com',\n",
       " 'http://www.zomato.com',\n",
       " 'http://www.pizzahut.com',\n",
       " 'http://www.dominos.com',\n",
       " 'http://www.tudogostoso.com.br',\n",
       " 'http://www.marmiton.org',\n",
       " 'http://www.thespruce.com',\n",
       " 'http://www.russianfood.com',\n",
       " 'http://www.kroger.com',\n",
       " 'http://www.mcdonalds.com',\n",
       " 'http://www.foodnetwork.com',\n",
       " 'http://www.papajohns.com',\n",
       " 'http://www.starbucks.com',\n",
       " 'http://www.sainsburys.co.uk',\n",
       " 'http://www.eat.co.uk',\n",
       " 'http://www.food.com',\n",
       " 'http://www.kfc.com.cn',\n",
       " 'http://www.delish.com',\n",
       " 'http://www.meishichina.com',\n",
       " 'http://www.grubhub.com',\n",
       " 'http://www.thekitchn.com',\n",
       " 'http://www.retty.me',\n",
       " 'http://www.woolworths.com.au',\n",
       " 'http://www.nefisyemektarifleri.com',\n",
       " 'http://www.meishij.net',\n",
       " 'http://www.haodou.com',\n",
       " 'http://www.seriouseats.com',\n",
       " 'http://www.povarenok.ru',\n",
       " 'http://www.xinshipu.com',\n",
       " 'http://www.coles.com.au',\n",
       " 'http://www.tasteofhome.com',\n",
       " 'http://www.bbcgoodfood.com',\n",
       " 'http://www.douguo.com',\n",
       " 'http://www.ele.me',\n",
       " 'http://www.ah.nl',\n",
       " 'http://www.lifescript.com',\n",
       " 'http://www.gnc.com',\n",
       " 'http://www.nucific.com',\n",
       " 'http://www.vitaminshoppe.com',\n",
       " 'http://www.dietdoctor.com',\n",
       " 'http://www.bikini.fr',\n",
       " 'http://www.fddb.info',\n",
       " 'http://www.examine.com',\n",
       " 'http://www.nutritionfacts.org',\n",
       " 'http://www.laguiadelasvitaminas.com',\n",
       " 'http://www.cronometer.com',\n",
       " 'http://www.atkins.com',\n",
       " 'http://www.nutritionix.com',\n",
       " 'http://www.marksdailyapple.com',\n",
       " 'http://www.davidwolfe.com',\n",
       " 'http://www.ketodietapp.com',\n",
       " 'http://www.starbene.it',\n",
       " 'http://www.dietascormillot.com',\n",
       " 'http://www.onnit.com',\n",
       " 'http://www.smartbmicalculator.com',\n",
       " 'http://www.eiyoukeisan.com',\n",
       " 'http://www.whfoods.com',\n",
       " 'http://www.optimale.com',\n",
       " 'http://www.healthyfoodteam.com',\n",
       " 'http://www.organicauthority.com',\n",
       " 'http://www.myhealthtips.in',\n",
       " 'http://www.nutrition.org',\n",
       " 'http://www.drjulianopimentel.com.br',\n",
       " 'http://www.mev0.com',\n",
       " 'http://www.infoactusante.com',\n",
       " 'http://www.dietaeboasaude.com.br',\n",
       " 'http://www.knowthecause.com',\n",
       " 'http://www.calorieking.com.au',\n",
       " 'http://www.calculator.net',\n",
       " 'http://www.optimumnutrition.com',\n",
       " 'http://www.emagrecerrapido.info',\n",
       " 'http://www.nutritienda.com',\n",
       " 'http://www.zumub.com',\n",
       " 'http://www.viveredonna.it',\n",
       " 'http://www.similac.com',\n",
       " 'http://www.5lb.ru',\n",
       " 'http://www.naturemade.com',\n",
       " 'http://www.choosemyplate.gov',\n",
       " 'http://www.baiducontent.com',\n",
       " 'http://www.healthline.com',\n",
       " 'http://www.webmd.com',\n",
       " 'http://www.xiangha.com',\n",
       " 'http://www.walgreens.com',\n",
       " 'http://www.garmin.com',\n",
       " 'http://www.cnkang.com',\n",
       " 'http://www.cvs.com',\n",
       " 'http://www.medlineplus.gov',\n",
       " 'http://www.yaolan.com',\n",
       " 'http://www.medicinenet.com',\n",
       " 'http://www.tuasaude.com',\n",
       " 'http://www.fitbit.com',\n",
       " 'http://www.medscape.com',\n",
       " 'http://www.bethesda.net',\n",
       " 'http://www.cdc.gov',\n",
       " 'http://www.kaiserpermanente.org',\n",
       " 'http://www.jianke.com',\n",
       " 'http://www.baby.ru',\n",
       " 'http://www.healthy.kaiserpermanente.org',\n",
       " 'http://www.xyxy.net',\n",
       " 'http://www.haowj.com.cn',\n",
       " 'http://www.athenahealth.com',\n",
       " 'http://www.everydayhealth.com',\n",
       " 'http://www.redcross.org',\n",
       " 'http://www.indiatimes.com',\n",
       " 'http://www.corriere.it',\n",
       " 'http://www.index.hu',\n",
       " 'http://www.gazeta.ru',\n",
       " 'http://www.thairath.co.th',\n",
       " 'http://www.iltalehti.fi',\n",
       " 'http://www.gsmarena.com',\n",
       " 'http://www.ccm.net',\n",
       " 'http://www.computerbild.de',\n",
       " 'http://www.1.com',\n",
       " 'http://www.techtudo.com.br',\n",
       " 'http://www.01net.com',\n",
       " 'http://www.digitaltrends.com',\n",
       " 'http://www.dpreview.com',\n",
       " 'http://www.tecmundo.com.br',\n",
       " 'http://www.trustedreviews.com',\n",
       " 'http://www.sammobile.com',\n",
       " 'http://www.news.mydrivers.com',\n",
       " 'http://www.cnmo.com',\n",
       " 'http://www.genk.vn',\n",
       " 'http://www.tech.ifeng.com',\n",
       " 'http://www.news.ycombinator.com',\n",
       " 'http://www.ixbt.com',\n",
       " 'http://www.geektimes.ru',\n",
       " 'http://www.tech.sina.com.cn',\n",
       " 'http://www.cool3c.com',\n",
       " 'http://www.computerbase.de',\n",
       " 'http://www.dji.com',\n",
       " 'http://www.pcwelt.de',\n",
       " 'http://www.teclast.com',\n",
       " 'http://www.msn.com',\n",
       " 'http://www.accuweather.com',\n",
       " 'http://www.toutiao.com',\n",
       " 'http://www.zybang.com',\n",
       " 'http://www.news.yahoo.co.jp',\n",
       " 'http://www.naver.jp',\n",
       " 'http://www.bp.blogspot.com',\n",
       " 'http://www.pantip.com',\n",
       " 'http://www.news.naver.com',\n",
       " 'http://www.ssl.com',\n",
       " 'http://www.cdn.com',\n",
       " 'http://www.genepi.org',\n",
       " 'http://www.iusacell3g.com',\n",
       " 'http://www.cell.com',\n",
       " 'http://www.todabiologia.com',\n",
       " 'http://www.ebi.ac.uk',\n",
       " 'http://www.asm.org',\n",
       " 'http://www.genscript.com',\n",
       " 'http://www.professor.bio.br',\n",
       " 'http://www.rcsb.org',\n",
       " 'http://www.dxy.com',\n",
       " 'http://www.5858.com',\n",
       " 'http://www.neb.com',\n",
       " 'http://www.auladeanatomia.com',\n",
       " 'http://www.royalsocietypublishing.org',\n",
       " 'http://www.cshlp.org',\n",
       " 'http://www.insectidentification.org',\n",
       " 'http://www.biorxiv.org',\n",
       " 'http://www.waploaded.com',\n",
       " 'http://www.lonerwolf.com',\n",
       " 'http://www.expasy.org',\n",
       " 'http://www.bioone.org',\n",
       " 'http://www.addgene.org',\n",
       " 'http://www.bio.com',\n",
       " 'http://www.genecards.org',\n",
       " 'http://www.schule.de',\n",
       " 'http://www.biologists.org',\n",
       " 'http://www.mtnirancell.ir',\n",
       " 'http://www.omim.org',\n",
       " 'http://www.sanger.ac.uk',\n",
       " 'http://www.tmcell.tm',\n",
       " 'http://www.ensembl.org',\n",
       " 'http://www.zoo.net',\n",
       " 'http://www.genexies.net',\n",
       " 'http://www.genome.gov',\n",
       " 'http://www.pages.info',\n",
       " 'http://www.genome.jp',\n",
       " 'http://www.nehircell.com.tr',\n",
       " 'http://www.popco.net',\n",
       " 'http://www.jax.org',\n",
       " 'http://www.zoocdn.com',\n",
       " 'http://www.pebblego.com',\n",
       " 'http://www.embl.de',\n",
       " 'http://www.sbio.info',\n",
       " 'http://www.atcc.org',\n",
       " 'http://www.noaa.gov',\n",
       " 'http://www.researchgate.net',\n",
       " 'http://www.infourok.ru',\n",
       " 'http://www.mathworks.com',\n",
       " 'http://www.howstuffworks.com',\n",
       " 'http://www.rae.es',\n",
       " 'http://www.acs.org',\n",
       " 'http://www.symbolab.com',\n",
       " 'http://www.sciences.com',\n",
       " 'http://www.tropicaltidbits.com',\n",
       " 'http://www.scientificamerican.com',\n",
       " 'http://www.brainly.com',\n",
       " 'http://www.webofknowledge.com',\n",
       " 'http://www.mars.jp',\n",
       " 'http://www.cnpq.br',\n",
       " 'http://www.isky.am',\n",
       " 'http://www.graaam.com',\n",
       " 'http://www.calculatorsoup.com',\n",
       " 'http://www.redalyc.org',\n",
       " 'http://www.rsc.org',\n",
       " 'http://www.convertunits.com',\n",
       " 'http://www.hwaml.com',\n",
       " 'http://www.popmech.ru',\n",
       " 'http://www.ruansky.com',\n",
       " 'http://www.corourbano.com',\n",
       " 'http://www.subject.com.ua',\n",
       " 'http://www.beemp3s.net',\n",
       " 'http://www.mnn.com',\n",
       " 'http://www.schoolsoft.se']"
      ]
     },
     "execution_count": 6,
     "metadata": {},
     "output_type": "execute_result"
    }
   ],
   "source": [
    "domain_with_no_articles"
   ]
  },
  {
   "cell_type": "code",
   "execution_count": 7,
   "metadata": {},
   "outputs": [
    {
     "data": {
      "text/plain": [
       "4667"
      ]
     },
     "execution_count": 7,
     "metadata": {},
     "output_type": "execute_result"
    }
   ],
   "source": [
    "len(arts)"
   ]
  },
  {
   "cell_type": "markdown",
   "metadata": {},
   "source": [
    "## Find pages for when needed"
   ]
  },
  {
   "cell_type": "code",
   "execution_count": null,
   "metadata": {
    "collapsed": true
   },
   "outputs": [],
   "source": [
    "sends_spiders(domain_with_no_articles, MAX_ARTICLES_PER_DOMAIN)\n",
    "\n",
    "run_spider(do, 5)  # instead"
   ]
  },
  {
   "cell_type": "code",
   "execution_count": 8,
   "metadata": {
    "collapsed": true
   },
   "outputs": [],
   "source": [
    "path = '../Datasets/crawled_articles_url'\n",
    "\n",
    "articles_to_get = dataframe_from_csvs(path)"
   ]
  },
  {
   "cell_type": "code",
   "execution_count": 9,
   "metadata": {
    "collapsed": true
   },
   "outputs": [],
   "source": [
    "for d in articles_to_get.url:\n",
    "    try:\n",
    "        temp_art = Article(d)\n",
    "        arts.append(temp_art)\n",
    "    except:\n",
    "        pass"
   ]
  },
  {
   "cell_type": "code",
   "execution_count": null,
   "metadata": {
    "collapsed": true,
    "scrolled": true
   },
   "outputs": [],
   "source": [
    "t = arts[0]\n",
    "t.download()\n",
    "t.parse()\n",
    "t.nlp()"
   ]
  },
  {
   "cell_type": "code",
   "execution_count": null,
   "metadata": {
    "collapsed": true
   },
   "outputs": [],
   "source": [
    "t.html"
   ]
  },
  {
   "cell_type": "markdown",
   "metadata": {},
   "source": [
    "## feature extraction"
   ]
  },
  {
   "cell_type": "code",
   "execution_count": 10,
   "metadata": {},
   "outputs": [
    {
     "name": "stderr",
     "output_type": "stream",
     "text": [
      "\r",
      "  0% (    0 of 14312) |                                                          | Elapsed Time: 0:00:00 ETA:  --:--:--"
     ]
    },
    {
     "name": "stdout",
     "output_type": "stream",
     "text": [
      "Article `download()` failed with 404 Client Error: Not Found for url: https://vegetarian.ru/bitrix/urlrewrite.php on URL http://www.vegetarian.ru/news/velosipedist-iz-indii-vdokhnovlyaet-lyudey-stat-veganami.html\n"
     ]
    },
    {
     "name": "stderr",
     "output_type": "stream",
     "text": [
      "\r",
      "  0% (    1 of 14312) |                                                            | Elapsed Time: 0:00:01 ETA: 4:54:00"
     ]
    },
    {
     "name": "stdout",
     "output_type": "stream",
     "text": [
      "Article `download()` failed with 404 Client Error: Not Found for url: https://vegetarian.ru/bitrix/urlrewrite.php on URL http://www.vegetarian.ru/news/rossiyanka-olga-mironenko-stala-laureatom-ekologicheskoy-premii-green-talents.html\n"
     ]
    },
    {
     "name": "stderr",
     "output_type": "stream",
     "text": [
      "\r",
      "  0% (    2 of 14312) |                                                            | Elapsed Time: 0:00:02 ETA: 4:20:19"
     ]
    },
    {
     "name": "stdout",
     "output_type": "stream",
     "text": [
      "Article `download()` failed with 404 Client Error: Not Found for url: https://vegetarian.ru/bitrix/urlrewrite.php on URL http://www.vegetarian.ru/news/v-nyu-yorke-podpisali-zakon-o-zaprete-ekspluatatsii-slonov-v-tsirkakh.html\n"
     ]
    },
    {
     "name": "stderr",
     "output_type": "stream",
     "text": [
      "  1% (  171 of 14312) |                                                            | Elapsed Time: 0:04:54 ETA: 2:53:05"
     ]
    },
    {
     "name": "stdout",
     "output_type": "stream",
     "text": [
      "Article `download()` failed with 404 Client Error: Not Found for url: http://www.anh-usa.org/congressman-waxman-slips-obscure-anti-supplement-measure-into-wall-st-%E2%80%9Creform%E2%80%9D-bill-%0A%0Apassed-by-the-house-please-take-action-to-prevent-same-thing-happening-in-the-senate/ on URL http://www.anh-usa.org/congressman-waxman-slips-obscure-anti-supplement-measure-into-wall-st-%E2%80%9Creform%E2%80%9D-bill-\n",
      "\n",
      "passed-by-the-house-please-take-action-to-prevent-same-thing-happening-in-the-senate/\n"
     ]
    },
    {
     "name": "stderr",
     "output_type": "stream",
     "text": [
      "  1% (  175 of 14312) |                                                            | Elapsed Time: 0:04:59 ETA: 3:31:21"
     ]
    },
    {
     "name": "stdout",
     "output_type": "stream",
     "text": [
      "Article `download()` failed with 404 Client Error: Not Found for url: https://www.lanutrition.fr/%0A%20%20%0A%20%20%20%20https:/www.nutrivi.fr/complements-alimentaires-forme-energie/multivitamines-vm30-120-cp-30-jours-671%20%20%0A on URL http://www.lanutrition.fr/\n",
      "  \n",
      "    https:/www.nutrivi.fr/complements-alimentaires-forme-energie/multivitamines-vm30-120-cp-30-jours-671  \n",
      "\n"
     ]
    },
    {
     "name": "stderr",
     "output_type": "stream",
     "text": [
      "\r",
      "  1% (  176 of 14312) |                                                            | Elapsed Time: 0:05:00 ETA: 3:36:21"
     ]
    },
    {
     "name": "stdout",
     "output_type": "stream",
     "text": [
      "Article `download()` failed with 404 Client Error: Not Found for url: https://www.lanutrition.fr/%0A%20%20%0A%20%20%20%20https:/www.nutrivi.fr/complements-alimentaires-forme-energie/multivitamines-vm30-120-cp-30-jours-729%20%20%0A on URL http://www.lanutrition.fr/\n",
      "  \n",
      "    https:/www.nutrivi.fr/complements-alimentaires-forme-energie/multivitamines-vm30-120-cp-30-jours-729  \n",
      "\n"
     ]
    },
    {
     "name": "stderr",
     "output_type": "stream",
     "text": [
      "\r",
      "  1% (  177 of 14312) |                                                            | Elapsed Time: 0:05:00 ETA: 3:42:50"
     ]
    },
    {
     "name": "stdout",
     "output_type": "stream",
     "text": [
      "Article `download()` failed with 404 Client Error: Not Found for url: https://www.lanutrition.fr/%0A%20%20%0A%20%20%20%20https:/www.nutrivi.fr/gestion-du-stress/magnesium-stress-mag-120-cp-cofacteurs-719%20%20%0A on URL http://www.lanutrition.fr/\n",
      "  \n",
      "    https:/www.nutrivi.fr/gestion-du-stress/magnesium-stress-mag-120-cp-cofacteurs-719  \n",
      "\n"
     ]
    },
    {
     "name": "stderr",
     "output_type": "stream",
     "text": [
      "\r",
      "  1% (  178 of 14312) |                                                            | Elapsed Time: 0:05:01 ETA: 3:50:25"
     ]
    },
    {
     "name": "stdout",
     "output_type": "stream",
     "text": [
      "Article `download()` failed with 404 Client Error: Not Found for url: https://www.lanutrition.fr/%0A%20%20%0A%20%20%20%20https:/www.nutrivi.fr/index-glycemique/guide-des-index-glycemiques-collectif-lanutritionfr-593%20%20%0A on URL http://www.lanutrition.fr/\n",
      "  \n",
      "    https:/www.nutrivi.fr/index-glycemique/guide-des-index-glycemiques-collectif-lanutritionfr-593  \n",
      "\n"
     ]
    },
    {
     "name": "stderr",
     "output_type": "stream",
     "text": [
      "\r",
      "  1% (  179 of 14312) |                                                            | Elapsed Time: 0:05:02 ETA: 3:54:26"
     ]
    },
    {
     "name": "stdout",
     "output_type": "stream",
     "text": [
      "Article `download()` failed with 404 Client Error: Not Found for url: https://www.lanutrition.fr/%0A%20%20%0A%20%20%20%20https:/www.nutrivi.fr/gestion-du-stress/magnesium-stress-mag-120-cp-cofacteurs-93%20%20%0A on URL http://www.lanutrition.fr/\n",
      "  \n",
      "    https:/www.nutrivi.fr/gestion-du-stress/magnesium-stress-mag-120-cp-cofacteurs-93  \n",
      "\n"
     ]
    },
    {
     "name": "stderr",
     "output_type": "stream",
     "text": [
      "\r",
      "  1% (  180 of 14312) |                                                            | Elapsed Time: 0:05:03 ETA: 4:00:50"
     ]
    },
    {
     "name": "stdout",
     "output_type": "stream",
     "text": [
      "Article `download()` failed with 404 Client Error: Not Found for url: https://www.lanutrition.fr/%0A%20%20%0A%20%20%20%20https:/www.nutrivi.fr/ig-index-glycemique/le-nouveau-regime-ig-angelique-houlbert-299%20%20%0A on URL http://www.lanutrition.fr/\n",
      "  \n",
      "    https:/www.nutrivi.fr/ig-index-glycemique/le-nouveau-regime-ig-angelique-houlbert-299  \n",
      "\n"
     ]
    },
    {
     "name": "stderr",
     "output_type": "stream",
     "text": [
      "\r",
      "  1% (  181 of 14312) |                                                            | Elapsed Time: 0:05:04 ETA: 4:02:57"
     ]
    },
    {
     "name": "stdout",
     "output_type": "stream",
     "text": [
      "Article `download()` failed with 404 Client Error: Not Found for url: https://www.lanutrition.fr/%0A%20%20%0A%20%20%20%20https:/www.nutrivi.fr/livres-regime-ig-index-glycemique/guide-des-index-glycemiques-collectif-lanutritionfr-217%20%20%0A on URL http://www.lanutrition.fr/\n",
      "  \n",
      "    https:/www.nutrivi.fr/livres-regime-ig-index-glycemique/guide-des-index-glycemiques-collectif-lanutritionfr-217  \n",
      "\n"
     ]
    },
    {
     "name": "stderr",
     "output_type": "stream",
     "text": [
      "\r",
      "  1% (  182 of 14312) |                                                            | Elapsed Time: 0:05:05 ETA: 4:01:21"
     ]
    },
    {
     "name": "stdout",
     "output_type": "stream",
     "text": [
      "Article `download()` failed with 404 Client Error: Not Found for url: https://www.lanutrition.fr/%0A%20%20%0A%20%20%20%20https:/www.nutrivi.fr/ig-index-glycemique/pack-regime-index-glycemique-ig-elvire-nerin-339%20%20%0A on URL http://www.lanutrition.fr/\n",
      "  \n",
      "    https:/www.nutrivi.fr/ig-index-glycemique/pack-regime-index-glycemique-ig-elvire-nerin-339  \n",
      "\n"
     ]
    },
    {
     "name": "stderr",
     "output_type": "stream",
     "text": [
      "\r",
      "  1% (  183 of 14312) |                                                            | Elapsed Time: 0:05:06 ETA: 4:02:02"
     ]
    },
    {
     "name": "stdout",
     "output_type": "stream",
     "text": [
      "Article `download()` failed with 404 Client Error: Not Found for url: https://www.lanutrition.fr/%0A%20%20%0A%20%20%20%20https:/www.nutrivi.fr/livres-recettes/je-mange-mediterraneen-au-quotidien-dr-guy-avril-831%20%20%0A on URL http://www.lanutrition.fr/\n",
      "  \n",
      "    https:/www.nutrivi.fr/livres-recettes/je-mange-mediterraneen-au-quotidien-dr-guy-avril-831  \n",
      "\n"
     ]
    },
    {
     "name": "stderr",
     "output_type": "stream",
     "text": [
      "\r",
      "  1% (  184 of 14312) |                                                            | Elapsed Time: 0:05:07 ETA: 3:46:03"
     ]
    },
    {
     "name": "stdout",
     "output_type": "stream",
     "text": [
      "Article `download()` failed with 404 Client Error: Not Found for url: https://www.lanutrition.fr/%0A%20%20%0A%20%20%20%20https:/www.nutrivi.fr/minceur/le-fasting-ebook-format-epub-jb-rives-755%20%20%0A on URL http://www.lanutrition.fr/\n",
      "  \n",
      "    https:/www.nutrivi.fr/minceur/le-fasting-ebook-format-epub-jb-rives-755  \n",
      "\n"
     ]
    },
    {
     "name": "stderr",
     "output_type": "stream",
     "text": [
      "\r",
      "  1% (  185 of 14312) |                                                            | Elapsed Time: 0:05:08 ETA: 3:45:57"
     ]
    },
    {
     "name": "stdout",
     "output_type": "stream",
     "text": [
      "Article `download()` failed with 404 Client Error: Not Found for url: https://www.lanutrition.fr/%0A%20%20%0A%20%20%20%20https:/www.nutrivi.fr/index-glycemique/100-aliments-ig-a-volonte-angelique-houlbert-429%20%20%0A on URL http://www.lanutrition.fr/\n",
      "  \n",
      "    https:/www.nutrivi.fr/index-glycemique/100-aliments-ig-a-volonte-angelique-houlbert-429  \n",
      "\n"
     ]
    },
    {
     "name": "stderr",
     "output_type": "stream",
     "text": [
      "\r",
      "  1% (  186 of 14312) |                                                            | Elapsed Time: 0:05:09 ETA: 3:47:14"
     ]
    },
    {
     "name": "stdout",
     "output_type": "stream",
     "text": [
      "Article `download()` failed with 404 Client Error: Not Found for url: https://www.lanutrition.fr/%0A%20%20%0A%20%20%20%20https:/www.nutrivi.fr/equilibre-acide-base/guide-de-l-equilibre-acide-base-florence-piquet-211%20%20%0A on URL http://www.lanutrition.fr/\n",
      "  \n",
      "    https:/www.nutrivi.fr/equilibre-acide-base/guide-de-l-equilibre-acide-base-florence-piquet-211  \n",
      "\n"
     ]
    },
    {
     "name": "stderr",
     "output_type": "stream",
     "text": [
      "\r",
      "  1% (  187 of 14312) |                                                            | Elapsed Time: 0:05:10 ETA: 3:46:52"
     ]
    },
    {
     "name": "stdout",
     "output_type": "stream",
     "text": [
      "Article `download()` failed with 404 Client Error: Not Found for url: https://www.lanutrition.fr/%0A%20%20%0A%20%20%20%20https:/www.nutrivi.fr/livres-bien-manger/le-bon-choix-au-supermarche-edition-2016-2017-collectif-lanutritionfr-277%20%20%0A on URL http://www.lanutrition.fr/\n",
      "  \n",
      "    https:/www.nutrivi.fr/livres-bien-manger/le-bon-choix-au-supermarche-edition-2016-2017-collectif-lanutritionfr-277  \n",
      "\n"
     ]
    },
    {
     "name": "stderr",
     "output_type": "stream",
     "text": [
      "\r",
      "  1% (  188 of 14312) |                                                            | Elapsed Time: 0:05:11 ETA: 3:47:00"
     ]
    },
    {
     "name": "stdout",
     "output_type": "stream",
     "text": [
      "Article `download()` failed with 404 Client Error: Not Found for url: https://www.lanutrition.fr/%0A%20%20%0A%20%20%20%20https:/www.nutrivi.fr/livres-minceur/le-compteur-de-glucides-magali-walkowicz-283%20%20%0A on URL http://www.lanutrition.fr/\n",
      "  \n",
      "    https:/www.nutrivi.fr/livres-minceur/le-compteur-de-glucides-magali-walkowicz-283  \n",
      "\n"
     ]
    },
    {
     "name": "stderr",
     "output_type": "stream",
     "text": [
      "\r",
      "  1% (  189 of 14312) |                                                            | Elapsed Time: 0:05:12 ETA: 3:46:48"
     ]
    },
    {
     "name": "stdout",
     "output_type": "stream",
     "text": [
      "Article `download()` failed with 404 Client Error: Not Found for url: https://www.lanutrition.fr/%0A%20%20%0A%20%20%20%20https:/www.nutrivi.fr/antioxydants/guide-des-aliments-antioxydants-juliette-pouyat-leclere-213%20%20%0A on URL http://www.lanutrition.fr/\n",
      "  \n",
      "    https:/www.nutrivi.fr/antioxydants/guide-des-aliments-antioxydants-juliette-pouyat-leclere-213  \n",
      "\n"
     ]
    },
    {
     "name": "stderr",
     "output_type": "stream",
     "text": [
      "\r",
      "  1% (  190 of 14312) |                                                            | Elapsed Time: 0:05:13 ETA: 3:46:16"
     ]
    },
    {
     "name": "stdout",
     "output_type": "stream",
     "text": [
      "Article `download()` failed with 404 Client Error: Not Found for url: https://www.lanutrition.fr/%0A%20%20%0A%20%20%20%20https:/www.nutrivi.fr/bien-manger/les-kits-nutrition-thierry-souccar-311%20%20%0A on URL http://www.lanutrition.fr/\n",
      "  \n",
      "    https:/www.nutrivi.fr/bien-manger/les-kits-nutrition-thierry-souccar-311  \n",
      "\n"
     ]
    },
    {
     "name": "stderr",
     "output_type": "stream",
     "text": [
      "\r",
      "  1% (  191 of 14312) |                                                            | Elapsed Time: 0:05:14 ETA: 3:46:43"
     ]
    },
    {
     "name": "stdout",
     "output_type": "stream",
     "text": [
      "Article `download()` failed with 404 Client Error: Not Found for url: https://www.lanutrition.fr/%0A%20%20%0A%20%20%20%20https:/www.nutrivi.fr/livres-bien-manger/le-bon-choix-pour-cuisiner-juliette-pouyat-leclere-279%20%20%0A on URL http://www.lanutrition.fr/\n",
      "  \n",
      "    https:/www.nutrivi.fr/livres-bien-manger/le-bon-choix-pour-cuisiner-juliette-pouyat-leclere-279  \n",
      "\n"
     ]
    },
    {
     "name": "stderr",
     "output_type": "stream",
     "text": [
      "\r",
      "  1% (  192 of 14312) |                                                            | Elapsed Time: 0:05:15 ETA: 3:49:21"
     ]
    },
    {
     "name": "stdout",
     "output_type": "stream",
     "text": [
      "Article `download()` failed with 404 Client Error: Not Found for url: https://www.lanutrition.fr/%0A%20%20%0A%20%20%20%20https:/www.nutrivi.fr/alimentation-de-l-enfant/le-bon-choix-pour-vos-enfants-3eme-edition-collectif-lanutritionfr-817%20%20%0A on URL http://www.lanutrition.fr/\n",
      "  \n",
      "    https:/www.nutrivi.fr/alimentation-de-l-enfant/le-bon-choix-pour-vos-enfants-3eme-edition-collectif-lanutritionfr-817  \n",
      "\n"
     ]
    },
    {
     "name": "stderr",
     "output_type": "stream",
     "text": [
      "\r",
      "  1% (  193 of 14312) |                                                            | Elapsed Time: 0:05:16 ETA: 3:52:21"
     ]
    },
    {
     "name": "stdout",
     "output_type": "stream",
     "text": [
      "Article `download()` failed with 404 Client Error: Not Found for url: https://www.lanutrition.fr/%0A%20%20%0A%20%20%20%20https:/www.nutrivi.fr/bien-manger/halte-aux-aliments-ultra-transformes-mangeons-vrai-anthony-fardet-767%20%20%0A on URL http://www.lanutrition.fr/\n",
      "  \n",
      "    https:/www.nutrivi.fr/bien-manger/halte-aux-aliments-ultra-transformes-mangeons-vrai-anthony-fardet-767  \n",
      "\n"
     ]
    },
    {
     "name": "stderr",
     "output_type": "stream",
     "text": [
      "\r",
      "  1% (  194 of 14312) |                                                            | Elapsed Time: 0:05:17 ETA: 3:51:16"
     ]
    },
    {
     "name": "stdout",
     "output_type": "stream",
     "text": [
      "Article `download()` failed with 404 Client Error: Not Found for url: https://www.lanutrition.fr/%0A%20%20%0A%20%20%20%20https:/www.nutrivi.fr/bien-manger/la-meilleur-facon-de-manger-thierry-souccar-13%20%20%0A on URL http://www.lanutrition.fr/\n",
      "  \n",
      "    https:/www.nutrivi.fr/bien-manger/la-meilleur-facon-de-manger-thierry-souccar-13  \n",
      "\n"
     ]
    },
    {
     "name": "stderr",
     "output_type": "stream",
     "text": [
      "\r",
      "  1% (  195 of 14312) |                                                            | Elapsed Time: 0:05:18 ETA: 3:49:18"
     ]
    },
    {
     "name": "stdout",
     "output_type": "stream",
     "text": [
      "Article `download()` failed with 404 Client Error: Not Found for url: https://www.lanutrition.fr/%0A%20%20%0A%20%20%20%20https:/www.nutrivi.fr/livres-bien-manger/le-bon-choix-au-restaurant-beatrice-pichoud-275%20%20%0A on URL http://www.lanutrition.fr/\n",
      "  \n",
      "    https:/www.nutrivi.fr/livres-bien-manger/le-bon-choix-au-restaurant-beatrice-pichoud-275  \n",
      "\n"
     ]
    },
    {
     "name": "stderr",
     "output_type": "stream",
     "text": [
      "\r",
      "  1% (  196 of 14312) |                                                            | Elapsed Time: 0:05:19 ETA: 3:49:38"
     ]
    },
    {
     "name": "stdout",
     "output_type": "stream",
     "text": [
      "Article `download()` failed with 404 Client Error: Not Found for url: https://www.lanutrition.fr/%0A%20%20%0A%20%20%20%20https:/www.nutrivi.fr/livres-bien-manger/l-assiette-a-malices-martine-cotinat-235%20%20%0A on URL http://www.lanutrition.fr/\n",
      "  \n",
      "    https:/www.nutrivi.fr/livres-bien-manger/l-assiette-a-malices-martine-cotinat-235  \n",
      "\n"
     ]
    },
    {
     "name": "stderr",
     "output_type": "stream",
     "text": [
      "\r",
      "  1% (  197 of 14312) |                                                            | Elapsed Time: 0:05:20 ETA: 3:49:41"
     ]
    },
    {
     "name": "stdout",
     "output_type": "stream",
     "text": [
      "Article `download()` failed with 404 Client Error: Not Found for url: https://www.lanutrition.fr/%0A%20%20%0A%20%20%20%20https:/www.nutrivi.fr/livres-douleurs/le-meilleur-anti-douleur-c-est-votre-cerveau-dr-john-sarno-291%20%20%0A on URL http://www.lanutrition.fr/\n",
      "  \n",
      "    https:/www.nutrivi.fr/livres-douleurs/le-meilleur-anti-douleur-c-est-votre-cerveau-dr-john-sarno-291  \n",
      "\n"
     ]
    },
    {
     "name": "stderr",
     "output_type": "stream",
     "text": [
      "\r",
      "  1% (  198 of 14312) |                                                            | Elapsed Time: 0:05:21 ETA: 3:49:17"
     ]
    },
    {
     "name": "stdout",
     "output_type": "stream",
     "text": [
      "Article `download()` failed with 404 Client Error: Not Found for url: https://www.lanutrition.fr/%0A%20%20%0A%20%20%20%20https:/www.nutrivi.fr/minceur/maigrir-sereinement-avec-les-tcc-jean-jacques-colin-723%20%20%0A on URL http://www.lanutrition.fr/\n",
      "  \n",
      "    https:/www.nutrivi.fr/minceur/maigrir-sereinement-avec-les-tcc-jean-jacques-colin-723  \n",
      "\n"
     ]
    },
    {
     "name": "stderr",
     "output_type": "stream",
     "text": [
      "\r",
      "  1% (  199 of 14312) |                                                            | Elapsed Time: 0:05:22 ETA: 3:48:03"
     ]
    },
    {
     "name": "stdout",
     "output_type": "stream",
     "text": [
      "Article `download()` failed with 404 Client Error: Not Found for url: https://www.lanutrition.fr/%0A%20%20%0A%20%20%20%20https:/www.nutrivi.fr/livres-bien-etre/coherence-cardiaque-365-dr-david-ohare-171%20%20%0A on URL http://www.lanutrition.fr/\n",
      "  \n",
      "    https:/www.nutrivi.fr/livres-bien-etre/coherence-cardiaque-365-dr-david-ohare-171  \n",
      "\n"
     ]
    },
    {
     "name": "stderr",
     "output_type": "stream",
     "text": [
      "\r",
      "  1% (  200 of 14312) |                                                            | Elapsed Time: 0:05:23 ETA: 3:47:33"
     ]
    },
    {
     "name": "stdout",
     "output_type": "stream",
     "text": [
      "Article `download()` failed with 404 Client Error: Not Found for url: https://www.lanutrition.fr/%0A%20%20%0A%20%20%20%20https:/www.nutrivi.fr/gestion-du-stress/la-solution-nerti-luc-geiger-759%20%20%0A on URL http://www.lanutrition.fr/\n",
      "  \n",
      "    https:/www.nutrivi.fr/gestion-du-stress/la-solution-nerti-luc-geiger-759  \n",
      "\n"
     ]
    },
    {
     "name": "stderr",
     "output_type": "stream",
     "text": [
      "\r",
      "  1% (  201 of 14312) |                                                            | Elapsed Time: 0:05:24 ETA: 3:44:31"
     ]
    },
    {
     "name": "stdout",
     "output_type": "stream",
     "text": [
      "Article `download()` failed with 404 Client Error: Not Found for url: https://www.lanutrition.fr/%0A%20%20%0A%20%20%20%20https:/www.nutrivi.fr/livres-developpement-personnel/fck-l-amour-dr-m-bennett-195%20%20%0A on URL http://www.lanutrition.fr/\n",
      "  \n",
      "    https:/www.nutrivi.fr/livres-developpement-personnel/fck-l-amour-dr-m-bennett-195  \n",
      "\n"
     ]
    },
    {
     "name": "stderr",
     "output_type": "stream",
     "text": [
      "\r",
      "  1% (  202 of 14312) |                                                            | Elapsed Time: 0:05:25 ETA: 3:41:46"
     ]
    },
    {
     "name": "stdout",
     "output_type": "stream",
     "text": [
      "Article `download()` failed with 404 Client Error: Not Found for url: https://www.lanutrition.fr/%0A%20%20%0A%20%20%20%20https:/www.nutrivi.fr/developpement-personnel/fck-la-gentillesse-dr-m-bennett-677%20%20%0A on URL http://www.lanutrition.fr/\n",
      "  \n",
      "    https:/www.nutrivi.fr/developpement-personnel/fck-la-gentillesse-dr-m-bennett-677  \n",
      "\n"
     ]
    },
    {
     "name": "stderr",
     "output_type": "stream",
     "text": [
      "\r",
      "  1% (  203 of 14312) |                                                            | Elapsed Time: 0:05:26 ETA: 3:44:24"
     ]
    },
    {
     "name": "stdout",
     "output_type": "stream",
     "text": [
      "Article `download()` failed with 404 Client Error: Not Found for url: https://www.lanutrition.fr/%0A%20%20%0A%20%20%20%20https:/www.nutrivi.fr/gestion-du-stress/5-minutes-le-matin-dr-david-ohare-139%20%20%0A on URL http://www.lanutrition.fr/\n",
      "  \n",
      "    https:/www.nutrivi.fr/gestion-du-stress/5-minutes-le-matin-dr-david-ohare-139  \n",
      "\n"
     ]
    },
    {
     "name": "stderr",
     "output_type": "stream",
     "text": [
      "\r",
      "  1% (  204 of 14312) |                                                            | Elapsed Time: 0:05:27 ETA: 3:45:59"
     ]
    },
    {
     "name": "stdout",
     "output_type": "stream",
     "text": [
      "Article `download()` failed with 404 Client Error: Not Found for url: https://www.lanutrition.fr/%0A%20%20%0A%20%20%20%20https:/www.nutrivi.fr/gestion-du-stress/la-methode-tre-david-berceli-269%20%20%0A on URL http://www.lanutrition.fr/\n",
      "  \n",
      "    https:/www.nutrivi.fr/gestion-du-stress/la-methode-tre-david-berceli-269  \n",
      "\n"
     ]
    },
    {
     "name": "stderr",
     "output_type": "stream",
     "text": [
      "\r",
      "  1% (  205 of 14312) |                                                            | Elapsed Time: 0:05:28 ETA: 3:47:08"
     ]
    },
    {
     "name": "stdout",
     "output_type": "stream",
     "text": [
      "Article `download()` failed with 404 Client Error: Not Found for url: https://www.lanutrition.fr/%0A%20%20%0A%20%20%20%20https:/www.nutrivi.fr/livres-developpement-personnel/realise-ton-reve-michel-belanger-359%20%20%0A on URL http://www.lanutrition.fr/\n",
      "  \n",
      "    https:/www.nutrivi.fr/livres-developpement-personnel/realise-ton-reve-michel-belanger-359  \n",
      "\n"
     ]
    },
    {
     "name": "stderr",
     "output_type": "stream",
     "text": [
      "\r",
      "  1% (  206 of 14312) |                                                            | Elapsed Time: 0:05:29 ETA: 3:47:01"
     ]
    },
    {
     "name": "stdout",
     "output_type": "stream",
     "text": [
      "Article `download()` failed with 404 Client Error: Not Found for url: https://www.lanutrition.fr/%0A%20%20%0A%20%20%20%20https:/www.nutrivi.fr/gestion-du-stress/6-ordonnances-anti-stress-pierre-setbon-143%20%20%0A on URL http://www.lanutrition.fr/\n",
      "  \n",
      "    https:/www.nutrivi.fr/gestion-du-stress/6-ordonnances-anti-stress-pierre-setbon-143  \n",
      "\n"
     ]
    },
    {
     "name": "stderr",
     "output_type": "stream",
     "text": [
      "\r",
      "  1% (  207 of 14312) |                                                            | Elapsed Time: 0:05:29 ETA: 3:47:15"
     ]
    },
    {
     "name": "stdout",
     "output_type": "stream",
     "text": [
      "Article `download()` failed with 404 Client Error: Not Found for url: https://www.lanutrition.fr/%0A%20%20%0A%20%20%20%20https:/www.nutrivi.fr/livres-developpement-personnel/fck-la-serenite-dr-m-bennett-197%20%20%0A on URL http://www.lanutrition.fr/\n",
      "  \n",
      "    https:/www.nutrivi.fr/livres-developpement-personnel/fck-la-serenite-dr-m-bennett-197  \n",
      "\n"
     ]
    },
    {
     "name": "stderr",
     "output_type": "stream",
     "text": [
      "\r",
      "  1% (  208 of 14312) |                                                            | Elapsed Time: 0:05:30 ETA: 3:47:46"
     ]
    },
    {
     "name": "stdout",
     "output_type": "stream",
     "text": [
      "Article `download()` failed with 404 Client Error: Not Found for url: https://www.lanutrition.fr/%0A%20%20%0A%20%20%20%20https:/www.nutrivi.fr/complements-alimentaires-forme-energie/multivitamines-vm30-120-cp-30-jours-671%20%20%0A on URL https://www.lanutrition.fr/\n",
      "  \n",
      "    https:/www.nutrivi.fr/complements-alimentaires-forme-energie/multivitamines-vm30-120-cp-30-jours-671  \n",
      "\n",
      "Article `download()` failed with 404 Client Error: Not Found for url: https://www.lanutrition.fr/%0A%20%20%0A%20%20%20%20https:/www.nutrivi.fr/complements-alimentaires-forme-energie/multivitamines-vm30-120-cp-30-jours-729%20%20%0A on URL https://www.lanutrition.fr/\n",
      "  \n",
      "    https:/www.nutrivi.fr/complements-alimentaires-forme-energie/multivitamines-vm30-120-cp-30-jours-729  \n",
      "\n"
     ]
    },
    {
     "name": "stderr",
     "output_type": "stream",
     "text": [
      "\r",
      "  1% (  209 of 14312) |                                                            | Elapsed Time: 0:05:31 ETA: 3:28:30\r",
      "  1% (  210 of 14312) |                                                            | Elapsed Time: 0:05:31 ETA: 3:08:44"
     ]
    },
    {
     "name": "stdout",
     "output_type": "stream",
     "text": [
      "Article `download()` failed with 404 Client Error: Not Found for url: https://www.lanutrition.fr/%0A%20%20%0A%20%20%20%20https:/www.nutrivi.fr/gestion-du-stress/magnesium-stress-mag-120-cp-cofacteurs-719%20%20%0A on URL https://www.lanutrition.fr/\n",
      "  \n",
      "    https:/www.nutrivi.fr/gestion-du-stress/magnesium-stress-mag-120-cp-cofacteurs-719  \n",
      "\n",
      "Article `download()` failed with 404 Client Error: Not Found for url: https://www.lanutrition.fr/%0A%20%20%0A%20%20%20%20https:/www.nutrivi.fr/index-glycemique/guide-des-index-glycemiques-collectif-lanutritionfr-593%20%20%0A on URL https://www.lanutrition.fr/\n",
      "  \n",
      "    https:/www.nutrivi.fr/index-glycemique/guide-des-index-glycemiques-collectif-lanutritionfr-593  \n"
     ]
    },
    {
     "name": "stderr",
     "output_type": "stream",
     "text": [
      "\r",
      "  1% (  211 of 14312) |                                                            | Elapsed Time: 0:05:31 ETA: 2:49:19\r",
      "  1% (  212 of 14312) |                                                            | Elapsed Time: 0:05:31 ETA: 2:27:37\r",
      "  1% (  213 of 14312) |                                                            | Elapsed Time: 0:05:31 ETA: 2:06:44"
     ]
    },
    {
     "name": "stdout",
     "output_type": "stream",
     "text": [
      "\n",
      "Article `download()` failed with 404 Client Error: Not Found for url: https://www.lanutrition.fr/%0A%20%20%0A%20%20%20%20https:/www.nutrivi.fr/gestion-du-stress/magnesium-stress-mag-120-cp-cofacteurs-93%20%20%0A on URL https://www.lanutrition.fr/\n",
      "  \n",
      "    https:/www.nutrivi.fr/gestion-du-stress/magnesium-stress-mag-120-cp-cofacteurs-93  \n",
      "\n",
      "Article `download()` failed with 404 Client Error: Not Found for url: https://www.lanutrition.fr/%0A%20%20%0A%20%20%20%20https:/www.nutrivi.fr/ig-index-glycemique/le-nouveau-regime-ig-angelique-houlbert-299%20%20%0A on URL https://www.lanutrition.fr/\n",
      "  \n",
      "    https:/www.nutrivi.fr/ig-index-glycemique/le-nouveau-regime-ig-angelique-houlbert-299  \n",
      "\n"
     ]
    },
    {
     "name": "stderr",
     "output_type": "stream",
     "text": [
      "\r",
      "  1% (  214 of 14312) |                                                            | Elapsed Time: 0:05:32 ETA: 1:45:30\r",
      "  1% (  215 of 14312) |                                                            | Elapsed Time: 0:05:32 ETA: 1:25:40"
     ]
    },
    {
     "name": "stdout",
     "output_type": "stream",
     "text": [
      "Article `download()` failed with 404 Client Error: Not Found for url: https://www.lanutrition.fr/%0A%20%20%0A%20%20%20%20https:/www.nutrivi.fr/livres-regime-ig-index-glycemique/guide-des-index-glycemiques-collectif-lanutritionfr-217%20%20%0A on URL https://www.lanutrition.fr/\n",
      "  \n",
      "    https:/www.nutrivi.fr/livres-regime-ig-index-glycemique/guide-des-index-glycemiques-collectif-lanutritionfr-217  \n",
      "\n",
      "Article `download()` failed with 404 Client Error: Not Found for url: https://www.lanutrition.fr/%0A%20%20%0A%20%20%20%20https:/www.nutrivi.fr/ig-index-glycemique/pack-regime-index-glycemique-ig-elvire-nerin-339%20%20%0A on URL https://www.lanutrition.fr/\n",
      "  \n",
      "    https:/www.nutrivi.fr/ig-index-glycemique/pack-regime-index-glycemique-ig-elvire-nerin-339  \n",
      "\n",
      "Article `download()` failed with 404 Client Error: Not Found for url: https://www.lanutrition.fr/%0A%20%20%0A%20%20%20%20https:/www.nutrivi.fr/livres-recettes/je-mange-mediterraneen-au-quotidien-dr-guy-avril-831%20%20%0A on URL https://www.lanutrition.fr/\n",
      "  \n",
      "    https:/www.nutrivi.fr/livres-recettes/je-mange-mediterraneen-au-quotidien-dr-guy-avril-831  \n",
      "\n"
     ]
    },
    {
     "name": "stderr",
     "output_type": "stream",
     "text": [
      "\r",
      "  1% (  216 of 14312) |                                                            | Elapsed Time: 0:05:32 ETA: 1:07:29\r",
      "  1% (  217 of 14312) |                                                            | Elapsed Time: 0:05:32 ETA: 0:47:37"
     ]
    },
    {
     "name": "stdout",
     "output_type": "stream",
     "text": [
      "Article `download()` failed with 404 Client Error: Not Found for url: https://www.lanutrition.fr/%0A%20%20%0A%20%20%20%20https:/www.nutrivi.fr/minceur/le-fasting-ebook-format-epub-jb-rives-755%20%20%0A on URL https://www.lanutrition.fr/\n",
      "  \n",
      "    https:/www.nutrivi.fr/minceur/le-fasting-ebook-format-epub-jb-rives-755  \n",
      "\n"
     ]
    },
    {
     "name": "stderr",
     "output_type": "stream",
     "text": [
      "\r",
      "  1% (  218 of 14312) |                                                            | Elapsed Time: 0:05:32 ETA: 0:47:26"
     ]
    },
    {
     "name": "stdout",
     "output_type": "stream",
     "text": [
      "Article `download()` failed with 404 Client Error: Not Found for url: https://www.lanutrition.fr/%0A%20%20%0A%20%20%20%20https:/www.nutrivi.fr/index-glycemique/100-aliments-ig-a-volonte-angelique-houlbert-429%20%20%0A on URL https://www.lanutrition.fr/\n",
      "  \n",
      "    https:/www.nutrivi.fr/index-glycemique/100-aliments-ig-a-volonte-angelique-houlbert-429  \n",
      "\n"
     ]
    },
    {
     "name": "stderr",
     "output_type": "stream",
     "text": [
      "\r",
      "  1% (  219 of 14312) |                                                            | Elapsed Time: 0:05:33 ETA: 0:48:41"
     ]
    },
    {
     "name": "stdout",
     "output_type": "stream",
     "text": [
      "Article `download()` failed with 404 Client Error: Not Found for url: https://www.lanutrition.fr/%0A%20%20%0A%20%20%20%20https:/www.nutrivi.fr/complements-alimentires-potassium/citrate-de-potassium-lanutritionfr-120-gelules-695%20%20%0A on URL http://www.lanutrition.fr/\n",
      "  \n",
      "    https:/www.nutrivi.fr/complements-alimentires-potassium/citrate-de-potassium-lanutritionfr-120-gelules-695  \n",
      "\n"
     ]
    },
    {
     "name": "stderr",
     "output_type": "stream",
     "text": [
      "\r",
      "  1% (  220 of 14312) |                                                            | Elapsed Time: 0:05:34 ETA: 1:08:30"
     ]
    },
    {
     "name": "stdout",
     "output_type": "stream",
     "text": [
      "Article `download()` failed with 404 Client Error: Not Found for url: https://www.lanutrition.fr/%0A%20%20%0A%20%20%20%20https:/www.nutrivi.fr/complements-alimentaires-antioxydants/vitamine-c-360-bioflavonoides-action-prolongee-127%20%20%0A on URL http://www.lanutrition.fr/\n",
      "  \n",
      "    https:/www.nutrivi.fr/complements-alimentaires-antioxydants/vitamine-c-360-bioflavonoides-action-prolongee-127  \n",
      "\n"
     ]
    },
    {
     "name": "stderr",
     "output_type": "stream",
     "text": [
      "\r",
      "  1% (  221 of 14312) |                                                            | Elapsed Time: 0:05:35 ETA: 1:28:08"
     ]
    },
    {
     "name": "stdout",
     "output_type": "stream",
     "text": [
      "Article `download()` failed with 404 Client Error: Not Found for url: https://www.lanutrition.fr/%0A%20%20%0A%20%20%20%20https:/www.nutrivi.fr/complements-alimentaires-forme-energie/vitamine-c-liposomiale-3d-50ml-789%20%20%0A on URL http://www.lanutrition.fr/\n",
      "  \n",
      "    https:/www.nutrivi.fr/complements-alimentaires-forme-energie/vitamine-c-liposomiale-3d-50ml-789  \n",
      "\n"
     ]
    },
    {
     "name": "stderr",
     "output_type": "stream",
     "text": [
      "\r",
      "  1% (  222 of 14312) |                                                            | Elapsed Time: 0:05:36 ETA: 1:48:28"
     ]
    },
    {
     "name": "stdout",
     "output_type": "stream",
     "text": [
      "Article `download()` failed with 404 Client Error: Not Found for url: https://www.lanutrition.fr/%0A%20%20%0A%20%20%20%20https:/www.nutrivi.fr/livres-sante-naturelle/potassium-mode-d-emploi-dr-philippe-veroli-347%20%20%0A on URL http://www.lanutrition.fr/\n",
      "  \n",
      "    https:/www.nutrivi.fr/livres-sante-naturelle/potassium-mode-d-emploi-dr-philippe-veroli-347  \n",
      "\n"
     ]
    },
    {
     "name": "stderr",
     "output_type": "stream",
     "text": [
      "\r",
      "  1% (  223 of 14312) |                                                            | Elapsed Time: 0:05:37 ETA: 2:07:52"
     ]
    },
    {
     "name": "stdout",
     "output_type": "stream",
     "text": [
      "Article `download()` failed with 404 Client Error: Not Found for url: https://www.lanutrition.fr/%0A%20%20%0A%20%20%20%20https:/www.nutrivi.fr/livres-nutrition/sucre-l-amere-verite-dr-robert-lustig-825%20%20%0A on URL http://www.lanutrition.fr/\n",
      "  \n",
      "    https:/www.nutrivi.fr/livres-nutrition/sucre-l-amere-verite-dr-robert-lustig-825  \n",
      "\n"
     ]
    },
    {
     "name": "stderr",
     "output_type": "stream",
     "text": [
      "\r",
      "  1% (  224 of 14312) |                                                            | Elapsed Time: 0:05:37 ETA: 2:27:55"
     ]
    },
    {
     "name": "stdout",
     "output_type": "stream",
     "text": [
      "Article `download()` failed with 404 Client Error: Not Found for url: https://www.lanutrition.fr/%0A%20%20%0A%20%20%20%20https:/www.nutrivi.fr/nutrition/maigrir-avec-la-nutrition-comportementale-dr-eric-menat-319%20%20%0A on URL http://www.lanutrition.fr/\n",
      "  \n",
      "    https:/www.nutrivi.fr/nutrition/maigrir-avec-la-nutrition-comportementale-dr-eric-menat-319  \n",
      "\n"
     ]
    },
    {
     "name": "stderr",
     "output_type": "stream",
     "text": [
      "\r",
      "  1% (  225 of 14312) |                                                            | Elapsed Time: 0:05:38 ETA: 2:45:27"
     ]
    },
    {
     "name": "stdout",
     "output_type": "stream",
     "text": [
      "Article `download()` failed with 404 Client Error: Not Found for url: https://www.lanutrition.fr/%0A%20%20%0A%20%20%20%20https:/www.nutrivi.fr/minceur/le-regime-hormone-dr-thierry-hertoghe-307%20%20%0A on URL http://www.lanutrition.fr/\n",
      "  \n",
      "    https:/www.nutrivi.fr/minceur/le-regime-hormone-dr-thierry-hertoghe-307  \n",
      "\n"
     ]
    },
    {
     "name": "stderr",
     "output_type": "stream",
     "text": [
      "\r",
      "  1% (  226 of 14312) |                                                            | Elapsed Time: 0:05:39 ETA: 3:05:41"
     ]
    },
    {
     "name": "stdout",
     "output_type": "stream",
     "text": [
      "Article `download()` failed with 404 Client Error: Not Found for url: https://www.lanutrition.fr/%0A%20%20%0A%20%20%20%20https:/www.nutrivi.fr/livres-minceur/pourquoi-on-grossit-gary-taubes-349%20%20%0A on URL http://www.lanutrition.fr/\n",
      "  \n",
      "    https:/www.nutrivi.fr/livres-minceur/pourquoi-on-grossit-gary-taubes-349  \n",
      "\n"
     ]
    },
    {
     "name": "stderr",
     "output_type": "stream",
     "text": [
      "\r",
      "  1% (  227 of 14312) |                                                            | Elapsed Time: 0:05:40 ETA: 3:25:27"
     ]
    },
    {
     "name": "stdout",
     "output_type": "stream",
     "text": [
      "Article `download()` failed with 404 Client Error: Not Found for url: https://www.lanutrition.fr/%0A%20%20%0A%20%20%20%20https:/www.nutrivi.fr/minceur/le-nouveau-regime-atkins-drs-westman-phinney-volek-297%20%20%0A on URL http://www.lanutrition.fr/\n",
      "  \n",
      "    https:/www.nutrivi.fr/minceur/le-nouveau-regime-atkins-drs-westman-phinney-volek-297  \n",
      "\n"
     ]
    },
    {
     "name": "stderr",
     "output_type": "stream",
     "text": [
      "\r",
      "  1% (  228 of 14312) |                                                            | Elapsed Time: 0:05:41 ETA: 3:44:04"
     ]
    },
    {
     "name": "stdout",
     "output_type": "stream",
     "text": [
      "Article `download()` failed with 404 Client Error: Not Found for url: https://www.lanutrition.fr/%0A%20%20%0A%20%20%20%20https:/www.nutrivi.fr/livres-minceur/le-guide-de-la-chirurgie-de-l-obesite-elodie-sentenac-287%20%20%0A on URL http://www.lanutrition.fr/\n",
      "  \n",
      "    https:/www.nutrivi.fr/livres-minceur/le-guide-de-la-chirurgie-de-l-obesite-elodie-sentenac-287  \n",
      "\n"
     ]
    },
    {
     "name": "stderr",
     "output_type": "stream",
     "text": [
      "\r",
      "  1% (  229 of 14312) |                                                            | Elapsed Time: 0:05:42 ETA: 3:44:26"
     ]
    },
    {
     "name": "stdout",
     "output_type": "stream",
     "text": [
      "Article `download()` failed with 400 Client Error: Bad Request for url: https://ncats.nih.gov/%0D%0A%20%20%0D%0A%20%20%20%20/news/releases/2017/michael-kurilla%20%20%0D%0A on URL https://ncats.nih.gov/\r\n",
      "  \r\n",
      "    /news/releases/2017/michael-kurilla  \r\n",
      "\n"
     ]
    },
    {
     "name": "stderr",
     "output_type": "stream",
     "text": [
      "  2% (  335 of 14312) |#                                                    | Elapsed Time: 0:15:00 ETA: 1 day, 5:21:28"
     ]
    },
    {
     "name": "stdout",
     "output_type": "stream",
     "text": [
      "Article `download()` failed with 404 Client Error: Not Found for url: http://wei.39.net/a/20101215/1567001.html%20%0A%0A on URL http://wei.39.net/a/20101215/1567001.html \n",
      "\n",
      "\n"
     ]
    },
    {
     "name": "stderr",
     "output_type": "stream",
     "text": [
      "\r",
      "  2% (  336 of 14312) |#                                                    | Elapsed Time: 0:15:01 ETA: 1 day, 3:29:27"
     ]
    },
    {
     "name": "stdout",
     "output_type": "stream",
     "text": [
      "Article `download()` failed with 404 Client Error: Not Found for url: http://wei.39.net/a/20101220/1567011.html%20%0A%0A on URL http://wei.39.net/a/20101220/1567011.html \n",
      "\n",
      "\n"
     ]
    },
    {
     "name": "stderr",
     "output_type": "stream",
     "text": [
      "\r",
      "  2% (  337 of 14312) |#                                                    | Elapsed Time: 0:15:02 ETA: 1 day, 1:31:45"
     ]
    },
    {
     "name": "stdout",
     "output_type": "stream",
     "text": [
      "Article `download()` failed with 404 Client Error: Not Found for url: http://xh.39.net//a/20101111/1540762.html%20%0A%0A on URL http://xh.39.net//a/20101111/1540762.html \n",
      "\n",
      "\n"
     ]
    },
    {
     "name": "stderr",
     "output_type": "stream",
     "text": [
      "\r",
      "  2% (  338 of 14312) |#                                                          | Elapsed Time: 0:15:03 ETA: 23:51:54"
     ]
    },
    {
     "name": "stdout",
     "output_type": "stream",
     "text": [
      "Article `download()` failed with 404 Client Error: Not Found for url: http://xh.39.net//a/20101216/1566995.html%20%0A%0A on URL http://xh.39.net//a/20101216/1566995.html \n",
      "\n",
      "\n"
     ]
    },
    {
     "name": "stderr",
     "output_type": "stream",
     "text": [
      "  2% (  340 of 14312) |#                                                          | Elapsed Time: 0:15:18 ETA: 20:51:53"
     ]
    },
    {
     "name": "stdout",
     "output_type": "stream",
     "text": [
      "Article `download()` failed with 404 Client Error: Not Found for url: http://zf.39.net/news/%0A on URL http://zf.39.net/news/\n",
      "\n"
     ]
    },
    {
     "name": "stderr",
     "output_type": "stream",
     "text": [
      "  2% (  346 of 14312) |#                                                           | Elapsed Time: 0:15:25 ETA: 9:48:54"
     ]
    },
    {
     "name": "stdout",
     "output_type": "stream",
     "text": [
      "Article `download()` failed with 404 Client Error: Not Found for url: https://www.elsevier.com/%20%20/reviewers/becoming-a-reviewer-how-and-why%20%20 on URL http://www.elsevier.com/\r\n",
      "/reviewers/becoming-a-reviewer-how-and-why\r\n",
      "\n"
     ]
    },
    {
     "name": "stderr",
     "output_type": "stream",
     "text": [
      "  2% (  401 of 14312) |#                                                           | Elapsed Time: 0:16:52 ETA: 5:27:38"
     ]
    },
    {
     "name": "stdout",
     "output_type": "stream",
     "text": [
      "Article `download()` failed with 404 Client Error: Not Found for url: https://www.nhs.uk/news/neurology/could-blood-test-middle-age-predict-dementia-risk%20 on URL http://www.nhs.uk/news/neurology/could-blood-test-middle-age-predict-dementia-risk \n"
     ]
    },
    {
     "name": "stderr",
     "output_type": "stream",
     "text": [
      "  3% (  437 of 14312) |#                                                           | Elapsed Time: 0:17:16 ETA: 3:52:31"
     ]
    },
    {
     "name": "stdout",
     "output_type": "stream",
     "text": [
      "Article `download()` failed with 404 Client Error: Not Found for url: https://portal.abczdrowie.pl/p/apap-przeziebienie-us-pharmacia-sp-z-o-o on URL http://www.abczdrowie.pl/p/apap-przeziebienie-us-pharmacia-sp-z-o-o\n"
     ]
    },
    {
     "name": "stderr",
     "output_type": "stream",
     "text": [
      "\r",
      "  3% (  438 of 14312) |#                                                           | Elapsed Time: 0:17:17 ETA: 3:22:58"
     ]
    },
    {
     "name": "stdout",
     "output_type": "stream",
     "text": [
      "Article `download()` failed with 404 Client Error: Not Found for url: https://portal.abczdrowie.pl/p/vicks-symptomed-complete-cytrynowy-wick-pharma-zweigniederlassung-der-procter-gamble-gmbh on URL http://www.abczdrowie.pl/p/vicks-symptomed-complete-cytrynowy-wick-pharma-zweigniederlassung-der-procter-gamble-gmbh\n"
     ]
    },
    {
     "name": "stderr",
     "output_type": "stream",
     "text": [
      "\r",
      "  3% (  439 of 14312) |#                                                           | Elapsed Time: 0:17:18 ETA: 3:19:43"
     ]
    },
    {
     "name": "stdout",
     "output_type": "stream",
     "text": [
      "Article `download()` failed with 404 Client Error: Not Found for url: https://portal.abczdrowie.pl/p/gripex-us-pharmacia-sp-z-o-o on URL http://www.abczdrowie.pl/p/gripex-us-pharmacia-sp-z-o-o\n"
     ]
    },
    {
     "name": "stderr",
     "output_type": "stream",
     "text": [
      "\r",
      "  3% (  440 of 14312) |#                                                           | Elapsed Time: 0:17:18 ETA: 3:16:43"
     ]
    },
    {
     "name": "stdout",
     "output_type": "stream",
     "text": [
      "Article `download()` failed with 404 Client Error: Not Found for url: https://portal.abczdrowie.pl/p/apap-us-pharmacia-sp-z-o-o on URL http://www.abczdrowie.pl/p/apap-us-pharmacia-sp-z-o-o\n"
     ]
    },
    {
     "name": "stderr",
     "output_type": "stream",
     "text": [
      "\r",
      "  3% (  441 of 14312) |#                                                           | Elapsed Time: 0:17:19 ETA: 3:10:31"
     ]
    },
    {
     "name": "stdout",
     "output_type": "stream",
     "text": [
      "Article `download()` failed with 404 Client Error: Not Found for url: https://portal.abczdrowie.pl/p/nurofen-plus-reckitt-benckiser-poland-s-a on URL http://www.abczdrowie.pl/p/nurofen-plus-reckitt-benckiser-poland-s-a\n"
     ]
    },
    {
     "name": "stderr",
     "output_type": "stream",
     "text": [
      "\r",
      "  3% (  442 of 14312) |#                                                           | Elapsed Time: 0:17:19 ETA: 3:04:26"
     ]
    },
    {
     "name": "stdout",
     "output_type": "stream",
     "text": [
      "Article `download()` failed with 404 Client Error: Not Found for url: https://portal.abczdrowie.pl/p/no-spa-sanofi-aventis-sp-z-o-o on URL http://www.abczdrowie.pl/p/no-spa-sanofi-aventis-sp-z-o-o\n"
     ]
    },
    {
     "name": "stderr",
     "output_type": "stream",
     "text": [
      "\r",
      "  3% (  443 of 14312) |#                                                           | Elapsed Time: 0:17:20 ETA: 3:01:02"
     ]
    },
    {
     "name": "stdout",
     "output_type": "stream",
     "text": [
      "Article `download()` failed with 404 Client Error: Not Found for url: https://portal.abczdrowie.pl/p/redblocker-aflofarm-farmacja-polska-sp-z-o-o on URL http://www.abczdrowie.pl/p/redblocker-aflofarm-farmacja-polska-sp-z-o-o\n"
     ]
    },
    {
     "name": "stderr",
     "output_type": "stream",
     "text": [
      "\r",
      "  3% (  444 of 14312) |#                                                           | Elapsed Time: 0:17:20 ETA: 2:16:21"
     ]
    },
    {
     "name": "stdout",
     "output_type": "stream",
     "text": [
      "Article `download()` failed with 404 Client Error: Not Found for url: https://portal.abczdrowie.pl/p/perspi-block-aflofarm-farmacja-polska-sp-z-o-o on URL http://www.abczdrowie.pl/p/perspi-block-aflofarm-farmacja-polska-sp-z-o-o\n"
     ]
    },
    {
     "name": "stderr",
     "output_type": "stream",
     "text": [
      "\r",
      "  3% (  445 of 14312) |#                                                           | Elapsed Time: 0:17:21 ETA: 2:19:13"
     ]
    },
    {
     "name": "stdout",
     "output_type": "stream",
     "text": [
      "Article `download()` failed with 404 Client Error: Not Found for url: https://portal.abczdrowie.pl/p/latopic-zel-do-mycia-ciala-i-wlosow-instytut-biotechnologii-surowic-i-szczepionek-biomed-s-a on URL http://www.abczdrowie.pl/p/latopic-zel-do-mycia-ciala-i-wlosow-instytut-biotechnologii-surowic-i-szczepionek-biomed-s-a\n"
     ]
    },
    {
     "name": "stderr",
     "output_type": "stream",
     "text": [
      "\r",
      "  3% (  446 of 14312) |#                                                           | Elapsed Time: 0:17:22 ETA: 2:09:03"
     ]
    },
    {
     "name": "stdout",
     "output_type": "stream",
     "text": [
      "Article `download()` failed with 404 Client Error: Not Found for url: https://portal.abczdrowie.pl/p/asystor-slim-aflofarm-farmacja-polska-sp-z-o-o on URL http://www.abczdrowie.pl/p/asystor-slim-aflofarm-farmacja-polska-sp-z-o-o\n"
     ]
    },
    {
     "name": "stderr",
     "output_type": "stream",
     "text": [
      "\r",
      "  3% (  447 of 14312) |#                                                           | Elapsed Time: 0:17:22 ETA: 2:10:38"
     ]
    },
    {
     "name": "stdout",
     "output_type": "stream",
     "text": [
      "Article `download()` failed with 404 Client Error: Not Found for url: https://portal.abczdrowie.pl/p/olimp-therm-line-s-olimp-laboratories on URL http://www.abczdrowie.pl/p/olimp-therm-line-s-olimp-laboratories\n"
     ]
    },
    {
     "name": "stderr",
     "output_type": "stream",
     "text": [
      "\r",
      "  3% (  448 of 14312) |#                                                           | Elapsed Time: 0:17:23 ETA: 2:06:30"
     ]
    },
    {
     "name": "stdout",
     "output_type": "stream",
     "text": [
      "Article `download()` failed with 404 Client Error: Not Found for url: https://portal.abczdrowie.pl/p/linea-fitness-aflofarm-fabryka-lekow-sp-z-o-o on URL http://www.abczdrowie.pl/p/linea-fitness-aflofarm-fabryka-lekow-sp-z-o-o\n"
     ]
    },
    {
     "name": "stderr",
     "output_type": "stream",
     "text": [
      "\r",
      "  3% (  449 of 14312) |#                                                           | Elapsed Time: 0:17:23 ETA: 2:06:35"
     ]
    },
    {
     "name": "stdout",
     "output_type": "stream",
     "text": [
      "Article `download()` failed with 404 Client Error: Not Found for url: https://portal.abczdrowie.pl/p/ulgix-regulacja-przedsiebiorstwo-produkcji-farmaceutycznej-hasco-lek-s-a on URL http://www.abczdrowie.pl/p/ulgix-regulacja-przedsiebiorstwo-produkcji-farmaceutycznej-hasco-lek-s-a\n"
     ]
    },
    {
     "name": "stderr",
     "output_type": "stream",
     "text": [
      "\r",
      "  3% (  450 of 14312) |#                                                           | Elapsed Time: 0:17:24 ETA: 2:08:32"
     ]
    },
    {
     "name": "stdout",
     "output_type": "stream",
     "text": [
      "Article `download()` failed with 404 Client Error: Not Found for url: https://portal.abczdrowie.pl/p/verdin-complexx-us-pharmacia-sp-z-o-o on URL http://www.abczdrowie.pl/p/verdin-complexx-us-pharmacia-sp-z-o-o\n"
     ]
    },
    {
     "name": "stderr",
     "output_type": "stream",
     "text": [
      "\r",
      "  3% (  451 of 14312) |#                                                           | Elapsed Time: 0:17:24 ETA: 2:08:11"
     ]
    },
    {
     "name": "stdout",
     "output_type": "stream",
     "text": [
      "Article `download()` failed with 404 Client Error: Not Found for url: https://portal.abczdrowie.pl/p/xenna-balance-usp-zdrowie-sp-z-o-o on URL http://www.abczdrowie.pl/p/xenna-balance-usp-zdrowie-sp-z-o-o\n"
     ]
    },
    {
     "name": "stderr",
     "output_type": "stream",
     "text": [
      "  3% (  453 of 14312) |#                                                           | Elapsed Time: 0:17:25 ETA: 2:07:07"
     ]
    },
    {
     "name": "stdout",
     "output_type": "stream",
     "text": [
      "Article `download()` failed with 404 Client Error: Not Found for url: https://portal.abczdrowie.pl/p/valerin-sen-aflofarm-fabryka-lekow-sp-z-o-o on URL http://www.abczdrowie.pl/p/valerin-sen-aflofarm-fabryka-lekow-sp-z-o-o\n"
     ]
    },
    {
     "name": "stderr",
     "output_type": "stream",
     "text": [
      "\r",
      "  3% (  454 of 14312) |#                                                           | Elapsed Time: 0:17:26 ETA: 2:09:26"
     ]
    },
    {
     "name": "stdout",
     "output_type": "stream",
     "text": [
      "Article `download()` failed with 404 Client Error: Not Found for url: https://portal.abczdrowie.pl/p/zdrovit-complex-multivitamina-i-mineraly-n-p-zdrovit-sp-z-o-o on URL http://www.abczdrowie.pl/p/zdrovit-complex-multivitamina-i-mineraly-n-p-zdrovit-sp-z-o-o\n"
     ]
    },
    {
     "name": "stderr",
     "output_type": "stream",
     "text": [
      "\r",
      "  3% (  455 of 14312) |#                                                           | Elapsed Time: 0:17:27 ETA: 2:08:44"
     ]
    },
    {
     "name": "stdout",
     "output_type": "stream",
     "text": [
      "Article `download()` failed with 404 Client Error: Not Found for url: https://portal.abczdrowie.pl/p/vita-miner-a-e-forte-aflofarm-fabryka-lekow-sp-z-o-o on URL http://www.abczdrowie.pl/p/vita-miner-a-e-forte-aflofarm-fabryka-lekow-sp-z-o-o\n"
     ]
    },
    {
     "name": "stderr",
     "output_type": "stream",
     "text": [
      "\r",
      "  3% (  456 of 14312) |#                                                           | Elapsed Time: 0:17:27 ETA: 2:07:54"
     ]
    },
    {
     "name": "stdout",
     "output_type": "stream",
     "text": [
      "Article `download()` failed with 404 Client Error: Not Found for url: https://portal.abczdrowie.pl/p/centrum-kompletne-od-a-do-z-multiefekt-pfizer-trading-polska-sp-z-o-o on URL http://www.abczdrowie.pl/p/centrum-kompletne-od-a-do-z-multiefekt-pfizer-trading-polska-sp-z-o-o\n"
     ]
    },
    {
     "name": "stderr",
     "output_type": "stream",
     "text": [
      "\r",
      "  3% (  457 of 14312) |#                                                           | Elapsed Time: 0:17:28 ETA: 2:13:39"
     ]
    },
    {
     "name": "stdout",
     "output_type": "stream",
     "text": [
      "Article `download()` failed with 404 Client Error: Not Found for url: https://portal.abczdrowie.pl/p/allertec-wzf-warszawskie-zakl-farm-polfa-s-a on URL http://www.abczdrowie.pl/p/allertec-wzf-warszawskie-zakl-farm-polfa-s-a\n"
     ]
    },
    {
     "name": "stderr",
     "output_type": "stream",
     "text": [
      "\r",
      "  3% (  458 of 14312) |#                                                           | Elapsed Time: 0:17:28 ETA: 2:15:36"
     ]
    },
    {
     "name": "stdout",
     "output_type": "stream",
     "text": [
      "Article `download()` failed with 404 Client Error: Not Found for url: https://portal.abczdrowie.pl/p/claritine-active-bayer-sp-z-o-o on URL http://www.abczdrowie.pl/p/claritine-active-bayer-sp-z-o-o\n"
     ]
    },
    {
     "name": "stderr",
     "output_type": "stream",
     "text": [
      "\r",
      "  3% (  459 of 14312) |#                                                           | Elapsed Time: 0:17:29 ETA: 2:16:27"
     ]
    },
    {
     "name": "stdout",
     "output_type": "stream",
     "text": [
      "Article `download()` failed with 404 Client Error: Not Found for url: https://portal.abczdrowie.pl/p/bebilon-1-modyf-ml-nutricia-polska-sp-z-o-o on URL http://www.abczdrowie.pl/p/bebilon-1-modyf-ml-nutricia-polska-sp-z-o-o\n"
     ]
    },
    {
     "name": "stderr",
     "output_type": "stream",
     "text": [
      "\r",
      "  3% (  460 of 14312) |#                                                           | Elapsed Time: 0:17:30 ETA: 2:17:37"
     ]
    },
    {
     "name": "stdout",
     "output_type": "stream",
     "text": [
      "Article `download()` failed with 404 Client Error: Not Found for url: https://portal.abczdrowie.pl/p/mleko-enfamil-3-premium-od-1-3-lat-mead-johnson-nutrition-poland-sp-z-o-o on URL http://www.abczdrowie.pl/p/mleko-enfamil-3-premium-od-1-3-lat-mead-johnson-nutrition-poland-sp-z-o-o\n"
     ]
    },
    {
     "name": "stderr",
     "output_type": "stream",
     "text": [
      "  3% (  523 of 14312) |##                                                          | Elapsed Time: 0:18:24 ETA: 2:44:41"
     ]
    },
    {
     "name": "stdout",
     "output_type": "stream",
     "text": [
      "Article `download()` failed with 404 Client Error: Not Found for url: http://www.afro.who.int/news/madagascar-plague-mitigating-risk-regional-spread%20 on URL http://www.afro.who.int/news/madagascar-plague-mitigating-risk-regional-spread \n"
     ]
    },
    {
     "name": "stderr",
     "output_type": "stream",
     "text": [
      "\r",
      "  3% (  524 of 14312) |##                                                          | Elapsed Time: 0:18:25 ETA: 2:49:49"
     ]
    },
    {
     "name": "stdout",
     "output_type": "stream",
     "text": [
      "Article `download()` failed with 404 Client Error: Not Found for url: http://www.afro.who.int/news/who-supports-containment-rare-virus-uganda-kenya-border%20 on URL http://www.afro.who.int/news/who-supports-containment-rare-virus-uganda-kenya-border \n"
     ]
    },
    {
     "name": "stderr",
     "output_type": "stream",
     "text": [
      "\r",
      "  3% (  525 of 14312) |##                                                          | Elapsed Time: 0:18:26 ETA: 2:54:40"
     ]
    },
    {
     "name": "stdout",
     "output_type": "stream",
     "text": [
      "Article `download()` failed with 404 Client Error: Not Found for url: http://www.afro.who.int/news/supporting-mental-health-needs-frontline-responders%20 on URL http://www.afro.who.int/news/supporting-mental-health-needs-frontline-responders \n"
     ]
    },
    {
     "name": "stderr",
     "output_type": "stream",
     "text": [
      "\r",
      "  3% (  526 of 14312) |##                                                          | Elapsed Time: 0:18:26 ETA: 3:05:15"
     ]
    },
    {
     "name": "stdout",
     "output_type": "stream",
     "text": [
      "Article `download()` failed with 404 Client Error: Not Found for url: http://www.afro.who.int/news/who-provides-12-million-antibiotics-fight-plague-madagascar%20 on URL http://www.afro.who.int/news/who-provides-12-million-antibiotics-fight-plague-madagascar \n"
     ]
    },
    {
     "name": "stderr",
     "output_type": "stream",
     "text": [
      "\r",
      "  3% (  527 of 14312) |##                                                          | Elapsed Time: 0:18:27 ETA: 3:11:54"
     ]
    },
    {
     "name": "stdout",
     "output_type": "stream",
     "text": [
      "Article `download()` failed with 404 Client Error: Not Found for url: http://www.afro.who.int/news/one-year-after-nigeria-emergency-declaration%20 on URL http://www.afro.who.int/news/one-year-after-nigeria-emergency-declaration \n"
     ]
    },
    {
     "name": "stderr",
     "output_type": "stream",
     "text": [
      "  4% (  671 of 14312) |##                                                          | Elapsed Time: 0:20:34 ETA: 2:23:03"
     ]
    },
    {
     "name": "stdout",
     "output_type": "stream",
     "text": [
      "Article `download()` failed with 400 Client Error: Bad Request for url: http://ypk.familydoctor.com.cn/disease_259_0_0_0_0_1.ht%0A%0Aml on URL http://ypk.familydoctor.com.cn/disease_259_0_0_0_0_1.ht\n",
      "\n",
      "ml\n"
     ]
    },
    {
     "name": "stderr",
     "output_type": "stream",
     "text": [
      "\r",
      "  4% (  672 of 14312) |##                                                          | Elapsed Time: 0:20:38 ETA: 3:57:19"
     ]
    },
    {
     "name": "stdout",
     "output_type": "stream",
     "text": [
      "Article `download()` failed with 400 Client Error: Bad Request for url: http://ypk.familydoctor.com.cn/disease_472_0_0_0_0_1.ht%0A%0Aml on URL http://ypk.familydoctor.com.cn/disease_472_0_0_0_0_1.ht\n",
      "\n",
      "ml\n"
     ]
    },
    {
     "name": "stderr",
     "output_type": "stream",
     "text": [
      "\r",
      "  4% (  673 of 14312) |##                                                          | Elapsed Time: 0:20:39 ETA: 3:59:28"
     ]
    },
    {
     "name": "stdout",
     "output_type": "stream",
     "text": [
      "Article `download()` failed with 400 Client Error: Bad Request for url: http://ypk.familydoctor.com.cn/disease_15_0_0_0_0_1.htm%0A%0Al on URL http://ypk.familydoctor.com.cn/disease_15_0_0_0_0_1.htm\n",
      "\n",
      "l\n"
     ]
    },
    {
     "name": "stderr",
     "output_type": "stream",
     "text": [
      "\r",
      "  4% (  674 of 14312) |##                                                          | Elapsed Time: 0:20:40 ETA: 4:01:58"
     ]
    },
    {
     "name": "stdout",
     "output_type": "stream",
     "text": [
      "Article `download()` failed with 400 Client Error: Bad Request for url: http://ypk.familydoctor.com.cn/disease_138_0_0_0_0_1.ht%0A%0Aml on URL http://ypk.familydoctor.com.cn/disease_138_0_0_0_0_1.ht\n",
      "\n",
      "ml\n"
     ]
    },
    {
     "name": "stderr",
     "output_type": "stream",
     "text": [
      "\r",
      "  4% (  675 of 14312) |##                                                          | Elapsed Time: 0:20:40 ETA: 4:01:18"
     ]
    },
    {
     "name": "stdout",
     "output_type": "stream",
     "text": [
      "Article `download()` failed with 400 Client Error: Bad Request for url: http://ypk.familydoctor.com.cn/disease_2755_0_0_0_0_1.h%0A%0Atml on URL http://ypk.familydoctor.com.cn/disease_2755_0_0_0_0_1.h\n",
      "\n",
      "tml\n"
     ]
    },
    {
     "name": "stderr",
     "output_type": "stream",
     "text": [
      "\r",
      "  4% (  676 of 14312) |##                                                          | Elapsed Time: 0:20:41 ETA: 4:02:43"
     ]
    },
    {
     "name": "stdout",
     "output_type": "stream",
     "text": [
      "Article `download()` failed with 400 Client Error: Bad Request for url: http://ypk.familydoctor.com.cn/disease_17_0_0_0_0_1.htm%0A%0Al on URL http://ypk.familydoctor.com.cn/disease_17_0_0_0_0_1.htm\n",
      "\n",
      "l\n"
     ]
    },
    {
     "name": "stderr",
     "output_type": "stream",
     "text": [
      "  6% (  922 of 14312) |###                                                         | Elapsed Time: 0:23:31 ETA: 1:30:19"
     ]
    },
    {
     "name": "stdout",
     "output_type": "stream",
     "text": [
      "Article `download()` failed with 400 Client Error: Bad Request for url: http://tvrehberi.milliyet.com.tr/limon-ve-zeytin/dizi/disney-channel/169315482215201711172030/tvnew/index.htm%0D%0A%20%20 on URL http://tvrehberi.milliyet.com.tr/limon-ve-zeytin/dizi/disney-channel/169315482215201711172030/tvnew/index.htm\r\n",
      "  \n",
      "Article `download()` failed with 400 Client Error: Bad Request for url: http://tvrehberi.milliyet.com.tr/topsy-ve-tim/dizi/minika-cocuk/169162004396201711171930/tvnew/index.htm%0D%0A%20%20 on URL http://tvrehberi.milliyet.com.tr/topsy-ve-tim/dizi/minika-cocuk/169162004396201711171930/tvnew/index.htm\r\n",
      "  \n"
     ]
    },
    {
     "name": "stderr",
     "output_type": "stream",
     "text": [
      "\r",
      "  6% (  923 of 14312) |###                                                         | Elapsed Time: 0:23:31 ETA: 1:24:11\r",
      "  6% (  924 of 14312) |###                                                         | Elapsed Time: 0:23:32 ETA: 1:18:34"
     ]
    },
    {
     "name": "stdout",
     "output_type": "stream",
     "text": [
      "Article `download()` failed with 400 Client Error: Bad Request for url: http://tvrehberi.milliyet.com.tr/sinema/sinema/beyaz-tv/138493191321201711171930/tvnew/index.htm%0D%0A%20%20 on URL http://tvrehberi.milliyet.com.tr/sinema/sinema/beyaz-tv/138493191321201711171930/tvnew/index.htm\r\n",
      "  \n"
     ]
    },
    {
     "name": "stderr",
     "output_type": "stream",
     "text": [
      "  8% ( 1246 of 14312) |#####                                                       | Elapsed Time: 0:28:37 ETA: 2:17:17"
     ]
    },
    {
     "name": "stdout",
     "output_type": "stream",
     "text": [
      "Article `download()` failed with 404 Client Error:  for url: http://kobieta.gazeta.pl/kobieta/1,107881,12811567,Jestem_wdowa_i_tym_nie_zarazam___wywiad_z_Olga_Morawska.html on URL http://kobieta.gazeta.pl/kobieta/1,107881,12811567,Jestem_wdowa_i_tym_nie_zarazam___wywiad_z_Olga_Morawska.html\n"
     ]
    },
    {
     "name": "stderr",
     "output_type": "stream",
     "text": [
      "  8% ( 1262 of 14312) |#####                                                       | Elapsed Time: 0:28:48 ETA: 2:52:28"
     ]
    },
    {
     "name": "stdout",
     "output_type": "stream",
     "text": [
      "Article `download()` failed with 404 Client Error:  for url: http://podroze.gazeta.pl/podroze/7,152805,20124138,siedem-genialnych-miejsc-w-polsce-w-ktorych-wypoczniesz-bez.html on URL http://podroze.gazeta.pl/podroze/7,152805,20124138,siedem-genialnych-miejsc-w-polsce-w-ktorych-wypoczniesz-bez.html\n"
     ]
    },
    {
     "name": "stderr",
     "output_type": "stream",
     "text": [
      "  9% ( 1379 of 14312) |#####                                                       | Elapsed Time: 0:30:21 ETA: 1:16:14"
     ]
    },
    {
     "name": "stdout",
     "output_type": "stream",
     "text": [
      "Article `download()` failed with 404 Client Error: Not Found for url: http://tickers.youm7.com/story/2017/11/17/%D8%A3%D9%88%D9%84-%D8%B5%D9%88%D8%B1-%D9%84%D8%B1%D8%A6%D9%8A%D8%B3-%D8%B2%D9%8A%D9%85%D8%A8%D8%A7%D8%A8%D9%88%D9%89-%D8%A8%D8%B9%D8%AF-%D8%A7%D8%B3%D8%AA%D9%8A%D9%84%D8%A7%D8%A1-%D8%A7%D9%84%D8%AC%D9%8A%D8%B4-%D8%B9%D9%84%D9%89-%D8%A7%D9%84%D8%B3%D9%84%D8%B7%D8%A9/3513611 on URL http://tickers.youm7.com/story/2017/11/17/أول-صور-لرئيس-زيمبابوى-بعد-استيلاء-الجيش-على-السلطة/3513611\n",
      "Article `download()` failed with 404 Client Error: Not Found for url: http://tickers.youm7.com/story/2017/11/17/%D9%88%D8%B2%D9%8A%D8%B1-%D8%A7%D9%84%D8%B1%D9%8A%D8%A7%D8%B6%D8%A9-%D9%8A%D8%B4%D9%87%D8%AF-%D9%85%D9%87%D8%B1%D8%AC%D8%A7%D9%86-%D8%A3%D9%84%D8%B9%D8%A7%D8%A8-%D8%A7%D9%84%D8%B1%D8%AC%D8%A8%D9%89-%D9%88%D9%83%D8%B1%D8%A9-%D8%A7%D9%84%D9%82%D8%AF%D9%85-%D8%A7%D9%84%D8%A3%D9%85%D8%B1%D9%8A%D9%83%D9%8A%D8%A9/3513244 on URL http://tickers.youm7.com/story/2017/11/17/وزير-الرياضة-يشهد-مهرجان-ألعاب-الرجبى-وكرة-القدم-الأمريكية/3513244\n",
      "Article `download()` failed with 404 Client Error: Not Found for url: http://tickers.youm7.com/story/2017/11/17/%D8%A8%D9%86%D8%B2%D9%8A%D9%85%D8%A7-%D9%8A%D9%85%D8%AA%D9%84%D9%83-%D8%B1%D9%82%D9%85%D8%A7-%D8%AE%D8%A7%D8%B5%D8%A7-%D9%81%D9%89-%D9%85%D9%88%D8%A7%D8%AC%D9%87%D8%A7%D8%AA-%D8%A7%D9%84%D8%AF%D9%8A%D8%B1%D8%A8%D9%89-%D8%A8%D8%A7%D9%84%D8%AF%D9%88%D8%B1%D9%89-%D8%A7%D9%84%D8%A5%D8%B3%D8%A8%D8%A7%D9%86%D9%8A/3513599 on URL http://tickers.youm7.com/story/2017/11/17/بنزيما-يمتلك-رقما-خاصا-فى-مواجهات-الديربى-بالدورى-الإسباني/3513599\n",
      "Article `download()` failed with 404 Client Error: Not Found for url: http://tickers.youm7.com/story/2017/11/17/%D8%A7%D9%84%D8%AE%D8%A7%D8%B1%D8%AC%D9%8A%D8%A9-%D9%8A%D9%88%D9%85-%D8%A7%D9%84%D8%AA%D8%B3%D8%A7%D9%85%D8%AD-%D8%AF%D8%B9%D9%88%D8%A9-%D9%84%D9%85%D9%88%D8%A7%D8%AC%D9%87%D8%A9-%D8%A7%D9%84%D9%83%D8%B1%D8%A7%D9%87%D9%8A%D8%A9-%D9%88%D8%A7%D9%84%D9%82%D8%B6%D8%A7%D8%A1-%D8%B9%D9%84%D9%89-%D8%A7%D9%84%D8%A5%D8%B3%D9%84%D8%A7%D9%85%D9%88%D9%81%D9%88%D8%A8%D9%8A%D8%A7/3513607 on URL http://tickers.youm7.com/story/2017/11/17/الخارجية-يوم-التسامح-دعوة-لمواجهة-الكراهية-والقضاء-على-الإسلاموفوبيا/3513607\n",
      "Article `download()` failed with 404 Client Error: Not Found for url: http://tickers.youm7.com/story/2017/11/17/%D9%87%D8%A7%D8%B4%D8%AA%D8%A7%D8%AC-%D9%87%D9%86%D8%AA%D8%AE%D8%A8-%D9%85%D8%AD%D9%85%D9%88%D8%AF-%D8%B7%D8%A7%D9%87%D8%B1-%D8%B6%D9%85%D9%86-%D8%A7%D9%84%D8%A3%D9%83%D8%AB%D8%B1-%D8%AA%D8%AF%D8%A7%D9%88%D9%84%D8%A7%D9%8B-%D8%B9%D9%84%D9%89-%D8%AA%D9%88%D9%8A%D8%AA%D8%B1/3513610 on URL http://tickers.youm7.com/story/2017/11/17/هاشتاج-هنتخب-محمود-طاهر-ضمن-الأكثر-تداولاً-على-تويتر/3513610\n",
      "Article `download()` failed with 404 Client Error: Not Found for url: http://tickers.youm7.com/story/2017/11/17/%D9%85%D9%88%D8%A7%D8%B9%D9%8A%D8%AF-%D9%85%D8%A8%D8%A7%D8%B1%D9%8A%D8%A7%D8%AA-%D8%A7%D9%84%D9%8A%D9%88%D9%85-%D8%A7%D9%84%D8%AC%D9%85%D8%B9%D8%A9-17-11-2017-%D9%81%D9%89-%D8%A7%D9%84%D8%AF%D9%88%D8%B1%D9%89-%D8%A7%D9%84%D9%85%D8%B5%D8%B1%D9%89/3512542 on URL http://tickers.youm7.com/story/2017/11/17/مواعيد-مباريات-اليوم-الجمعة-17-11-2017-فى-الدورى-المصرى/3512542\n"
     ]
    },
    {
     "name": "stderr",
     "output_type": "stream",
     "text": [
      "\r",
      "  9% ( 1381 of 14312) |#####                                                       | Elapsed Time: 0:30:21 ETA: 1:05:23\r",
      "  9% ( 1383 of 14312) |#####                                                       | Elapsed Time: 0:30:21 ETA: 0:56:24"
     ]
    },
    {
     "name": "stdout",
     "output_type": "stream",
     "text": [
      "Article `download()` failed with 404 Client Error: Not Found for url: http://tickers.youm7.com/story/2017/11/17/%D9%88%D9%84%D9%8A%D8%AF-%D8%A3%D8%B2%D8%A7%D8%B1%D9%88-%D8%A7%D9%84%D8%A7%D9%86%D8%AA%D9%82%D8%A7%D8%AF%D8%A7%D8%AA-%D8%AA%D8%AD%D9%81%D8%B2%D9%86%D9%89-%D9%84%D9%84%D8%AA%D8%A3%D9%84%D9%82-%D9%85%D8%B9-%D8%A7%D9%84%D8%A3%D9%87%D9%84%D9%89/3513598 on URL http://tickers.youm7.com/story/2017/11/17/وليد-أزارو-الانتقادات-تحفزنى-للتألق-مع-الأهلى/3513598\n",
      "Article `download()` failed with 404 Client Error: Not Found for url: http://tickers.youm7.com/story/2017/11/17/%D8%A5%D8%B1%D9%87%D8%A7%D8%A8%D9%89-%D8%A7%D9%84%D9%88%D8%A7%D8%AD%D8%A7%D8%AA-%D8%A7%D8%B9%D8%AA%D9%86%D9%82%D8%AA-%D8%A7%D9%84%D9%81%D9%83%D8%B1-%D8%A7%D9%84%D8%AC%D9%87%D8%A7%D8%AF%D9%89-%D8%A8%D8%B9%D8%AF-%D8%A7%D9%84%D8%AB%D9%88%D8%B1%D8%A9-%D8%B9%D9%84%D9%89-%D8%A7%D9%84%D9%82%D8%B0%D8%A7%D9%81%D9%89-%D9%88%D9%85%D9%86/3513601 on URL http://tickers.youm7.com/story/2017/11/17/إرهابى-الواحات-اعتنقت-الفكر-الجهادى-بعد-الثورة-على-القذافى-ومن/3513601\n",
      "Article `download()` failed with 404 Client Error: Not Found for url: http://tickers.youm7.com/story/2017/11/17/%D9%85%D8%AC%D9%84%D8%B3-%D8%B4%D9%88%D8%B1%D9%89-%D9%85%D8%AC%D8%A7%D9%87%D8%AF%D9%89-%D8%AF%D8%B1%D9%86%D8%A9-%D8%A8%D9%84%D9%8A%D8%A8%D9%8A%D8%A7-%D8%A8%D8%A4%D8%B1%D8%A9-%D8%AA%D8%B5%D8%AF%D9%8A%D8%B1-%D8%A7%D9%84%D8%A5%D8%B1%D9%87%D8%A7%D8%A8%D9%8A%D9%8A%D9%86-%D9%84%D9%85%D8%B5%D8%B1-%D8%B2%D8%B9%D9%8A%D9%85%D9%87/3513593 on URL http://tickers.youm7.com/story/2017/11/17/مجلس-شورى-مجاهدى-درنة-بليبيا-بؤرة-تصدير-الإرهابيين-لمصر-زعيمه/3513593\n"
     ]
    },
    {
     "name": "stderr",
     "output_type": "stream",
     "text": [
      "\r",
      "  9% ( 1385 of 14312) |#####                                                       | Elapsed Time: 0:30:22 ETA: 0:47:37\r",
      "  9% ( 1387 of 14312) |#####                                                       | Elapsed Time: 0:30:22 ETA: 0:40:42"
     ]
    },
    {
     "name": "stdout",
     "output_type": "stream",
     "text": [
      "Article `download()` failed with 404 Client Error: Not Found for url: http://tickers.youm7.com/story/2017/11/17/%D9%81%D9%8A%D8%AF%D9%8A%D9%88-%D9%85%D8%B4%D8%A7%D8%AC%D8%B1%D8%A9-%D8%A8%D8%A7%D9%84%D9%85%D9%88%D9%84%D9%88%D8%AA%D9%88%D9%81-%D9%88%D8%A7%D9%84%D8%B2%D8%AC%D8%A7%D8%AC%D8%A7%D8%AA-%D8%A7%D9%84%D8%BA%D8%A7%D8%B2%D9%8A%D8%A9-%D8%A8%D9%8A%D9%86-%D8%B9%D8%AF%D8%AF-%D9%85%D9%86-%D8%A7%D9%84%D8%A3%D8%B4%D8%AE%D8%A7%D8%B5-%D8%A8%D8%A7%D9%84%D9%88%D8%B1%D8%A7%D9%82/3513594 on URL http://tickers.youm7.com/story/2017/11/17/فيديو-مشاجرة-بالمولوتوف-والزجاجات-الغازية-بين-عدد-من-الأشخاص-بالوراق/3513594\n",
      "Article `download()` failed with 404 Client Error: Not Found for url: http://tickers.youm7.com/story/2017/11/16/%D8%A7%D9%86%D9%81%D8%B1%D8%A7%D8%AF-%D8%A8%D8%A7%D9%84%D8%A3%D8%B3%D9%85%D8%A7%D8%A1-136-%D8%B9%D8%A7%D9%84%D9%85%D8%A7-%D9%85%D8%B5%D8%B1%D8%AD%D8%A7-%D9%84%D9%87%D9%85-%D8%A8%D8%A7%D9%84%D8%A5%D9%81%D8%AA%D8%A7%D8%A1-%D9%81%D9%89-%D9%82%D8%A7%D8%A6%D9%85%D8%AA%D9%8A%D9%86-%D8%AC%D8%AF%D9%8A%D8%AF%D8%AA%D9%8A%D9%86/3512742 on URL http://tickers.youm7.com/story/2017/11/16/انفراد-بالأسماء-136-عالما-مصرحا-لهم-بالإفتاء-فى-قائمتين-جديدتين/3512742\n",
      "Article `download()` failed with 404 Client Error: Not Found for url: http://tickers.youm7.com/story/2017/11/16/%D8%A7%D8%B3%D8%AA%D9%82%D8%A7%D9%84%D8%A9-%D8%B1%D8%A6%D9%8A%D8%B3-%D8%B4%D8%B1%D9%83%D8%A9-%D8%A7%D9%84%D8%AD%D8%AF%D9%8A%D8%AF-%D9%88%D8%A7%D9%84%D8%B5%D9%84%D8%A8-%D9%88%D8%AA%D8%B9%D9%8A%D9%8A%D9%86-%D8%B1%D8%A6%D9%8A%D8%B3-%D9%82%D8%B7%D8%A7%D8%B9-%D8%A7%D9%84%D9%85%D8%B5%D8%A7%D9%86%D8%B9-%D8%AE%D9%84%D9%81%D8%A7/3512848 on URL http://tickers.youm7.com/story/2017/11/16/استقالة-رئيس-شركة-الحديد-والصلب-وتعيين-رئيس-قطاع-المصانع-خلفا/3512848\n"
     ]
    },
    {
     "name": "stderr",
     "output_type": "stream",
     "text": [
      "\r",
      "  9% ( 1389 of 14312) |#####                                                       | Elapsed Time: 0:30:22 ETA: 0:34:13\r",
      "  9% ( 1391 of 14312) |#####                                                       | Elapsed Time: 0:30:22 ETA: 0:26:58"
     ]
    },
    {
     "name": "stdout",
     "output_type": "stream",
     "text": [
      "Article `download()` failed with 404 Client Error: Not Found for url: http://tickers.youm7.com/story/2017/11/16/%D8%A8%D8%B1%D9%83%D8%A9-%D8%BA%D9%84%D9%8A%D9%88%D9%86-%D8%B9%D9%84%D9%89-%D9%85%D9%88%D8%B9%D8%AF-%D9%85%D8%B9-%D8%A7%D9%84%D8%B9%D8%A7%D9%84%D9%85%D9%8A%D8%A9-5-%D8%A2%D9%84%D8%A7%D9%81-%D8%B9%D8%A7%D9%85%D9%84-%D9%8A%D8%AD%D9%88%D9%84%D9%88%D9%86/3512891 on URL http://tickers.youm7.com/story/2017/11/16/بركة-غليون-على-موعد-مع-العالمية-5-آلاف-عامل-يحولون/3512891\n",
      "Article `download()` failed with 404 Client Error: Not Found for url: http://tickers.youm7.com/story/2017/11/16/%D9%81%D9%8A%D8%AF%D9%8A%D9%88-%D9%85%D9%86-%D8%AD%D9%81%D9%84-%D8%A7%D9%84%D8%B4%D8%A7%D8%B1%D9%82%D8%A9-%D9%8A%D8%A4%D9%83%D8%AF-%D8%BA%D9%86%D8%A7%D8%A1-%D8%B4%D9%8A%D8%B1%D9%8A%D9%86-%D9%85%D8%B4%D8%B1%D8%A8%D8%AA%D8%B4-%D9%85%D9%86-%D9%86%D9%8A%D9%84%D9%87%D8%A7/3512969 on URL http://tickers.youm7.com/story/2017/11/16/فيديو-من-حفل-الشارقة-يؤكد-غناء-شيرين-مشربتش-من-نيلها/3512969\n",
      "Article `download()` failed with 404 Client Error: Not Found for url: http://tickers.youm7.com/story/2017/11/16/%D9%87%D8%A7%D9%86%D9%89-%D8%B3%D8%B1%D9%89-%D8%A7%D9%84%D8%AF%D9%8A%D9%86-%D9%85%D8%B4%D8%B1%D9%88%D8%B9-%D8%A7%D8%B3%D8%AA%D8%A7%D8%AF-%D8%A7%D9%84%D8%A3%D9%87%D9%84%D9%89-%D9%8A%D8%AA%D9%83%D9%84%D9%81-%D8%AD%D9%88%D8%A7%D9%84%D9%89-4-%D9%85%D9%84%D9%8A%D8%A7%D8%B1%D8%A7%D8%AA/3513020 on URL http://tickers.youm7.com/story/2017/11/16/هانى-سرى-الدين-مشروع-استاد-الأهلى-يتكلف-حوالى-4-مليارات/3513020\n"
     ]
    },
    {
     "name": "stderr",
     "output_type": "stream",
     "text": [
      " 10% ( 1536 of 14312) |######                                                      | Elapsed Time: 0:34:00 ETA: 3:55:30"
     ]
    },
    {
     "name": "stdout",
     "output_type": "stream",
     "text": [
      "Article `download()` failed with 410 Client Error: Gone for url: https://www.stepstone.de/stellenangebote--Testentwickler-in-fuer-Automotive-Embedded-Systems-Herzogenrath-Aachen-Schaeffler-Engineering-GmbH--4437676-inline.html?cid=partner_welt___Y on URL https://www.stepstone.de/stellenangebote--Testentwickler-in-fuer-Automotive-Embedded-Systems-Herzogenrath-Aachen-Schaeffler-Engineering-GmbH--4437676-inline.html?cid=partner_welt___Y\n"
     ]
    },
    {
     "name": "stderr",
     "output_type": "stream",
     "text": [
      " 11% ( 1703 of 14312) |#######                                                     | Elapsed Time: 0:37:27 ETA: 2:25:35"
     ]
    },
    {
     "name": "stdout",
     "output_type": "stream",
     "text": [
      "You must `download()` an article first!\n"
     ]
    },
    {
     "name": "stderr",
     "output_type": "stream",
     "text": [
      " 11% ( 1713 of 14312) |#######                                                     | Elapsed Time: 0:37:35 ETA: 3:06:36"
     ]
    },
    {
     "name": "stdout",
     "output_type": "stream",
     "text": [
      "You must `download()` an article first!\n"
     ]
    },
    {
     "name": "stderr",
     "output_type": "stream",
     "text": [
      " 13% ( 1907 of 14312) |#######                                                     | Elapsed Time: 0:41:33 ETA: 6:17:01"
     ]
    },
    {
     "name": "stdout",
     "output_type": "stream",
     "text": [
      "Article `download()` failed with 404 Client Error: Not Found for url: http://www.sfgate.com/%0A%20%20%20%20%20%20%20%20http:/reviews.sfgate.com/top-gifts-for-a-napa-getaway%20%20%20%20%20%20 on URL http://www.sfgate.com/\n",
      "        http:/reviews.sfgate.com/top-gifts-for-a-napa-getaway      \n"
     ]
    },
    {
     "name": "stderr",
     "output_type": "stream",
     "text": [
      "\r",
      " 13% ( 1908 of 14312) |#######                                                     | Elapsed Time: 0:41:34 ETA: 6:01:46"
     ]
    },
    {
     "name": "stdout",
     "output_type": "stream",
     "text": [
      "Article `download()` failed with 404 Client Error: Not Found for url: http://www.sfgate.com/%0A%20%20%20%20%20%20%20%20http:/reviews.sfgate.com/top-gifts-for-someone-who-wants-to-save-the-world%20%20%20%20%20%20 on URL http://www.sfgate.com/\n",
      "        http:/reviews.sfgate.com/top-gifts-for-someone-who-wants-to-save-the-world      \n"
     ]
    },
    {
     "name": "stderr",
     "output_type": "stream",
     "text": [
      "\r",
      " 13% ( 1909 of 14312) |########                                                    | Elapsed Time: 0:41:35 ETA: 5:50:53"
     ]
    },
    {
     "name": "stdout",
     "output_type": "stream",
     "text": [
      "Article `download()` failed with 404 Client Error: Not Found for url: http://www.sfgate.com/%0A%20%20%20%20%20%20%20%20http:/reviews.sfgate.com/top-must-haves-for-your-holiday-house-party%20%20%20%20%20%20 on URL http://www.sfgate.com/\n",
      "        http:/reviews.sfgate.com/top-must-haves-for-your-holiday-house-party      \n"
     ]
    },
    {
     "name": "stderr",
     "output_type": "stream",
     "text": [
      " 14% ( 2138 of 14312) |########                                                   | Elapsed Time: 0:47:33 ETA: 15:29:39"
     ]
    },
    {
     "name": "stdout",
     "output_type": "stream",
     "text": [
      "You must `download()` an article first!\n"
     ]
    },
    {
     "name": "stderr",
     "output_type": "stream",
     "text": [
      " 15% ( 2154 of 14312) |########                                                   | Elapsed Time: 0:49:06 ETA: 17:00:35"
     ]
    },
    {
     "name": "stdout",
     "output_type": "stream",
     "text": [
      "You must `download()` an article first!\n"
     ]
    },
    {
     "name": "stderr",
     "output_type": "stream",
     "text": [
      " 15% ( 2196 of 14312) |#########                                                   | Elapsed Time: 0:50:35 ETA: 1:28:36"
     ]
    },
    {
     "name": "stdout",
     "output_type": "stream",
     "text": [
      "Article `download()` failed with 404 Client Error: Not Found for url: http://www.sankei.co.jp/politics/news/171117/plt1711170010-n1.html on URL http://www.sankei.co.jp/politics/news/171117/plt1711170010-n1.html\n"
     ]
    },
    {
     "name": "stderr",
     "output_type": "stream",
     "text": [
      "\r",
      " 15% ( 2197 of 14312) |#########                                                   | Elapsed Time: 0:50:35 ETA: 1:32:01"
     ]
    },
    {
     "name": "stdout",
     "output_type": "stream",
     "text": [
      "Article `download()` failed with 404 Client Error: Not Found for url: http://www.sankei.co.jp/world/news/171117/wor1711170018-n1.html on URL http://www.sankei.co.jp/world/news/171117/wor1711170018-n1.html\n"
     ]
    },
    {
     "name": "stderr",
     "output_type": "stream",
     "text": [
      "\r",
      " 15% ( 2198 of 14312) |#########                                                   | Elapsed Time: 0:50:36 ETA: 1:33:29"
     ]
    },
    {
     "name": "stdout",
     "output_type": "stream",
     "text": [
      "Article `download()` failed with 404 Client Error: Not Found for url: http://www.sankei.co.jp/world/news/171117/wor1711170012-n1.html on URL http://www.sankei.co.jp/world/news/171117/wor1711170012-n1.html\n"
     ]
    },
    {
     "name": "stderr",
     "output_type": "stream",
     "text": [
      "\r",
      " 15% ( 2199 of 14312) |#########                                                   | Elapsed Time: 0:50:36 ETA: 1:36:36"
     ]
    },
    {
     "name": "stdout",
     "output_type": "stream",
     "text": [
      "Article `download()` failed with 404 Client Error: Not Found for url: http://www.sankei.co.jp/economy/news/171117/ecn1711170008-n1.html on URL http://www.sankei.co.jp/economy/news/171117/ecn1711170008-n1.html\n"
     ]
    },
    {
     "name": "stderr",
     "output_type": "stream",
     "text": [
      "\r",
      " 15% ( 2200 of 14312) |#########                                                   | Elapsed Time: 0:50:37 ETA: 1:39:12"
     ]
    },
    {
     "name": "stdout",
     "output_type": "stream",
     "text": [
      "Article `download()` failed with 404 Client Error: Not Found for url: http://www.sankei.co.jp/world/news/171117/wor1711170013-n1.html on URL http://www.sankei.co.jp/world/news/171117/wor1711170013-n1.html\n"
     ]
    },
    {
     "name": "stderr",
     "output_type": "stream",
     "text": [
      "\r",
      " 15% ( 2201 of 14312) |#########                                                   | Elapsed Time: 0:50:38 ETA: 1:41:36"
     ]
    },
    {
     "name": "stdout",
     "output_type": "stream",
     "text": [
      "Article `download()` failed with 404 Client Error: Not Found for url: http://www.sankei.co.jp/premium/news/171117/prm1711170002-n1.html on URL http://www.sankei.co.jp/premium/news/171117/prm1711170002-n1.html\n"
     ]
    },
    {
     "name": "stderr",
     "output_type": "stream",
     "text": [
      "\r",
      " 15% ( 2202 of 14312) |#########                                                   | Elapsed Time: 0:50:38 ETA: 1:44:30"
     ]
    },
    {
     "name": "stdout",
     "output_type": "stream",
     "text": [
      "Article `download()` failed with 404 Client Error: Not Found for url: http://www.sankei.co.jp/affairs/news/171117/afr1711170004-n1.html on URL http://www.sankei.co.jp/affairs/news/171117/afr1711170004-n1.html\n"
     ]
    },
    {
     "name": "stderr",
     "output_type": "stream",
     "text": [
      "\r",
      " 15% ( 2203 of 14312) |#########                                                   | Elapsed Time: 0:50:39 ETA: 1:46:41"
     ]
    },
    {
     "name": "stdout",
     "output_type": "stream",
     "text": [
      "Article `download()` failed with 404 Client Error: Not Found for url: http://www.sankei.co.jp/world/news/171117/wor1711170015-n1.html on URL http://www.sankei.co.jp/world/news/171117/wor1711170015-n1.html\n"
     ]
    },
    {
     "name": "stderr",
     "output_type": "stream",
     "text": [
      " 15% ( 2205 of 14312) |#########                                                   | Elapsed Time: 0:50:41 ETA: 2:09:53"
     ]
    },
    {
     "name": "stdout",
     "output_type": "stream",
     "text": [
      "Article `download()` failed with 404 Client Error: Not Found for url: http://www.sankei.co.jp/affairs/news/171117/afr1711170005-n1.html on URL http://www.sankei.co.jp/affairs/news/171117/afr1711170005-n1.html\n"
     ]
    },
    {
     "name": "stderr",
     "output_type": "stream",
     "text": [
      "\r",
      " 15% ( 2206 of 14312) |#########                                                   | Elapsed Time: 0:50:41 ETA: 2:09:35"
     ]
    },
    {
     "name": "stdout",
     "output_type": "stream",
     "text": [
      "Article `download()` failed with 404 Client Error: Not Found for url: http://www.sankei.co.jp/west/news/171117/wst1711170021-n1.html on URL http://www.sankei.co.jp/west/news/171117/wst1711170021-n1.html\n"
     ]
    },
    {
     "name": "stderr",
     "output_type": "stream",
     "text": [
      "\r",
      " 15% ( 2207 of 14312) |#########                                                   | Elapsed Time: 0:50:42 ETA: 2:09:39"
     ]
    },
    {
     "name": "stdout",
     "output_type": "stream",
     "text": [
      "Article `download()` failed with 404 Client Error: Not Found for url: http://www.sankei.co.jp/affairs/news/171117/afr1711170007-n1.html on URL http://www.sankei.co.jp/affairs/news/171117/afr1711170007-n1.html\n"
     ]
    },
    {
     "name": "stderr",
     "output_type": "stream",
     "text": [
      "\r",
      " 15% ( 2208 of 14312) |#########                                                   | Elapsed Time: 0:50:42 ETA: 2:08:51"
     ]
    },
    {
     "name": "stdout",
     "output_type": "stream",
     "text": [
      "Article `download()` failed with 404 Client Error: Not Found for url: http://www.sankei.co.jp/affairs/news/171117/afr1711170006-n1.html on URL http://www.sankei.co.jp/affairs/news/171117/afr1711170006-n1.html\n"
     ]
    },
    {
     "name": "stderr",
     "output_type": "stream",
     "text": [
      "\r",
      " 15% ( 2209 of 14312) |#########                                                   | Elapsed Time: 0:50:43 ETA: 2:08:13"
     ]
    },
    {
     "name": "stdout",
     "output_type": "stream",
     "text": [
      "Article `download()` failed with 404 Client Error: Not Found for url: http://www.sankei.co.jp/politics/news/171117/plt1711170012-n1.html on URL http://www.sankei.co.jp/politics/news/171117/plt1711170012-n1.html\n"
     ]
    },
    {
     "name": "stderr",
     "output_type": "stream",
     "text": [
      "\r",
      " 15% ( 2210 of 14312) |#########                                                   | Elapsed Time: 0:50:43 ETA: 2:08:35"
     ]
    },
    {
     "name": "stdout",
     "output_type": "stream",
     "text": [
      "Article `download()` failed with 404 Client Error: Not Found for url: http://www.sankei.co.jp/politics/news/171117/plt1711170011-n1.html on URL http://www.sankei.co.jp/politics/news/171117/plt1711170011-n1.html\n"
     ]
    },
    {
     "name": "stderr",
     "output_type": "stream",
     "text": [
      "\r",
      " 15% ( 2211 of 14312) |#########                                                   | Elapsed Time: 0:50:44 ETA: 2:08:32"
     ]
    },
    {
     "name": "stdout",
     "output_type": "stream",
     "text": [
      "Article `download()` failed with 404 Client Error: Not Found for url: http://www.sankei.co.jp/politics/news/171117/plt1711170009-n1.html on URL http://www.sankei.co.jp/politics/news/171117/plt1711170009-n1.html\n"
     ]
    },
    {
     "name": "stderr",
     "output_type": "stream",
     "text": [
      "\r",
      " 15% ( 2212 of 14312) |#########                                                   | Elapsed Time: 0:50:44 ETA: 2:09:13"
     ]
    },
    {
     "name": "stdout",
     "output_type": "stream",
     "text": [
      "Article `download()` failed with 404 Client Error: Not Found for url: http://www.sankei.co.jp/world/news/171117/wor1711170014-n1.html on URL http://www.sankei.co.jp/world/news/171117/wor1711170014-n1.html\n"
     ]
    },
    {
     "name": "stderr",
     "output_type": "stream",
     "text": [
      "\r",
      " 15% ( 2213 of 14312) |#########                                                   | Elapsed Time: 0:50:45 ETA: 2:09:03"
     ]
    },
    {
     "name": "stdout",
     "output_type": "stream",
     "text": [
      "Article `download()` failed with 404 Client Error: Not Found for url: http://www.sankei.co.jp/world/news/171117/wor1711170011-n1.html on URL http://www.sankei.co.jp/world/news/171117/wor1711170011-n1.html\n"
     ]
    },
    {
     "name": "stderr",
     "output_type": "stream",
     "text": [
      "\r",
      " 15% ( 2214 of 14312) |#########                                                   | Elapsed Time: 0:50:46 ETA: 1:51:30"
     ]
    },
    {
     "name": "stdout",
     "output_type": "stream",
     "text": [
      "Article `download()` failed with 404 Client Error: Not Found for url: http://www.sankei.co.jp/economy/news/171117/ecn1711170017-n1.html on URL http://www.sankei.co.jp/economy/news/171117/ecn1711170017-n1.html\n"
     ]
    },
    {
     "name": "stderr",
     "output_type": "stream",
     "text": [
      "\r",
      " 15% ( 2215 of 14312) |#########                                                   | Elapsed Time: 0:50:46 ETA: 1:51:48"
     ]
    },
    {
     "name": "stdout",
     "output_type": "stream",
     "text": [
      "Article `download()` failed with 404 Client Error: Not Found for url: http://www.sankei.co.jp/economy/news/171117/ecn1711170015-n1.html on URL http://www.sankei.co.jp/economy/news/171117/ecn1711170015-n1.html\n"
     ]
    },
    {
     "name": "stderr",
     "output_type": "stream",
     "text": [
      "\r",
      " 15% ( 2216 of 14312) |#########                                                   | Elapsed Time: 0:50:47 ETA: 1:54:14"
     ]
    },
    {
     "name": "stdout",
     "output_type": "stream",
     "text": [
      "Article `download()` failed with 404 Client Error: Not Found for url: http://www.sankei.co.jp/economy/news/171117/ecn1711170016-n1.html on URL http://www.sankei.co.jp/economy/news/171117/ecn1711170016-n1.html\n"
     ]
    },
    {
     "name": "stderr",
     "output_type": "stream",
     "text": [
      "\r",
      " 15% ( 2217 of 14312) |#########                                                   | Elapsed Time: 0:50:47 ETA: 1:54:51"
     ]
    },
    {
     "name": "stdout",
     "output_type": "stream",
     "text": [
      "Article `download()` failed with 404 Client Error: Not Found for url: http://www.sankei.co.jp/economy/news/171117/ecn1711170014-n1.html on URL http://www.sankei.co.jp/economy/news/171117/ecn1711170014-n1.html\n"
     ]
    },
    {
     "name": "stderr",
     "output_type": "stream",
     "text": [
      "\r",
      " 15% ( 2218 of 14312) |#########                                                   | Elapsed Time: 0:50:48 ETA: 1:55:42"
     ]
    },
    {
     "name": "stdout",
     "output_type": "stream",
     "text": [
      "Article `download()` failed with 404 Client Error: Not Found for url: http://www.sankei.co.jp/economy/news/171117/ecn1711170013-n1.html on URL http://www.sankei.co.jp/economy/news/171117/ecn1711170013-n1.html\n"
     ]
    },
    {
     "name": "stderr",
     "output_type": "stream",
     "text": [
      "\r",
      " 15% ( 2219 of 14312) |#########                                                   | Elapsed Time: 0:50:49 ETA: 1:55:25"
     ]
    },
    {
     "name": "stdout",
     "output_type": "stream",
     "text": [
      "Article `download()` failed with 404 Client Error: Not Found for url: http://www.sankei.co.jp/economy/news/171117/ecn1711170012-n1.html on URL http://www.sankei.co.jp/economy/news/171117/ecn1711170012-n1.html\n"
     ]
    },
    {
     "name": "stderr",
     "output_type": "stream",
     "text": [
      "\r",
      " 15% ( 2220 of 14312) |#########                                                   | Elapsed Time: 0:50:49 ETA: 1:55:21"
     ]
    },
    {
     "name": "stdout",
     "output_type": "stream",
     "text": [
      "Article `download()` failed with 404 Client Error: Not Found for url: http://www.sankei.co.jp/life/news/171117/lif1711170006-n1.html on URL http://www.sankei.co.jp/life/news/171117/lif1711170006-n1.html\n"
     ]
    },
    {
     "name": "stderr",
     "output_type": "stream",
     "text": [
      "\r",
      " 15% ( 2221 of 14312) |#########                                                   | Elapsed Time: 0:50:50 ETA: 1:55:37"
     ]
    },
    {
     "name": "stdout",
     "output_type": "stream",
     "text": [
      "Article `download()` failed with 404 Client Error: Not Found for url: http://www.sankei.co.jp/life/news/171117/lif1711170005-n1.html on URL http://www.sankei.co.jp/life/news/171117/lif1711170005-n1.html\n"
     ]
    },
    {
     "name": "stderr",
     "output_type": "stream",
     "text": [
      "\r",
      " 15% ( 2222 of 14312) |#########                                                   | Elapsed Time: 0:50:50 ETA: 1:55:51"
     ]
    },
    {
     "name": "stdout",
     "output_type": "stream",
     "text": [
      "Article `download()` failed with 404 Client Error: Not Found for url: http://www.sankei.co.jp/west/news/171117/wst1711170019-n1.html on URL http://www.sankei.co.jp/west/news/171117/wst1711170019-n1.html\n"
     ]
    },
    {
     "name": "stderr",
     "output_type": "stream",
     "text": [
      "\r",
      " 15% ( 2223 of 14312) |#########                                                   | Elapsed Time: 0:50:51 ETA: 1:56:59"
     ]
    },
    {
     "name": "stdout",
     "output_type": "stream",
     "text": [
      "Article `download()` failed with 404 Client Error: Not Found for url: http://www.sankei.co.jp/world/news/171116/wor1711160055-n1.html on URL http://www.sankei.co.jp/world/news/171116/wor1711160055-n1.html\n"
     ]
    },
    {
     "name": "stderr",
     "output_type": "stream",
     "text": [
      " 16% ( 2326 of 14312) |#########                                                   | Elapsed Time: 0:52:23 ETA: 6:48:12"
     ]
    },
    {
     "name": "stdout",
     "output_type": "stream",
     "text": [
      "You must `download()` an article first!\n"
     ]
    },
    {
     "name": "stderr",
     "output_type": "stream",
     "text": [
      " 16% ( 2329 of 14312) |#########                                                  | Elapsed Time: 0:52:36 ETA: 10:46:13"
     ]
    },
    {
     "name": "stdout",
     "output_type": "stream",
     "text": [
      "You must `download()` an article first!\n"
     ]
    },
    {
     "name": "stderr",
     "output_type": "stream",
     "text": [
      " 16% ( 2354 of 14312) |#########                                                   | Elapsed Time: 0:53:22 ETA: 7:53:01"
     ]
    },
    {
     "name": "stdout",
     "output_type": "stream",
     "text": [
      "You must `download()` an article first!\n"
     ]
    },
    {
     "name": "stderr",
     "output_type": "stream",
     "text": [
      " 16% ( 2359 of 14312) |#########                                                  | Elapsed Time: 0:53:59 ETA: 18:56:35"
     ]
    },
    {
     "name": "stdout",
     "output_type": "stream",
     "text": [
      "You must `download()` an article first!\n"
     ]
    },
    {
     "name": "stderr",
     "output_type": "stream",
     "text": [
      "\r",
      " 16% ( 2360 of 14312) |#########                                                  | Elapsed Time: 0:54:06 ETA: 21:12:42"
     ]
    },
    {
     "name": "stdout",
     "output_type": "stream",
     "text": [
      "You must `download()` an article first!\n"
     ]
    },
    {
     "name": "stderr",
     "output_type": "stream",
     "text": [
      " 16% ( 2363 of 14312) |#########                                                  | Elapsed Time: 0:54:27 ETA: 23:51:46"
     ]
    },
    {
     "name": "stdout",
     "output_type": "stream",
     "text": [
      "You must `download()` an article first!\n"
     ]
    },
    {
     "name": "stderr",
     "output_type": "stream",
     "text": [
      " 16% ( 2366 of 14312) |#########                                                  | Elapsed Time: 0:54:49 ETA: 23:53:13"
     ]
    },
    {
     "name": "stdout",
     "output_type": "stream",
     "text": [
      "You must `download()` an article first!\n"
     ]
    },
    {
     "name": "stderr",
     "output_type": "stream",
     "text": [
      "\r",
      " 16% ( 2367 of 14312) |#########                                                  | Elapsed Time: 0:54:56 ETA: 23:42:28"
     ]
    },
    {
     "name": "stdout",
     "output_type": "stream",
     "text": [
      "You must `download()` an article first!\n"
     ]
    },
    {
     "name": "stderr",
     "output_type": "stream",
     "text": [
      " 16% ( 2369 of 14312) |#########                                                  | Elapsed Time: 0:55:11 ETA: 23:47:38"
     ]
    },
    {
     "name": "stdout",
     "output_type": "stream",
     "text": [
      "You must `download()` an article first!\n"
     ]
    },
    {
     "name": "stderr",
     "output_type": "stream",
     "text": [
      " 16% ( 2373 of 14312) |########                                             | Elapsed Time: 0:55:41 ETA: 1 day, 0:37:50"
     ]
    },
    {
     "name": "stdout",
     "output_type": "stream",
     "text": [
      "You must `download()` an article first!\n"
     ]
    },
    {
     "name": "stderr",
     "output_type": "stream",
     "text": [
      " 16% ( 2376 of 14312) |########                                             | Elapsed Time: 0:56:03 ETA: 1 day, 0:30:31"
     ]
    },
    {
     "name": "stdout",
     "output_type": "stream",
     "text": [
      "You must `download()` an article first!\n"
     ]
    },
    {
     "name": "stderr",
     "output_type": "stream",
     "text": [
      " 16% ( 2395 of 14312) |########                                             | Elapsed Time: 0:58:23 ETA: 1 day, 0:51:45"
     ]
    },
    {
     "name": "stdout",
     "output_type": "stream",
     "text": [
      "You must `download()` an article first!\n"
     ]
    },
    {
     "name": "stderr",
     "output_type": "stream",
     "text": [
      " 16% ( 2397 of 14312) |########                                             | Elapsed Time: 0:58:39 ETA: 1 day, 1:20:12"
     ]
    },
    {
     "name": "stdout",
     "output_type": "stream",
     "text": [
      "You must `download()` an article first!\n"
     ]
    },
    {
     "name": "stderr",
     "output_type": "stream",
     "text": [
      " 16% ( 2399 of 14312) |########                                             | Elapsed Time: 0:58:54 ETA: 1 day, 0:45:07"
     ]
    },
    {
     "name": "stdout",
     "output_type": "stream",
     "text": [
      "You must `download()` an article first!\n"
     ]
    },
    {
     "name": "stderr",
     "output_type": "stream",
     "text": [
      "\r",
      " 16% ( 2400 of 14312) |########                                             | Elapsed Time: 0:59:01 ETA: 1 day, 0:53:11"
     ]
    },
    {
     "name": "stdout",
     "output_type": "stream",
     "text": [
      "You must `download()` an article first!\n"
     ]
    },
    {
     "name": "stderr",
     "output_type": "stream",
     "text": [
      "\r",
      " 16% ( 2401 of 14312) |########                                             | Elapsed Time: 0:59:08 ETA: 1 day, 1:01:36"
     ]
    },
    {
     "name": "stdout",
     "output_type": "stream",
     "text": [
      "You must `download()` an article first!\n"
     ]
    },
    {
     "name": "stderr",
     "output_type": "stream",
     "text": [
      " 16% ( 2403 of 14312) |########                                             | Elapsed Time: 0:59:22 ETA: 1 day, 0:03:17"
     ]
    },
    {
     "name": "stdout",
     "output_type": "stream",
     "text": [
      "You must `download()` an article first!\n"
     ]
    },
    {
     "name": "stderr",
     "output_type": "stream",
     "text": [
      " 16% ( 2405 of 14312) |########                                             | Elapsed Time: 0:59:37 ETA: 1 day, 0:20:03"
     ]
    },
    {
     "name": "stdout",
     "output_type": "stream",
     "text": [
      "You must `download()` an article first!\n"
     ]
    },
    {
     "name": "stderr",
     "output_type": "stream",
     "text": [
      " 16% ( 2407 of 14312) |#########                                                  | Elapsed Time: 0:59:51 ETA: 23:52:07"
     ]
    },
    {
     "name": "stdout",
     "output_type": "stream",
     "text": [
      "You must `download()` an article first!\n"
     ]
    },
    {
     "name": "stderr",
     "output_type": "stream",
     "text": [
      "\r",
      " 16% ( 2408 of 14312) |#########                                                  | Elapsed Time: 0:59:58 ETA: 23:17:18"
     ]
    },
    {
     "name": "stdout",
     "output_type": "stream",
     "text": [
      "You must `download()` an article first!\n"
     ]
    },
    {
     "name": "stderr",
     "output_type": "stream",
     "text": [
      " 16% ( 2410 of 14312) |#########                                                  | Elapsed Time: 1:00:12 ETA: 23:22:13"
     ]
    },
    {
     "name": "stdout",
     "output_type": "stream",
     "text": [
      "You must `download()` an article first!\n"
     ]
    },
    {
     "name": "stderr",
     "output_type": "stream",
     "text": [
      " 16% ( 2418 of 14312) |########                                             | Elapsed Time: 1:01:13 ETA: 1 day, 1:11:27"
     ]
    },
    {
     "name": "stdout",
     "output_type": "stream",
     "text": [
      "You must `download()` an article first!\n"
     ]
    },
    {
     "name": "stderr",
     "output_type": "stream",
     "text": [
      "\r",
      " 16% ( 2419 of 14312) |########                                             | Elapsed Time: 1:01:20 ETA: 1 day, 1:06:09"
     ]
    },
    {
     "name": "stdout",
     "output_type": "stream",
     "text": [
      "You must `download()` an article first!\n"
     ]
    },
    {
     "name": "stderr",
     "output_type": "stream",
     "text": [
      " 16% ( 2421 of 14312) |########                                             | Elapsed Time: 1:01:35 ETA: 1 day, 1:11:23"
     ]
    },
    {
     "name": "stdout",
     "output_type": "stream",
     "text": [
      "You must `download()` an article first!\n"
     ]
    },
    {
     "name": "stderr",
     "output_type": "stream",
     "text": [
      "\r",
      " 16% ( 2422 of 14312) |########                                             | Elapsed Time: 1:01:42 ETA: 1 day, 1:20:04"
     ]
    },
    {
     "name": "stdout",
     "output_type": "stream",
     "text": [
      "You must `download()` an article first!\n"
     ]
    },
    {
     "name": "stderr",
     "output_type": "stream",
     "text": [
      " 16% ( 2425 of 14312) |########                                             | Elapsed Time: 1:02:05 ETA: 1 day, 0:51:22"
     ]
    },
    {
     "name": "stdout",
     "output_type": "stream",
     "text": [
      "You must `download()` an article first!\n"
     ]
    },
    {
     "name": "stderr",
     "output_type": "stream",
     "text": [
      " 16% ( 2430 of 14312) |##########                                                 | Elapsed Time: 1:02:33 ETA: 21:03:39"
     ]
    },
    {
     "name": "stdout",
     "output_type": "stream",
     "text": [
      "You must `download()` an article first!\n"
     ]
    },
    {
     "name": "stderr",
     "output_type": "stream",
     "text": [
      " 22% ( 3287 of 14312) |#############                                               | Elapsed Time: 1:28:14 ETA: 4:50:41"
     ]
    },
    {
     "name": "stdout",
     "output_type": "stream",
     "text": [
      "Article `download()` failed with 404 Client Error: Not Found for url: https://extra.globo.com/esporte/botafogo-perde-pela-terceira-seguida-no-nilton-santos-22077918.html on URL https://extra.globo.com/esporte/botafogo-perde-pela-terceira-seguida-no-nilton-santos-22077918.html\n"
     ]
    },
    {
     "name": "stderr",
     "output_type": "stream",
     "text": [
      " 23% ( 3407 of 14312) |##############                                              | Elapsed Time: 1:32:22 ETA: 1:17:19"
     ]
    },
    {
     "name": "stdout",
     "output_type": "stream",
     "text": [
      "Article `download()` failed with 504 Server Error: Gateway Time-out for url: http://cai.163.com/article/17/1117/07/D3E80A7D000597U8.html on URL http://cai.163.com/article/17/1117/07/D3E80A7D000597U8.html\n"
     ]
    },
    {
     "name": "stderr",
     "output_type": "stream",
     "text": [
      " 23% ( 3411 of 14312) |##############                                              | Elapsed Time: 1:32:49 ETA: 9:49:23"
     ]
    },
    {
     "name": "stdout",
     "output_type": "stream",
     "text": [
      "Article `download()` failed with 404 Client Error: Not Found for url: http://guofeng.yuedu.163.com/%20%20%20%20/guofeng.yuedu.163.com/source/0c0e00b379e34073860bfb9c72091505_4%0A%20%20%20%20 on URL http://guofeng.yuedu.163.com/    /guofeng.yuedu.163.com/source/0c0e00b379e34073860bfb9c72091505_4\n",
      "    \n"
     ]
    },
    {
     "name": "stderr",
     "output_type": "stream",
     "text": [
      " 23% ( 3425 of 14312) |##############                                             | Elapsed Time: 1:34:25 ETA: 23:22:13"
     ]
    },
    {
     "name": "stdout",
     "output_type": "stream",
     "text": [
      "Article `download()` failed with 404 Client Error: Not Found for url: http://caiwei.yuedu.163.com/%20%20%20%20/caiwei.yuedu.163.com/source/262d435e65284401b0f7f45f9df19343_4%0A%20%20%20%20 on URL http://caiwei.yuedu.163.com/    /caiwei.yuedu.163.com/source/262d435e65284401b0f7f45f9df19343_4\n",
      "    \n"
     ]
    },
    {
     "name": "stderr",
     "output_type": "stream",
     "text": [
      "\r",
      " 23% ( 3426 of 14312) |##############                                             | Elapsed Time: 1:34:25 ETA: 20:41:40"
     ]
    },
    {
     "name": "stdout",
     "output_type": "stream",
     "text": [
      "Article `download()` failed with 404 Client Error: Not Found for url: http://caiwei.yuedu.163.com/%20%20%20%20/caiwei.yuedu.163.com/source/b09fd0ac3abc4a498bf3aaac2c201727_4%0A%20%20%20%20 on URL http://caiwei.yuedu.163.com/    /caiwei.yuedu.163.com/source/b09fd0ac3abc4a498bf3aaac2c201727_4\n",
      "    \n"
     ]
    },
    {
     "name": "stderr",
     "output_type": "stream",
     "text": [
      "\r",
      " 23% ( 3427 of 14312) |##############                                             | Elapsed Time: 1:34:26 ETA: 17:40:24"
     ]
    },
    {
     "name": "stdout",
     "output_type": "stream",
     "text": [
      "Article `download()` failed with 404 Client Error: Not Found for url: http://caiwei.yuedu.163.com/%20%20%20%20/source/b09fd0ac3abc4a498bf3aaac2c201727_4%0A%20%20%20%20 on URL http://caiwei.yuedu.163.com/    /source/b09fd0ac3abc4a498bf3aaac2c201727_4\n",
      "    \n"
     ]
    },
    {
     "name": "stderr",
     "output_type": "stream",
     "text": [
      " 23% ( 3433 of 14312) |##############                                              | Elapsed Time: 1:34:31 ETA: 3:51:48"
     ]
    },
    {
     "name": "stdout",
     "output_type": "stream",
     "text": [
      "Article `download()` failed with 404 Client Error: Not Found for url: http://www.bbc.com/news/video_and_audio on URL http://www.bbc.com/news/video_and_audio\n"
     ]
    },
    {
     "name": "stderr",
     "output_type": "stream",
     "text": [
      " 24% ( 3441 of 14312) |##############                                              | Elapsed Time: 1:34:38 ETA: 2:44:32"
     ]
    },
    {
     "name": "stdout",
     "output_type": "stream",
     "text": [
      "Article `download()` failed with 404 Client Error: Not Found for url: http://www.bbc.com/news/video_and_audio on URL https://www.bbc.com/news/video_and_audio\n"
     ]
    },
    {
     "name": "stderr",
     "output_type": "stream",
     "text": [
      " 24% ( 3527 of 14312) |##############                                              | Elapsed Time: 1:35:47 ETA: 2:15:09"
     ]
    },
    {
     "name": "stdout",
     "output_type": "stream",
     "text": [
      "Article `download()` failed with 405 Client Error: Not Allowed for url: https://www.sciencedaily.com/releases/2017/11/171116142036.htm on URL https://www.sciencedaily.com/releases/2017/11/171116142036.htm\n"
     ]
    },
    {
     "name": "stderr",
     "output_type": "stream",
     "text": [
      " 24% ( 3545 of 14312) |##############                                              | Elapsed Time: 1:36:04 ETA: 2:10:18"
     ]
    },
    {
     "name": "stdout",
     "output_type": "stream",
     "text": [
      "Article `download()` failed with 404 Client Error: Not Found for url: http://hlj.ifeng.com/a/20171116/6150022_0.shtml%0A on URL http://hlj.ifeng.com/a/20171116/6150022_0.shtml\n",
      "\n"
     ]
    },
    {
     "name": "stderr",
     "output_type": "stream",
     "text": [
      "\r",
      " 24% ( 3546 of 14312) |##############                                              | Elapsed Time: 1:36:05 ETA: 2:06:22"
     ]
    },
    {
     "name": "stdout",
     "output_type": "stream",
     "text": [
      "Article `download()` failed with 404 Client Error: Not Found for url: http://jiu.ifeng.com/a/20160204/41548847_0.shtml%0A on URL http://jiu.ifeng.com/a/20160204/41548847_0.shtml\n",
      "\n"
     ]
    },
    {
     "name": "stderr",
     "output_type": "stream",
     "text": [
      "\r",
      " 24% ( 3547 of 14312) |##############                                              | Elapsed Time: 1:36:05 ETA: 1:58:22"
     ]
    },
    {
     "name": "stdout",
     "output_type": "stream",
     "text": [
      "Article `download()` failed with 404 Client Error: Not Found for url: http://jiu.ifeng.com/a/20160120/41542036_0.shtml%0A on URL http://jiu.ifeng.com/a/20160120/41542036_0.shtml\n",
      "\n"
     ]
    },
    {
     "name": "stderr",
     "output_type": "stream",
     "text": [
      "\r",
      " 24% ( 3548 of 14312) |##############                                              | Elapsed Time: 1:36:07 ETA: 2:16:41"
     ]
    },
    {
     "name": "stdout",
     "output_type": "stream",
     "text": [
      "Article `download()` failed with 404 Client Error: Not Found for url: http://jiu.ifeng.com/a/20160130/41546674_0.shtml%0A on URL http://jiu.ifeng.com/a/20160130/41546674_0.shtml\n",
      "\n"
     ]
    },
    {
     "name": "stderr",
     "output_type": "stream",
     "text": [
      "\r",
      " 24% ( 3549 of 14312) |##############                                              | Elapsed Time: 1:36:08 ETA: 2:29:39"
     ]
    },
    {
     "name": "stdout",
     "output_type": "stream",
     "text": [
      "Article `download()` failed with 404 Client Error: Not Found for url: http://jiu.ifeng.com/a/20160106/41534921_0.shtml%0A on URL http://jiu.ifeng.com/a/20160106/41534921_0.shtml\n",
      "\n"
     ]
    },
    {
     "name": "stderr",
     "output_type": "stream",
     "text": [
      " 24% ( 3569 of 14312) |##############                                              | Elapsed Time: 1:36:28 ETA: 2:19:25"
     ]
    },
    {
     "name": "stdout",
     "output_type": "stream",
     "text": [
      "Article `download()` failed with 404 Client Error: Not Found for url: http://young.ifeng.com/a/20171106/44746242_0.shtml%0A on URL http://young.ifeng.com/a/20171106/44746242_0.shtml\n",
      "\n"
     ]
    },
    {
     "name": "stderr",
     "output_type": "stream",
     "text": [
      "\r",
      " 24% ( 3570 of 14312) |##############                                              | Elapsed Time: 1:36:30 ETA: 2:47:32"
     ]
    },
    {
     "name": "stdout",
     "output_type": "stream",
     "text": [
      "Article `download()` failed with 404 Client Error: Not Found for url: http://young.ifeng.com/a/20171106/44746195_0.shtml%0A%20 on URL http://young.ifeng.com/a/20171106/44746195_0.shtml\n",
      " \n"
     ]
    },
    {
     "name": "stderr",
     "output_type": "stream",
     "text": [
      "\r",
      " 24% ( 3571 of 14312) |##############                                              | Elapsed Time: 1:36:31 ETA: 2:50:00"
     ]
    },
    {
     "name": "stdout",
     "output_type": "stream",
     "text": [
      "Article `download()` failed with 404 Client Error: Not Found for url: http://young.ifeng.com/a/20171106/44746171_0.shtml%0A%20 on URL http://young.ifeng.com/a/20171106/44746171_0.shtml\n",
      " \n"
     ]
    },
    {
     "name": "stderr",
     "output_type": "stream",
     "text": [
      "\r",
      " 24% ( 3572 of 14312) |##############                                              | Elapsed Time: 1:36:33 ETA: 3:13:19"
     ]
    },
    {
     "name": "stdout",
     "output_type": "stream",
     "text": [
      "Article `download()` failed with 404 Client Error: Not Found for url: http://young.ifeng.com/a/20171115/44762232_0.shtml%0A on URL http://young.ifeng.com/a/20171115/44762232_0.shtml\n",
      "\n"
     ]
    },
    {
     "name": "stderr",
     "output_type": "stream",
     "text": [
      "\r",
      " 24% ( 3573 of 14312) |##############                                              | Elapsed Time: 1:36:34 ETA: 3:37:50"
     ]
    },
    {
     "name": "stdout",
     "output_type": "stream",
     "text": [
      "Article `download()` failed with 404 Client Error: Not Found for url: http://young.ifeng.com/a/20171113/44757819_0.shtml%0A on URL http://young.ifeng.com/a/20171113/44757819_0.shtml\n",
      "\n"
     ]
    },
    {
     "name": "stderr",
     "output_type": "stream",
     "text": [
      "\r",
      " 24% ( 3574 of 14312) |##############                                              | Elapsed Time: 1:36:36 ETA: 4:04:56"
     ]
    },
    {
     "name": "stdout",
     "output_type": "stream",
     "text": [
      "Article `download()` failed with 404 Client Error: Not Found for url: http://young.ifeng.com/a/20171107/44748106_0.shtml%0A on URL http://young.ifeng.com/a/20171107/44748106_0.shtml\n",
      "\n"
     ]
    },
    {
     "name": "stderr",
     "output_type": "stream",
     "text": [
      "\r",
      " 24% ( 3575 of 14312) |##############                                              | Elapsed Time: 1:36:37 ETA: 4:07:50"
     ]
    },
    {
     "name": "stdout",
     "output_type": "stream",
     "text": [
      "Article `download()` failed with 404 Client Error: Not Found for url: http://young.ifeng.com/a/20171106/44746245_0.shtml%0A on URL http://young.ifeng.com/a/20171106/44746245_0.shtml\n",
      "\n"
     ]
    },
    {
     "name": "stderr",
     "output_type": "stream",
     "text": [
      " 25% ( 3587 of 14312) |###############                                             | Elapsed Time: 1:36:45 ETA: 1:55:10"
     ]
    },
    {
     "name": "stdout",
     "output_type": "stream",
     "text": [
      "Article `download()` failed with 404 Client Error: Not Found for url: http://changsha.house.ifeng.com/detail/2017_11_16/51288652_0.shtml%0A on URL http://changsha.house.ifeng.com/detail/2017_11_16/51288652_0.shtml\n",
      "\n"
     ]
    },
    {
     "name": "stderr",
     "output_type": "stream",
     "text": [
      " 25% ( 3626 of 14312) |###############                                             | Elapsed Time: 1:37:09 ETA: 2:22:55"
     ]
    },
    {
     "name": "stdout",
     "output_type": "stream",
     "text": [
      "Article `download()` failed with 404 Client Error: Not Found for url: http://sd.ifeng.com/a/20171113/6141069_0.shtml%0A on URL http://sd.ifeng.com/a/20171113/6141069_0.shtml\n",
      "\n"
     ]
    },
    {
     "name": "stderr",
     "output_type": "stream",
     "text": [
      "\r",
      " 25% ( 3627 of 14312) |###############                                             | Elapsed Time: 1:37:09 ETA: 2:07:19"
     ]
    },
    {
     "name": "stdout",
     "output_type": "stream",
     "text": [
      "Article `download()` failed with 404 Client Error: Not Found for url: http://sd.ifeng.com/a/20171113/6141074_0.shtml%0A on URL http://sd.ifeng.com/a/20171113/6141074_0.shtml\n",
      "\n"
     ]
    },
    {
     "name": "stderr",
     "output_type": "stream",
     "text": [
      " 25% ( 3629 of 14312) |###############                                             | Elapsed Time: 1:37:11 ETA: 2:22:03"
     ]
    },
    {
     "name": "stdout",
     "output_type": "stream",
     "text": [
      "Article `download()` failed with 404 Client Error: Not Found for url: http://jl.ifeng.com/a/20171116/6151525_0.shtml%0A on URL http://jl.ifeng.com/a/20171116/6151525_0.shtml\n",
      "\n"
     ]
    },
    {
     "name": "stderr",
     "output_type": "stream",
     "text": [
      " 25% ( 3682 of 14312) |###############                                             | Elapsed Time: 1:38:20 ETA: 2:11:52"
     ]
    },
    {
     "name": "stdout",
     "output_type": "stream",
     "text": [
      "Article `download()` failed with 404 Client Error: Not Found for url: http://www.sina.com.cn/%20http:/finance.sina.com.cn/chanjing/gsnews/2017-11-16/doc-ifynwxum1638092.shtml%20 on URL http://www.sina.com.cn/ http:/finance.sina.com.cn/chanjing/gsnews/2017-11-16/doc-ifynwxum1638092.shtml \n"
     ]
    },
    {
     "name": "stderr",
     "output_type": "stream",
     "text": [
      "\r",
      " 25% ( 3683 of 14312) |###############                                             | Elapsed Time: 1:38:21 ETA: 2:10:49"
     ]
    },
    {
     "name": "stdout",
     "output_type": "stream",
     "text": [
      "Article `download()` failed with 404 Client Error: Not Found for url: http://finance.sina.com.cn/chanjing/2017-11-17/doc-ifynwnty3723659.shtml%20 on URL http://finance.sina.com.cn/chanjing/2017-11-17/doc-ifynwnty3723659.shtml \n"
     ]
    },
    {
     "name": "stderr",
     "output_type": "stream",
     "text": [
      "\r",
      " 25% ( 3684 of 14312) |###############                                             | Elapsed Time: 1:38:22 ETA: 2:18:00"
     ]
    },
    {
     "name": "stdout",
     "output_type": "stream",
     "text": [
      "Article `download()` failed with 404 Client Error: Not Found for url: http://finance.sina.com.cn/consume/puguangtai/2017-11-17/doc-ifynwnty3737640.shtml%20%20 on URL http://finance.sina.com.cn/consume/puguangtai/2017-11-17/doc-ifynwnty3737640.shtml  \n"
     ]
    },
    {
     "name": "stderr",
     "output_type": "stream",
     "text": [
      " 25% ( 3687 of 14312) |###############                                             | Elapsed Time: 1:38:26 ETA: 3:13:40"
     ]
    },
    {
     "name": "stdout",
     "output_type": "stream",
     "text": [
      "Article `download()` failed with 404 Client Error: Not Found for url: http://finance.sina.com.cn/china/gncj/2017-11-17/doc-ifynwxum1950334.shtml%20 on URL http://finance.sina.com.cn/china/gncj/2017-11-17/doc-ifynwxum1950334.shtml \n"
     ]
    },
    {
     "name": "stderr",
     "output_type": "stream",
     "text": [
      "\r",
      " 25% ( 3688 of 14312) |###############                                             | Elapsed Time: 1:38:26 ETA: 3:20:20"
     ]
    },
    {
     "name": "stdout",
     "output_type": "stream",
     "text": [
      "Article `download()` failed with 404 Client Error: Not Found for url: http://finance.sina.com.cn/china/dfjj/2017-11-17/doc-ifynwnty3737653.shtml%20%20 on URL http://finance.sina.com.cn/china/dfjj/2017-11-17/doc-ifynwnty3737653.shtml  \n"
     ]
    },
    {
     "name": "stderr",
     "output_type": "stream",
     "text": [
      "\r",
      " 25% ( 3689 of 14312) |###############                                             | Elapsed Time: 1:38:27 ETA: 3:27:18"
     ]
    },
    {
     "name": "stdout",
     "output_type": "stream",
     "text": [
      "Article `download()` failed with 404 Client Error: Not Found for url: http://finance.sina.com.cn/roll/2017-11-17/doc-ifynwxum2013395.shtml%20 on URL http://finance.sina.com.cn/roll/2017-11-17/doc-ifynwxum2013395.shtml \n"
     ]
    },
    {
     "name": "stderr",
     "output_type": "stream",
     "text": [
      "\r",
      " 25% ( 3690 of 14312) |###############                                             | Elapsed Time: 1:38:29 ETA: 3:05:00"
     ]
    },
    {
     "name": "stdout",
     "output_type": "stream",
     "text": [
      "Article `download()` failed with 404 Client Error: Not Found for url: http://finance.sina.com.cn/china/gncj/2017-11-17/doc-ifynwnty3737659.shtml%20%20 on URL http://finance.sina.com.cn/china/gncj/2017-11-17/doc-ifynwnty3737659.shtml  \n"
     ]
    },
    {
     "name": "stderr",
     "output_type": "stream",
     "text": [
      "\r",
      " 25% ( 3691 of 14312) |###############                                             | Elapsed Time: 1:38:31 ETA: 3:28:22"
     ]
    },
    {
     "name": "stdout",
     "output_type": "stream",
     "text": [
      "Article `download()` failed with 404 Client Error: Not Found for url: http://finance.sina.com.cn/chanjing/cyxw/2017-11-17/doc-ifynwnty3720013.shtml%20 on URL http://finance.sina.com.cn/chanjing/cyxw/2017-11-17/doc-ifynwnty3720013.shtml \n"
     ]
    },
    {
     "name": "stderr",
     "output_type": "stream",
     "text": [
      "\r",
      " 25% ( 3692 of 14312) |###############                                             | Elapsed Time: 1:38:32 ETA: 3:34:19"
     ]
    },
    {
     "name": "stdout",
     "output_type": "stream",
     "text": [
      "Article `download()` failed with 404 Client Error: Not Found for url: http://finance.sina.com.cn/china/gncj/2017-11-17/doc-ifynwxum1970233.shtml%20 on URL http://finance.sina.com.cn/china/gncj/2017-11-17/doc-ifynwxum1970233.shtml \n"
     ]
    },
    {
     "name": "stderr",
     "output_type": "stream",
     "text": [
      " 26% ( 3731 of 14312) |###############                                             | Elapsed Time: 1:40:39 ETA: 6:06:06"
     ]
    },
    {
     "name": "stdout",
     "output_type": "stream",
     "text": [
      "Article `download()` failed with 404 Client Error: Not Found for url: http://www.sina.com.cn/%20http:/finance.sina.com.cn/chanjing/gsnews/2017-11-16/doc-ifynwxum1638092.shtml%20 on URL http://sina.com.cn/ http:/finance.sina.com.cn/chanjing/gsnews/2017-11-16/doc-ifynwxum1638092.shtml \n"
     ]
    },
    {
     "name": "stderr",
     "output_type": "stream",
     "text": [
      " 26% ( 3737 of 14312) |###############                                             | Elapsed Time: 1:40:47 ETA: 5:24:48"
     ]
    },
    {
     "name": "stdout",
     "output_type": "stream",
     "text": [
      "Article `download()` failed with 404 Client Error: Not Found for url: http://jiaju.sina.com.cn/zixun/q/20171020/6327050651738375122.shtml%0D%0A on URL http://jiaju.sina.com.cn/zixun/q/20171020/6327050651738375122.shtml\r\n",
      "\n"
     ]
    },
    {
     "name": "stderr",
     "output_type": "stream",
     "text": [
      "\r",
      " 26% ( 3738 of 14312) |###############                                             | Elapsed Time: 1:40:48 ETA: 4:55:47"
     ]
    },
    {
     "name": "stdout",
     "output_type": "stream",
     "text": [
      "Article `download()` failed with 404 Client Error: Not Found for url: http://auto.sina.com.cn/news/2014-07-22/15181311290.shtml%0A on URL http://auto.sina.com.cn/news/2014-07-22/15181311290.shtml\n",
      "\n"
     ]
    },
    {
     "name": "stderr",
     "output_type": "stream",
     "text": [
      "\r",
      " 26% ( 3739 of 14312) |###############                                             | Elapsed Time: 1:40:49 ETA: 4:23:36"
     ]
    },
    {
     "name": "stdout",
     "output_type": "stream",
     "text": [
      "Article `download()` failed with 404 Client Error: Not Found for url: http://tj.sina.com.cn/health/2017-11-06/detail-ifynmzrs7324168.shtml%20 on URL http://tj.sina.com.cn/health/2017-11-06/detail-ifynmzrs7324168.shtml \n"
     ]
    },
    {
     "name": "stderr",
     "output_type": "stream",
     "text": [
      "\r",
      " 26% ( 3740 of 14312) |###############                                             | Elapsed Time: 1:40:50 ETA: 3:45:48"
     ]
    },
    {
     "name": "stdout",
     "output_type": "stream",
     "text": [
      "Article `download()` failed with 404 Client Error: Not Found for url: http://tj.sina.com.cn/health/2017-11-03/detail-ifynnnsc4297180.shtml%20 on URL http://tj.sina.com.cn/health/2017-11-03/detail-ifynnnsc4297180.shtml \n"
     ]
    },
    {
     "name": "stderr",
     "output_type": "stream",
     "text": [
      "\r",
      " 26% ( 3741 of 14312) |###############                                             | Elapsed Time: 1:40:51 ETA: 3:34:57"
     ]
    },
    {
     "name": "stdout",
     "output_type": "stream",
     "text": [
      "Article `download()` failed with 404 Client Error: Not Found for url: http://tj.sina.com.cn/edu/2017-11-01/detail-ifynfvar5636204.shtml%20 on URL http://tj.sina.com.cn/edu/2017-11-01/detail-ifynfvar5636204.shtml \n"
     ]
    },
    {
     "name": "stderr",
     "output_type": "stream",
     "text": [
      "\r",
      " 26% ( 3742 of 14312) |###############                                             | Elapsed Time: 1:40:52 ETA: 3:23:25"
     ]
    },
    {
     "name": "stdout",
     "output_type": "stream",
     "text": [
      "Article `download()` failed with 404 Client Error: Not Found for url: http://jiaju.sina.com.cn/news/20171016/6325370317439303841.shtml%0D%0A%0D%0A%20 on URL http://jiaju.sina.com.cn/news/20171016/6325370317439303841.shtml\r\n",
      "\r\n",
      " \n"
     ]
    },
    {
     "name": "stderr",
     "output_type": "stream",
     "text": [
      "\r",
      " 26% ( 3743 of 14312) |###############                                             | Elapsed Time: 1:40:53 ETA: 3:07:40"
     ]
    },
    {
     "name": "stdout",
     "output_type": "stream",
     "text": [
      "Article `download()` failed with 404 Client Error: Not Found for url: http://finance.sina.com.cn/china/gncj/2017-11-17/doc-ifynwxum1970225.shtml%20%20 on URL http://finance.sina.com.cn/china/gncj/2017-11-17/doc-ifynwxum1970225.shtml  \n"
     ]
    },
    {
     "name": "stderr",
     "output_type": "stream",
     "text": [
      "\r",
      " 26% ( 3744 of 14312) |###############                                             | Elapsed Time: 1:40:54 ETA: 3:04:55"
     ]
    },
    {
     "name": "stdout",
     "output_type": "stream",
     "text": [
      "Article `download()` failed with 404 Client Error: Not Found for url: http://finance.sina.com.cn/china/gncj/2017-11-17/doc-ifynwxum1970332.shtml%20%20 on URL http://finance.sina.com.cn/china/gncj/2017-11-17/doc-ifynwxum1970332.shtml  \n"
     ]
    },
    {
     "name": "stderr",
     "output_type": "stream",
     "text": [
      " 26% ( 3746 of 14312) |###############                                             | Elapsed Time: 1:40:56 ETA: 2:45:15"
     ]
    },
    {
     "name": "stdout",
     "output_type": "stream",
     "text": [
      "Article `download()` failed with 404 Client Error: Not Found for url: http://finance.sina.com.cn/chanjing/gsnews/2017-11-16/doc-ifynwxum1638092.shtml%20 on URL http://finance.sina.com.cn/chanjing/gsnews/2017-11-16/doc-ifynwxum1638092.shtml \n"
     ]
    },
    {
     "name": "stderr",
     "output_type": "stream",
     "text": [
      "\r",
      " 26% ( 3747 of 14312) |###############                                             | Elapsed Time: 1:40:56 ETA: 2:41:54"
     ]
    },
    {
     "name": "stdout",
     "output_type": "stream",
     "text": [
      "Article `download()` failed with 404 Client Error: Not Found for url: http://finance.sina.com.cn/china/gncj/2017-11-17/doc-ifynwxum1950343.shtml%20 on URL http://finance.sina.com.cn/china/gncj/2017-11-17/doc-ifynwxum1950343.shtml \n"
     ]
    },
    {
     "name": "stderr",
     "output_type": "stream",
     "text": [
      " 26% ( 3750 of 14312) |###############                                             | Elapsed Time: 1:41:00 ETA: 3:05:44"
     ]
    },
    {
     "name": "stdout",
     "output_type": "stream",
     "text": [
      "Article `download()` failed with 404 Client Error: Not Found for url: http://city.sina.com.cn/city/t/2017-09-25/124869534.html%20%0D on URL http://city.sina.com.cn/city/t/2017-09-25/124869534.html \r\n"
     ]
    },
    {
     "name": "stderr",
     "output_type": "stream",
     "text": [
      "\r",
      " 26% ( 3751 of 14312) |###############                                             | Elapsed Time: 1:41:01 ETA: 3:01:56"
     ]
    },
    {
     "name": "stdout",
     "output_type": "stream",
     "text": [
      "Article `download()` failed with 404 Client Error: Not Found for url: http://city.sina.com.cn/city/f/2017gjjyh/index.shtml%0D on URL http://city.sina.com.cn/city/f/2017gjjyh/index.shtml\r\n"
     ]
    },
    {
     "name": "stderr",
     "output_type": "stream",
     "text": [
      "\r",
      " 26% ( 3752 of 14312) |###############                                             | Elapsed Time: 1:41:02 ETA: 2:58:36"
     ]
    },
    {
     "name": "stdout",
     "output_type": "stream",
     "text": [
      "Article `download()` failed with 404 Client Error: Not Found for url: http://city.sina.com.cn/city/f/huairou2017/index.shtml%0D on URL http://city.sina.com.cn/city/f/huairou2017/index.shtml\r\n"
     ]
    },
    {
     "name": "stderr",
     "output_type": "stream",
     "text": [
      " 26% ( 3765 of 14312) |###############                                            | Elapsed Time: 1:41:59 ETA: 15:45:23"
     ]
    },
    {
     "name": "stdout",
     "output_type": "stream",
     "text": [
      "Article `download()` failed with 404 Client Error: Not Found for url: http://cd.auto.sina.com.cn/bdcs/2017-08-15/detail-ifyixias1051586.shtml%20 on URL http://cd.auto.sina.com.cn/bdcs/2017-08-15/detail-ifyixias1051586.shtml \n"
     ]
    },
    {
     "name": "stderr",
     "output_type": "stream",
     "text": [
      "\r",
      " 26% ( 3766 of 14312) |###############                                            | Elapsed Time: 1:42:00 ETA: 15:41:53"
     ]
    },
    {
     "name": "stdout",
     "output_type": "stream",
     "text": [
      "Article `download()` failed with 404 Client Error: Not Found for url: http://video.sina.com.cn/view/251900417.html%20%0A on URL http://video.sina.com.cn/view/251900417.html \n",
      "\n"
     ]
    },
    {
     "name": "stderr",
     "output_type": "stream",
     "text": [
      " 26% ( 3768 of 14312) |###############                                            | Elapsed Time: 1:42:03 ETA: 15:10:37"
     ]
    },
    {
     "name": "stdout",
     "output_type": "stream",
     "text": [
      "Article `download()` failed with 404 Client Error: Not Found for url: http://news.sina.com.cn/%20%20%20%20http:/auto.sina.com.cn/newcar/x/2017-11-15/detail-ifynshev6187240.shtml%20%20%20%20 on URL http://news.sina.com.cn/    http:/auto.sina.com.cn/newcar/x/2017-11-15/detail-ifynshev6187240.shtml    \n"
     ]
    },
    {
     "name": "stderr",
     "output_type": "stream",
     "text": [
      "\r",
      " 26% ( 3769 of 14312) |###############                                             | Elapsed Time: 1:42:04 ETA: 9:15:53"
     ]
    },
    {
     "name": "stdout",
     "output_type": "stream",
     "text": [
      "Article `download()` failed with 404 Client Error: Not Found for url: http://news.sina.com.cn/%20%20%20%20http:/auto.sina.com.cn/newcar/2017-11-06/detail-ifynnnsc7118264.shtml%20 on URL http://news.sina.com.cn/    http:/auto.sina.com.cn/newcar/2017-11-06/detail-ifynnnsc7118264.shtml \n"
     ]
    },
    {
     "name": "stderr",
     "output_type": "stream",
     "text": [
      " 28% ( 4042 of 14312) |################                                            | Elapsed Time: 1:47:09 ETA: 1:52:12"
     ]
    },
    {
     "name": "stdout",
     "output_type": "stream",
     "text": [
      "Article `download()` failed with 404 Client Error: Not Found for url: http://press.weather.com/%0A%20%20%0A%20%20%20%20http:/www.theweathercompany.com/newsroom/2016/01/12/weather-underground-android-update-presents-new-design-features%20%20%0A on URL http://press.weather.com/\n",
      "  \n",
      "    http:/www.theweathercompany.com/newsroom/2016/01/12/weather-underground-android-update-presents-new-design-features  \n",
      "\n"
     ]
    },
    {
     "name": "stderr",
     "output_type": "stream",
     "text": [
      " 30% ( 4357 of 14312) |##################                                          | Elapsed Time: 2:00:10 ETA: 7:04:02"
     ]
    },
    {
     "name": "stdout",
     "output_type": "stream",
     "text": [
      "Article `download()` failed with 404 Client Error: Not Found for url: https://www.nytimes.com/2017/10/16/us/waiting-periods-guns.html%20%20 on URL https://www.nytimes.com/2017/10/16/us/waiting-periods-guns.html  \n"
     ]
    },
    {
     "name": "stderr",
     "output_type": "stream",
     "text": [
      " 30% ( 4360 of 14312) |##################                                          | Elapsed Time: 2:00:12 ETA: 3:57:30"
     ]
    },
    {
     "name": "stdout",
     "output_type": "stream",
     "text": [
      "Article `download()` failed with 404 Client Error: Not Found for url: http://edition.cnn.com/2017/10/23/health/moms-babies-crying-response-universal-study/index.html%20%20 on URL http://www.cnn.com/2017/10/23/health/moms-babies-crying-response-universal-study/index.html  \n"
     ]
    },
    {
     "name": "stderr",
     "output_type": "stream",
     "text": [
      " 30% ( 4362 of 14312) |##################                                          | Elapsed Time: 2:00:14 ETA: 2:48:03"
     ]
    },
    {
     "name": "stdout",
     "output_type": "stream",
     "text": [
      "You must `download()` an article first!\n",
      "You must `download()` an article first!\n"
     ]
    },
    {
     "name": "stderr",
     "output_type": "stream",
     "text": [
      " 31% ( 4498 of 14312) |##################                                          | Elapsed Time: 2:05:35 ETA: 2:31:27"
     ]
    },
    {
     "name": "stdout",
     "output_type": "stream",
     "text": [
      "Article `download()` failed with 404 Client Error: Not Found for url: https://www.sciencesetavenir.fr/sante-maladie/allergie-aux-proteines-du-lait-de-vache_104569%09 on URL https://www.sciencesetavenir.fr/sante-maladie/allergie-aux-proteines-du-lait-de-vache_104569\t\n",
      "Article `download()` failed with 404 Client Error: Not Found for url: https://www.sciencesetavenir.fr/sante-maladie/prise-en-charge-de-la-douleur_104626%09 on URL https://www.sciencesetavenir.fr/sante-maladie/prise-en-charge-de-la-douleur_104626\t\n"
     ]
    },
    {
     "name": "stderr",
     "output_type": "stream",
     "text": [
      "\r",
      " 31% ( 4499 of 14312) |##################                                          | Elapsed Time: 2:05:35 ETA: 2:19:01\r",
      " 31% ( 4500 of 14312) |##################                                          | Elapsed Time: 2:05:35 ETA: 2:05:50"
     ]
    },
    {
     "name": "stdout",
     "output_type": "stream",
     "text": [
      "Article `download()` failed with 404 Client Error: Not Found for url: https://www.sciencesetavenir.fr/sante-maladie/degenerescence-maculaire-liee-a-l-age-dmla_104597%09 on URL https://www.sciencesetavenir.fr/sante-maladie/degenerescence-maculaire-liee-a-l-age-dmla_104597\t\n"
     ]
    },
    {
     "name": "stderr",
     "output_type": "stream",
     "text": [
      "\r",
      " 31% ( 4501 of 14312) |##################                                          | Elapsed Time: 2:05:35 ETA: 1:49:20"
     ]
    },
    {
     "name": "stdout",
     "output_type": "stream",
     "text": [
      "Article `download()` failed with 404 Client Error: Not Found for url: http://video.wanfangdata.com.cn/%09%09%09/v/play/SK160624672.html%0D%0A%09 on URL http://video.wanfangdata.com.cn/\t\t\t/v/play/SK160624672.html\r\n",
      "\t\n"
     ]
    },
    {
     "name": "stderr",
     "output_type": "stream",
     "text": [
      "\r",
      " 31% ( 4502 of 14312) |##################                                          | Elapsed Time: 2:05:36 ETA: 1:28:44"
     ]
    },
    {
     "name": "stdout",
     "output_type": "stream",
     "text": [
      "Article `download()` failed with 404 Client Error: Not Found for url: http://video.wanfangdata.com.cn/%09%09%09/v/play/SK190125682.html%0D%0A%09 on URL http://video.wanfangdata.com.cn/\t\t\t/v/play/SK190125682.html\r\n",
      "\t\n"
     ]
    },
    {
     "name": "stderr",
     "output_type": "stream",
     "text": [
      "\r",
      " 31% ( 4503 of 14312) |##################                                          | Elapsed Time: 2:05:37 ETA: 1:28:13"
     ]
    },
    {
     "name": "stdout",
     "output_type": "stream",
     "text": [
      "Article `download()` failed with 404 Client Error: Not Found for url: http://video.wanfangdata.com.cn/%09%09%09/v/play/SF160114690.html%0D%0A%09 on URL http://video.wanfangdata.com.cn/\t\t\t/v/play/SF160114690.html\r\n",
      "\t\n"
     ]
    },
    {
     "name": "stderr",
     "output_type": "stream",
     "text": [
      "\r",
      " 31% ( 4504 of 14312) |##################                                          | Elapsed Time: 2:05:37 ETA: 1:23:45"
     ]
    },
    {
     "name": "stdout",
     "output_type": "stream",
     "text": [
      "Article `download()` failed with 404 Client Error: Not Found for url: http://video.wanfangdata.com.cn/%09%09%09/v/play/SJ180322779.html%0D%0A%09 on URL http://video.wanfangdata.com.cn/\t\t\t/v/play/SJ180322779.html\r\n",
      "\t\n"
     ]
    },
    {
     "name": "stderr",
     "output_type": "stream",
     "text": [
      "\r",
      " 31% ( 4505 of 14312) |##################                                          | Elapsed Time: 2:05:38 ETA: 1:19:23"
     ]
    },
    {
     "name": "stdout",
     "output_type": "stream",
     "text": [
      "Article `download()` failed with 404 Client Error: Not Found for url: http://video.wanfangdata.com.cn/%09%09%09/v/play/SH170318173.html%0D%0A%09 on URL http://video.wanfangdata.com.cn/\t\t\t/v/play/SH170318173.html\r\n",
      "\t\n"
     ]
    },
    {
     "name": "stderr",
     "output_type": "stream",
     "text": [
      "\r",
      " 31% ( 4506 of 14312) |##################                                          | Elapsed Time: 2:05:38 ETA: 1:14:34"
     ]
    },
    {
     "name": "stdout",
     "output_type": "stream",
     "text": [
      "Article `download()` failed with 404 Client Error: Not Found for url: http://video.wanfangdata.com.cn/%09%09%09/v/play/SK050425379.html%0D%0A%09 on URL http://video.wanfangdata.com.cn/\t\t\t/v/play/SK050425379.html\r\n",
      "\t\n"
     ]
    },
    {
     "name": "stderr",
     "output_type": "stream",
     "text": [
      "\r",
      " 31% ( 4507 of 14312) |##################                                          | Elapsed Time: 2:05:39 ETA: 1:10:39"
     ]
    },
    {
     "name": "stdout",
     "output_type": "stream",
     "text": [
      "Article `download()` failed with 404 Client Error: Not Found for url: http://video.wanfangdata.com.cn/%09%09%09/v/play/SK160624055.html%0D%0A%09 on URL http://video.wanfangdata.com.cn/\t\t\t/v/play/SK160624055.html\r\n",
      "\t\n"
     ]
    },
    {
     "name": "stderr",
     "output_type": "stream",
     "text": [
      "\r",
      " 31% ( 4508 of 14312) |##################                                          | Elapsed Time: 2:05:39 ETA: 1:15:55"
     ]
    },
    {
     "name": "stdout",
     "output_type": "stream",
     "text": [
      "Article `download()` failed with 404 Client Error: Not Found for url: http://video.wanfangdata.com.cn/%09%09%09/v/play/SK170623830.html%0D%0A%09 on URL http://video.wanfangdata.com.cn/\t\t\t/v/play/SK170623830.html\r\n",
      "\t\n"
     ]
    },
    {
     "name": "stderr",
     "output_type": "stream",
     "text": [
      "\r",
      " 31% ( 4509 of 14312) |##################                                          | Elapsed Time: 2:05:40 ETA: 1:22:07"
     ]
    },
    {
     "name": "stdout",
     "output_type": "stream",
     "text": [
      "Article `download()` failed with 404 Client Error: Not Found for url: http://video.wanfangdata.com.cn/%09%09%09/v/play/SJ170522156.html%0D%0A%09 on URL http://video.wanfangdata.com.cn/\t\t\t/v/play/SJ170522156.html\r\n",
      "\t\n"
     ]
    },
    {
     "name": "stderr",
     "output_type": "stream",
     "text": [
      "\r",
      " 31% ( 4510 of 14312) |##################                                          | Elapsed Time: 2:05:40 ETA: 1:28:18"
     ]
    },
    {
     "name": "stdout",
     "output_type": "stream",
     "text": [
      "Article `download()` failed with 404 Client Error: Not Found for url: http://video.wanfangdata.com.cn/%09%09%09/v/play/SJ170522442.html%0D%0A%09 on URL http://video.wanfangdata.com.cn/\t\t\t/v/play/SJ170522442.html\r\n",
      "\t\n"
     ]
    },
    {
     "name": "stderr",
     "output_type": "stream",
     "text": [
      "\r",
      " 31% ( 4511 of 14312) |##################                                          | Elapsed Time: 2:05:41 ETA: 1:24:00"
     ]
    },
    {
     "name": "stdout",
     "output_type": "stream",
     "text": [
      "Article `download()` failed with 404 Client Error: Not Found for url: http://video.wanfangdata.com.cn/%09%09%09/v/play/SJ170522412.html%0D%0A%09 on URL http://video.wanfangdata.com.cn/\t\t\t/v/play/SJ170522412.html\r\n",
      "\t\n"
     ]
    },
    {
     "name": "stderr",
     "output_type": "stream",
     "text": [
      "\r",
      " 31% ( 4512 of 14312) |##################                                          | Elapsed Time: 2:05:42 ETA: 1:38:56"
     ]
    },
    {
     "name": "stdout",
     "output_type": "stream",
     "text": [
      "Article `download()` failed with 404 Client Error: Not Found for url: http://video.wanfangdata.com.cn/%09%09%09/v/play/SJ170522390.html%0D%0A%09 on URL http://video.wanfangdata.com.cn/\t\t\t/v/play/SJ170522390.html\r\n",
      "\t\n"
     ]
    },
    {
     "name": "stderr",
     "output_type": "stream",
     "text": [
      "\r",
      " 31% ( 4513 of 14312) |##################                                          | Elapsed Time: 2:05:43 ETA: 1:38:57"
     ]
    },
    {
     "name": "stdout",
     "output_type": "stream",
     "text": [
      "Article `download()` failed with 404 Client Error: Not Found for url: http://video.wanfangdata.com.cn/%09%09%09/v/play/SJ170522152.html%0D%0A%09 on URL http://video.wanfangdata.com.cn/\t\t\t/v/play/SJ170522152.html\r\n",
      "\t\n"
     ]
    },
    {
     "name": "stderr",
     "output_type": "stream",
     "text": [
      "\r",
      " 31% ( 4514 of 14312) |##################                                          | Elapsed Time: 2:05:43 ETA: 1:39:16"
     ]
    },
    {
     "name": "stdout",
     "output_type": "stream",
     "text": [
      "Article `download()` failed with 404 Client Error: Not Found for url: http://video.wanfangdata.com.cn/%09%09%09/v/play/SJ170522423.html%0D%0A%09 on URL http://video.wanfangdata.com.cn/\t\t\t/v/play/SJ170522423.html\r\n",
      "\t\n"
     ]
    },
    {
     "name": "stderr",
     "output_type": "stream",
     "text": [
      "\r",
      " 31% ( 4515 of 14312) |##################                                          | Elapsed Time: 2:05:44 ETA: 1:38:57"
     ]
    },
    {
     "name": "stdout",
     "output_type": "stream",
     "text": [
      "Article `download()` failed with 404 Client Error: Not Found for url: http://video.wanfangdata.com.cn/%09%09%09/v/play/SJ170522439.html%0D%0A%09 on URL http://video.wanfangdata.com.cn/\t\t\t/v/play/SJ170522439.html\r\n",
      "\t\n"
     ]
    },
    {
     "name": "stderr",
     "output_type": "stream",
     "text": [
      "\r",
      " 31% ( 4516 of 14312) |##################                                          | Elapsed Time: 2:05:44 ETA: 1:39:00"
     ]
    },
    {
     "name": "stdout",
     "output_type": "stream",
     "text": [
      "Article `download()` failed with 404 Client Error: Not Found for url: http://video.wanfangdata.com.cn/%09%09%09/v/play/SJ170522435.html%0D%0A%09 on URL http://video.wanfangdata.com.cn/\t\t\t/v/play/SJ170522435.html\r\n",
      "\t\n"
     ]
    },
    {
     "name": "stderr",
     "output_type": "stream",
     "text": [
      "\r",
      " 31% ( 4517 of 14312) |##################                                          | Elapsed Time: 2:05:45 ETA: 1:38:59"
     ]
    },
    {
     "name": "stdout",
     "output_type": "stream",
     "text": [
      "Article `download()` failed with 404 Client Error: Not Found for url: http://video.wanfangdata.com.cn/%09%09%09/v/play/SJ170522130.html%0D%0A%09 on URL http://video.wanfangdata.com.cn/\t\t\t/v/play/SJ170522130.html\r\n",
      "\t\n"
     ]
    },
    {
     "name": "stderr",
     "output_type": "stream",
     "text": [
      " 31% ( 4519 of 14312) |##################                                          | Elapsed Time: 2:05:46 ETA: 1:40:54"
     ]
    },
    {
     "name": "stdout",
     "output_type": "stream",
     "text": [
      "Article `download()` failed with 404 Client Error: Not Found for url: http://video.wanfangdata.com.cn/%09%09%09/v/play/SJ180322883.html%0D%0A%09 on URL http://video.wanfangdata.com.cn/\t\t\t/v/play/SJ180322883.html\r\n",
      "\t\n"
     ]
    },
    {
     "name": "stderr",
     "output_type": "stream",
     "text": [
      "\r",
      " 31% ( 4520 of 14312) |##################                                          | Elapsed Time: 2:05:46 ETA: 1:40:58"
     ]
    },
    {
     "name": "stdout",
     "output_type": "stream",
     "text": [
      "Article `download()` failed with 404 Client Error: Not Found for url: http://video.wanfangdata.com.cn/%09%09%09/v/play/SJ180322987.html%0D%0A%09 on URL http://video.wanfangdata.com.cn/\t\t\t/v/play/SJ180322987.html\r\n",
      "\t\n"
     ]
    },
    {
     "name": "stderr",
     "output_type": "stream",
     "text": [
      "\r",
      " 31% ( 4521 of 14312) |##################                                          | Elapsed Time: 2:05:47 ETA: 1:26:31"
     ]
    },
    {
     "name": "stdout",
     "output_type": "stream",
     "text": [
      "Article `download()` failed with 404 Client Error: Not Found for url: http://video.wanfangdata.com.cn/%09%09%09/v/play/SJ180322922.html%0D%0A%09 on URL http://video.wanfangdata.com.cn/\t\t\t/v/play/SJ180322922.html\r\n",
      "\t\n"
     ]
    },
    {
     "name": "stderr",
     "output_type": "stream",
     "text": [
      "\r",
      " 31% ( 4522 of 14312) |##################                                          | Elapsed Time: 2:05:47 ETA: 1:26:28"
     ]
    },
    {
     "name": "stdout",
     "output_type": "stream",
     "text": [
      "Article `download()` failed with 404 Client Error: Not Found for url: http://video.wanfangdata.com.cn/%09%09%09/v/play/SJ180322787.html%0D%0A%09 on URL http://video.wanfangdata.com.cn/\t\t\t/v/play/SJ180322787.html\r\n",
      "\t\n"
     ]
    },
    {
     "name": "stderr",
     "output_type": "stream",
     "text": [
      "\r",
      " 31% ( 4523 of 14312) |##################                                          | Elapsed Time: 2:05:48 ETA: 1:26:00"
     ]
    },
    {
     "name": "stdout",
     "output_type": "stream",
     "text": [
      "Article `download()` failed with 404 Client Error: Not Found for url: http://video.wanfangdata.com.cn/%09%09%09/v/play/SJ180322935.html%0D%0A%09 on URL http://video.wanfangdata.com.cn/\t\t\t/v/play/SJ180322935.html\r\n",
      "\t\n"
     ]
    },
    {
     "name": "stderr",
     "output_type": "stream",
     "text": [
      "\r",
      " 31% ( 4524 of 14312) |##################                                          | Elapsed Time: 2:05:48 ETA: 1:25:57"
     ]
    },
    {
     "name": "stdout",
     "output_type": "stream",
     "text": [
      "Article `download()` failed with 404 Client Error: Not Found for url: http://video.wanfangdata.com.cn/%09%09%09/v/play/SJ180322896.html%0D%0A%09 on URL http://video.wanfangdata.com.cn/\t\t\t/v/play/SJ180322896.html\r\n",
      "\t\n"
     ]
    },
    {
     "name": "stderr",
     "output_type": "stream",
     "text": [
      "\r",
      " 31% ( 4525 of 14312) |##################                                          | Elapsed Time: 2:05:49 ETA: 1:26:09"
     ]
    },
    {
     "name": "stdout",
     "output_type": "stream",
     "text": [
      "Article `download()` failed with 404 Client Error: Not Found for url: http://video.wanfangdata.com.cn/%09%09%09/v/play/SJ180322902.html%0D%0A%09 on URL http://video.wanfangdata.com.cn/\t\t\t/v/play/SJ180322902.html\r\n",
      "\t\n"
     ]
    },
    {
     "name": "stderr",
     "output_type": "stream",
     "text": [
      "\r",
      " 31% ( 4526 of 14312) |##################                                          | Elapsed Time: 2:05:49 ETA: 1:26:21"
     ]
    },
    {
     "name": "stdout",
     "output_type": "stream",
     "text": [
      "Article `download()` failed with 404 Client Error: Not Found for url: http://video.wanfangdata.com.cn/%09%09%09/v/play/SJ180322921.html%0D%0A%09 on URL http://video.wanfangdata.com.cn/\t\t\t/v/play/SJ180322921.html\r\n",
      "\t\n"
     ]
    },
    {
     "name": "stderr",
     "output_type": "stream",
     "text": [
      "\r",
      " 31% ( 4527 of 14312) |##################                                          | Elapsed Time: 2:05:50 ETA: 1:26:21"
     ]
    },
    {
     "name": "stdout",
     "output_type": "stream",
     "text": [
      "Article `download()` failed with 404 Client Error: Not Found for url: http://video.wanfangdata.com.cn/%09%09%09/v/play/SJ180322901.html%0D%0A%09 on URL http://video.wanfangdata.com.cn/\t\t\t/v/play/SJ180322901.html\r\n",
      "\t\n"
     ]
    },
    {
     "name": "stderr",
     "output_type": "stream",
     "text": [
      "\r",
      " 31% ( 4528 of 14312) |##################                                          | Elapsed Time: 2:05:50 ETA: 1:24:33"
     ]
    },
    {
     "name": "stdout",
     "output_type": "stream",
     "text": [
      "Article `download()` failed with 404 Client Error: Not Found for url: http://video.wanfangdata.com.cn/%09%09%09/v/play/SJ160522192.html%0D%0A%09 on URL http://video.wanfangdata.com.cn/\t\t\t/v/play/SJ160522192.html\r\n",
      "\t\n"
     ]
    },
    {
     "name": "stderr",
     "output_type": "stream",
     "text": [
      "\r",
      " 31% ( 4529 of 14312) |##################                                          | Elapsed Time: 2:05:51 ETA: 1:24:22"
     ]
    },
    {
     "name": "stdout",
     "output_type": "stream",
     "text": [
      "Article `download()` failed with 404 Client Error: Not Found for url: http://video.wanfangdata.com.cn/%09%09%09/v/play/SI160419981.html%0D%0A%09 on URL http://video.wanfangdata.com.cn/\t\t\t/v/play/SI160419981.html\r\n",
      "\t\n"
     ]
    },
    {
     "name": "stderr",
     "output_type": "stream",
     "text": [
      "\r",
      " 31% ( 4530 of 14312) |##################                                          | Elapsed Time: 2:05:52 ETA: 1:33:14"
     ]
    },
    {
     "name": "stdout",
     "output_type": "stream",
     "text": [
      "Article `download()` failed with 404 Client Error: Not Found for url: http://video.wanfangdata.com.cn/%09%09%09/v/play/SJ160522165.html%0D%0A%09 on URL http://video.wanfangdata.com.cn/\t\t\t/v/play/SJ160522165.html\r\n",
      "\t\n"
     ]
    },
    {
     "name": "stderr",
     "output_type": "stream",
     "text": [
      "\r",
      " 31% ( 4531 of 14312) |##################                                          | Elapsed Time: 2:05:53 ETA: 1:41:55"
     ]
    },
    {
     "name": "stdout",
     "output_type": "stream",
     "text": [
      "Article `download()` failed with 404 Client Error: Not Found for url: http://video.wanfangdata.com.cn/%09%09%09/v/play/SJ160521380.html%0D%0A%09 on URL http://video.wanfangdata.com.cn/\t\t\t/v/play/SJ160521380.html\r\n",
      "\t\n"
     ]
    },
    {
     "name": "stderr",
     "output_type": "stream",
     "text": [
      "\r",
      " 31% ( 4532 of 14312) |##################                                          | Elapsed Time: 2:05:53 ETA: 1:41:57"
     ]
    },
    {
     "name": "stdout",
     "output_type": "stream",
     "text": [
      "Article `download()` failed with 404 Client Error: Not Found for url: http://video.wanfangdata.com.cn/%09%09%09/v/play/SI160419874.html%0D%0A%09 on URL http://video.wanfangdata.com.cn/\t\t\t/v/play/SI160419874.html\r\n",
      "\t\n"
     ]
    },
    {
     "name": "stderr",
     "output_type": "stream",
     "text": [
      "\r",
      " 31% ( 4533 of 14312) |###################                                         | Elapsed Time: 2:05:54 ETA: 1:42:27"
     ]
    },
    {
     "name": "stdout",
     "output_type": "stream",
     "text": [
      "Article `download()` failed with 404 Client Error: Not Found for url: http://video.wanfangdata.com.cn/%09%09%09/v/play/SI160419368.html%0D%0A%09 on URL http://video.wanfangdata.com.cn/\t\t\t/v/play/SI160419368.html\r\n",
      "\t\n"
     ]
    },
    {
     "name": "stderr",
     "output_type": "stream",
     "text": [
      "\r",
      " 31% ( 4534 of 14312) |###################                                         | Elapsed Time: 2:05:54 ETA: 1:42:29"
     ]
    },
    {
     "name": "stdout",
     "output_type": "stream",
     "text": [
      "Article `download()` failed with 404 Client Error: Not Found for url: http://video.wanfangdata.com.cn/%09%09%09/v/play/SJ160521795.html%0D%0A%09 on URL http://video.wanfangdata.com.cn/\t\t\t/v/play/SJ160521795.html\r\n",
      "\t\n"
     ]
    },
    {
     "name": "stderr",
     "output_type": "stream",
     "text": [
      "\r",
      " 31% ( 4535 of 14312) |###################                                         | Elapsed Time: 2:05:55 ETA: 1:42:26"
     ]
    },
    {
     "name": "stdout",
     "output_type": "stream",
     "text": [
      "Article `download()` failed with 404 Client Error: Not Found for url: http://video.wanfangdata.com.cn/%09%09%09/v/play/SJ160521132.html%0D%0A%09 on URL http://video.wanfangdata.com.cn/\t\t\t/v/play/SJ160521132.html\r\n",
      "\t\n"
     ]
    },
    {
     "name": "stderr",
     "output_type": "stream",
     "text": [
      "\r",
      " 31% ( 4536 of 14312) |###################                                         | Elapsed Time: 2:05:56 ETA: 1:42:43"
     ]
    },
    {
     "name": "stdout",
     "output_type": "stream",
     "text": [
      "Article `download()` failed with 404 Client Error: Not Found for url: http://video.wanfangdata.com.cn/%09%09%09/v/play/SD130109909.html%0D%0A%09 on URL http://video.wanfangdata.com.cn/\t\t\t/v/play/SD130109909.html\r\n",
      "\t\n"
     ]
    },
    {
     "name": "stderr",
     "output_type": "stream",
     "text": [
      "\r",
      " 31% ( 4537 of 14312) |###################                                         | Elapsed Time: 2:05:56 ETA: 1:42:07"
     ]
    },
    {
     "name": "stdout",
     "output_type": "stream",
     "text": [
      "Article `download()` failed with 404 Client Error: Not Found for url: http://video.wanfangdata.com.cn/%09%09%09/v/play/SJ170522024.html%0D%0A%09 on URL http://video.wanfangdata.com.cn/\t\t\t/v/play/SJ170522024.html\r\n",
      "\t\n"
     ]
    },
    {
     "name": "stderr",
     "output_type": "stream",
     "text": [
      "\r",
      " 31% ( 4538 of 14312) |###################                                         | Elapsed Time: 2:05:57 ETA: 1:41:51"
     ]
    },
    {
     "name": "stdout",
     "output_type": "stream",
     "text": [
      "Article `download()` failed with 404 Client Error: Not Found for url: http://video.wanfangdata.com.cn/%09%09%09/v/play/SJ170522207.html%0D%0A%09 on URL http://video.wanfangdata.com.cn/\t\t\t/v/play/SJ170522207.html\r\n",
      "\t\n"
     ]
    },
    {
     "name": "stderr",
     "output_type": "stream",
     "text": [
      "\r",
      " 31% ( 4539 of 14312) |###################                                         | Elapsed Time: 2:05:57 ETA: 1:32:50"
     ]
    },
    {
     "name": "stdout",
     "output_type": "stream",
     "text": [
      "Article `download()` failed with 404 Client Error: Not Found for url: http://video.wanfangdata.com.cn/%09%09%09/v/play/SD130109912.html%0D%0A%09 on URL http://video.wanfangdata.com.cn/\t\t\t/v/play/SD130109912.html\r\n",
      "\t\n"
     ]
    },
    {
     "name": "stderr",
     "output_type": "stream",
     "text": [
      "\r",
      " 31% ( 4540 of 14312) |###################                                         | Elapsed Time: 2:05:58 ETA: 1:24:09"
     ]
    },
    {
     "name": "stdout",
     "output_type": "stream",
     "text": [
      "Article `download()` failed with 404 Client Error: Not Found for url: http://video.wanfangdata.com.cn/%09%09%09/v/play/SJ170521608.html%0D%0A%09 on URL http://video.wanfangdata.com.cn/\t\t\t/v/play/SJ170521608.html\r\n",
      "\t\n"
     ]
    },
    {
     "name": "stderr",
     "output_type": "stream",
     "text": [
      "\r",
      " 31% ( 4541 of 14312) |###################                                         | Elapsed Time: 2:05:58 ETA: 1:24:08"
     ]
    },
    {
     "name": "stdout",
     "output_type": "stream",
     "text": [
      "Article `download()` failed with 404 Client Error: Not Found for url: http://video.wanfangdata.com.cn/%09%09%09/v/play/SG170216135.html%0D%0A%09 on URL http://video.wanfangdata.com.cn/\t\t\t/v/play/SG170216135.html\r\n",
      "\t\n"
     ]
    },
    {
     "name": "stderr",
     "output_type": "stream",
     "text": [
      "\r",
      " 31% ( 4542 of 14312) |###################                                         | Elapsed Time: 2:05:59 ETA: 1:23:53"
     ]
    },
    {
     "name": "stdout",
     "output_type": "stream",
     "text": [
      "Article `download()` failed with 404 Client Error: Not Found for url: http://video.wanfangdata.com.cn/%09%09%09/v/play/SG160215354.html%0D%0A%09 on URL http://video.wanfangdata.com.cn/\t\t\t/v/play/SG160215354.html\r\n",
      "\t\n"
     ]
    },
    {
     "name": "stderr",
     "output_type": "stream",
     "text": [
      "\r",
      " 31% ( 4543 of 14312) |###################                                         | Elapsed Time: 2:05:59 ETA: 1:23:36"
     ]
    },
    {
     "name": "stdout",
     "output_type": "stream",
     "text": [
      "Article `download()` failed with 404 Client Error: Not Found for url: http://video.wanfangdata.com.cn/%09%09%09/v/play/SG170215756.html%0D%0A%09 on URL http://video.wanfangdata.com.cn/\t\t\t/v/play/SG170215756.html\r\n",
      "\t\n"
     ]
    },
    {
     "name": "stderr",
     "output_type": "stream",
     "text": [
      "\r",
      " 31% ( 4544 of 14312) |###################                                         | Elapsed Time: 2:06:00 ETA: 1:30:55"
     ]
    },
    {
     "name": "stdout",
     "output_type": "stream",
     "text": [
      "Article `download()` failed with 404 Client Error: Not Found for url: http://video.wanfangdata.com.cn/%09%09%09/v/play/SJ170522031.html%0D%0A%09 on URL http://video.wanfangdata.com.cn/\t\t\t/v/play/SJ170522031.html\r\n",
      "\t\n"
     ]
    },
    {
     "name": "stderr",
     "output_type": "stream",
     "text": [
      "\r",
      " 31% ( 4545 of 14312) |###################                                         | Elapsed Time: 2:06:01 ETA: 1:30:49"
     ]
    },
    {
     "name": "stdout",
     "output_type": "stream",
     "text": [
      "Article `download()` failed with 404 Client Error: Not Found for url: http://video.wanfangdata.com.cn/%09%09%09/v/play/SI170420137.html%0D%0A%09 on URL http://video.wanfangdata.com.cn/\t\t\t/v/play/SI170420137.html\r\n",
      "\t\n"
     ]
    },
    {
     "name": "stderr",
     "output_type": "stream",
     "text": [
      "\r",
      " 31% ( 4546 of 14312) |###################                                         | Elapsed Time: 2:06:01 ETA: 1:30:50"
     ]
    },
    {
     "name": "stdout",
     "output_type": "stream",
     "text": [
      "Article `download()` failed with 404 Client Error: Not Found for url: http://video.wanfangdata.com.cn/%09%09%09/v/play/SH170317740.html%0D%0A%09 on URL http://video.wanfangdata.com.cn/\t\t\t/v/play/SH170317740.html\r\n",
      "\t\n"
     ]
    },
    {
     "name": "stderr",
     "output_type": "stream",
     "text": [
      "\r",
      " 31% ( 4547 of 14312) |###################                                         | Elapsed Time: 2:06:02 ETA: 1:31:28"
     ]
    },
    {
     "name": "stdout",
     "output_type": "stream",
     "text": [
      "Article `download()` failed with 404 Client Error: Not Found for url: http://video.wanfangdata.com.cn/%09%09%09/v/play/SH110417861.html%0D%0A%09 on URL http://video.wanfangdata.com.cn/\t\t\t/v/play/SH110417861.html\r\n",
      "\t\n"
     ]
    },
    {
     "name": "stderr",
     "output_type": "stream",
     "text": [
      "\r",
      " 31% ( 4548 of 14312) |###################                                         | Elapsed Time: 2:06:03 ETA: 1:44:47"
     ]
    },
    {
     "name": "stdout",
     "output_type": "stream",
     "text": [
      "Article `download()` failed with 404 Client Error: Not Found for url: http://video.wanfangdata.com.cn/%09%09%09/v/play/SH110417692.html%0D%0A%09 on URL http://video.wanfangdata.com.cn/\t\t\t/v/play/SH110417692.html\r\n",
      "\t\n"
     ]
    },
    {
     "name": "stderr",
     "output_type": "stream",
     "text": [
      "\r",
      " 31% ( 4549 of 14312) |###################                                         | Elapsed Time: 2:06:04 ETA: 1:51:28"
     ]
    },
    {
     "name": "stdout",
     "output_type": "stream",
     "text": [
      "Article `download()` failed with 404 Client Error: Not Found for url: http://video.wanfangdata.com.cn/%09%09%09/v/play/SH110417723.html%0D%0A%09 on URL http://video.wanfangdata.com.cn/\t\t\t/v/play/SH110417723.html\r\n",
      "\t\n"
     ]
    },
    {
     "name": "stderr",
     "output_type": "stream",
     "text": [
      "\r",
      " 31% ( 4550 of 14312) |###################                                         | Elapsed Time: 2:06:04 ETA: 1:51:36"
     ]
    },
    {
     "name": "stdout",
     "output_type": "stream",
     "text": [
      "Article `download()` failed with 404 Client Error: Not Found for url: http://video.wanfangdata.com.cn/%09%09%09/v/play/SH110417810.html%0D%0A%09 on URL http://video.wanfangdata.com.cn/\t\t\t/v/play/SH110417810.html\r\n",
      "\t\n"
     ]
    },
    {
     "name": "stderr",
     "output_type": "stream",
     "text": [
      "\r",
      " 31% ( 4551 of 14312) |###################                                         | Elapsed Time: 2:06:05 ETA: 1:51:41"
     ]
    },
    {
     "name": "stdout",
     "output_type": "stream",
     "text": [
      "Article `download()` failed with 404 Client Error: Not Found for url: http://video.wanfangdata.com.cn/%09%09%09/v/play/SH110418033.html%0D%0A%09 on URL http://video.wanfangdata.com.cn/\t\t\t/v/play/SH110418033.html\r\n",
      "\t\n"
     ]
    },
    {
     "name": "stderr",
     "output_type": "stream",
     "text": [
      "\r",
      " 31% ( 4552 of 14312) |###################                                         | Elapsed Time: 2:06:06 ETA: 1:57:42"
     ]
    },
    {
     "name": "stdout",
     "output_type": "stream",
     "text": [
      "Article `download()` failed with 404 Client Error: Not Found for url: http://video.wanfangdata.com.cn/%09%09%09/v/play/SH110518452.html%0D%0A%09 on URL http://video.wanfangdata.com.cn/\t\t\t/v/play/SH110518452.html\r\n",
      "\t\n"
     ]
    },
    {
     "name": "stderr",
     "output_type": "stream",
     "text": [
      "\r",
      " 31% ( 4553 of 14312) |###################                                         | Elapsed Time: 2:06:06 ETA: 1:50:48"
     ]
    },
    {
     "name": "stdout",
     "output_type": "stream",
     "text": [
      "Article `download()` failed with 404 Client Error: Not Found for url: http://video.wanfangdata.com.cn/%09%09%09/v/play/SH110518676.html%0D%0A%09 on URL http://video.wanfangdata.com.cn/\t\t\t/v/play/SH110518676.html\r\n",
      "\t\n"
     ]
    },
    {
     "name": "stderr",
     "output_type": "stream",
     "text": [
      "\r",
      " 31% ( 4554 of 14312) |###################                                         | Elapsed Time: 2:06:07 ETA: 1:50:28"
     ]
    },
    {
     "name": "stdout",
     "output_type": "stream",
     "text": [
      "Article `download()` failed with 404 Client Error: Not Found for url: http://video.wanfangdata.com.cn/%09%09%09/v/play/SK110124087.html%0D%0A%09 on URL http://video.wanfangdata.com.cn/\t\t\t/v/play/SK110124087.html\r\n",
      "\t\n"
     ]
    },
    {
     "name": "stderr",
     "output_type": "stream",
     "text": [
      "\r",
      " 31% ( 4555 of 14312) |###################                                         | Elapsed Time: 2:06:07 ETA: 1:50:49"
     ]
    },
    {
     "name": "stdout",
     "output_type": "stream",
     "text": [
      "Article `download()` failed with 404 Client Error: Not Found for url: http://video.wanfangdata.com.cn/%09%09%09/v/play/SJ180322795.html%0D%0A%09 on URL http://video.wanfangdata.com.cn/\t\t\t/v/play/SJ180322795.html\r\n",
      "\t\n"
     ]
    },
    {
     "name": "stderr",
     "output_type": "stream",
     "text": [
      "\r",
      " 31% ( 4556 of 14312) |###################                                         | Elapsed Time: 2:06:08 ETA: 1:50:07"
     ]
    },
    {
     "name": "stdout",
     "output_type": "stream",
     "text": [
      "Article `download()` failed with 404 Client Error: Not Found for url: http://video.wanfangdata.com.cn/%09%09%09/v/play/SF160114694.html%0D%0A%09 on URL http://video.wanfangdata.com.cn/\t\t\t/v/play/SF160114694.html\r\n",
      "\t\n"
     ]
    },
    {
     "name": "stderr",
     "output_type": "stream",
     "text": [
      "\r",
      " 31% ( 4557 of 14312) |###################                                         | Elapsed Time: 2:06:08 ETA: 1:36:24"
     ]
    },
    {
     "name": "stdout",
     "output_type": "stream",
     "text": [
      "Article `download()` failed with 404 Client Error: Not Found for url: http://video.wanfangdata.com.cn/%09%09%09/v/play/SJ180322821.html%0D%0A%09 on URL http://video.wanfangdata.com.cn/\t\t\t/v/play/SJ180322821.html\r\n",
      "\t\n"
     ]
    },
    {
     "name": "stderr",
     "output_type": "stream",
     "text": [
      "\r",
      " 31% ( 4558 of 14312) |###################                                         | Elapsed Time: 2:06:09 ETA: 1:29:49"
     ]
    },
    {
     "name": "stdout",
     "output_type": "stream",
     "text": [
      "Article `download()` failed with 404 Client Error: Not Found for url: http://video.wanfangdata.com.cn/%09%09%09/v/play/SE140212708.html%0D%0A%09 on URL http://video.wanfangdata.com.cn/\t\t\t/v/play/SE140212708.html\r\n",
      "\t\n"
     ]
    },
    {
     "name": "stderr",
     "output_type": "stream",
     "text": [
      "\r",
      " 31% ( 4559 of 14312) |###################                                         | Elapsed Time: 2:06:10 ETA: 1:40:50"
     ]
    },
    {
     "name": "stdout",
     "output_type": "stream",
     "text": [
      "Article `download()` failed with 404 Client Error: Not Found for url: http://video.wanfangdata.com.cn/%09%09%09/v/play/SA030101404.html%0D%0A%09 on URL http://video.wanfangdata.com.cn/\t\t\t/v/play/SA030101404.html\r\n",
      "\t\n"
     ]
    },
    {
     "name": "stderr",
     "output_type": "stream",
     "text": [
      "\r",
      " 31% ( 4560 of 14312) |###################                                         | Elapsed Time: 2:06:10 ETA: 1:40:26"
     ]
    },
    {
     "name": "stdout",
     "output_type": "stream",
     "text": [
      "Article `download()` failed with 404 Client Error: Not Found for url: http://video.wanfangdata.com.cn/%09%09%09/v/play/SF150114482.html%0D%0A%09 on URL http://video.wanfangdata.com.cn/\t\t\t/v/play/SF150114482.html\r\n",
      "\t\n"
     ]
    },
    {
     "name": "stderr",
     "output_type": "stream",
     "text": [
      "\r",
      " 31% ( 4561 of 14312) |###################                                         | Elapsed Time: 2:06:11 ETA: 1:34:31"
     ]
    },
    {
     "name": "stdout",
     "output_type": "stream",
     "text": [
      "Article `download()` failed with 404 Client Error: Not Found for url: http://video.wanfangdata.com.cn/%09%09%09/v/play/SA030101287.html%0D%0A%09 on URL http://video.wanfangdata.com.cn/\t\t\t/v/play/SA030101287.html\r\n",
      "\t\n"
     ]
    },
    {
     "name": "stderr",
     "output_type": "stream",
     "text": [
      "\r",
      " 31% ( 4562 of 14312) |###################                                         | Elapsed Time: 2:06:11 ETA: 1:34:25"
     ]
    },
    {
     "name": "stdout",
     "output_type": "stream",
     "text": [
      "Article `download()` failed with 404 Client Error: Not Found for url: http://video.wanfangdata.com.cn/%09%09%09/v/play/SI170420718.html%0D%0A%09 on URL http://video.wanfangdata.com.cn/\t\t\t/v/play/SI170420718.html\r\n",
      "\t\n"
     ]
    },
    {
     "name": "stderr",
     "output_type": "stream",
     "text": [
      "\r",
      " 31% ( 4563 of 14312) |###################                                         | Elapsed Time: 2:06:12 ETA: 1:34:26"
     ]
    },
    {
     "name": "stdout",
     "output_type": "stream",
     "text": [
      "Article `download()` failed with 404 Client Error: Not Found for url: http://video.wanfangdata.com.cn/%09%09%09/v/play/SA030101258.html%0D%0A%09 on URL http://video.wanfangdata.com.cn/\t\t\t/v/play/SA030101258.html\r\n",
      "\t\n"
     ]
    },
    {
     "name": "stderr",
     "output_type": "stream",
     "text": [
      "\r",
      " 31% ( 4564 of 14312) |###################                                         | Elapsed Time: 2:06:12 ETA: 1:34:03"
     ]
    },
    {
     "name": "stdout",
     "output_type": "stream",
     "text": [
      "Article `download()` failed with 404 Client Error: Not Found for url: http://video.wanfangdata.com.cn/%09%09%09/v/play/SG160215338.html%0D%0A%09 on URL http://video.wanfangdata.com.cn/\t\t\t/v/play/SG160215338.html\r\n",
      "\t\n"
     ]
    },
    {
     "name": "stderr",
     "output_type": "stream",
     "text": [
      " 33% ( 4799 of 14312) |###################                                        | Elapsed Time: 2:33:47 ETA: 16:45:57C:\\Users\\Leonovo\\Anaconda3\\lib\\site-packages\\PIL\\TiffImagePlugin.py:692: UserWarning: Possibly corrupt EXIF data.  Expecting to read 49 bytes but only got 36. Skipping tag 305\n",
      "  \"Skipping tag %s\" % (size, len(data), tag))\n",
      "C:\\Users\\Leonovo\\Anaconda3\\lib\\site-packages\\PIL\\TiffImagePlugin.py:692: UserWarning: Possibly corrupt EXIF data.  Expecting to read 49 bytes but only got 0. Skipping tag 305\n",
      "  \"Skipping tag %s\" % (size, len(data), tag))\n",
      "C:\\Users\\Leonovo\\Anaconda3\\lib\\site-packages\\PIL\\TiffImagePlugin.py:692: UserWarning: Possibly corrupt EXIF data.  Expecting to read 98 bytes but only got 0. Skipping tag 37500\n",
      "  \"Skipping tag %s\" % (size, len(data), tag))\n",
      "C:\\Users\\Leonovo\\Anaconda3\\lib\\site-packages\\PIL\\TiffImagePlugin.py:692: UserWarning: Possibly corrupt EXIF data.  Expecting to read 4980 bytes but only got 266. Skipping tag 37510\n",
      "  \"Skipping tag %s\" % (size, len(data), tag))\n",
      "C:\\Users\\Leonovo\\Anaconda3\\lib\\site-packages\\PIL\\TiffImagePlugin.py:692: UserWarning: Possibly corrupt EXIF data.  Expecting to read 11 bytes but only got 0. Skipping tag 42016\n",
      "  \"Skipping tag %s\" % (size, len(data), tag))\n",
      "C:\\Users\\Leonovo\\Anaconda3\\lib\\site-packages\\PIL\\TiffImagePlugin.py:709: UserWarning: Corrupt EXIF data.  Expecting to read 2 bytes but only got 0. \n",
      "  warnings.warn(str(msg))\n",
      "C:\\Users\\Leonovo\\Anaconda3\\lib\\site-packages\\PIL\\TiffImagePlugin.py:692: UserWarning: Possibly corrupt EXIF data.  Expecting to read 4980 bytes but only got 1290. Skipping tag 37510\n",
      "  \"Skipping tag %s\" % (size, len(data), tag))\n",
      "C:\\Users\\Leonovo\\Anaconda3\\lib\\site-packages\\PIL\\TiffImagePlugin.py:692: UserWarning: Possibly corrupt EXIF data.  Expecting to read 4980 bytes but only got 2314. Skipping tag 37510\n",
      "  \"Skipping tag %s\" % (size, len(data), tag))\n",
      "C:\\Users\\Leonovo\\Anaconda3\\lib\\site-packages\\PIL\\TiffImagePlugin.py:692: UserWarning: Possibly corrupt EXIF data.  Expecting to read 4980 bytes but only got 3338. Skipping tag 37510\n",
      "  \"Skipping tag %s\" % (size, len(data), tag))\n",
      "C:\\Users\\Leonovo\\Anaconda3\\lib\\site-packages\\PIL\\TiffImagePlugin.py:692: UserWarning: Possibly corrupt EXIF data.  Expecting to read 4980 bytes but only got 4362. Skipping tag 37510\n",
      "  \"Skipping tag %s\" % (size, len(data), tag))\n",
      " 36% ( 5227 of 14312) |#####################                                       | Elapsed Time: 2:43:20 ETA: 4:47:04Building prefix dict from C:\\Users\\Leonovo\\Anaconda3\\lib\\site-packages\\jieba\\dict.txt ...\n",
      "Dumping model to file cache C:\\Users\\Leonovo\\AppData\\Local\\Temp\\jieba.cache\n",
      "Loading model cost 1.7214908599853516 seconds.\n",
      "Prefix dict has been built succesfully.\n",
      " 36% ( 5258 of 14312) |#####################                                      | Elapsed Time: 2:45:15 ETA: 15:50:23C:\\Users\\Leonovo\\Anaconda3\\lib\\site-packages\\PIL\\TiffImagePlugin.py:692: UserWarning: Possibly corrupt EXIF data.  Expecting to read 24 bytes but only got 0. Skipping tag 2\n",
      "  \"Skipping tag %s\" % (size, len(data), tag))\n",
      "C:\\Users\\Leonovo\\Anaconda3\\lib\\site-packages\\PIL\\TiffImagePlugin.py:692: UserWarning: Possibly corrupt EXIF data.  Expecting to read 24 bytes but only got 0. Skipping tag 4\n",
      "  \"Skipping tag %s\" % (size, len(data), tag))\n",
      "C:\\Users\\Leonovo\\Anaconda3\\lib\\site-packages\\PIL\\TiffImagePlugin.py:709: UserWarning: Corrupt EXIF data.  Expecting to read 12 bytes but only got 10. \n",
      "  warnings.warn(str(msg))\n",
      " 39% ( 5693 of 14312) |#######################                                     | Elapsed Time: 3:22:28 ETA: 8:52:56C:\\Users\\Leonovo\\Anaconda3\\lib\\site-packages\\PIL\\TiffImagePlugin.py:692: UserWarning: Possibly corrupt EXIF data.  Expecting to read 264 bytes but only got 138. Skipping tag 37510\n",
      "  \"Skipping tag %s\" % (size, len(data), tag))\n",
      "C:\\Users\\Leonovo\\Anaconda3\\lib\\site-packages\\PIL\\TiffImagePlugin.py:692: UserWarning: Possibly corrupt EXIF data.  Expecting to read 8 bytes but only got 0. Skipping tag 41486\n",
      "  \"Skipping tag %s\" % (size, len(data), tag))\n",
      "C:\\Users\\Leonovo\\Anaconda3\\lib\\site-packages\\PIL\\TiffImagePlugin.py:692: UserWarning: Possibly corrupt EXIF data.  Expecting to read 8 bytes but only got 0. Skipping tag 41487\n",
      "  \"Skipping tag %s\" % (size, len(data), tag))\n",
      "C:\\Users\\Leonovo\\Anaconda3\\lib\\site-packages\\PIL\\TiffImagePlugin.py:692: UserWarning: Possibly corrupt EXIF data.  Expecting to read 13 bytes but only got 0. Skipping tag 42033\n",
      "  \"Skipping tag %s\" % (size, len(data), tag))\n",
      "C:\\Users\\Leonovo\\Anaconda3\\lib\\site-packages\\PIL\\TiffImagePlugin.py:692: UserWarning: Possibly corrupt EXIF data.  Expecting to read 32 bytes but only got 0. Skipping tag 42034\n",
      "  \"Skipping tag %s\" % (size, len(data), tag))\n",
      "C:\\Users\\Leonovo\\Anaconda3\\lib\\site-packages\\PIL\\TiffImagePlugin.py:692: UserWarning: Possibly corrupt EXIF data.  Expecting to read 22 bytes but only got 0. Skipping tag 42036\n",
      "  \"Skipping tag %s\" % (size, len(data), tag))\n",
      "C:\\Users\\Leonovo\\Anaconda3\\lib\\site-packages\\PIL\\TiffImagePlugin.py:692: UserWarning: Possibly corrupt EXIF data.  Expecting to read 11 bytes but only got 0. Skipping tag 42037\n",
      "  \"Skipping tag %s\" % (size, len(data), tag))\n",
      " 42% ( 6124 of 14312) |######################                              | Elapsed Time: 3:56:39 ETA: 1 day, 19:23:24C:\\Users\\Leonovo\\Anaconda3\\lib\\site-packages\\PIL\\TiffImagePlugin.py:692: UserWarning: Possibly corrupt EXIF data.  Expecting to read 264 bytes but only got 238. Skipping tag 37510\n",
      "  \"Skipping tag %s\" % (size, len(data), tag))\n",
      " 52% ( 7568 of 14312) |###############################                             | Elapsed Time: 7:08:24 ETA: 2:28:10C:\\Users\\Leonovo\\Anaconda3\\lib\\site-packages\\PIL\\TiffImagePlugin.py:692: UserWarning: Possibly corrupt EXIF data.  Expecting to read 264 bytes but only got 98. Skipping tag 37510\n",
      "  \"Skipping tag %s\" % (size, len(data), tag))\n",
      "C:\\Users\\Leonovo\\Anaconda3\\lib\\site-packages\\PIL\\TiffImagePlugin.py:692: UserWarning: Possibly corrupt EXIF data.  Expecting to read 8 bytes but only got 0. Skipping tag 42240\n",
      "  \"Skipping tag %s\" % (size, len(data), tag))\n",
      " 68% ( 9784 of 14312) |#########################################                   | Elapsed Time: 8:27:09 ETA: 4:54:15Some characters could not be decoded, and were replaced with REPLACEMENT CHARACTER.\n",
      " 69% ( 9950 of 14312) |#########################################                   | Elapsed Time: 8:33:54 ETA: 1:28:22Some characters could not be decoded, and were replaced with REPLACEMENT CHARACTER.\n",
      " 75% (10833 of 14312) |#############################################               | Elapsed Time: 9:10:47 ETA: 0:57:48C:\\Users\\Leonovo\\Anaconda3\\lib\\site-packages\\PIL\\TiffImagePlugin.py:692: UserWarning: Possibly corrupt EXIF data.  Expecting to read 7536 bytes but only got 186. Skipping tag 37500\n",
      "  \"Skipping tag %s\" % (size, len(data), tag))\n",
      "C:\\Users\\Leonovo\\Anaconda3\\lib\\site-packages\\PIL\\TiffImagePlugin.py:692: UserWarning: Possibly corrupt EXIF data.  Expecting to read 264 bytes but only got 0. Skipping tag 37510\n",
      "  \"Skipping tag %s\" % (size, len(data), tag))\n",
      "C:\\Users\\Leonovo\\Anaconda3\\lib\\site-packages\\PIL\\TiffImagePlugin.py:692: UserWarning: Possibly corrupt EXIF data.  Expecting to read 7536 bytes but only got 1210. Skipping tag 37500\n",
      "  \"Skipping tag %s\" % (size, len(data), tag))\n",
      "C:\\Users\\Leonovo\\Anaconda3\\lib\\site-packages\\PIL\\TiffImagePlugin.py:692: UserWarning: Possibly corrupt EXIF data.  Expecting to read 7536 bytes but only got 2234. Skipping tag 37500\n",
      "  \"Skipping tag %s\" % (size, len(data), tag))\n",
      "C:\\Users\\Leonovo\\Anaconda3\\lib\\site-packages\\PIL\\TiffImagePlugin.py:692: UserWarning: Possibly corrupt EXIF data.  Expecting to read 7536 bytes but only got 3258. Skipping tag 37500\n",
      "  \"Skipping tag %s\" % (size, len(data), tag))\n",
      "C:\\Users\\Leonovo\\Anaconda3\\lib\\site-packages\\PIL\\TiffImagePlugin.py:692: UserWarning: Possibly corrupt EXIF data.  Expecting to read 7536 bytes but only got 4282. Skipping tag 37500\n",
      "  \"Skipping tag %s\" % (size, len(data), tag))\n",
      "C:\\Users\\Leonovo\\Anaconda3\\lib\\site-packages\\PIL\\TiffImagePlugin.py:692: UserWarning: Possibly corrupt EXIF data.  Expecting to read 7536 bytes but only got 5306. Skipping tag 37500\n",
      "  \"Skipping tag %s\" % (size, len(data), tag))\n",
      "C:\\Users\\Leonovo\\Anaconda3\\lib\\site-packages\\PIL\\TiffImagePlugin.py:692: UserWarning: Possibly corrupt EXIF data.  Expecting to read 7536 bytes but only got 6330. Skipping tag 37500\n",
      "  \"Skipping tag %s\" % (size, len(data), tag))\n",
      "C:\\Users\\Leonovo\\Anaconda3\\lib\\site-packages\\PIL\\TiffImagePlugin.py:692: UserWarning: Possibly corrupt EXIF data.  Expecting to read 7536 bytes but only got 7354. Skipping tag 37500\n",
      "  \"Skipping tag %s\" % (size, len(data), tag))\n"
     ]
    },
    {
     "name": "stderr",
     "output_type": "stream",
     "text": [
      " 93% (13315 of 14312) |######################################################     | Elapsed Time: 10:25:06 ETA: 0:27:39C:\\Users\\Leonovo\\Anaconda3\\lib\\site-packages\\PIL\\TiffImagePlugin.py:692: UserWarning: Possibly corrupt EXIF data.  Expecting to read 4834 bytes but only got 0. Skipping tag 37500\n",
      "  \"Skipping tag %s\" % (size, len(data), tag))\n",
      "C:\\Users\\Leonovo\\Anaconda3\\lib\\site-packages\\PIL\\TiffImagePlugin.py:692: UserWarning: Possibly corrupt EXIF data.  Expecting to read 264 bytes but only got 224. Skipping tag 37510\n",
      "  \"Skipping tag %s\" % (size, len(data), tag))\n",
      "C:\\Users\\Leonovo\\Anaconda3\\lib\\site-packages\\PIL\\TiffImagePlugin.py:692: UserWarning: Possibly corrupt EXIF data.  Expecting to read 33 bytes but only got 0. Skipping tag 42016\n",
      "  \"Skipping tag %s\" % (size, len(data), tag))\n",
      "C:\\Users\\Leonovo\\Anaconda3\\lib\\site-packages\\PIL\\TiffImagePlugin.py:692: UserWarning: Possibly corrupt EXIF data.  Expecting to read 32 bytes but only got 0. Skipping tag 42032\n",
      "  \"Skipping tag %s\" % (size, len(data), tag))\n",
      "C:\\Users\\Leonovo\\Anaconda3\\lib\\site-packages\\PIL\\TiffImagePlugin.py:692: UserWarning: Possibly corrupt EXIF data.  Expecting to read 32 bytes but only got 0. Skipping tag 42033\n",
      "  \"Skipping tag %s\" % (size, len(data), tag))\n",
      "C:\\Users\\Leonovo\\Anaconda3\\lib\\site-packages\\PIL\\TiffImagePlugin.py:692: UserWarning: Possibly corrupt EXIF data.  Expecting to read 128 bytes but only got 0. Skipping tag 42036\n",
      "  \"Skipping tag %s\" % (size, len(data), tag))\n",
      "C:\\Users\\Leonovo\\Anaconda3\\lib\\site-packages\\PIL\\TiffImagePlugin.py:692: UserWarning: Possibly corrupt EXIF data.  Expecting to read 4834 bytes but only got 710. Skipping tag 37500\n",
      "  \"Skipping tag %s\" % (size, len(data), tag))\n",
      "C:\\Users\\Leonovo\\Anaconda3\\lib\\site-packages\\PIL\\TiffImagePlugin.py:692: UserWarning: Possibly corrupt EXIF data.  Expecting to read 4834 bytes but only got 1734. Skipping tag 37500\n",
      "  \"Skipping tag %s\" % (size, len(data), tag))\n",
      "C:\\Users\\Leonovo\\Anaconda3\\lib\\site-packages\\PIL\\TiffImagePlugin.py:692: UserWarning: Possibly corrupt EXIF data.  Expecting to read 4834 bytes but only got 2758. Skipping tag 37500\n",
      "  \"Skipping tag %s\" % (size, len(data), tag))\n",
      "C:\\Users\\Leonovo\\Anaconda3\\lib\\site-packages\\PIL\\TiffImagePlugin.py:692: UserWarning: Possibly corrupt EXIF data.  Expecting to read 4834 bytes but only got 3782. Skipping tag 37500\n",
      "  \"Skipping tag %s\" % (size, len(data), tag))\n",
      "C:\\Users\\Leonovo\\Anaconda3\\lib\\site-packages\\PIL\\TiffImagePlugin.py:692: UserWarning: Possibly corrupt EXIF data.  Expecting to read 4834 bytes but only got 4806. Skipping tag 37500\n",
      "  \"Skipping tag %s\" % (size, len(data), tag))\n",
      " 96% (13837 of 14312) |#########################################################  | Elapsed Time: 10:38:59 ETA: 0:24:36C:\\Users\\Leonovo\\Anaconda3\\lib\\site-packages\\PIL\\TiffImagePlugin.py:692: UserWarning: Possibly corrupt EXIF data.  Expecting to read 2060 bytes but only got 753. Skipping tag 59932\n",
      "  \"Skipping tag %s\" % (size, len(data), tag))\n",
      "C:\\Users\\Leonovo\\Anaconda3\\lib\\site-packages\\PIL\\TiffImagePlugin.py:692: UserWarning: Possibly corrupt EXIF data.  Expecting to read 2060 bytes but only got 1777. Skipping tag 59932\n",
      "  \"Skipping tag %s\" % (size, len(data), tag))\n",
      "C:\\Users\\Leonovo\\Anaconda3\\lib\\site-packages\\PIL\\TiffImagePlugin.py:692: UserWarning: Possibly corrupt EXIF data.  Expecting to read 2060 bytes but only got 674. Skipping tag 59932\n",
      "  \"Skipping tag %s\" % (size, len(data), tag))\n",
      "C:\\Users\\Leonovo\\Anaconda3\\lib\\site-packages\\PIL\\TiffImagePlugin.py:692: UserWarning: Possibly corrupt EXIF data.  Expecting to read 2060 bytes but only got 1698. Skipping tag 59932\n",
      "  \"Skipping tag %s\" % (size, len(data), tag))\n",
      "100% (14312 of 14312) |#########################################################| Elapsed Time: 10:39:39 Time: 10:39:39\n"
     ]
    }
   ],
   "source": [
    "X = pd.DataFrame(columns=[\n",
    "    'has_author', 'authors', 'has_images', 'num_images', 'keywords', 'lang',\n",
    "    'has_movie', 'publish_date', 'tags', 'text', 'title', 'url', 'meta_data',\n",
    "    'html'\n",
    "])\n",
    "\n",
    "with progressbar.ProgressBar(max_value=len(arts)) as bar:\n",
    "    for i, a in enumerate(arts):\n",
    "        bar.update(i)\n",
    "        try:\n",
    "            a.download()\n",
    "            if a.title or a.html:\n",
    "                a.parse()\n",
    "                a.nlp()\n",
    "                X.loc[i] = [\n",
    "                    len(a.authors) > 0, a.authors,\n",
    "                    len(a.images) > 0,\n",
    "                    len(a.images), a.keywords, a.meta_lang,\n",
    "                    len(a.movies) > 0, a.publish_date, a.tags, a.text, a.title,\n",
    "                    a.url, a.meta_data, a.html\n",
    "                ]\n",
    "        except:\n",
    "            pass\n",
    "\n",
    "#X = pd.merge(X, articles_to_get, how='left', left_on='url', right_on='url')"
   ]
  },
  {
   "cell_type": "code",
   "execution_count": 11,
   "metadata": {
    "collapsed": true,
    "scrolled": true
   },
   "outputs": [],
   "source": [
    "def get_base_domain(url):\n",
    "    parsed_uri = urlparse(url)\n",
    "    domain = '{uri.scheme}://{uri.netloc}/'.format(uri=parsed_uri)\n",
    "    return domain\n",
    "\n",
    "\n",
    "X = pd.merge(X, articles_to_get, how='left', left_on='url', right_on='url')\n",
    "X.base_url = X[X.base_url.isnull()].base_url = X.url.apply(\n",
    "    lambda x: get_base_domain(x))"
   ]
  },
  {
   "cell_type": "code",
   "execution_count": 12,
   "metadata": {},
   "outputs": [
    {
     "data": {
      "text/html": [
       "<div>\n",
       "<style>\n",
       "    .dataframe thead tr:only-child th {\n",
       "        text-align: right;\n",
       "    }\n",
       "\n",
       "    .dataframe thead th {\n",
       "        text-align: left;\n",
       "    }\n",
       "\n",
       "    .dataframe tbody tr th {\n",
       "        vertical-align: top;\n",
       "    }\n",
       "</style>\n",
       "<table border=\"1\" class=\"dataframe\">\n",
       "  <thead>\n",
       "    <tr style=\"text-align: right;\">\n",
       "      <th></th>\n",
       "      <th>has_author</th>\n",
       "      <th>authors</th>\n",
       "      <th>has_images</th>\n",
       "      <th>num_images</th>\n",
       "      <th>keywords</th>\n",
       "      <th>lang</th>\n",
       "      <th>has_movie</th>\n",
       "      <th>publish_date</th>\n",
       "      <th>tags</th>\n",
       "      <th>text</th>\n",
       "      <th>title</th>\n",
       "      <th>url</th>\n",
       "      <th>meta_data</th>\n",
       "      <th>html</th>\n",
       "      <th>base_url</th>\n",
       "    </tr>\n",
       "  </thead>\n",
       "  <tbody>\n",
       "    <tr>\n",
       "      <th>0</th>\n",
       "      <td>True</td>\n",
       "      <td>[The Flaming Vegan Crew]</td>\n",
       "      <td>True</td>\n",
       "      <td>29</td>\n",
       "      <td>[leather, flaming, perfect, staff, vegan, bag,...</td>\n",
       "      <td></td>\n",
       "      <td>False</td>\n",
       "      <td>NaT</td>\n",
       "      <td>{}</td>\n",
       "      <td>If you’re in need of the perfect holiday gifts...</td>\n",
       "      <td>The Flaming Vegan Staff Pick: Luca Chiara</td>\n",
       "      <td>https://www.theflamingvegan.com/view-post/The-...</td>\n",
       "      <td>{'copyright': 'Copyright 2010-2013 GoodBlogs, ...</td>\n",
       "      <td>&lt;!DOCTYPE HTML&gt;\\n&lt;html&gt;\\n&lt;head prefix=\"og: htt...</td>\n",
       "      <td>https://www.theflamingvegan.com/</td>\n",
       "    </tr>\n",
       "    <tr>\n",
       "      <th>1</th>\n",
       "      <td>True</td>\n",
       "      <td>[The Flaming Vegan Crew]</td>\n",
       "      <td>True</td>\n",
       "      <td>29</td>\n",
       "      <td>[leather, flaming, perfect, staff, vegan, bag,...</td>\n",
       "      <td></td>\n",
       "      <td>False</td>\n",
       "      <td>NaT</td>\n",
       "      <td>{}</td>\n",
       "      <td>If you’re in need of the perfect holiday gifts...</td>\n",
       "      <td>The Flaming Vegan Staff Pick: Luca Chiara</td>\n",
       "      <td>https://www.theflamingvegan.com/view-post/The-...</td>\n",
       "      <td>{'copyright': 'Copyright 2010-2013 GoodBlogs, ...</td>\n",
       "      <td>&lt;!DOCTYPE HTML&gt;\\n&lt;html&gt;\\n&lt;head prefix=\"og: htt...</td>\n",
       "      <td>https://www.theflamingvegan.com/</td>\n",
       "    </tr>\n",
       "    <tr>\n",
       "      <th>2</th>\n",
       "      <td>False</td>\n",
       "      <td>[]</td>\n",
       "      <td>True</td>\n",
       "      <td>31</td>\n",
       "      <td>[张可盈出道竟不见母亲张凯丽韩红谭维维众大咖护航]</td>\n",
       "      <td></td>\n",
       "      <td>False</td>\n",
       "      <td>NaT</td>\n",
       "      <td>{}</td>\n",
       "      <td></td>\n",
       "      <td>张可盈出道竟不见母亲张凯丽！韩红谭维维众大咖护航</td>\n",
       "      <td>http://www.cntvan.com/2017/1117/102317.html</td>\n",
       "      <td>{'keywords': '张可盈,张凯丽,韩红,谭维维', 'description': ...</td>\n",
       "      <td>&lt;!DOCTYPE html PUBLIC \"-//W3C//DTD XHTML 1.0 T...</td>\n",
       "      <td>http://www.cntvan.com/</td>\n",
       "    </tr>\n",
       "    <tr>\n",
       "      <th>3</th>\n",
       "      <td>False</td>\n",
       "      <td>[]</td>\n",
       "      <td>True</td>\n",
       "      <td>4</td>\n",
       "      <td>[update, guide, gloves, leather, blog, resourc...</td>\n",
       "      <td>en</td>\n",
       "      <td>False</td>\n",
       "      <td>2010-12-27 00:00:00</td>\n",
       "      <td>{}</td>\n",
       "      <td>Posted on December 27, 2010 by The VRG Blog Ed...</td>\n",
       "      <td>The Vegetarian Resource Group Blog</td>\n",
       "      <td>http://www.vrg.org/blog/2010/12/27/updated-veg...</td>\n",
       "      <td>{'generator': 'WordPress 4.6.8'}</td>\n",
       "      <td>&lt;!DOCTYPE html PUBLIC \"-//W3C//DTD XHTML 1.0 T...</td>\n",
       "      <td>http://www.vrg.org/</td>\n",
       "    </tr>\n",
       "    <tr>\n",
       "      <th>4</th>\n",
       "      <td>False</td>\n",
       "      <td>[]</td>\n",
       "      <td>True</td>\n",
       "      <td>33</td>\n",
       "      <td>[cantinho, vegana, vegetariano, farofa, soja, ...</td>\n",
       "      <td></td>\n",
       "      <td>False</td>\n",
       "      <td>None</td>\n",
       "      <td>{PVT ou PTS, Vegana, Farofas, Farinha de Mandi...</td>\n",
       "      <td></td>\n",
       "      <td>Cantinho Vegetariano: Farofa de Soja Crocante ...</td>\n",
       "      <td>http://www.cantinhovegetariano.com.br/2017/11/...</td>\n",
       "      <td>{'viewport': 'width=1100', 'generator': 'blogg...</td>\n",
       "      <td>&lt;!DOCTYPE html&gt;\\n&lt;html class='v2' dir='ltr' xm...</td>\n",
       "      <td>http://www.cantinhovegetariano.com.br/</td>\n",
       "    </tr>\n",
       "    <tr>\n",
       "      <th>5</th>\n",
       "      <td>False</td>\n",
       "      <td>[]</td>\n",
       "      <td>True</td>\n",
       "      <td>45</td>\n",
       "      <td>[ou, cantinho, pts, vegetariano, que, é, pvt]</td>\n",
       "      <td></td>\n",
       "      <td>False</td>\n",
       "      <td>None</td>\n",
       "      <td>{PVT ou PTS, ABC Culinário}</td>\n",
       "      <td></td>\n",
       "      <td>Cantinho Vegetariano: O que é PTS ou PVT?</td>\n",
       "      <td>http://www.cantinhovegetariano.com.br/2007/06/...</td>\n",
       "      <td>{'viewport': 'width=1100', 'generator': 'blogg...</td>\n",
       "      <td>&lt;!DOCTYPE html&gt;\\n&lt;html class='v2' dir='ltr' xm...</td>\n",
       "      <td>http://www.cantinhovegetariano.com.br/</td>\n",
       "    </tr>\n",
       "    <tr>\n",
       "      <th>6</th>\n",
       "      <td>False</td>\n",
       "      <td>[]</td>\n",
       "      <td>True</td>\n",
       "      <td>33</td>\n",
       "      <td>[cantinho, vegana, vegetariano, farofa, soja, ...</td>\n",
       "      <td></td>\n",
       "      <td>False</td>\n",
       "      <td>None</td>\n",
       "      <td>{PVT ou PTS, Vegana, Farofas, Farinha de Mandi...</td>\n",
       "      <td></td>\n",
       "      <td>Cantinho Vegetariano: Farofa de Soja Crocante ...</td>\n",
       "      <td>http://www.cantinhovegetariano.com.br/2017/11/...</td>\n",
       "      <td>{'viewport': 'width=1100', 'generator': 'blogg...</td>\n",
       "      <td>&lt;!DOCTYPE html&gt;\\n&lt;html class='v2' dir='ltr' xm...</td>\n",
       "      <td>http://www.cantinhovegetariano.com.br/</td>\n",
       "    </tr>\n",
       "    <tr>\n",
       "      <th>7</th>\n",
       "      <td>False</td>\n",
       "      <td>[]</td>\n",
       "      <td>True</td>\n",
       "      <td>33</td>\n",
       "      <td>[cantinho, vegana, vegetariano, farofa, soja, ...</td>\n",
       "      <td></td>\n",
       "      <td>False</td>\n",
       "      <td>None</td>\n",
       "      <td>{PVT ou PTS, Vegana, Farofas, Farinha de Mandi...</td>\n",
       "      <td></td>\n",
       "      <td>Cantinho Vegetariano: Farofa de Soja Crocante ...</td>\n",
       "      <td>http://www.cantinhovegetariano.com.br/2017/11/...</td>\n",
       "      <td>{'viewport': 'width=1100', 'generator': 'blogg...</td>\n",
       "      <td>&lt;!DOCTYPE html&gt;\\n&lt;html class='v2' dir='ltr' xm...</td>\n",
       "      <td>http://www.cantinhovegetariano.com.br/</td>\n",
       "    </tr>\n",
       "    <tr>\n",
       "      <th>8</th>\n",
       "      <td>False</td>\n",
       "      <td>[]</td>\n",
       "      <td>True</td>\n",
       "      <td>108</td>\n",
       "      <td>[ヘアサロンcuaura, salonのヘアカタログホットペッパービューティー, ジェントル...</td>\n",
       "      <td></td>\n",
       "      <td>False</td>\n",
       "      <td>2025-09-19 00:00:00</td>\n",
       "      <td>{}</td>\n",
       "      <td></td>\n",
       "      <td>ジェントルマン×サイドパート：L007450079｜クオーラ ヘアサロン(Cuaura HA...</td>\n",
       "      <td>https://beauty.hotpepper.jp/slnH000190925/styl...</td>\n",
       "      <td>{'copyright': 'Copyright © Recruit Lifestyle C...</td>\n",
       "      <td>&lt;!DOCTYPE html PUBLIC \"-//W3C//DTD XHTML 1.0 T...</td>\n",
       "      <td>https://beauty.hotpepper.jp/</td>\n",
       "    </tr>\n",
       "    <tr>\n",
       "      <th>9</th>\n",
       "      <td>False</td>\n",
       "      <td>[]</td>\n",
       "      <td>True</td>\n",
       "      <td>108</td>\n",
       "      <td>[salonのヘアカタログホットペッパービューティー, ヘアサロンcuaura, ワイルドナ...</td>\n",
       "      <td></td>\n",
       "      <td>False</td>\n",
       "      <td>2025-09-19 00:00:00</td>\n",
       "      <td>{}</td>\n",
       "      <td></td>\n",
       "      <td>ワイルドナチュラルショート：L007450072｜クオーラ ヘアサロン(Cuaura HAI...</td>\n",
       "      <td>https://beauty.hotpepper.jp/slnH000190925/styl...</td>\n",
       "      <td>{'copyright': 'Copyright © Recruit Lifestyle C...</td>\n",
       "      <td>&lt;!DOCTYPE html PUBLIC \"-//W3C//DTD XHTML 1.0 T...</td>\n",
       "      <td>https://beauty.hotpepper.jp/</td>\n",
       "    </tr>\n",
       "    <tr>\n",
       "      <th>10</th>\n",
       "      <td>False</td>\n",
       "      <td>[]</td>\n",
       "      <td>True</td>\n",
       "      <td>108</td>\n",
       "      <td>[ヘアサロンcuaura, salonのヘアカタログホットペッパービューティー, hair,...</td>\n",
       "      <td></td>\n",
       "      <td>False</td>\n",
       "      <td>2025-09-19 00:00:00</td>\n",
       "      <td>{}</td>\n",
       "      <td></td>\n",
       "      <td>メンズカジュアル刈り上げ：L007450065｜クオーラ ヘアサロン(Cuaura HAIR...</td>\n",
       "      <td>https://beauty.hotpepper.jp/slnH000190925/styl...</td>\n",
       "      <td>{'copyright': 'Copyright © Recruit Lifestyle C...</td>\n",
       "      <td>&lt;!DOCTYPE html PUBLIC \"-//W3C//DTD XHTML 1.0 T...</td>\n",
       "      <td>https://beauty.hotpepper.jp/</td>\n",
       "    </tr>\n",
       "    <tr>\n",
       "      <th>11</th>\n",
       "      <td>False</td>\n",
       "      <td>[]</td>\n",
       "      <td>True</td>\n",
       "      <td>108</td>\n",
       "      <td>[ゆる束パーマl007450057クオーラ, ヘアサロンcuaura, salonのヘアカタ...</td>\n",
       "      <td></td>\n",
       "      <td>False</td>\n",
       "      <td>2025-09-19 00:00:00</td>\n",
       "      <td>{}</td>\n",
       "      <td></td>\n",
       "      <td>ゆる束パーマ：L007450057｜クオーラ ヘアサロン(Cuaura HAIR SALON...</td>\n",
       "      <td>https://beauty.hotpepper.jp/slnH000190925/styl...</td>\n",
       "      <td>{'copyright': 'Copyright © Recruit Lifestyle C...</td>\n",
       "      <td>&lt;!DOCTYPE html PUBLIC \"-//W3C//DTD XHTML 1.0 T...</td>\n",
       "      <td>https://beauty.hotpepper.jp/</td>\n",
       "    </tr>\n",
       "    <tr>\n",
       "      <th>12</th>\n",
       "      <td>True</td>\n",
       "      <td>[Pam Anderson, Allrecipes Staff, Jennifer Ande...</td>\n",
       "      <td>True</td>\n",
       "      <td>21</td>\n",
       "      <td>[salt, rinsed, roasted, let, oil, garlic, sit,...</td>\n",
       "      <td></td>\n",
       "      <td>False</td>\n",
       "      <td>None</td>\n",
       "      <td>{}</td>\n",
       "      <td>121\\n\\nThis is a great base recipe, but I did ...</td>\n",
       "      <td>Olive Oil Roasted Eggplant with Lemon Recipe</td>\n",
       "      <td>http://www.allrecipes.com/recipe/156162/olive-...</td>\n",
       "      <td>{'og': {'title': 'Olive Oil Roasted Eggplant w...</td>\n",
       "      <td>\\r\\n\\r\\n&lt;!DOCTYPE html&gt;\\r\\n&lt;html&gt;\\r\\n&lt;head&gt;\\r\\...</td>\n",
       "      <td>http://www.allrecipes.com/</td>\n",
       "    </tr>\n",
       "    <tr>\n",
       "      <th>13</th>\n",
       "      <td>True</td>\n",
       "      <td>[Chris Denzer, Chez Gi, Baking Nana, Avid Gard...</td>\n",
       "      <td>True</td>\n",
       "      <td>21</td>\n",
       "      <td>[tender, adobo, choy, cooker, bok, sour, husba...</td>\n",
       "      <td></td>\n",
       "      <td>False</td>\n",
       "      <td>None</td>\n",
       "      <td>{}</td>\n",
       "      <td>101\\n\\nWow, tender meat falls right off the bo...</td>\n",
       "      <td>Slow Cooker Adobo Chicken with Bok Choy Recipe</td>\n",
       "      <td>http://www.allrecipes.com/recipe/223588/slow-c...</td>\n",
       "      <td>{'og': {'title': 'Slow Cooker Adobo Chicken wi...</td>\n",
       "      <td>\\r\\n\\r\\n&lt;!DOCTYPE html&gt;\\r\\n&lt;html&gt;\\r\\n&lt;head&gt;\\r\\...</td>\n",
       "      <td>http://www.allrecipes.com/</td>\n",
       "    </tr>\n",
       "    <tr>\n",
       "      <th>14</th>\n",
       "      <td>True</td>\n",
       "      <td>[Cory Vicens, Allrecipes Staff, Jennifer Ander...</td>\n",
       "      <td>True</td>\n",
       "      <td>21</td>\n",
       "      <td>[goulash, taste, beef, cooked, recipe, used, r...</td>\n",
       "      <td></td>\n",
       "      <td>False</td>\n",
       "      <td>None</td>\n",
       "      <td>{}</td>\n",
       "      <td>272\\n\\nGood basic recipe that can be adjusted ...</td>\n",
       "      <td>Hungarian Goulash I Recipe</td>\n",
       "      <td>http://www.allrecipes.com/recipe/19954/hungari...</td>\n",
       "      <td>{'og': {'title': 'Hungarian Goulash I Recipe',...</td>\n",
       "      <td>\\r\\n\\r\\n&lt;!DOCTYPE html&gt;\\r\\n&lt;html&gt;\\r\\n&lt;head&gt;\\r\\...</td>\n",
       "      <td>http://www.allrecipes.com/</td>\n",
       "    </tr>\n",
       "    <tr>\n",
       "      <th>15</th>\n",
       "      <td>False</td>\n",
       "      <td>[]</td>\n",
       "      <td>True</td>\n",
       "      <td>25</td>\n",
       "      <td>[vom, bis, und, von, 17112017, auf, mit, dpd, ...</td>\n",
       "      <td>de</td>\n",
       "      <td>False</td>\n",
       "      <td>None</td>\n",
       "      <td>{}</td>\n",
       "      <td>DpD am 13.11.17\\n\\n\\n\\nMarko, 37 Jahre\\n\\n\\n\\n...</td>\n",
       "      <td>DpD vom 13.11. bis 17.11.2017 'Wer ist der Pro...</td>\n",
       "      <td>http://www.chefkoch.de/forum/2,72,737656/DpD-v...</td>\n",
       "      <td>{'viewport': 'width=device-width', 'descriptio...</td>\n",
       "      <td>&lt;!doctype html&gt;\\n&lt;!--[if lte IE 8]&gt; &lt;html lang...</td>\n",
       "      <td>http://www.chefkoch.de/</td>\n",
       "    </tr>\n",
       "    <tr>\n",
       "      <th>16</th>\n",
       "      <td>False</td>\n",
       "      <td>[]</td>\n",
       "      <td>True</td>\n",
       "      <td>28</td>\n",
       "      <td>[singlerunde, noch, 12112017, und, es, oder, i...</td>\n",
       "      <td>de</td>\n",
       "      <td>False</td>\n",
       "      <td>None</td>\n",
       "      <td>{}</td>\n",
       "      <td>Moin,\\n\\n\\n\\nin der Gruppe ist es ähnlich wie ...</td>\n",
       "      <td>Einpersonenhaushalte oder gibt es die Singleru...</td>\n",
       "      <td>http://www.chefkoch.de/forum/2,6,737713/Einper...</td>\n",
       "      <td>{'viewport': 'width=device-width', 'descriptio...</td>\n",
       "      <td>&lt;!doctype html&gt;\\n&lt;!--[if lte IE 8]&gt; &lt;html lang...</td>\n",
       "      <td>http://www.chefkoch.de/</td>\n",
       "    </tr>\n",
       "    <tr>\n",
       "      <th>17</th>\n",
       "      <td>False</td>\n",
       "      <td>[]</td>\n",
       "      <td>True</td>\n",
       "      <td>6</td>\n",
       "      <td>[freitag, gibts, den, 17112017]</td>\n",
       "      <td>de</td>\n",
       "      <td>False</td>\n",
       "      <td>None</td>\n",
       "      <td>{}</td>\n",
       "      <td></td>\n",
       "      <td>Was gibts am Freitag den 17.11.2017</td>\n",
       "      <td>http://www.chefkoch.de/forum/2,1,737840/Was-gi...</td>\n",
       "      <td>{'viewport': 'width=device-width', 'descriptio...</td>\n",
       "      <td>&lt;!doctype html&gt;\\n&lt;!--[if lte IE 8]&gt; &lt;html lang...</td>\n",
       "      <td>http://www.chefkoch.de/</td>\n",
       "    </tr>\n",
       "    <tr>\n",
       "      <th>18</th>\n",
       "      <td>False</td>\n",
       "      <td>[]</td>\n",
       "      <td>True</td>\n",
       "      <td>6</td>\n",
       "      <td>[und, noch, kauf, unser, für, eine, ich, einer...</td>\n",
       "      <td>de</td>\n",
       "      <td>False</td>\n",
       "      <td>None</td>\n",
       "      <td>{}</td>\n",
       "      <td>\\n\\n\\n\\nich möchte mir eine Kuchenmaschine gön...</td>\n",
       "      <td>Tipps für dem Kauf einer Küchenmaschine</td>\n",
       "      <td>http://www.chefkoch.de/forum/2,8,737835/Tipps-...</td>\n",
       "      <td>{'viewport': 'width=device-width', 'descriptio...</td>\n",
       "      <td>&lt;!doctype html&gt;\\n&lt;!--[if lte IE 8]&gt; &lt;html lang...</td>\n",
       "      <td>http://www.chefkoch.de/</td>\n",
       "    </tr>\n",
       "    <tr>\n",
       "      <th>19</th>\n",
       "      <td>False</td>\n",
       "      <td>[]</td>\n",
       "      <td>True</td>\n",
       "      <td>20</td>\n",
       "      <td>[und, kann, es, mit, ich, der, joghurt, agar, ...</td>\n",
       "      <td>de</td>\n",
       "      <td>False</td>\n",
       "      <td>None</td>\n",
       "      <td>{}</td>\n",
       "      <td>sonokar,\\n\\nwas steht denn genau in der Zutate...</td>\n",
       "      <td>Griechischen Joghurt mit Agar Agar selber machen</td>\n",
       "      <td>http://www.chefkoch.de/forum/2,83,737802/Griec...</td>\n",
       "      <td>{'viewport': 'width=device-width', 'descriptio...</td>\n",
       "      <td>&lt;!doctype html&gt;\\n&lt;!--[if lte IE 8]&gt; &lt;html lang...</td>\n",
       "      <td>http://www.chefkoch.de/</td>\n",
       "    </tr>\n",
       "    <tr>\n",
       "      <th>20</th>\n",
       "      <td>False</td>\n",
       "      <td>[]</td>\n",
       "      <td>True</td>\n",
       "      <td>9</td>\n",
       "      <td>[お店のブログ, 永楽]</td>\n",
       "      <td></td>\n",
       "      <td>False</td>\n",
       "      <td>2017-11-11 00:00:00</td>\n",
       "      <td>{}</td>\n",
       "      <td></td>\n",
       "      <td>永楽 お店のブログ</td>\n",
       "      <td>http://b990000.blog.gnavi.co.jp/blog/2017/11/1...</td>\n",
       "      <td>{'description': '*', 'keywords': '*', 'og': {'...</td>\n",
       "      <td>&lt;!DOCTYPE html&gt;\\n&lt;html lang=\"ja\"&gt;\\n&lt;head&gt;\\n&lt;me...</td>\n",
       "      <td>http://b990000.blog.gnavi.co.jp/</td>\n",
       "    </tr>\n",
       "    <tr>\n",
       "      <th>21</th>\n",
       "      <td>False</td>\n",
       "      <td>[]</td>\n",
       "      <td>True</td>\n",
       "      <td>9</td>\n",
       "      <td>[handi, お店のブログ]</td>\n",
       "      <td></td>\n",
       "      <td>False</td>\n",
       "      <td>2017-11-11 00:00:00</td>\n",
       "      <td>{}</td>\n",
       "      <td></td>\n",
       "      <td>HANDI お店のブログ</td>\n",
       "      <td>http://gctj100.blog.gnavi.co.jp/blog/2017/11/1...</td>\n",
       "      <td>{'description': '*', 'keywords': '*', 'og': {'...</td>\n",
       "      <td>&lt;!DOCTYPE html&gt;\\n&lt;html lang=\"ja\"&gt;\\n&lt;head&gt;\\n&lt;me...</td>\n",
       "      <td>http://gctj100.blog.gnavi.co.jp/</td>\n",
       "    </tr>\n",
       "    <tr>\n",
       "      <th>22</th>\n",
       "      <td>False</td>\n",
       "      <td>[]</td>\n",
       "      <td>True</td>\n",
       "      <td>12</td>\n",
       "      <td>[千葉県の少人数で個室]</td>\n",
       "      <td></td>\n",
       "      <td>False</td>\n",
       "      <td>None</td>\n",
       "      <td>{}</td>\n",
       "      <td></td>\n",
       "      <td>千葉県の少人数で個室</td>\n",
       "      <td>https://r.gnavi.co.jp/sp/search/theme/z-PREF12...</td>\n",
       "      <td>{'referrer': 'unsafe-url', 'description': '千葉県...</td>\n",
       "      <td>\\t&lt;!DOCTYPE html PUBLIC \"-//W3C//DTD XHTML 1.0...</td>\n",
       "      <td>https://r.gnavi.co.jp/</td>\n",
       "    </tr>\n",
       "    <tr>\n",
       "      <th>23</th>\n",
       "      <td>False</td>\n",
       "      <td>[]</td>\n",
       "      <td>True</td>\n",
       "      <td>12</td>\n",
       "      <td>[千葉県の接待会食におすすめのお店]</td>\n",
       "      <td></td>\n",
       "      <td>False</td>\n",
       "      <td>None</td>\n",
       "      <td>{}</td>\n",
       "      <td></td>\n",
       "      <td>千葉県の接待・会食におすすめのお店</td>\n",
       "      <td>https://r.gnavi.co.jp/sp/search/theme/z-PREF12...</td>\n",
       "      <td>{'referrer': 'unsafe-url', 'description': '千葉県...</td>\n",
       "      <td>\\t&lt;!DOCTYPE html PUBLIC \"-//W3C//DTD XHTML 1.0...</td>\n",
       "      <td>https://r.gnavi.co.jp/</td>\n",
       "    </tr>\n",
       "    <tr>\n",
       "      <th>24</th>\n",
       "      <td>False</td>\n",
       "      <td>[]</td>\n",
       "      <td>True</td>\n",
       "      <td>13</td>\n",
       "      <td>[なんば道頓堀日本橋で食事を楽しむおすすめ人気レストラン]</td>\n",
       "      <td></td>\n",
       "      <td>False</td>\n",
       "      <td>2027-02-08 00:00:00</td>\n",
       "      <td>{}</td>\n",
       "      <td></td>\n",
       "      <td>なんば・道頓堀・日本橋で食事を楽しむおすすめ人気レストラン</td>\n",
       "      <td>https://r.gnavi.co.jp/sp/search/theme/z-PREF27...</td>\n",
       "      <td>{'referrer': 'unsafe-url', 'description': '大阪府...</td>\n",
       "      <td>\\t&lt;!DOCTYPE html PUBLIC \"-//W3C//DTD XHTML 1.0...</td>\n",
       "      <td>https://r.gnavi.co.jp/</td>\n",
       "    </tr>\n",
       "    <tr>\n",
       "      <th>25</th>\n",
       "      <td>False</td>\n",
       "      <td>[]</td>\n",
       "      <td>True</td>\n",
       "      <td>12</td>\n",
       "      <td>[大阪府の誕生日記念日をみんなで祝う]</td>\n",
       "      <td></td>\n",
       "      <td>False</td>\n",
       "      <td>None</td>\n",
       "      <td>{}</td>\n",
       "      <td></td>\n",
       "      <td>大阪府の誕生日＆記念日をみんなで祝う</td>\n",
       "      <td>https://r.gnavi.co.jp/sp/search/theme/z-PREF27...</td>\n",
       "      <td>{'referrer': 'unsafe-url', 'description': '大阪府...</td>\n",
       "      <td>\\t&lt;!DOCTYPE html PUBLIC \"-//W3C//DTD XHTML 1.0...</td>\n",
       "      <td>https://r.gnavi.co.jp/</td>\n",
       "    </tr>\n",
       "    <tr>\n",
       "      <th>26</th>\n",
       "      <td>False</td>\n",
       "      <td>[]</td>\n",
       "      <td>True</td>\n",
       "      <td>12</td>\n",
       "      <td>[神戸兵庫長田で食事を楽しむおすすめ人気レストラン]</td>\n",
       "      <td></td>\n",
       "      <td>False</td>\n",
       "      <td>2028-02-29 00:00:00</td>\n",
       "      <td>{}</td>\n",
       "      <td></td>\n",
       "      <td>神戸・兵庫・長田で食事を楽しむおすすめ人気レストラン</td>\n",
       "      <td>https://r.gnavi.co.jp/sp/search/theme/z-PREF28...</td>\n",
       "      <td>{'referrer': 'unsafe-url', 'description': '兵庫県...</td>\n",
       "      <td>\\t&lt;!DOCTYPE html PUBLIC \"-//W3C//DTD XHTML 1.0...</td>\n",
       "      <td>https://r.gnavi.co.jp/</td>\n",
       "    </tr>\n",
       "    <tr>\n",
       "      <th>27</th>\n",
       "      <td>False</td>\n",
       "      <td>[]</td>\n",
       "      <td>True</td>\n",
       "      <td>17</td>\n",
       "      <td>[2017クリスマス静岡のゆったり個室があるお店でディナーデート]</td>\n",
       "      <td></td>\n",
       "      <td>False</td>\n",
       "      <td>None</td>\n",
       "      <td>{}</td>\n",
       "      <td></td>\n",
       "      <td>【2017クリスマス】静岡の「ゆったり個室があるお店」でディナー・デート</td>\n",
       "      <td>https://r.gnavi.co.jp/sp/search/xmas/z-PREF22/...</td>\n",
       "      <td>{'referrer': 'unsafe-url', 'author': 'copyrigh...</td>\n",
       "      <td>\\n&lt;!DOCTYPE html&gt;\\n&lt;html lang=\"ja\"&gt;\\n  &lt;head&gt;\\...</td>\n",
       "      <td>https://r.gnavi.co.jp/</td>\n",
       "    </tr>\n",
       "    <tr>\n",
       "      <th>28</th>\n",
       "      <td>False</td>\n",
       "      <td>[]</td>\n",
       "      <td>True</td>\n",
       "      <td>16</td>\n",
       "      <td>[沖縄県の接待会食におすすめのお店]</td>\n",
       "      <td></td>\n",
       "      <td>False</td>\n",
       "      <td>None</td>\n",
       "      <td>{}</td>\n",
       "      <td></td>\n",
       "      <td>沖縄県の接待・会食におすすめのお店</td>\n",
       "      <td>https://r.gnavi.co.jp/sp/search/theme/z-PREF47...</td>\n",
       "      <td>{'referrer': 'unsafe-url', 'description': '沖縄県...</td>\n",
       "      <td>\\t&lt;!DOCTYPE html PUBLIC \"-//W3C//DTD XHTML 1.0...</td>\n",
       "      <td>https://r.gnavi.co.jp/</td>\n",
       "    </tr>\n",
       "    <tr>\n",
       "      <th>29</th>\n",
       "      <td>False</td>\n",
       "      <td>[]</td>\n",
       "      <td>True</td>\n",
       "      <td>19</td>\n",
       "      <td>[tortini, tortino, stampino, cuore, una, il, d...</td>\n",
       "      <td>it</td>\n",
       "      <td>False</td>\n",
       "      <td>None</td>\n",
       "      <td>{}</td>\n",
       "      <td>Preparazione Come preparare il Tortino di pole...</td>\n",
       "      <td>Tortino di polenta con cuore fondente</td>\n",
       "      <td>http://ricette.giallozafferano.it/Tortino-di-p...</td>\n",
       "      <td>{'language': 'it', 'title': 'Ricetta Tortino d...</td>\n",
       "      <td>&lt;!DOCTYPE html&gt;\\n&lt;html lang=\"it\"&gt;\\n&lt;head&gt;\\n  &lt;...</td>\n",
       "      <td>http://ricette.giallozafferano.it/</td>\n",
       "    </tr>\n",
       "    <tr>\n",
       "      <th>...</th>\n",
       "      <td>...</td>\n",
       "      <td>...</td>\n",
       "      <td>...</td>\n",
       "      <td>...</td>\n",
       "      <td>...</td>\n",
       "      <td>...</td>\n",
       "      <td>...</td>\n",
       "      <td>...</td>\n",
       "      <td>...</td>\n",
       "      <td>...</td>\n",
       "      <td>...</td>\n",
       "      <td>...</td>\n",
       "      <td>...</td>\n",
       "      <td>...</td>\n",
       "      <td>...</td>\n",
       "    </tr>\n",
       "    <tr>\n",
       "      <th>11091</th>\n",
       "      <td>False</td>\n",
       "      <td>[]</td>\n",
       "      <td>True</td>\n",
       "      <td>34</td>\n",
       "      <td>[users, 21, badenwürttemberg, totally, vegetar...</td>\n",
       "      <td>en</td>\n",
       "      <td>False</td>\n",
       "      <td>None</td>\n",
       "      <td>{}</td>\n",
       "      <td>This content is unfortunately only visible to ...</td>\n",
       "      <td>Derdima (21) , Vegetarian, Radolfzell, Baden-W...</td>\n",
       "      <td>http://www.veggiecommunity.org/en/user/view/62...</td>\n",
       "      <td>{'Language': 'en', 'Description': 'Veggie Comm...</td>\n",
       "      <td>&lt;!DOCTYPE html&gt;\\n&lt;html lang=\"en\"&gt;\\n&lt;head&gt;\\n&lt;ti...</td>\n",
       "      <td>http://www.veggiecommunity.org/</td>\n",
       "    </tr>\n",
       "    <tr>\n",
       "      <th>11092</th>\n",
       "      <td>False</td>\n",
       "      <td>[]</td>\n",
       "      <td>True</td>\n",
       "      <td>27</td>\n",
       "      <td>[members, und, für, vegane, zockgemeinschaft, ...</td>\n",
       "      <td>en</td>\n",
       "      <td>False</td>\n",
       "      <td>None</td>\n",
       "      <td>{}</td>\n",
       "      <td>Für alle Zocker*innen unter euch, die hin und ...</td>\n",
       "      <td>Vegane Zockgemeinschaft</td>\n",
       "      <td>http://www.veggiecommunity.org/en/groups/info/...</td>\n",
       "      <td>{'Language': 'en', 'Description': 'Für alle Zo...</td>\n",
       "      <td>&lt;!DOCTYPE html&gt;\\n&lt;html lang=\"en\"&gt;\\n&lt;head&gt;\\n&lt;ti...</td>\n",
       "      <td>http://www.veggiecommunity.org/</td>\n",
       "    </tr>\n",
       "    <tr>\n",
       "      <th>11093</th>\n",
       "      <td>False</td>\n",
       "      <td>[]</td>\n",
       "      <td>True</td>\n",
       "      <td>32</td>\n",
       "      <td>[easily, little, featuresplus, features, easy,...</td>\n",
       "      <td>en</td>\n",
       "      <td>False</td>\n",
       "      <td>None</td>\n",
       "      <td>{}</td>\n",
       "      <td>Plus Features\\n\\n\"Plus Micro\" has NO additiona...</td>\n",
       "      <td>Veggie Community</td>\n",
       "      <td>http://www.veggiecommunity.org/en/plus/</td>\n",
       "      <td>{'Language': 'en', 'Description': 'Veggie Comm...</td>\n",
       "      <td>&lt;!DOCTYPE html&gt;\\n&lt;html lang=\"en\"&gt;\\n&lt;head&gt;\\n&lt;ti...</td>\n",
       "      <td>http://www.veggiecommunity.org/</td>\n",
       "    </tr>\n",
       "    <tr>\n",
       "      <th>11094</th>\n",
       "      <td>False</td>\n",
       "      <td>[]</td>\n",
       "      <td>True</td>\n",
       "      <td>24</td>\n",
       "      <td>[es, berlin, demo, haben, wir, satt]</td>\n",
       "      <td>en</td>\n",
       "      <td>False</td>\n",
       "      <td>None</td>\n",
       "      <td>{}</td>\n",
       "      <td></td>\n",
       "      <td>\"Wir haben es satt\" Demo Berlin</td>\n",
       "      <td>http://www.veggiecommunity.org/en/events/view/...</td>\n",
       "      <td>{'Language': 'en', 'Description': 'Die größte ...</td>\n",
       "      <td>&lt;!DOCTYPE html&gt;\\n&lt;html lang=\"en\"&gt;\\n&lt;head&gt;\\n&lt;ti...</td>\n",
       "      <td>http://www.veggiecommunity.org/</td>\n",
       "    </tr>\n",
       "    <tr>\n",
       "      <th>11095</th>\n",
       "      <td>False</td>\n",
       "      <td>[]</td>\n",
       "      <td>True</td>\n",
       "      <td>32</td>\n",
       "      <td>[47, vegetarian, bonn, germany, 8sam1970]</td>\n",
       "      <td>en</td>\n",
       "      <td>False</td>\n",
       "      <td>None</td>\n",
       "      <td>{}</td>\n",
       "      <td></td>\n",
       "      <td>8sam-1970 (47) , Almost Vegetarian, Bonn, Germany</td>\n",
       "      <td>http://www.veggiecommunity.org/en/user/view/62...</td>\n",
       "      <td>{'Language': 'en', 'Description': 'Veggie Comm...</td>\n",
       "      <td>&lt;!DOCTYPE html&gt;\\n&lt;html lang=\"en\"&gt;\\n&lt;head&gt;\\n&lt;ti...</td>\n",
       "      <td>http://www.veggiecommunity.org/</td>\n",
       "    </tr>\n",
       "    <tr>\n",
       "      <th>11096</th>\n",
       "      <td>False</td>\n",
       "      <td>[]</td>\n",
       "      <td>True</td>\n",
       "      <td>27</td>\n",
       "      <td>[members, und, zeit, von, steht, polyamorie, z...</td>\n",
       "      <td>en</td>\n",
       "      <td>False</td>\n",
       "      <td>None</td>\n",
       "      <td>{}</td>\n",
       "      <td>Polyamorie steht für die Idee, zur gleichen Ze...</td>\n",
       "      <td>Veggie Community</td>\n",
       "      <td>http://www.veggiecommunity.org/en/groups/info/...</td>\n",
       "      <td>{'Language': 'en', 'Description': 'Polyamorie ...</td>\n",
       "      <td>&lt;!DOCTYPE html&gt;\\n&lt;html lang=\"en\"&gt;\\n&lt;head&gt;\\n&lt;ti...</td>\n",
       "      <td>http://www.veggiecommunity.org/</td>\n",
       "    </tr>\n",
       "    <tr>\n",
       "      <th>11097</th>\n",
       "      <td>False</td>\n",
       "      <td>[]</td>\n",
       "      <td>True</td>\n",
       "      <td>33</td>\n",
       "      <td>[iccke, vegan, breisgau, germany, im, freiburg...</td>\n",
       "      <td>en</td>\n",
       "      <td>False</td>\n",
       "      <td>None</td>\n",
       "      <td>{}</td>\n",
       "      <td></td>\n",
       "      <td>Iccke (38) , Vegan, Freiburg im Breisgau, Germany</td>\n",
       "      <td>http://www.veggiecommunity.org/en/user/view/62...</td>\n",
       "      <td>{'Language': 'en', 'Description': 'Veggie Comm...</td>\n",
       "      <td>&lt;!DOCTYPE html&gt;\\n&lt;html lang=\"en\"&gt;\\n&lt;head&gt;\\n&lt;ti...</td>\n",
       "      <td>http://www.veggiecommunity.org/</td>\n",
       "    </tr>\n",
       "    <tr>\n",
       "      <th>11098</th>\n",
       "      <td>False</td>\n",
       "      <td>[]</td>\n",
       "      <td>True</td>\n",
       "      <td>30</td>\n",
       "      <td>[veganized, totally, pies, drinks, vegan, star...</td>\n",
       "      <td></td>\n",
       "      <td>False</td>\n",
       "      <td>None</td>\n",
       "      <td>{}</td>\n",
       "      <td>Rethink how amazing your traditional pies can ...</td>\n",
       "      <td>10 Totally Veganized Holiday Starbucks Drinks</td>\n",
       "      <td>http://www.vegnews.com/articles/food.do</td>\n",
       "      <td>{'viewport': 'width=device-width, initial-scal...</td>\n",
       "      <td>&lt;!DOCTYPE HTML PUBLIC \"-//W3C//DTD HTML 4.01 T...</td>\n",
       "      <td>http://www.vegnews.com/</td>\n",
       "    </tr>\n",
       "    <tr>\n",
       "      <th>11099</th>\n",
       "      <td>False</td>\n",
       "      <td>[]</td>\n",
       "      <td>True</td>\n",
       "      <td>20</td>\n",
       "      <td>[york, styles, shoes, chang, apples, vegan, sh...</td>\n",
       "      <td></td>\n",
       "      <td>False</td>\n",
       "      <td>None</td>\n",
       "      <td>{}</td>\n",
       "      <td>Vegan brand VEERAH is revolutionizing the fash...</td>\n",
       "      <td>World's First Vegan Shoe Line Made from Apples...</td>\n",
       "      <td>http://www.vegnews.com/articles/page.do?pageId...</td>\n",
       "      <td>{'viewport': 'width=device-width, initial-scal...</td>\n",
       "      <td>&lt;!DOCTYPE HTML PUBLIC \"-//W3C//DTD HTML 4.01 T...</td>\n",
       "      <td>http://www.vegnews.com/</td>\n",
       "    </tr>\n",
       "    <tr>\n",
       "      <th>11100</th>\n",
       "      <td>False</td>\n",
       "      <td>[]</td>\n",
       "      <td>True</td>\n",
       "      <td>20</td>\n",
       "      <td>[half, potato, teaspoon, southwestern, vegan, ...</td>\n",
       "      <td></td>\n",
       "      <td>False</td>\n",
       "      <td>None</td>\n",
       "      <td>{}</td>\n",
       "      <td>Sweet potatoes a transformed into easy, south-...</td>\n",
       "      <td>Southwestern Sweet Potato Boats {Recipe}</td>\n",
       "      <td>http://vegnews.com/articles/page.do?pageId=101...</td>\n",
       "      <td>{'viewport': 'width=device-width, initial-scal...</td>\n",
       "      <td>&lt;!DOCTYPE HTML PUBLIC \"-//W3C//DTD HTML 4.01 T...</td>\n",
       "      <td>http://vegnews.com/</td>\n",
       "    </tr>\n",
       "    <tr>\n",
       "      <th>11101</th>\n",
       "      <td>False</td>\n",
       "      <td>[]</td>\n",
       "      <td>True</td>\n",
       "      <td>20</td>\n",
       "      <td>[rose, activist, danielle, black, cast, star, ...</td>\n",
       "      <td></td>\n",
       "      <td>False</td>\n",
       "      <td>None</td>\n",
       "      <td>{}</td>\n",
       "      <td>The actress/LGBTQ activist joins fellow cast m...</td>\n",
       "      <td>Orange is the New Black Star Laverne Cox Goes ...</td>\n",
       "      <td>http://vegnews.com/articles/page.do?pageId=102...</td>\n",
       "      <td>{'viewport': 'width=device-width, initial-scal...</td>\n",
       "      <td>&lt;!DOCTYPE HTML PUBLIC \"-//W3C//DTD HTML 4.01 T...</td>\n",
       "      <td>http://vegnews.com/</td>\n",
       "    </tr>\n",
       "    <tr>\n",
       "      <th>11102</th>\n",
       "      <td>True</td>\n",
       "      <td>[October]</td>\n",
       "      <td>True</td>\n",
       "      <td>20</td>\n",
       "      <td>[guide, shredsvegan, style, vegnews, cream, ve...</td>\n",
       "      <td></td>\n",
       "      <td>False</td>\n",
       "      <td>None</td>\n",
       "      <td>{}</td>\n",
       "      <td>Need cheese? Our ultimate, up-to-date guides t...</td>\n",
       "      <td>The VegNews Guide to Vegan Cheese</td>\n",
       "      <td>http://vegnews.com/articles/page.do?pageId=436...</td>\n",
       "      <td>{'viewport': 'width=device-width, initial-scal...</td>\n",
       "      <td>&lt;!DOCTYPE HTML PUBLIC \"-//W3C//DTD HTML 4.01 T...</td>\n",
       "      <td>http://vegnews.com/</td>\n",
       "    </tr>\n",
       "    <tr>\n",
       "      <th>11103</th>\n",
       "      <td>False</td>\n",
       "      <td>[]</td>\n",
       "      <td>True</td>\n",
       "      <td>4</td>\n",
       "      <td>[vegnewstv, channels, best, youtubesign, recom...</td>\n",
       "      <td>en</td>\n",
       "      <td>False</td>\n",
       "      <td>None</td>\n",
       "      <td>{}</td>\n",
       "      <td>Best of YouTube\\n\\nSign in now to see your cha...</td>\n",
       "      <td>VegNewsTV</td>\n",
       "      <td>http://www.youtube.com/user/VegNewsTV</td>\n",
       "      <td>{'title': 'VegNewsTV', 'keywords': 'vegan vege...</td>\n",
       "      <td>\\n    &lt;!DOCTYPE html&gt;&lt;html lang=\"en\" data-cast...</td>\n",
       "      <td>http://www.youtube.com/</td>\n",
       "    </tr>\n",
       "    <tr>\n",
       "      <th>11104</th>\n",
       "      <td>False</td>\n",
       "      <td>[]</td>\n",
       "      <td>True</td>\n",
       "      <td>20</td>\n",
       "      <td>[canada, globally, launches, taste, tour, vega...</td>\n",
       "      <td></td>\n",
       "      <td>False</td>\n",
       "      <td>None</td>\n",
       "      <td>{}</td>\n",
       "      <td>The Taste of Vegan tour features prix fixe men...</td>\n",
       "      <td>Vegan Restaurant Tour Launches in Canada</td>\n",
       "      <td>http://www.vegnews.com/articles/page.do?pageId...</td>\n",
       "      <td>{'viewport': 'width=device-width, initial-scal...</td>\n",
       "      <td>&lt;!DOCTYPE HTML PUBLIC \"-//W3C//DTD HTML 4.01 T...</td>\n",
       "      <td>http://www.vegnews.com/</td>\n",
       "    </tr>\n",
       "    <tr>\n",
       "      <th>11105</th>\n",
       "      <td>False</td>\n",
       "      <td>[]</td>\n",
       "      <td>True</td>\n",
       "      <td>14</td>\n",
       "      <td>[ninetyfive, books, vacations, vegnews, moving...</td>\n",
       "      <td></td>\n",
       "      <td>False</td>\n",
       "      <td>None</td>\n",
       "      <td>{}</td>\n",
       "      <td>Meet Farmed Animals, Be Charmed With breathtak...</td>\n",
       "      <td>VegNews Marketplace :: Vegan Books, Food, Orga...</td>\n",
       "      <td>http://www.vegnews.com/veg/gift_guides.do?gift...</td>\n",
       "      <td>{'viewport': 'width=device-width, initial-scal...</td>\n",
       "      <td>&lt;!DOCTYPE HTML PUBLIC \"-//W3C//DTD HTML 4.01 T...</td>\n",
       "      <td>http://www.vegnews.com/</td>\n",
       "    </tr>\n",
       "    <tr>\n",
       "      <th>11106</th>\n",
       "      <td>False</td>\n",
       "      <td>[]</td>\n",
       "      <td>True</td>\n",
       "      <td>20</td>\n",
       "      <td>[listen, person, place, books, cow, vacations,...</td>\n",
       "      <td></td>\n",
       "      <td>False</td>\n",
       "      <td>None</td>\n",
       "      <td>{}</td>\n",
       "      <td>Visit Animal Place If you listen to the Cow, h...</td>\n",
       "      <td>VegNews Marketplace :: Vegan Books, Food, Orga...</td>\n",
       "      <td>http://www.vegnews.com/veg/gift_guides.do?gift...</td>\n",
       "      <td>{'viewport': 'width=device-width, initial-scal...</td>\n",
       "      <td>&lt;!DOCTYPE HTML PUBLIC \"-//W3C//DTD HTML 4.01 T...</td>\n",
       "      <td>http://www.vegnews.com/</td>\n",
       "    </tr>\n",
       "    <tr>\n",
       "      <th>11107</th>\n",
       "      <td>False</td>\n",
       "      <td>[]</td>\n",
       "      <td>True</td>\n",
       "      <td>19</td>\n",
       "      <td>[ads, months, x, vegnewscom, 300, discount, we...</td>\n",
       "      <td></td>\n",
       "      <td>False</td>\n",
       "      <td>None</td>\n",
       "      <td>{}</td>\n",
       "      <td>The award-winning VegNews.com has become the p...</td>\n",
       "      <td>Website</td>\n",
       "      <td>http://www.vegnews.com/advertise/website.do</td>\n",
       "      <td>{'viewport': 'width=device-width, initial-scal...</td>\n",
       "      <td>&lt;!DOCTYPE HTML PUBLIC \"-//W3C//DTD HTML 4.01 T...</td>\n",
       "      <td>http://www.vegnews.com/</td>\n",
       "    </tr>\n",
       "    <tr>\n",
       "      <th>11108</th>\n",
       "      <td>False</td>\n",
       "      <td>[]</td>\n",
       "      <td>True</td>\n",
       "      <td>20</td>\n",
       "      <td>[seven, san, chain, hungry, planets, rangefree...</td>\n",
       "      <td></td>\n",
       "      <td>False</td>\n",
       "      <td>None</td>\n",
       "      <td>{}</td>\n",
       "      <td>Indian-inspired chain Curry Up Now serves vega...</td>\n",
       "      <td>SF Chain Adds Vegan Range-Free Chicken to Menus</td>\n",
       "      <td>http://www.vegnews.com/articles/page.do?pageId...</td>\n",
       "      <td>{'viewport': 'width=device-width, initial-scal...</td>\n",
       "      <td>&lt;!DOCTYPE HTML PUBLIC \"-//W3C//DTD HTML 4.01 T...</td>\n",
       "      <td>http://www.vegnews.com/</td>\n",
       "    </tr>\n",
       "    <tr>\n",
       "      <th>11109</th>\n",
       "      <td>False</td>\n",
       "      <td>[]</td>\n",
       "      <td>True</td>\n",
       "      <td>2</td>\n",
       "      <td>[vegnewsapproved, totes, great, tees, tasty, v...</td>\n",
       "      <td></td>\n",
       "      <td>False</td>\n",
       "      <td>None</td>\n",
       "      <td>{}</td>\n",
       "      <td>Welcome!\\n\\nThanks for visiting the VegNews St...</td>\n",
       "      <td>The VegNews Store</td>\n",
       "      <td>http://vegnews.myshopify.com/</td>\n",
       "      <td>{'shopify-checkout-api-token': 'e4fa49e96e398e...</td>\n",
       "      <td>&lt;!DOCTYPE html PUBLIC \"-//W3C//DTD XHTML 1.0 T...</td>\n",
       "      <td>http://vegnews.myshopify.com/</td>\n",
       "    </tr>\n",
       "    <tr>\n",
       "      <th>11110</th>\n",
       "      <td>False</td>\n",
       "      <td>[]</td>\n",
       "      <td>True</td>\n",
       "      <td>13</td>\n",
       "      <td>[experience, team, internships, media, vegnews...</td>\n",
       "      <td></td>\n",
       "      <td>False</td>\n",
       "      <td>None</td>\n",
       "      <td>{}</td>\n",
       "      <td>Paid Internships Want to learn about the world...</td>\n",
       "      <td>Internships</td>\n",
       "      <td>http://www.vegnews.com/jobs/internships.do</td>\n",
       "      <td>{'viewport': 'width=device-width, initial-scal...</td>\n",
       "      <td>&lt;!DOCTYPE HTML PUBLIC \"-//W3C//DTD HTML 4.01 T...</td>\n",
       "      <td>http://www.vegnews.com/</td>\n",
       "    </tr>\n",
       "    <tr>\n",
       "      <th>11111</th>\n",
       "      <td>False</td>\n",
       "      <td>[]</td>\n",
       "      <td>True</td>\n",
       "      <td>30</td>\n",
       "      <td>[fridge, noticingnational, joints, 15, favorit...</td>\n",
       "      <td></td>\n",
       "      <td>False</td>\n",
       "      <td>None</td>\n",
       "      <td>{}</td>\n",
       "      <td>8 Ways to Veganize Everything in Your Fridge W...</td>\n",
       "      <td>15 Vegan Hacks for Your Favorite Fast-Food Joints</td>\n",
       "      <td>http://www.vegnews.com/articles/buzz.do</td>\n",
       "      <td>{'viewport': 'width=device-width, initial-scal...</td>\n",
       "      <td>&lt;!DOCTYPE HTML PUBLIC \"-//W3C//DTD HTML 4.01 T...</td>\n",
       "      <td>http://www.vegnews.com/</td>\n",
       "    </tr>\n",
       "    <tr>\n",
       "      <th>11112</th>\n",
       "      <td>False</td>\n",
       "      <td>[]</td>\n",
       "      <td>True</td>\n",
       "      <td>14</td>\n",
       "      <td>[releases, press, releasesnot, regularly, team...</td>\n",
       "      <td></td>\n",
       "      <td>False</td>\n",
       "      <td>None</td>\n",
       "      <td>{}</td>\n",
       "      <td>Press Releases\\n\\nNot only do we report the ne...</td>\n",
       "      <td>Press Releases</td>\n",
       "      <td>http://www.vegnews.com/press/pressReleases.do</td>\n",
       "      <td>{'viewport': 'width=device-width, initial-scal...</td>\n",
       "      <td>&lt;!DOCTYPE HTML PUBLIC \"-//W3C//DTD HTML 4.01 T...</td>\n",
       "      <td>http://www.vegnews.com/</td>\n",
       "    </tr>\n",
       "    <tr>\n",
       "      <th>11113</th>\n",
       "      <td>False</td>\n",
       "      <td>[]</td>\n",
       "      <td>True</td>\n",
       "      <td>20</td>\n",
       "      <td>[activist, fish, animalrights, honor, 40k, veg...</td>\n",
       "      <td></td>\n",
       "      <td>False</td>\n",
       "      <td>None</td>\n",
       "      <td>{}</td>\n",
       "      <td>An Italian-born animal-rights activist covered...</td>\n",
       "      <td>Activist Tattoos 40K Crosses to Honor Farmed A...</td>\n",
       "      <td>http://www.vegnews.com/articles/page.do?pageId...</td>\n",
       "      <td>{'viewport': 'width=device-width, initial-scal...</td>\n",
       "      <td>&lt;!DOCTYPE HTML PUBLIC \"-//W3C//DTD HTML 4.01 T...</td>\n",
       "      <td>http://www.vegnews.com/</td>\n",
       "    </tr>\n",
       "    <tr>\n",
       "      <th>11114</th>\n",
       "      <td>False</td>\n",
       "      <td>[]</td>\n",
       "      <td>True</td>\n",
       "      <td>20</td>\n",
       "      <td>[cheesecake, tablespoons, remove, cool, cream,...</td>\n",
       "      <td></td>\n",
       "      <td>False</td>\n",
       "      <td>None</td>\n",
       "      <td>{}</td>\n",
       "      <td>No need to make a trip to the Big Apple becaus...</td>\n",
       "      <td>Vegan New York-Style Cheesecake {Recipe}</td>\n",
       "      <td>http://www.vegnews.com/articles/page.do?pageId...</td>\n",
       "      <td>{'viewport': 'width=device-width, initial-scal...</td>\n",
       "      <td>&lt;!DOCTYPE HTML PUBLIC \"-//W3C//DTD HTML 4.01 T...</td>\n",
       "      <td>http://www.vegnews.com/</td>\n",
       "    </tr>\n",
       "    <tr>\n",
       "      <th>11115</th>\n",
       "      <td>False</td>\n",
       "      <td>[]</td>\n",
       "      <td>True</td>\n",
       "      <td>13</td>\n",
       "      <td>[streetsanta, soy, shipment, team, staff, vegn...</td>\n",
       "      <td></td>\n",
       "      <td>False</td>\n",
       "      <td>None</td>\n",
       "      <td>{}</td>\n",
       "      <td>New Products\\n\\nThe VegNews staff is constantl...</td>\n",
       "      <td>New Products</td>\n",
       "      <td>http://www.vegnews.com/submissions/newProducts.do</td>\n",
       "      <td>{'viewport': 'width=device-width, initial-scal...</td>\n",
       "      <td>&lt;!DOCTYPE HTML PUBLIC \"-//W3C//DTD HTML 4.01 T...</td>\n",
       "      <td>http://www.vegnews.com/</td>\n",
       "    </tr>\n",
       "    <tr>\n",
       "      <th>11116</th>\n",
       "      <td>False</td>\n",
       "      <td>[]</td>\n",
       "      <td>True</td>\n",
       "      <td>18</td>\n",
       "      <td>[workingshot, discoverthe, mags, vegnews, inne...</td>\n",
       "      <td></td>\n",
       "      <td>False</td>\n",
       "      <td>None</td>\n",
       "      <td>{}</td>\n",
       "      <td>Go behind the scenes\\n\\nwith VegNews! Discover...</td>\n",
       "      <td>VegNews</td>\n",
       "      <td>http://vegnews.tumblr.com/</td>\n",
       "      <td>{'viewport': 'width=1000, initial-scale=1', 'd...</td>\n",
       "      <td>&lt;!DOCTYPE html&gt;&lt;script&gt;var __pbpa = true;&lt;/scr...</td>\n",
       "      <td>http://vegnews.tumblr.com/</td>\n",
       "    </tr>\n",
       "    <tr>\n",
       "      <th>11117</th>\n",
       "      <td>False</td>\n",
       "      <td>[]</td>\n",
       "      <td>True</td>\n",
       "      <td>13</td>\n",
       "      <td>[streetsanta, books, vegnews, vegan, tovegnews...</td>\n",
       "      <td></td>\n",
       "      <td>False</td>\n",
       "      <td>None</td>\n",
       "      <td>{}</td>\n",
       "      <td>Books\\n\\nHave a vegan book or cookbook to shar...</td>\n",
       "      <td>Books</td>\n",
       "      <td>http://www.vegnews.com/submissions/books.do</td>\n",
       "      <td>{'viewport': 'width=device-width, initial-scal...</td>\n",
       "      <td>&lt;!DOCTYPE HTML PUBLIC \"-//W3C//DTD HTML 4.01 T...</td>\n",
       "      <td>http://www.vegnews.com/</td>\n",
       "    </tr>\n",
       "    <tr>\n",
       "      <th>11118</th>\n",
       "      <td>False</td>\n",
       "      <td>[]</td>\n",
       "      <td>True</td>\n",
       "      <td>20</td>\n",
       "      <td>[including, reddiwip, launch, cream, number, v...</td>\n",
       "      <td></td>\n",
       "      <td>False</td>\n",
       "      <td>None</td>\n",
       "      <td>{}</td>\n",
       "      <td>The classic whipped cream brand is launching a...</td>\n",
       "      <td>Vegan Reddi-Wip to Debut</td>\n",
       "      <td>http://www.vegnews.com/articles/page.do?pageId...</td>\n",
       "      <td>{'viewport': 'width=device-width, initial-scal...</td>\n",
       "      <td>&lt;!DOCTYPE HTML PUBLIC \"-//W3C//DTD HTML 4.01 T...</td>\n",
       "      <td>http://www.vegnews.com/</td>\n",
       "    </tr>\n",
       "    <tr>\n",
       "      <th>11119</th>\n",
       "      <td>False</td>\n",
       "      <td>[]</td>\n",
       "      <td>True</td>\n",
       "      <td>36</td>\n",
       "      <td>[tofu, books, vacations, vegnews, nasoya, vega...</td>\n",
       "      <td></td>\n",
       "      <td>False</td>\n",
       "      <td>None</td>\n",
       "      <td>{}</td>\n",
       "      <td>Take the Pledge to a Healthier You! Take the p...</td>\n",
       "      <td>VegNews Marketplace :: Vegan Books, Food, Orga...</td>\n",
       "      <td>http://www.vegnews.com/veg/gift_guides.do?gift...</td>\n",
       "      <td>{'viewport': 'width=device-width, initial-scal...</td>\n",
       "      <td>&lt;!DOCTYPE HTML PUBLIC \"-//W3C//DTD HTML 4.01 T...</td>\n",
       "      <td>http://www.vegnews.com/</td>\n",
       "    </tr>\n",
       "    <tr>\n",
       "      <th>11120</th>\n",
       "      <td>False</td>\n",
       "      <td>[]</td>\n",
       "      <td>True</td>\n",
       "      <td>13</td>\n",
       "      <td>[video, vegetarianism, streetsanta, team, youv...</td>\n",
       "      <td></td>\n",
       "      <td>False</td>\n",
       "      <td>None</td>\n",
       "      <td>{}</td>\n",
       "      <td>Video\\n\\nVegNews TV is a wildly popular featur...</td>\n",
       "      <td>Video</td>\n",
       "      <td>http://www.vegnews.com/submissions/video.do</td>\n",
       "      <td>{'viewport': 'width=device-width, initial-scal...</td>\n",
       "      <td>&lt;!DOCTYPE HTML PUBLIC \"-//W3C//DTD HTML 4.01 T...</td>\n",
       "      <td>http://www.vegnews.com/</td>\n",
       "    </tr>\n",
       "  </tbody>\n",
       "</table>\n",
       "<p>11121 rows × 15 columns</p>\n",
       "</div>"
      ],
      "text/plain": [
       "      has_author                                            authors  \\\n",
       "0           True                           [The Flaming Vegan Crew]   \n",
       "1           True                           [The Flaming Vegan Crew]   \n",
       "2          False                                                 []   \n",
       "3          False                                                 []   \n",
       "4          False                                                 []   \n",
       "5          False                                                 []   \n",
       "6          False                                                 []   \n",
       "7          False                                                 []   \n",
       "8          False                                                 []   \n",
       "9          False                                                 []   \n",
       "10         False                                                 []   \n",
       "11         False                                                 []   \n",
       "12          True  [Pam Anderson, Allrecipes Staff, Jennifer Ande...   \n",
       "13          True  [Chris Denzer, Chez Gi, Baking Nana, Avid Gard...   \n",
       "14          True  [Cory Vicens, Allrecipes Staff, Jennifer Ander...   \n",
       "15         False                                                 []   \n",
       "16         False                                                 []   \n",
       "17         False                                                 []   \n",
       "18         False                                                 []   \n",
       "19         False                                                 []   \n",
       "20         False                                                 []   \n",
       "21         False                                                 []   \n",
       "22         False                                                 []   \n",
       "23         False                                                 []   \n",
       "24         False                                                 []   \n",
       "25         False                                                 []   \n",
       "26         False                                                 []   \n",
       "27         False                                                 []   \n",
       "28         False                                                 []   \n",
       "29         False                                                 []   \n",
       "...          ...                                                ...   \n",
       "11091      False                                                 []   \n",
       "11092      False                                                 []   \n",
       "11093      False                                                 []   \n",
       "11094      False                                                 []   \n",
       "11095      False                                                 []   \n",
       "11096      False                                                 []   \n",
       "11097      False                                                 []   \n",
       "11098      False                                                 []   \n",
       "11099      False                                                 []   \n",
       "11100      False                                                 []   \n",
       "11101      False                                                 []   \n",
       "11102       True                                          [October]   \n",
       "11103      False                                                 []   \n",
       "11104      False                                                 []   \n",
       "11105      False                                                 []   \n",
       "11106      False                                                 []   \n",
       "11107      False                                                 []   \n",
       "11108      False                                                 []   \n",
       "11109      False                                                 []   \n",
       "11110      False                                                 []   \n",
       "11111      False                                                 []   \n",
       "11112      False                                                 []   \n",
       "11113      False                                                 []   \n",
       "11114      False                                                 []   \n",
       "11115      False                                                 []   \n",
       "11116      False                                                 []   \n",
       "11117      False                                                 []   \n",
       "11118      False                                                 []   \n",
       "11119      False                                                 []   \n",
       "11120      False                                                 []   \n",
       "\n",
       "      has_images num_images  \\\n",
       "0           True         29   \n",
       "1           True         29   \n",
       "2           True         31   \n",
       "3           True          4   \n",
       "4           True         33   \n",
       "5           True         45   \n",
       "6           True         33   \n",
       "7           True         33   \n",
       "8           True        108   \n",
       "9           True        108   \n",
       "10          True        108   \n",
       "11          True        108   \n",
       "12          True         21   \n",
       "13          True         21   \n",
       "14          True         21   \n",
       "15          True         25   \n",
       "16          True         28   \n",
       "17          True          6   \n",
       "18          True          6   \n",
       "19          True         20   \n",
       "20          True          9   \n",
       "21          True          9   \n",
       "22          True         12   \n",
       "23          True         12   \n",
       "24          True         13   \n",
       "25          True         12   \n",
       "26          True         12   \n",
       "27          True         17   \n",
       "28          True         16   \n",
       "29          True         19   \n",
       "...          ...        ...   \n",
       "11091       True         34   \n",
       "11092       True         27   \n",
       "11093       True         32   \n",
       "11094       True         24   \n",
       "11095       True         32   \n",
       "11096       True         27   \n",
       "11097       True         33   \n",
       "11098       True         30   \n",
       "11099       True         20   \n",
       "11100       True         20   \n",
       "11101       True         20   \n",
       "11102       True         20   \n",
       "11103       True          4   \n",
       "11104       True         20   \n",
       "11105       True         14   \n",
       "11106       True         20   \n",
       "11107       True         19   \n",
       "11108       True         20   \n",
       "11109       True          2   \n",
       "11110       True         13   \n",
       "11111       True         30   \n",
       "11112       True         14   \n",
       "11113       True         20   \n",
       "11114       True         20   \n",
       "11115       True         13   \n",
       "11116       True         18   \n",
       "11117       True         13   \n",
       "11118       True         20   \n",
       "11119       True         36   \n",
       "11120       True         13   \n",
       "\n",
       "                                                keywords lang has_movie  \\\n",
       "0      [leather, flaming, perfect, staff, vegan, bag,...          False   \n",
       "1      [leather, flaming, perfect, staff, vegan, bag,...          False   \n",
       "2                              [张可盈出道竟不见母亲张凯丽韩红谭维维众大咖护航]          False   \n",
       "3      [update, guide, gloves, leather, blog, resourc...   en     False   \n",
       "4      [cantinho, vegana, vegetariano, farofa, soja, ...          False   \n",
       "5          [ou, cantinho, pts, vegetariano, que, é, pvt]          False   \n",
       "6      [cantinho, vegana, vegetariano, farofa, soja, ...          False   \n",
       "7      [cantinho, vegana, vegetariano, farofa, soja, ...          False   \n",
       "8      [ヘアサロンcuaura, salonのヘアカタログホットペッパービューティー, ジェントル...          False   \n",
       "9      [salonのヘアカタログホットペッパービューティー, ヘアサロンcuaura, ワイルドナ...          False   \n",
       "10     [ヘアサロンcuaura, salonのヘアカタログホットペッパービューティー, hair,...          False   \n",
       "11     [ゆる束パーマl007450057クオーラ, ヘアサロンcuaura, salonのヘアカタ...          False   \n",
       "12     [salt, rinsed, roasted, let, oil, garlic, sit,...          False   \n",
       "13     [tender, adobo, choy, cooker, bok, sour, husba...          False   \n",
       "14     [goulash, taste, beef, cooked, recipe, used, r...          False   \n",
       "15     [vom, bis, und, von, 17112017, auf, mit, dpd, ...   de     False   \n",
       "16     [singlerunde, noch, 12112017, und, es, oder, i...   de     False   \n",
       "17                       [freitag, gibts, den, 17112017]   de     False   \n",
       "18     [und, noch, kauf, unser, für, eine, ich, einer...   de     False   \n",
       "19     [und, kann, es, mit, ich, der, joghurt, agar, ...   de     False   \n",
       "20                                          [お店のブログ, 永楽]          False   \n",
       "21                                       [handi, お店のブログ]          False   \n",
       "22                                          [千葉県の少人数で個室]          False   \n",
       "23                                    [千葉県の接待会食におすすめのお店]          False   \n",
       "24                         [なんば道頓堀日本橋で食事を楽しむおすすめ人気レストラン]          False   \n",
       "25                                   [大阪府の誕生日記念日をみんなで祝う]          False   \n",
       "26                            [神戸兵庫長田で食事を楽しむおすすめ人気レストラン]          False   \n",
       "27                     [2017クリスマス静岡のゆったり個室があるお店でディナーデート]          False   \n",
       "28                                    [沖縄県の接待会食におすすめのお店]          False   \n",
       "29     [tortini, tortino, stampino, cuore, una, il, d...   it     False   \n",
       "...                                                  ...  ...       ...   \n",
       "11091  [users, 21, badenwürttemberg, totally, vegetar...   en     False   \n",
       "11092  [members, und, für, vegane, zockgemeinschaft, ...   en     False   \n",
       "11093  [easily, little, featuresplus, features, easy,...   en     False   \n",
       "11094               [es, berlin, demo, haben, wir, satt]   en     False   \n",
       "11095          [47, vegetarian, bonn, germany, 8sam1970]   en     False   \n",
       "11096  [members, und, zeit, von, steht, polyamorie, z...   en     False   \n",
       "11097  [iccke, vegan, breisgau, germany, im, freiburg...   en     False   \n",
       "11098  [veganized, totally, pies, drinks, vegan, star...          False   \n",
       "11099  [york, styles, shoes, chang, apples, vegan, sh...          False   \n",
       "11100  [half, potato, teaspoon, southwestern, vegan, ...          False   \n",
       "11101  [rose, activist, danielle, black, cast, star, ...          False   \n",
       "11102  [guide, shredsvegan, style, vegnews, cream, ve...          False   \n",
       "11103  [vegnewstv, channels, best, youtubesign, recom...   en     False   \n",
       "11104  [canada, globally, launches, taste, tour, vega...          False   \n",
       "11105  [ninetyfive, books, vacations, vegnews, moving...          False   \n",
       "11106  [listen, person, place, books, cow, vacations,...          False   \n",
       "11107  [ads, months, x, vegnewscom, 300, discount, we...          False   \n",
       "11108  [seven, san, chain, hungry, planets, rangefree...          False   \n",
       "11109  [vegnewsapproved, totes, great, tees, tasty, v...          False   \n",
       "11110  [experience, team, internships, media, vegnews...          False   \n",
       "11111  [fridge, noticingnational, joints, 15, favorit...          False   \n",
       "11112  [releases, press, releasesnot, regularly, team...          False   \n",
       "11113  [activist, fish, animalrights, honor, 40k, veg...          False   \n",
       "11114  [cheesecake, tablespoons, remove, cool, cream,...          False   \n",
       "11115  [streetsanta, soy, shipment, team, staff, vegn...          False   \n",
       "11116  [workingshot, discoverthe, mags, vegnews, inne...          False   \n",
       "11117  [streetsanta, books, vegnews, vegan, tovegnews...          False   \n",
       "11118  [including, reddiwip, launch, cream, number, v...          False   \n",
       "11119  [tofu, books, vacations, vegnews, nasoya, vega...          False   \n",
       "11120  [video, vegetarianism, streetsanta, team, youv...          False   \n",
       "\n",
       "              publish_date                                               tags  \\\n",
       "0                      NaT                                                 {}   \n",
       "1                      NaT                                                 {}   \n",
       "2                      NaT                                                 {}   \n",
       "3      2010-12-27 00:00:00                                                 {}   \n",
       "4                     None  {PVT ou PTS, Vegana, Farofas, Farinha de Mandi...   \n",
       "5                     None                        {PVT ou PTS, ABC Culinário}   \n",
       "6                     None  {PVT ou PTS, Vegana, Farofas, Farinha de Mandi...   \n",
       "7                     None  {PVT ou PTS, Vegana, Farofas, Farinha de Mandi...   \n",
       "8      2025-09-19 00:00:00                                                 {}   \n",
       "9      2025-09-19 00:00:00                                                 {}   \n",
       "10     2025-09-19 00:00:00                                                 {}   \n",
       "11     2025-09-19 00:00:00                                                 {}   \n",
       "12                    None                                                 {}   \n",
       "13                    None                                                 {}   \n",
       "14                    None                                                 {}   \n",
       "15                    None                                                 {}   \n",
       "16                    None                                                 {}   \n",
       "17                    None                                                 {}   \n",
       "18                    None                                                 {}   \n",
       "19                    None                                                 {}   \n",
       "20     2017-11-11 00:00:00                                                 {}   \n",
       "21     2017-11-11 00:00:00                                                 {}   \n",
       "22                    None                                                 {}   \n",
       "23                    None                                                 {}   \n",
       "24     2027-02-08 00:00:00                                                 {}   \n",
       "25                    None                                                 {}   \n",
       "26     2028-02-29 00:00:00                                                 {}   \n",
       "27                    None                                                 {}   \n",
       "28                    None                                                 {}   \n",
       "29                    None                                                 {}   \n",
       "...                    ...                                                ...   \n",
       "11091                 None                                                 {}   \n",
       "11092                 None                                                 {}   \n",
       "11093                 None                                                 {}   \n",
       "11094                 None                                                 {}   \n",
       "11095                 None                                                 {}   \n",
       "11096                 None                                                 {}   \n",
       "11097                 None                                                 {}   \n",
       "11098                 None                                                 {}   \n",
       "11099                 None                                                 {}   \n",
       "11100                 None                                                 {}   \n",
       "11101                 None                                                 {}   \n",
       "11102                 None                                                 {}   \n",
       "11103                 None                                                 {}   \n",
       "11104                 None                                                 {}   \n",
       "11105                 None                                                 {}   \n",
       "11106                 None                                                 {}   \n",
       "11107                 None                                                 {}   \n",
       "11108                 None                                                 {}   \n",
       "11109                 None                                                 {}   \n",
       "11110                 None                                                 {}   \n",
       "11111                 None                                                 {}   \n",
       "11112                 None                                                 {}   \n",
       "11113                 None                                                 {}   \n",
       "11114                 None                                                 {}   \n",
       "11115                 None                                                 {}   \n",
       "11116                 None                                                 {}   \n",
       "11117                 None                                                 {}   \n",
       "11118                 None                                                 {}   \n",
       "11119                 None                                                 {}   \n",
       "11120                 None                                                 {}   \n",
       "\n",
       "                                                    text  \\\n",
       "0      If you’re in need of the perfect holiday gifts...   \n",
       "1      If you’re in need of the perfect holiday gifts...   \n",
       "2                                                          \n",
       "3      Posted on December 27, 2010 by The VRG Blog Ed...   \n",
       "4                                                          \n",
       "5                                                          \n",
       "6                                                          \n",
       "7                                                          \n",
       "8                                                          \n",
       "9                                                          \n",
       "10                                                         \n",
       "11                                                         \n",
       "12     121\\n\\nThis is a great base recipe, but I did ...   \n",
       "13     101\\n\\nWow, tender meat falls right off the bo...   \n",
       "14     272\\n\\nGood basic recipe that can be adjusted ...   \n",
       "15     DpD am 13.11.17\\n\\n\\n\\nMarko, 37 Jahre\\n\\n\\n\\n...   \n",
       "16     Moin,\\n\\n\\n\\nin der Gruppe ist es ähnlich wie ...   \n",
       "17                                                         \n",
       "18     \\n\\n\\n\\nich möchte mir eine Kuchenmaschine gön...   \n",
       "19     sonokar,\\n\\nwas steht denn genau in der Zutate...   \n",
       "20                                                         \n",
       "21                                                         \n",
       "22                                                         \n",
       "23                                                         \n",
       "24                                                         \n",
       "25                                                         \n",
       "26                                                         \n",
       "27                                                         \n",
       "28                                                         \n",
       "29     Preparazione Come preparare il Tortino di pole...   \n",
       "...                                                  ...   \n",
       "11091  This content is unfortunately only visible to ...   \n",
       "11092  Für alle Zocker*innen unter euch, die hin und ...   \n",
       "11093  Plus Features\\n\\n\"Plus Micro\" has NO additiona...   \n",
       "11094                                                      \n",
       "11095                                                      \n",
       "11096  Polyamorie steht für die Idee, zur gleichen Ze...   \n",
       "11097                                                      \n",
       "11098  Rethink how amazing your traditional pies can ...   \n",
       "11099  Vegan brand VEERAH is revolutionizing the fash...   \n",
       "11100  Sweet potatoes a transformed into easy, south-...   \n",
       "11101  The actress/LGBTQ activist joins fellow cast m...   \n",
       "11102  Need cheese? Our ultimate, up-to-date guides t...   \n",
       "11103  Best of YouTube\\n\\nSign in now to see your cha...   \n",
       "11104  The Taste of Vegan tour features prix fixe men...   \n",
       "11105  Meet Farmed Animals, Be Charmed With breathtak...   \n",
       "11106  Visit Animal Place If you listen to the Cow, h...   \n",
       "11107  The award-winning VegNews.com has become the p...   \n",
       "11108  Indian-inspired chain Curry Up Now serves vega...   \n",
       "11109  Welcome!\\n\\nThanks for visiting the VegNews St...   \n",
       "11110  Paid Internships Want to learn about the world...   \n",
       "11111  8 Ways to Veganize Everything in Your Fridge W...   \n",
       "11112  Press Releases\\n\\nNot only do we report the ne...   \n",
       "11113  An Italian-born animal-rights activist covered...   \n",
       "11114  No need to make a trip to the Big Apple becaus...   \n",
       "11115  New Products\\n\\nThe VegNews staff is constantl...   \n",
       "11116  Go behind the scenes\\n\\nwith VegNews! Discover...   \n",
       "11117  Books\\n\\nHave a vegan book or cookbook to shar...   \n",
       "11118  The classic whipped cream brand is launching a...   \n",
       "11119  Take the Pledge to a Healthier You! Take the p...   \n",
       "11120  Video\\n\\nVegNews TV is a wildly popular featur...   \n",
       "\n",
       "                                                   title  \\\n",
       "0              The Flaming Vegan Staff Pick: Luca Chiara   \n",
       "1              The Flaming Vegan Staff Pick: Luca Chiara   \n",
       "2                               张可盈出道竟不见母亲张凯丽！韩红谭维维众大咖护航   \n",
       "3                     The Vegetarian Resource Group Blog   \n",
       "4      Cantinho Vegetariano: Farofa de Soja Crocante ...   \n",
       "5              Cantinho Vegetariano: O que é PTS ou PVT?   \n",
       "6      Cantinho Vegetariano: Farofa de Soja Crocante ...   \n",
       "7      Cantinho Vegetariano: Farofa de Soja Crocante ...   \n",
       "8      ジェントルマン×サイドパート：L007450079｜クオーラ ヘアサロン(Cuaura HA...   \n",
       "9      ワイルドナチュラルショート：L007450072｜クオーラ ヘアサロン(Cuaura HAI...   \n",
       "10     メンズカジュアル刈り上げ：L007450065｜クオーラ ヘアサロン(Cuaura HAIR...   \n",
       "11     ゆる束パーマ：L007450057｜クオーラ ヘアサロン(Cuaura HAIR SALON...   \n",
       "12          Olive Oil Roasted Eggplant with Lemon Recipe   \n",
       "13        Slow Cooker Adobo Chicken with Bok Choy Recipe   \n",
       "14                            Hungarian Goulash I Recipe   \n",
       "15     DpD vom 13.11. bis 17.11.2017 'Wer ist der Pro...   \n",
       "16     Einpersonenhaushalte oder gibt es die Singleru...   \n",
       "17                   Was gibts am Freitag den 17.11.2017   \n",
       "18               Tipps für dem Kauf einer Küchenmaschine   \n",
       "19      Griechischen Joghurt mit Agar Agar selber machen   \n",
       "20                                             永楽 お店のブログ   \n",
       "21                                          HANDI お店のブログ   \n",
       "22                                            千葉県の少人数で個室   \n",
       "23                                     千葉県の接待・会食におすすめのお店   \n",
       "24                         なんば・道頓堀・日本橋で食事を楽しむおすすめ人気レストラン   \n",
       "25                                    大阪府の誕生日＆記念日をみんなで祝う   \n",
       "26                            神戸・兵庫・長田で食事を楽しむおすすめ人気レストラン   \n",
       "27                  【2017クリスマス】静岡の「ゆったり個室があるお店」でディナー・デート   \n",
       "28                                     沖縄県の接待・会食におすすめのお店   \n",
       "29                 Tortino di polenta con cuore fondente   \n",
       "...                                                  ...   \n",
       "11091  Derdima (21) , Vegetarian, Radolfzell, Baden-W...   \n",
       "11092                            Vegane Zockgemeinschaft   \n",
       "11093                                   Veggie Community   \n",
       "11094                    \"Wir haben es satt\" Demo Berlin   \n",
       "11095  8sam-1970 (47) , Almost Vegetarian, Bonn, Germany   \n",
       "11096                                   Veggie Community   \n",
       "11097  Iccke (38) , Vegan, Freiburg im Breisgau, Germany   \n",
       "11098      10 Totally Veganized Holiday Starbucks Drinks   \n",
       "11099  World's First Vegan Shoe Line Made from Apples...   \n",
       "11100           Southwestern Sweet Potato Boats {Recipe}   \n",
       "11101  Orange is the New Black Star Laverne Cox Goes ...   \n",
       "11102                  The VegNews Guide to Vegan Cheese   \n",
       "11103                                          VegNewsTV   \n",
       "11104           Vegan Restaurant Tour Launches in Canada   \n",
       "11105  VegNews Marketplace :: Vegan Books, Food, Orga...   \n",
       "11106  VegNews Marketplace :: Vegan Books, Food, Orga...   \n",
       "11107                                            Website   \n",
       "11108    SF Chain Adds Vegan Range-Free Chicken to Menus   \n",
       "11109                                  The VegNews Store   \n",
       "11110                                        Internships   \n",
       "11111  15 Vegan Hacks for Your Favorite Fast-Food Joints   \n",
       "11112                                     Press Releases   \n",
       "11113  Activist Tattoos 40K Crosses to Honor Farmed A...   \n",
       "11114           Vegan New York-Style Cheesecake {Recipe}   \n",
       "11115                                       New Products   \n",
       "11116                                            VegNews   \n",
       "11117                                              Books   \n",
       "11118                           Vegan Reddi-Wip to Debut   \n",
       "11119  VegNews Marketplace :: Vegan Books, Food, Orga...   \n",
       "11120                                              Video   \n",
       "\n",
       "                                                     url  \\\n",
       "0      https://www.theflamingvegan.com/view-post/The-...   \n",
       "1      https://www.theflamingvegan.com/view-post/The-...   \n",
       "2            http://www.cntvan.com/2017/1117/102317.html   \n",
       "3      http://www.vrg.org/blog/2010/12/27/updated-veg...   \n",
       "4      http://www.cantinhovegetariano.com.br/2017/11/...   \n",
       "5      http://www.cantinhovegetariano.com.br/2007/06/...   \n",
       "6      http://www.cantinhovegetariano.com.br/2017/11/...   \n",
       "7      http://www.cantinhovegetariano.com.br/2017/11/...   \n",
       "8      https://beauty.hotpepper.jp/slnH000190925/styl...   \n",
       "9      https://beauty.hotpepper.jp/slnH000190925/styl...   \n",
       "10     https://beauty.hotpepper.jp/slnH000190925/styl...   \n",
       "11     https://beauty.hotpepper.jp/slnH000190925/styl...   \n",
       "12     http://www.allrecipes.com/recipe/156162/olive-...   \n",
       "13     http://www.allrecipes.com/recipe/223588/slow-c...   \n",
       "14     http://www.allrecipes.com/recipe/19954/hungari...   \n",
       "15     http://www.chefkoch.de/forum/2,72,737656/DpD-v...   \n",
       "16     http://www.chefkoch.de/forum/2,6,737713/Einper...   \n",
       "17     http://www.chefkoch.de/forum/2,1,737840/Was-gi...   \n",
       "18     http://www.chefkoch.de/forum/2,8,737835/Tipps-...   \n",
       "19     http://www.chefkoch.de/forum/2,83,737802/Griec...   \n",
       "20     http://b990000.blog.gnavi.co.jp/blog/2017/11/1...   \n",
       "21     http://gctj100.blog.gnavi.co.jp/blog/2017/11/1...   \n",
       "22     https://r.gnavi.co.jp/sp/search/theme/z-PREF12...   \n",
       "23     https://r.gnavi.co.jp/sp/search/theme/z-PREF12...   \n",
       "24     https://r.gnavi.co.jp/sp/search/theme/z-PREF27...   \n",
       "25     https://r.gnavi.co.jp/sp/search/theme/z-PREF27...   \n",
       "26     https://r.gnavi.co.jp/sp/search/theme/z-PREF28...   \n",
       "27     https://r.gnavi.co.jp/sp/search/xmas/z-PREF22/...   \n",
       "28     https://r.gnavi.co.jp/sp/search/theme/z-PREF47...   \n",
       "29     http://ricette.giallozafferano.it/Tortino-di-p...   \n",
       "...                                                  ...   \n",
       "11091  http://www.veggiecommunity.org/en/user/view/62...   \n",
       "11092  http://www.veggiecommunity.org/en/groups/info/...   \n",
       "11093            http://www.veggiecommunity.org/en/plus/   \n",
       "11094  http://www.veggiecommunity.org/en/events/view/...   \n",
       "11095  http://www.veggiecommunity.org/en/user/view/62...   \n",
       "11096  http://www.veggiecommunity.org/en/groups/info/...   \n",
       "11097  http://www.veggiecommunity.org/en/user/view/62...   \n",
       "11098            http://www.vegnews.com/articles/food.do   \n",
       "11099  http://www.vegnews.com/articles/page.do?pageId...   \n",
       "11100  http://vegnews.com/articles/page.do?pageId=101...   \n",
       "11101  http://vegnews.com/articles/page.do?pageId=102...   \n",
       "11102  http://vegnews.com/articles/page.do?pageId=436...   \n",
       "11103              http://www.youtube.com/user/VegNewsTV   \n",
       "11104  http://www.vegnews.com/articles/page.do?pageId...   \n",
       "11105  http://www.vegnews.com/veg/gift_guides.do?gift...   \n",
       "11106  http://www.vegnews.com/veg/gift_guides.do?gift...   \n",
       "11107        http://www.vegnews.com/advertise/website.do   \n",
       "11108  http://www.vegnews.com/articles/page.do?pageId...   \n",
       "11109                      http://vegnews.myshopify.com/   \n",
       "11110         http://www.vegnews.com/jobs/internships.do   \n",
       "11111            http://www.vegnews.com/articles/buzz.do   \n",
       "11112      http://www.vegnews.com/press/pressReleases.do   \n",
       "11113  http://www.vegnews.com/articles/page.do?pageId...   \n",
       "11114  http://www.vegnews.com/articles/page.do?pageId...   \n",
       "11115  http://www.vegnews.com/submissions/newProducts.do   \n",
       "11116                         http://vegnews.tumblr.com/   \n",
       "11117        http://www.vegnews.com/submissions/books.do   \n",
       "11118  http://www.vegnews.com/articles/page.do?pageId...   \n",
       "11119  http://www.vegnews.com/veg/gift_guides.do?gift...   \n",
       "11120        http://www.vegnews.com/submissions/video.do   \n",
       "\n",
       "                                               meta_data  \\\n",
       "0      {'copyright': 'Copyright 2010-2013 GoodBlogs, ...   \n",
       "1      {'copyright': 'Copyright 2010-2013 GoodBlogs, ...   \n",
       "2      {'keywords': '张可盈,张凯丽,韩红,谭维维', 'description': ...   \n",
       "3                       {'generator': 'WordPress 4.6.8'}   \n",
       "4      {'viewport': 'width=1100', 'generator': 'blogg...   \n",
       "5      {'viewport': 'width=1100', 'generator': 'blogg...   \n",
       "6      {'viewport': 'width=1100', 'generator': 'blogg...   \n",
       "7      {'viewport': 'width=1100', 'generator': 'blogg...   \n",
       "8      {'copyright': 'Copyright © Recruit Lifestyle C...   \n",
       "9      {'copyright': 'Copyright © Recruit Lifestyle C...   \n",
       "10     {'copyright': 'Copyright © Recruit Lifestyle C...   \n",
       "11     {'copyright': 'Copyright © Recruit Lifestyle C...   \n",
       "12     {'og': {'title': 'Olive Oil Roasted Eggplant w...   \n",
       "13     {'og': {'title': 'Slow Cooker Adobo Chicken wi...   \n",
       "14     {'og': {'title': 'Hungarian Goulash I Recipe',...   \n",
       "15     {'viewport': 'width=device-width', 'descriptio...   \n",
       "16     {'viewport': 'width=device-width', 'descriptio...   \n",
       "17     {'viewport': 'width=device-width', 'descriptio...   \n",
       "18     {'viewport': 'width=device-width', 'descriptio...   \n",
       "19     {'viewport': 'width=device-width', 'descriptio...   \n",
       "20     {'description': '*', 'keywords': '*', 'og': {'...   \n",
       "21     {'description': '*', 'keywords': '*', 'og': {'...   \n",
       "22     {'referrer': 'unsafe-url', 'description': '千葉県...   \n",
       "23     {'referrer': 'unsafe-url', 'description': '千葉県...   \n",
       "24     {'referrer': 'unsafe-url', 'description': '大阪府...   \n",
       "25     {'referrer': 'unsafe-url', 'description': '大阪府...   \n",
       "26     {'referrer': 'unsafe-url', 'description': '兵庫県...   \n",
       "27     {'referrer': 'unsafe-url', 'author': 'copyrigh...   \n",
       "28     {'referrer': 'unsafe-url', 'description': '沖縄県...   \n",
       "29     {'language': 'it', 'title': 'Ricetta Tortino d...   \n",
       "...                                                  ...   \n",
       "11091  {'Language': 'en', 'Description': 'Veggie Comm...   \n",
       "11092  {'Language': 'en', 'Description': 'Für alle Zo...   \n",
       "11093  {'Language': 'en', 'Description': 'Veggie Comm...   \n",
       "11094  {'Language': 'en', 'Description': 'Die größte ...   \n",
       "11095  {'Language': 'en', 'Description': 'Veggie Comm...   \n",
       "11096  {'Language': 'en', 'Description': 'Polyamorie ...   \n",
       "11097  {'Language': 'en', 'Description': 'Veggie Comm...   \n",
       "11098  {'viewport': 'width=device-width, initial-scal...   \n",
       "11099  {'viewport': 'width=device-width, initial-scal...   \n",
       "11100  {'viewport': 'width=device-width, initial-scal...   \n",
       "11101  {'viewport': 'width=device-width, initial-scal...   \n",
       "11102  {'viewport': 'width=device-width, initial-scal...   \n",
       "11103  {'title': 'VegNewsTV', 'keywords': 'vegan vege...   \n",
       "11104  {'viewport': 'width=device-width, initial-scal...   \n",
       "11105  {'viewport': 'width=device-width, initial-scal...   \n",
       "11106  {'viewport': 'width=device-width, initial-scal...   \n",
       "11107  {'viewport': 'width=device-width, initial-scal...   \n",
       "11108  {'viewport': 'width=device-width, initial-scal...   \n",
       "11109  {'shopify-checkout-api-token': 'e4fa49e96e398e...   \n",
       "11110  {'viewport': 'width=device-width, initial-scal...   \n",
       "11111  {'viewport': 'width=device-width, initial-scal...   \n",
       "11112  {'viewport': 'width=device-width, initial-scal...   \n",
       "11113  {'viewport': 'width=device-width, initial-scal...   \n",
       "11114  {'viewport': 'width=device-width, initial-scal...   \n",
       "11115  {'viewport': 'width=device-width, initial-scal...   \n",
       "11116  {'viewport': 'width=1000, initial-scale=1', 'd...   \n",
       "11117  {'viewport': 'width=device-width, initial-scal...   \n",
       "11118  {'viewport': 'width=device-width, initial-scal...   \n",
       "11119  {'viewport': 'width=device-width, initial-scal...   \n",
       "11120  {'viewport': 'width=device-width, initial-scal...   \n",
       "\n",
       "                                                    html  \\\n",
       "0      <!DOCTYPE HTML>\\n<html>\\n<head prefix=\"og: htt...   \n",
       "1      <!DOCTYPE HTML>\\n<html>\\n<head prefix=\"og: htt...   \n",
       "2      <!DOCTYPE html PUBLIC \"-//W3C//DTD XHTML 1.0 T...   \n",
       "3      <!DOCTYPE html PUBLIC \"-//W3C//DTD XHTML 1.0 T...   \n",
       "4      <!DOCTYPE html>\\n<html class='v2' dir='ltr' xm...   \n",
       "5      <!DOCTYPE html>\\n<html class='v2' dir='ltr' xm...   \n",
       "6      <!DOCTYPE html>\\n<html class='v2' dir='ltr' xm...   \n",
       "7      <!DOCTYPE html>\\n<html class='v2' dir='ltr' xm...   \n",
       "8      <!DOCTYPE html PUBLIC \"-//W3C//DTD XHTML 1.0 T...   \n",
       "9      <!DOCTYPE html PUBLIC \"-//W3C//DTD XHTML 1.0 T...   \n",
       "10     <!DOCTYPE html PUBLIC \"-//W3C//DTD XHTML 1.0 T...   \n",
       "11     <!DOCTYPE html PUBLIC \"-//W3C//DTD XHTML 1.0 T...   \n",
       "12     \\r\\n\\r\\n<!DOCTYPE html>\\r\\n<html>\\r\\n<head>\\r\\...   \n",
       "13     \\r\\n\\r\\n<!DOCTYPE html>\\r\\n<html>\\r\\n<head>\\r\\...   \n",
       "14     \\r\\n\\r\\n<!DOCTYPE html>\\r\\n<html>\\r\\n<head>\\r\\...   \n",
       "15     <!doctype html>\\n<!--[if lte IE 8]> <html lang...   \n",
       "16     <!doctype html>\\n<!--[if lte IE 8]> <html lang...   \n",
       "17     <!doctype html>\\n<!--[if lte IE 8]> <html lang...   \n",
       "18     <!doctype html>\\n<!--[if lte IE 8]> <html lang...   \n",
       "19     <!doctype html>\\n<!--[if lte IE 8]> <html lang...   \n",
       "20     <!DOCTYPE html>\\n<html lang=\"ja\">\\n<head>\\n<me...   \n",
       "21     <!DOCTYPE html>\\n<html lang=\"ja\">\\n<head>\\n<me...   \n",
       "22     \\t<!DOCTYPE html PUBLIC \"-//W3C//DTD XHTML 1.0...   \n",
       "23     \\t<!DOCTYPE html PUBLIC \"-//W3C//DTD XHTML 1.0...   \n",
       "24     \\t<!DOCTYPE html PUBLIC \"-//W3C//DTD XHTML 1.0...   \n",
       "25     \\t<!DOCTYPE html PUBLIC \"-//W3C//DTD XHTML 1.0...   \n",
       "26     \\t<!DOCTYPE html PUBLIC \"-//W3C//DTD XHTML 1.0...   \n",
       "27     \\n<!DOCTYPE html>\\n<html lang=\"ja\">\\n  <head>\\...   \n",
       "28     \\t<!DOCTYPE html PUBLIC \"-//W3C//DTD XHTML 1.0...   \n",
       "29     <!DOCTYPE html>\\n<html lang=\"it\">\\n<head>\\n  <...   \n",
       "...                                                  ...   \n",
       "11091  <!DOCTYPE html>\\n<html lang=\"en\">\\n<head>\\n<ti...   \n",
       "11092  <!DOCTYPE html>\\n<html lang=\"en\">\\n<head>\\n<ti...   \n",
       "11093  <!DOCTYPE html>\\n<html lang=\"en\">\\n<head>\\n<ti...   \n",
       "11094  <!DOCTYPE html>\\n<html lang=\"en\">\\n<head>\\n<ti...   \n",
       "11095  <!DOCTYPE html>\\n<html lang=\"en\">\\n<head>\\n<ti...   \n",
       "11096  <!DOCTYPE html>\\n<html lang=\"en\">\\n<head>\\n<ti...   \n",
       "11097  <!DOCTYPE html>\\n<html lang=\"en\">\\n<head>\\n<ti...   \n",
       "11098  <!DOCTYPE HTML PUBLIC \"-//W3C//DTD HTML 4.01 T...   \n",
       "11099  <!DOCTYPE HTML PUBLIC \"-//W3C//DTD HTML 4.01 T...   \n",
       "11100  <!DOCTYPE HTML PUBLIC \"-//W3C//DTD HTML 4.01 T...   \n",
       "11101  <!DOCTYPE HTML PUBLIC \"-//W3C//DTD HTML 4.01 T...   \n",
       "11102  <!DOCTYPE HTML PUBLIC \"-//W3C//DTD HTML 4.01 T...   \n",
       "11103  \\n    <!DOCTYPE html><html lang=\"en\" data-cast...   \n",
       "11104  <!DOCTYPE HTML PUBLIC \"-//W3C//DTD HTML 4.01 T...   \n",
       "11105  <!DOCTYPE HTML PUBLIC \"-//W3C//DTD HTML 4.01 T...   \n",
       "11106  <!DOCTYPE HTML PUBLIC \"-//W3C//DTD HTML 4.01 T...   \n",
       "11107  <!DOCTYPE HTML PUBLIC \"-//W3C//DTD HTML 4.01 T...   \n",
       "11108  <!DOCTYPE HTML PUBLIC \"-//W3C//DTD HTML 4.01 T...   \n",
       "11109  <!DOCTYPE html PUBLIC \"-//W3C//DTD XHTML 1.0 T...   \n",
       "11110  <!DOCTYPE HTML PUBLIC \"-//W3C//DTD HTML 4.01 T...   \n",
       "11111  <!DOCTYPE HTML PUBLIC \"-//W3C//DTD HTML 4.01 T...   \n",
       "11112  <!DOCTYPE HTML PUBLIC \"-//W3C//DTD HTML 4.01 T...   \n",
       "11113  <!DOCTYPE HTML PUBLIC \"-//W3C//DTD HTML 4.01 T...   \n",
       "11114  <!DOCTYPE HTML PUBLIC \"-//W3C//DTD HTML 4.01 T...   \n",
       "11115  <!DOCTYPE HTML PUBLIC \"-//W3C//DTD HTML 4.01 T...   \n",
       "11116  <!DOCTYPE html><script>var __pbpa = true;</scr...   \n",
       "11117  <!DOCTYPE HTML PUBLIC \"-//W3C//DTD HTML 4.01 T...   \n",
       "11118  <!DOCTYPE HTML PUBLIC \"-//W3C//DTD HTML 4.01 T...   \n",
       "11119  <!DOCTYPE HTML PUBLIC \"-//W3C//DTD HTML 4.01 T...   \n",
       "11120  <!DOCTYPE HTML PUBLIC \"-//W3C//DTD HTML 4.01 T...   \n",
       "\n",
       "                                     base_url  \n",
       "0            https://www.theflamingvegan.com/  \n",
       "1            https://www.theflamingvegan.com/  \n",
       "2                      http://www.cntvan.com/  \n",
       "3                         http://www.vrg.org/  \n",
       "4      http://www.cantinhovegetariano.com.br/  \n",
       "5      http://www.cantinhovegetariano.com.br/  \n",
       "6      http://www.cantinhovegetariano.com.br/  \n",
       "7      http://www.cantinhovegetariano.com.br/  \n",
       "8                https://beauty.hotpepper.jp/  \n",
       "9                https://beauty.hotpepper.jp/  \n",
       "10               https://beauty.hotpepper.jp/  \n",
       "11               https://beauty.hotpepper.jp/  \n",
       "12                 http://www.allrecipes.com/  \n",
       "13                 http://www.allrecipes.com/  \n",
       "14                 http://www.allrecipes.com/  \n",
       "15                    http://www.chefkoch.de/  \n",
       "16                    http://www.chefkoch.de/  \n",
       "17                    http://www.chefkoch.de/  \n",
       "18                    http://www.chefkoch.de/  \n",
       "19                    http://www.chefkoch.de/  \n",
       "20           http://b990000.blog.gnavi.co.jp/  \n",
       "21           http://gctj100.blog.gnavi.co.jp/  \n",
       "22                     https://r.gnavi.co.jp/  \n",
       "23                     https://r.gnavi.co.jp/  \n",
       "24                     https://r.gnavi.co.jp/  \n",
       "25                     https://r.gnavi.co.jp/  \n",
       "26                     https://r.gnavi.co.jp/  \n",
       "27                     https://r.gnavi.co.jp/  \n",
       "28                     https://r.gnavi.co.jp/  \n",
       "29         http://ricette.giallozafferano.it/  \n",
       "...                                       ...  \n",
       "11091         http://www.veggiecommunity.org/  \n",
       "11092         http://www.veggiecommunity.org/  \n",
       "11093         http://www.veggiecommunity.org/  \n",
       "11094         http://www.veggiecommunity.org/  \n",
       "11095         http://www.veggiecommunity.org/  \n",
       "11096         http://www.veggiecommunity.org/  \n",
       "11097         http://www.veggiecommunity.org/  \n",
       "11098                 http://www.vegnews.com/  \n",
       "11099                 http://www.vegnews.com/  \n",
       "11100                     http://vegnews.com/  \n",
       "11101                     http://vegnews.com/  \n",
       "11102                     http://vegnews.com/  \n",
       "11103                 http://www.youtube.com/  \n",
       "11104                 http://www.vegnews.com/  \n",
       "11105                 http://www.vegnews.com/  \n",
       "11106                 http://www.vegnews.com/  \n",
       "11107                 http://www.vegnews.com/  \n",
       "11108                 http://www.vegnews.com/  \n",
       "11109           http://vegnews.myshopify.com/  \n",
       "11110                 http://www.vegnews.com/  \n",
       "11111                 http://www.vegnews.com/  \n",
       "11112                 http://www.vegnews.com/  \n",
       "11113                 http://www.vegnews.com/  \n",
       "11114                 http://www.vegnews.com/  \n",
       "11115                 http://www.vegnews.com/  \n",
       "11116              http://vegnews.tumblr.com/  \n",
       "11117                 http://www.vegnews.com/  \n",
       "11118                 http://www.vegnews.com/  \n",
       "11119                 http://www.vegnews.com/  \n",
       "11120                 http://www.vegnews.com/  \n",
       "\n",
       "[11121 rows x 15 columns]"
      ]
     },
     "execution_count": 12,
     "metadata": {},
     "output_type": "execute_result"
    }
   ],
   "source": [
    "X"
   ]
  },
  {
   "cell_type": "code",
   "execution_count": 13,
   "metadata": {
    "collapsed": true
   },
   "outputs": [],
   "source": [
    "# load csv articles obtained with this list of websites\n",
    "X.to_csv(\n",
    "    '../Datasets/articles_from_Article_with_html.csv',\n",
    "    sep='\\t',\n",
    "    encoding='utf-8')"
   ]
  },
  {
   "cell_type": "markdown",
   "metadata": {},
   "source": [
    "## "
   ]
  },
  {
   "cell_type": "code",
   "execution_count": 56,
   "metadata": {
    "collapsed": true
   },
   "outputs": [],
   "source": [
    "k = pd.DataFrame.from_dict(\n",
    "    X[X.lang == 'en'].meta_data.values[500], orient='index').loc['og'].values"
   ]
  },
  {
   "cell_type": "code",
   "execution_count": 61,
   "metadata": {
    "scrolled": true
   },
   "outputs": [
    {
     "data": {
      "text/html": [
       "<div>\n",
       "<style>\n",
       "    .dataframe thead tr:only-child th {\n",
       "        text-align: right;\n",
       "    }\n",
       "\n",
       "    .dataframe thead th {\n",
       "        text-align: left;\n",
       "    }\n",
       "\n",
       "    .dataframe tbody tr th {\n",
       "        vertical-align: top;\n",
       "    }\n",
       "</style>\n",
       "<table border=\"1\" class=\"dataframe\">\n",
       "  <thead>\n",
       "    <tr style=\"text-align: right;\">\n",
       "      <th></th>\n",
       "      <th>description</th>\n",
       "      <th>image</th>\n",
       "      <th>locale</th>\n",
       "      <th>site_name</th>\n",
       "      <th>title</th>\n",
       "      <th>type</th>\n",
       "      <th>updated_time</th>\n",
       "      <th>url</th>\n",
       "    </tr>\n",
       "  </thead>\n",
       "  <tbody>\n",
       "    <tr>\n",
       "      <th>0</th>\n",
       "      <td>Naidu also urged the media to stay away from p...</td>\n",
       "      <td>{'identifier': 'http://images.indianexpress.co...</td>\n",
       "      <td>en_US</td>\n",
       "      <td>The Indian Express</td>\n",
       "      <td>On National Press Day, V-P Venkaiah Naidu warn...</td>\n",
       "      <td>article</td>\n",
       "      <td>November 17, 2017 4:27 am</td>\n",
       "      <td>http://indianexpress.com/article/india/on-nati...</td>\n",
       "    </tr>\n",
       "  </tbody>\n",
       "</table>\n",
       "</div>"
      ],
      "text/plain": [
       "                                         description  \\\n",
       "0  Naidu also urged the media to stay away from p...   \n",
       "\n",
       "                                               image locale  \\\n",
       "0  {'identifier': 'http://images.indianexpress.co...  en_US   \n",
       "\n",
       "            site_name                                              title  \\\n",
       "0  The Indian Express  On National Press Day, V-P Venkaiah Naidu warn...   \n",
       "\n",
       "      type               updated_time  \\\n",
       "0  article  November 17, 2017 4:27 am   \n",
       "\n",
       "                                                 url  \n",
       "0  http://indianexpress.com/article/india/on-nati...  "
      ]
     },
     "execution_count": 61,
     "metadata": {},
     "output_type": "execute_result"
    }
   ],
   "source": [
    "pd.DataFrame.from_records(k)"
   ]
  },
  {
   "cell_type": "code",
   "execution_count": 70,
   "metadata": {
    "scrolled": true
   },
   "outputs": [
    {
     "name": "stdout",
     "output_type": "stream",
     "text": [
      "article\n",
      "article\n"
     ]
    },
    {
     "ename": "KeyError",
     "evalue": "'type'",
     "output_type": "error",
     "traceback": [
      "\u001b[1;31m---------------------------------------------------------------------------\u001b[0m",
      "\u001b[1;31mKeyError\u001b[0m                                  Traceback (most recent call last)",
      "\u001b[1;32m<ipython-input-70-9670208df7c3>\u001b[0m in \u001b[0;36m<module>\u001b[1;34m()\u001b[0m\n\u001b[0;32m      1\u001b[0m \u001b[1;32mfor\u001b[0m \u001b[0mx\u001b[0m \u001b[1;32min\u001b[0m \u001b[0mX\u001b[0m\u001b[1;33m.\u001b[0m\u001b[0mmeta_data\u001b[0m\u001b[1;33m.\u001b[0m\u001b[0mvalues\u001b[0m\u001b[1;33m:\u001b[0m\u001b[1;33m\u001b[0m\u001b[0m\n\u001b[1;32m----> 2\u001b[1;33m     \u001b[0mprint\u001b[0m\u001b[1;33m(\u001b[0m\u001b[0mx\u001b[0m\u001b[1;33m[\u001b[0m\u001b[1;34m'og'\u001b[0m\u001b[1;33m]\u001b[0m\u001b[1;33m[\u001b[0m\u001b[1;34m'type'\u001b[0m\u001b[1;33m]\u001b[0m\u001b[1;33m)\u001b[0m\u001b[1;33m\u001b[0m\u001b[0m\n\u001b[0m",
      "\u001b[1;31mKeyError\u001b[0m: 'type'"
     ]
    }
   ],
   "source": [
    "for x in X.meta_data.values:\n",
    "    print(x['og']['type'])"
   ]
  }
 ],
 "metadata": {
  "kernelspec": {
   "display_name": "Python 3",
   "language": "python",
   "name": "python3"
  },
  "language_info": {
   "codemirror_mode": {
    "name": "ipython",
    "version": 3
   },
   "file_extension": ".py",
   "mimetype": "text/x-python",
   "name": "python",
   "nbconvert_exporter": "python",
   "pygments_lexer": "ipython3",
   "version": "3.6.3"
  },
  "toc": {
   "nav_menu": {},
   "number_sections": true,
   "sideBar": true,
   "skip_h1_title": false,
   "toc_cell": false,
   "toc_position": {},
   "toc_section_display": "block",
   "toc_window_display": false
  }
 },
 "nbformat": 4,
 "nbformat_minor": 2
}
