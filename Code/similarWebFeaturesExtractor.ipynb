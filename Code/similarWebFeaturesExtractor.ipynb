{
 "cells": [
  {
   "cell_type": "code",
   "execution_count": 2,
   "metadata": {
    "collapsed": true
   },
   "outputs": [],
   "source": [
    "import requests\n",
    "import sys\n",
    "\n",
    "API_KEY = '5d615aa285c2ee06ebaf7dca0f7a427f'"
   ]
  },
  {
   "cell_type": "code",
   "execution_count": 9,
   "metadata": {},
   "outputs": [],
   "source": [
    "url = 'https://www.similarweb.com/top-websites/'\n",
    "\n",
    "result = requests.get(url)"
   ]
  },
  {
   "cell_type": "code",
   "execution_count": 17,
   "metadata": {},
   "outputs": [
    {
     "name": "stdout",
     "output_type": "stream",
     "text": [
      "\n"
     ]
    }
   ],
   "source": [
    "t = 'https://www.similarweb.com/smlrdstl.js?PID=CDED4FAE-CFAC-30BA-A3F2-894F75FE1397'\n",
    "\n",
    "r = requests.post(t)\n",
    "print(r.text)\n"
   ]
  },
  {
   "cell_type": "code",
   "execution_count": 16,
   "metadata": {},
   "outputs": [
    {
     "name": "stdout",
     "output_type": "stream",
     "text": [
      "<Response [405]>\n",
      "no soup\n"
     ]
    },
    {
     "data": {
      "text/plain": [
       "[]"
      ]
     },
     "execution_count": 16,
     "metadata": {},
     "output_type": "execute_result"
    }
   ],
   "source": [
    "def test(category):\n",
    "    target_url = url + category\n",
    "    headers = {'User-Agent': 'Mozilla/5.0 (Macintosh; Intel Mac OS X 10_10_1) AppleWebKit/537.36 (KHTML, like Gecko) Chrome/39.0.2171.95 Safari/537.36'}\n",
    "    result = requests.get(target_url,headers)\n",
    "    print(result)\n",
    "    \n",
    "    if(result.status_code == 200):\n",
    "        c = result.content\n",
    "        soup = BeautifulSoup(c,\"html.parser\")\n",
    "    else:\n",
    "        print(\"no soup\")\n",
    "        return [] \n",
    "    \n",
    "    container = soup.find('table', {'class' : 'topWebsiteGrid-table'})\n",
    "    \n",
    "    print(container)\n",
    "    \n",
    "            \n",
    "    site_table = container.findAll(\"li\", {\"class\": \"result\"})\n",
    "    \n",
    "    for s in site_table[:]:\n",
    "        link = s.find('i', {'class': 'site-sprite linkout'})\n",
    "        if link :\n",
    "            similar_domains.append(link['data-site'])\n",
    "    \n",
    "    \n",
    "cat = 'category/news-and-media/business-news'\n",
    "test(cat)"
   ]
  }
 ],
 "metadata": {
  "kernelspec": {
   "display_name": "Python 3",
   "language": "python",
   "name": "python3"
  },
  "language_info": {
   "codemirror_mode": {
    "name": "ipython",
    "version": 3
   },
   "file_extension": ".py",
   "mimetype": "text/x-python",
   "name": "python",
   "nbconvert_exporter": "python",
   "pygments_lexer": "ipython3",
   "version": "3.6.2"
  }
 },
 "nbformat": 4,
 "nbformat_minor": 2
}
