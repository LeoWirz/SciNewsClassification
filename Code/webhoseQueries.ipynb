{
 "cells": [
  {
   "cell_type": "code",
   "execution_count": 3,
   "metadata": {},
   "outputs": [
    {
     "name": "stdout",
     "output_type": "stream",
     "text": [
      "U nder his leadership, HCCC has been transformed into a vibrant, highly regarded higher education institution that provides expanded opportunities for thousands of Hudson County residents and businesses. Dr. Glen Gabert The Hudson County Community College (HCCC) Board of Trustees announced that September marks the twenty-fifth anniversary of Dr. Glen Gabert’s term as the College’s President. Dr. Gabert is the longest-serving President in the College’s history, and the longest serving current community college president in New Jersey. HCCC Board Chair William J. Netchert, Esq. said: “Glen Gabert transformed Hudson County Community College from a deeply distressed entity to an institution of first choice for local residents seeking a higher education. Our Board is proud of what we have achieved in working with Dr. Gabert; for the people of Hudson County – and most especially our students – it has been life-changing.” Mr. Netchert said that at the time Dr. Gabert was installed in 1992, he was the fifth president or acting president to serve Hudson County Community College in three years. The College had experienced interventions by the New Jersey Secretary of Higher Education and Middle States. The Board of Trustees had been asked to resign. There were discussions about dividing HCCC between two nearby county colleges … or closing it altogether. There was little confidence for HCCC within the institution and the community, and that manifested itself with a total enrollment of just 3,076 students. Under Dr. Gabert’s leadership, Hudson County Community College has become an award-winning institution that is student- and community-centered, and focused on fostering understanding and attaining success. With nearly 13,000 students (2016 unduplicated headcount), HCCC is now the largest of the four higher-education institutions in Hudson County. Further, the 2017 Equality of Opportunity Project ranked HCCC in the top 120 of 2,200 U.S. higher education institutions for social mobility – the only community college in New Jersey’s top ten. In 1992, HCCC owned one facility ­– a classroom/office building with about 11,000 square feet of space. During Dr. Gabert’s presidency, Hudson County Community College has raised more than $300 million for capital projects, most of which helped contribute to the development of the Journal Square area. HCCC now has two fully accredited campuses: Journal Square (Jersey City) Campus, with 12 HCCC-owned buildings (the 13 th – the $30 million, 70,070 sq. ft. HCCC STEM Building – will be dedicated this September); and the 117,000-sq. ft., seven-story, stand-alone North Hudson Campus (Union City) building. (A third campus is scheduled to open in Secaucus in 2018; and a new eight-story tower with student center and gym on the Journal Square campus will open in 2020.) All the College’s buildings are state-of-the-art and energy efficient. All of the expansion was done without incurring any debt, and not one dollar of tuition or fees goes to pay debt service. In 1992, HCCC was largely focused on developmental education programs. Fall 2017 course offerings include more than 60 degree and certificate programs – signature Culinary Arts/Hospitality Management, STEM, Nursing, Health Sciences courses, as well as ESL studies plus Business, Criminal Justice, Hospitality Management, Homeland Security, and Studio Arts/Computer Arts programs, plus new Computer Science A.S. with Cybersecurity Option, Construction Management A.A.S., and Supply Chain Management and Personal Fitness Training certificates. The HCCC Culinary Arts program is ranked number six in the U.S. by Best Choice Schools, and, with 93.75% of graduates passing the NCLEX first time out, the HCCC Nursing program is ranked number four among all New Jersey associate-degree, Registered Nursing programs. The acclaimed HCCC student success programs shepherd students from enrollment through commencement. Graduates go on to attend: Saint Peter’s, New Jersey City, Caldwell, Drew, Fairleigh Dickinson, Rutgers and William Paterson Universities, and New Jersey and Stevens Institutes of Technology; Baruch and Smith Colleges; Carnegie Mellon, Columbia, Cornell, Johnson & Wales, New York, Penn State, Purdue, Stanford, and Texas A&M Universities; Rensselaer Polytechnic Institute; and UCLA and USC. HCCC has robust financial assistance and scholarship programs; less than 20% of students pay full tuition. The HCCC Foundation, instituted in 1997, has awarded more than $3 million in scholarships. The Foundation also supports and/or funds: a transitional skills program for new students; seed money for innovative programs; stipends for faculty development; free special events for the community (including the HCCC Lecture Series, LGBTQIA Pride Conference, art exhibits, community and family events); and capital for the College’s physical expansion. In 2006, the HCCC Foundation Art Collection was created. Each dollar contributed to the Collection is matched by the HCCC Foundation and the College itself. The Collection now includes over 1,000 works of art (paintings, sculpture, photographs, craft pottery and ephemera) by noted New Jersey and U.S. artists which are displayed in public spaces and offices of all HCCC buildings. In March 2015, Dr. Gabert formed a Cultural Affairs Task Force, and that September launched the HCCC Department of Cultural Affairs, which began year-round organizing and providing the community with art exhibits and a performing arts series free of charge, plus trips to sports and theater events at greatly reduced costs. In September 2015, HCCC opened the Gallery named in honor of Benjamin J. Dineen, III and Dennis C. Hull, who donated 400 works by contemporary New Jersey artists, and by other artists who have achieved national and international renown. Hudson County Community College has been recognized on the national and regional basis during Dr. Gabert’s term of office. Among the more recent awards: the Association of College and Research Libraries’ 2016 Excellence in Academic Libraries Award was presented to the HCCC Library, the first in New Jersey to ever receive the honor; 2012 Northeast Regional Charles Kennedy Equity and 2012 Northeast Regional Professional Board Staff Member Awards from Association of Community College Trustees; being named as one of five U.S. finalists for 2013 Awards of Excellence for Student Success, and one of four U.S. finalists for 2015 Awards of Excellence for Advancing Diversity from the American Association of Community Colleges; winner of the 2014 National Tutoring Association Excellence in Tutoring Award; winner of New Jersey Business & Industry Association’s New Good Neighbor Awards in 2009 for the HCCC Culinary Conference Center, in 2012 for the North Hudson Higher Education Center, and in 2015 for the Library Building; the Hudson County Planning Board 2010 Smart Growth Gold Award; 2015 Green Emerald Award for Urban Green Project for the Library Building; and HCCC was named one of the nation’s leading urban institutions by MetLife. Workforce development programs and cooperative alliances with private and governmental organizations also prepare area residents for employment. The College’s Center for Business & Industry is the area leader in developing and delivering educational classes and programs for businesses, organizations and individuals. A native of Chicago, Dr. Gabert was awarded his Ph.D. from Loyola University, where he was a member of the faculty and a Schmitt Fellow. He holds a post-doctoral M.B.A. from the Graduate School of Management at Rockhurst University (Kansas City, Mo.), a master’s degree from Notre Dame University (where he was a Hearst Fellow), and a bachelor’s degree from Benedictine University. He is a member of Alpha Sigma Nu, and a recipient of the Phi Delta Kappa Honor Society Service Key. Dr. Gabert began his community college career at Moraine Valley Community College in the metropolitan Chicago area, and went on to serve as Dean at Johnson County Community College in suburban Kansas City, Kan. Active in several professional and community organizations, Dr. Gabert is a past Vice Chair and present member of the Hudson County Chamber of Commerce Board of Directors. He is also: a member of the New Jersey Council of County Colleges (NJCCC) Facilities Committee and past chair of the NJCCC Presidents; a past member of the Board of Directors of the international Hispanic Association of Colleges and Universities; a member of the Executive Committee of the Presidents Academy of the American Association of Community Colleges (AACC); and a past member of the AACC Commission on Diversity. Dr. Gabert was the 2007 Meadowlands Chamber of Commerce Educator of the Year, a 2012 recipient of the Hudson County Chamber of Commerce Legends Award, a 2013 Hudson County Boys and Girls Club Distinguished Awardee, and the Dante Alighieri Society 2014 Man of the Year. This spring, he was Grand Marshal of the Jersey City 2017 St. Patrick’s Day Parade. “The accomplishments realized during Glen Gabert’s presidency are a great source of pride to all of us who work with him,” Mr. Netchert stated. “However, I know Glen considers our students’ success his greatest achievement and his true legacy.”\n",
      "2017-09-16T13:45:00.000+03:00\n"
     ]
    }
   ],
   "source": [
    "import webhoseio\n",
    "\n",
    "webhoseio.config(token=\"1eee5ef1-4d51-497e-9e88-ed86353bcda9\")\n",
    "query_params = {\n",
    "\"q\": \"computer science\",\n",
    "\"ts\": \"1505591625334\",\n",
    "\"sort\": \"crawled\"\n",
    "}\n",
    "output = webhoseio.query(\"filterWebContent\", query_params)\n",
    "print(output['posts'][0]['text']) # Print the text of the first post\n",
    "print(output['posts'][0]['published']) # Print the text of the first post publication date"
   ]
  },
  {
   "cell_type": "code",
   "execution_count": 5,
   "metadata": {},
   "outputs": [
    {
     "name": "stdout",
     "output_type": "stream",
     "text": [
      "clarionledger.com\n"
     ]
    }
   ],
   "source": [
    "# Get the next batch of posts\n",
    "\n",
    "output = webhoseio.get_next()\n",
    "\n",
    "\n",
    "# Print the site of the first post\n",
    "\n",
    "print(output['posts'][0]['thread']['site'])"
   ]
  },
  {
   "cell_type": "code",
   "execution_count": null,
   "metadata": {
    "collapsed": true
   },
   "outputs": [],
   "source": []
  }
 ],
 "metadata": {
  "kernelspec": {
   "display_name": "Python 3",
   "language": "python",
   "name": "python3"
  },
  "language_info": {
   "codemirror_mode": {
    "name": "ipython",
    "version": 3
   },
   "file_extension": ".py",
   "mimetype": "text/x-python",
   "name": "python",
   "nbconvert_exporter": "python",
   "pygments_lexer": "ipython3",
   "version": "3.6.2"
  }
 },
 "nbformat": 4,
 "nbformat_minor": 2
}
